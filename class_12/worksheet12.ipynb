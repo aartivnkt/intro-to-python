{
 "cells": [
  {
   "cell_type": "markdown",
   "id": "edea9061-2d6d-4e7e-ba0a-f372ad1f8b0a",
   "metadata": {},
   "source": [
    "# worksheet 12: Plotting with pandas, matplotlib and seaborn\n",
    "- Analyze brain MRI images (DICOM) analysis using pydicom (https://pydicom.github.io/pydicom/dev/index.html)\n",
    "- seaborn data visualization library (https://seaborn.pydata.org/)"
   ]
  },
  {
   "cell_type": "code",
   "execution_count": null,
   "id": "80c70a3d-66d4-41cd-ad55-8407375ef98e",
   "metadata": {},
   "outputs": [],
   "source": [
    "import pandas as pd\n",
    "import numpy as np\n",
    "import pydicom\n",
    "from matplotlib import pyplot as plt\n",
    "import seaborn as sns"
   ]
  },
  {
   "cell_type": "markdown",
   "id": "bc0f0689-40e1-4254-81de-f206a20258f7",
   "metadata": {},
   "source": [
    "# Analyzing brain MRI DICOM images\n",
    "- Transcriptional Architecture of the Primate Neocortex” study (https://pubmed.ncbi.nlm.nih.gov/22445337/)\n",
    "- download supplemental data from here for rhesus macaque https://www.blueprintnhpatlas.org/static/download\n",
    "- lets analyze a DICOM file for donor 14349, available from the `MRI.zip`"
   ]
  },
  {
   "cell_type": "code",
   "execution_count": null,
   "id": "3232e22d-3fb5-4d93-8843-9daad8945fe6",
   "metadata": {},
   "outputs": [],
   "source": [
    "test_dicom = pydicom.dcmread('0014.dcm')"
   ]
  },
  {
   "cell_type": "code",
   "execution_count": null,
   "id": "bf747149-ca6b-4abb-8a51-18766fe2846a",
   "metadata": {},
   "outputs": [],
   "source": [
    "# display the contents of the entire dataset\n",
    "# test_dicom"
   ]
  },
  {
   "cell_type": "code",
   "execution_count": null,
   "id": "62fc1dd5-e463-4fe4-898a-843747d93d9f",
   "metadata": {},
   "outputs": [],
   "source": [
    "# access specific metadata elements using keywords\n",
    "test_dicom.PatientName"
   ]
  },
  {
   "cell_type": "code",
   "execution_count": null,
   "id": "9bd4483c-acdc-4a75-8575-e086961de4ad",
   "metadata": {},
   "outputs": [],
   "source": [
    "# can also set this to a value you want\n",
    "test_dicom.PatientName = 'foo'"
   ]
  },
  {
   "cell_type": "code",
   "execution_count": null,
   "id": "17624d1a-0ff9-4839-b689-e4c4c8b42b2a",
   "metadata": {},
   "outputs": [],
   "source": [
    "test_dicom.get('PatientName', 'Not available')"
   ]
  },
  {
   "cell_type": "code",
   "execution_count": null,
   "id": "bcce6d7b-c46e-4205-a19e-0c930a4e9564",
   "metadata": {},
   "outputs": [],
   "source": [
    "test_dicom.get('BodyPartExamined', 'Not available')"
   ]
  },
  {
   "cell_type": "code",
   "execution_count": null,
   "id": "9478ab13-1219-44fb-8124-2c020addc5da",
   "metadata": {},
   "outputs": [],
   "source": [
    "test_dicom.get('AnatomicRegionSequence', 'Not available')"
   ]
  },
  {
   "cell_type": "code",
   "execution_count": null,
   "id": "efafe1d9-2bfa-4a1a-bdca-b10f7461c85b",
   "metadata": {},
   "outputs": [],
   "source": [
    "image_data = test_dicom.pixel_array"
   ]
  },
  {
   "cell_type": "code",
   "execution_count": null,
   "id": "d168a464-1615-43f8-b38d-b7d7091505a4",
   "metadata": {},
   "outputs": [],
   "source": [
    "type(image_data)"
   ]
  },
  {
   "cell_type": "code",
   "execution_count": null,
   "id": "1a3af1c9-a2d4-4253-afd1-2a98c3ae8dfa",
   "metadata": {},
   "outputs": [],
   "source": [
    "image_data"
   ]
  },
  {
   "cell_type": "code",
   "execution_count": null,
   "id": "f0719761-a777-41ee-8e17-9a61830871bf",
   "metadata": {},
   "outputs": [],
   "source": [
    "image_data.shape"
   ]
  },
  {
   "cell_type": "code",
   "execution_count": null,
   "id": "0d86672b-4db9-45d0-a9fc-ccb9a8c79046",
   "metadata": {},
   "outputs": [],
   "source": [
    "image_data.ndim"
   ]
  },
  {
   "cell_type": "code",
   "execution_count": null,
   "id": "567ddbdb-8d2e-4a64-960d-44bc056f2e56",
   "metadata": {},
   "outputs": [],
   "source": [
    "image_data[:3, 5:10]"
   ]
  },
  {
   "cell_type": "code",
   "execution_count": null,
   "id": "d102b434-142e-4345-9eae-590e8cdf29f7",
   "metadata": {},
   "outputs": [],
   "source": [
    "plt.imshow(image_data)\n",
    "plt.show()"
   ]
  },
  {
   "cell_type": "markdown",
   "id": "85fd7c4a-510e-404e-b0f4-1d37d845e72a",
   "metadata": {},
   "source": [
    "## pydicom built in datasets\n",
    "-https://pydicom.github.io/pydicom/dev/reference/generated/pydicom.data.get_testdata_file.html#pydicom.data.get_testdata_file\n",
    "-https://pydicom.github.io/pydicom/dev/auto_examples/input_output/plot_read_dicom.html#sphx-glr-auto-examples-input-output-plot-read-dicom-py"
   ]
  },
  {
   "cell_type": "code",
   "execution_count": null,
   "id": "08c27678-6f74-4ce2-bff2-2967e4ceaf4d",
   "metadata": {},
   "outputs": [],
   "source": [
    "from pydicom.data import get_testdata_files\n",
    "filename = get_testdata_files(\"CT_small.dcm\")[0]\n",
    "ds = pydicom.dcmread(filename)"
   ]
  },
  {
   "cell_type": "code",
   "execution_count": null,
   "id": "2fbfaf7d-124a-428a-bb58-5427f6464be1",
   "metadata": {},
   "outputs": [],
   "source": [
    "metadata_elems = [elem for elem in ds]"
   ]
  },
  {
   "cell_type": "code",
   "execution_count": null,
   "id": "4005d75f-9b0a-49bf-b092-9c2d1470413c",
   "metadata": {},
   "outputs": [],
   "source": [
    "metadata_elems[:5]"
   ]
  },
  {
   "cell_type": "code",
   "execution_count": null,
   "id": "11247c50-c4aa-4d23-a4b9-0dcd7b17d911",
   "metadata": {},
   "outputs": [],
   "source": [
    "'BodyPartExamined' in metadata_elems"
   ]
  },
  {
   "cell_type": "code",
   "execution_count": null,
   "id": "fd4c101c-0696-4f74-b696-1c3beea7a083",
   "metadata": {},
   "outputs": [],
   "source": [
    "print(f\"SOP Class........: {ds.SOPClassUID} ({ds.SOPClassUID.name})\")\n",
    "print()\n",
    "\n",
    "pat_name = ds.PatientName\n",
    "print(f\"Patient's Name...: {pat_name.family_comma_given()}\")\n",
    "print(f\"Patient ID.......: {ds.PatientID}\")\n",
    "print(f\"Modality.........: {ds.Modality}\")\n",
    "print(f\"Study Date.......: {ds.StudyDate}\")\n",
    "print(f\"Image size.......: {ds.Rows} x {ds.Columns}\")\n",
    "print(f\"Pixel Spacing....: {ds.PixelSpacing}\")\n",
    "\n",
    "# use .get() if not sure the item exists, and want a default value if missing\n",
    "print(f\"Slice location...: {ds.get('SliceLocation', '(missing)')}\")"
   ]
  },
  {
   "cell_type": "code",
   "execution_count": null,
   "id": "d9f328a7-6a39-4e75-a8db-ffc120db4713",
   "metadata": {},
   "outputs": [],
   "source": [
    "plt.imshow(ds.pixel_array, cmap=plt.cm.bone) \n",
    "plt.show()"
   ]
  },
  {
   "cell_type": "markdown",
   "id": "222373ab-32a1-461c-9a86-0ae2033631bb",
   "metadata": {},
   "source": [
    "### Extract DICOM metadata and save in a pandas df\n"
   ]
  },
  {
   "cell_type": "code",
   "execution_count": null,
   "id": "bb8fee28-ee47-4b33-845f-3df547cdb848",
   "metadata": {},
   "outputs": [],
   "source": [
    "import os"
   ]
  },
  {
   "cell_type": "code",
   "execution_count": null,
   "id": "8e0a13c0-a893-4702-afde-73a27834a6ae",
   "metadata": {},
   "outputs": [],
   "source": [
    "dicom_metadata = {\n",
    "    'patient_id': [ds.get('PatientID', np.nan)],\n",
    "    'filename': [os.path.basename(filename)],\n",
    "    'modality': [ds.get('Modality', np.nan)],\n",
    "    'mean_pixel_array': [ds.pixel_array.mean()] \n",
    "}"
   ]
  },
  {
   "cell_type": "code",
   "execution_count": null,
   "id": "04aee92d-8271-4461-9a74-3e205819559f",
   "metadata": {},
   "outputs": [],
   "source": [
    "dicom_metadata"
   ]
  },
  {
   "cell_type": "code",
   "execution_count": null,
   "id": "b2601d52-84ae-4ee9-b620-26ba0b9050e7",
   "metadata": {},
   "outputs": [],
   "source": [
    "dicom_metadata_df = pd.DataFrame(dicom_metadata, index=['1CT1'])"
   ]
  },
  {
   "cell_type": "code",
   "execution_count": null,
   "id": "30078e4e-8f03-42a3-93ed-4d18fc608c90",
   "metadata": {},
   "outputs": [],
   "source": [
    "dicom_metadata_df"
   ]
  },
  {
   "cell_type": "markdown",
   "id": "bd3f585f-d19b-417f-bbcd-1807c7ca5855",
   "metadata": {},
   "source": [
    "### simulate clinical metadata df"
   ]
  },
  {
   "cell_type": "code",
   "execution_count": null,
   "id": "d1615aeb-40dc-4d3f-b6c7-e1eb3a1ca6fc",
   "metadata": {},
   "outputs": [],
   "source": [
    "clinical_metadata = {\n",
    "    'patient_id': [ds.get('PatientID', np.nan)],\n",
    "    'diagnosis': ['cancer'],\n",
    "    'age': [56]\n",
    "}"
   ]
  },
  {
   "cell_type": "code",
   "execution_count": null,
   "id": "2cca953d-51bd-4ee0-b3e7-8cb31d8b139d",
   "metadata": {},
   "outputs": [],
   "source": [
    "clinical_metadata_df = pd.DataFrame(clinical_metadata, index=['1CT1'])"
   ]
  },
  {
   "cell_type": "code",
   "execution_count": null,
   "id": "07ebf0d5-a010-4b3e-b141-54396319996a",
   "metadata": {},
   "outputs": [],
   "source": [
    "clinical_metadata_df"
   ]
  },
  {
   "cell_type": "markdown",
   "id": "041e8150-8430-48e4-a0dc-b85ae77d50b2",
   "metadata": {},
   "source": [
    "## Joins\n",
    "- simple join on 'patient_id'\n",
    "- inner join"
   ]
  },
  {
   "cell_type": "code",
   "execution_count": null,
   "id": "0d9ed82c-fe06-41fd-9f03-1c8371ac5d9a",
   "metadata": {},
   "outputs": [],
   "source": [
    "pd.merge(\n",
    "    left=dicom_metadata_df,\n",
    "    right=clinical_metadata_df,\n",
    "    on='patient_id',\n",
    "    how='inner'\n",
    ")"
   ]
  },
  {
   "cell_type": "code",
   "execution_count": null,
   "id": "1181a826-0092-4de7-ab5e-2e5c3512b0e2",
   "metadata": {},
   "outputs": [],
   "source": [
    "pd.merge(\n",
    "    left=dicom_metadata_df,\n",
    "    right=clinical_metadata_df,\n",
    "    on='patient_id',\n",
    "    indicator=True\n",
    ")"
   ]
  },
  {
   "cell_type": "markdown",
   "id": "9a1ac58b-a61b-4e37-8361-1a52233b6891",
   "metadata": {},
   "source": [
    "### left join\n",
    "- use keys from left frame only"
   ]
  },
  {
   "cell_type": "code",
   "execution_count": null,
   "id": "eff53705-8ec5-453a-8cc3-05d403f3c529",
   "metadata": {},
   "outputs": [],
   "source": [
    "dicom_metadata['patient_id'].append('patient2')\n",
    "dicom_metadata['filename'].append('patient2_file.dcm')\n",
    "dicom_metadata['modality'].append('CT')\n",
    "dicom_metadata['mean_pixel_array'].append(np.float64(100.2))"
   ]
  },
  {
   "cell_type": "code",
   "execution_count": null,
   "id": "dc753e61-9d9c-4591-86aa-70102768d4de",
   "metadata": {},
   "outputs": [],
   "source": [
    "dicom_metadata"
   ]
  },
  {
   "cell_type": "code",
   "execution_count": null,
   "id": "9421ef18-4914-4277-94f3-5bd5bafad853",
   "metadata": {},
   "outputs": [],
   "source": [
    "dicom_metadata_df = pd.DataFrame(\n",
    "    dicom_metadata, index=['1CT1', 'patient2']\n",
    ")"
   ]
  },
  {
   "cell_type": "code",
   "execution_count": null,
   "id": "10f32a02-89e1-4ad2-a7ac-00a66c0346a3",
   "metadata": {},
   "outputs": [],
   "source": [
    "pd.merge(\n",
    "    left=dicom_metadata_df,\n",
    "    right=clinical_metadata_df,\n",
    "    on='patient_id',\n",
    "    how='left',\n",
    "    indicator=True\n",
    ")"
   ]
  },
  {
   "cell_type": "markdown",
   "id": "1b491a34-2c39-4885-8d10-9f355913dd9b",
   "metadata": {},
   "source": [
    "### right join\n",
    "- use keys from right frame only"
   ]
  },
  {
   "cell_type": "code",
   "execution_count": null,
   "id": "d13607ff-9405-4278-b24c-0c14be8b201c",
   "metadata": {},
   "outputs": [],
   "source": [
    "pd.merge(\n",
    "    left=dicom_metadata_df,\n",
    "    right=clinical_metadata_df,\n",
    "    on='patient_id',\n",
    "    how='right',\n",
    "    indicator=True\n",
    ")"
   ]
  },
  {
   "cell_type": "code",
   "execution_count": null,
   "id": "64ee392d-5c09-4158-9f4f-0b7ac0dee731",
   "metadata": {},
   "outputs": [],
   "source": [
    "clinical_metadata['patient_id'].append('patient3')\n",
    "clinical_metadata['diagnosis'].append('normal')\n",
    "clinical_metadata['age'].append('75')"
   ]
  },
  {
   "cell_type": "code",
   "execution_count": null,
   "id": "f25bf6d1-cceb-43b2-9f6e-9d5d32bcc14b",
   "metadata": {},
   "outputs": [],
   "source": [
    "clinical_metadata"
   ]
  },
  {
   "cell_type": "code",
   "execution_count": null,
   "id": "f9ae5c8a-5b8d-4fb8-a5a7-beb4ee6feffb",
   "metadata": {},
   "outputs": [],
   "source": [
    "clinical_metadata_df = pd.DataFrame(clinical_metadata, \n",
    "                                    index=['1CT1', 'patient3']\n",
    "                                   )"
   ]
  },
  {
   "cell_type": "code",
   "execution_count": null,
   "id": "2ecc3acb-1a76-409e-9540-201342173c28",
   "metadata": {},
   "outputs": [],
   "source": [
    "pd.merge(\n",
    "    left=dicom_metadata_df,\n",
    "    right=clinical_metadata_df,\n",
    "    on='patient_id',\n",
    "    how='right',\n",
    "    indicator=True\n",
    ")"
   ]
  },
  {
   "cell_type": "code",
   "execution_count": null,
   "id": "1a6a3e63-fa27-4292-8e61-7ea8f12db051",
   "metadata": {},
   "outputs": [],
   "source": []
  },
  {
   "cell_type": "markdown",
   "id": "917d551f-4e3b-4591-ad7a-f890ddb1f1e8",
   "metadata": {},
   "source": [
    "### Numpy array manipulations\n",
    "- normalize pixel array values (e.g. min-max normalization) and plot\n",
    "- mask and only plot intensities above a certain value\n",
    "- crop a region of interest from the pixel array and plot\n",
    "### Dataset manipulations\n",
    "- create custom tags for study description and group by this clinical metadata\n",
    "- plot images by metadata tag"
   ]
  },
  {
   "cell_type": "code",
   "execution_count": null,
   "id": "229d343f-3fd0-47e9-abff-35ff9ae909a7",
   "metadata": {},
   "outputs": [],
   "source": []
  },
  {
   "cell_type": "markdown",
   "id": "9fee7755-24a2-4eb2-b3a1-5d17b24b19c8",
   "metadata": {},
   "source": [
    "## Plotting with seaborn\n",
    "- https://seaborn.pydata.org/"
   ]
  },
  {
   "cell_type": "code",
   "execution_count": null,
   "id": "f0ffcaa7-e41d-4309-af2f-8c8e82576967",
   "metadata": {},
   "outputs": [],
   "source": [
    "gene_tx_df = pd.read_csv('genes_transcripts.csv')"
   ]
  },
  {
   "cell_type": "markdown",
   "id": "1e28ce2c-9fb7-4782-a4c1-f767a1db57ef",
   "metadata": {},
   "source": [
    "### scatterplot \n",
    "- `tx_length` for each `gene_name` colored by `biotype`"
   ]
  },
  {
   "cell_type": "code",
   "execution_count": null,
   "id": "9f9557b7-bfe7-46fc-a903-5cffb4032e11",
   "metadata": {},
   "outputs": [],
   "source": [
    "sns.scatterplot(x='gene_name', y='tx_length', data=gene_tx_df, hue='biotype')"
   ]
  },
  {
   "cell_type": "markdown",
   "id": "ee326c69-25b8-47e3-b573-b32664d8fb6a",
   "metadata": {},
   "source": [
    "### integrate with matplotlib\n",
    "- move legend"
   ]
  },
  {
   "cell_type": "code",
   "execution_count": null,
   "id": "24c62994-360e-4f9f-bca3-9ecfdc151f58",
   "metadata": {},
   "outputs": [],
   "source": [
    "fig, ax = plt.subplots()\n",
    "ax = sns.scatterplot(x='gene_name', y='tx_length', data=gene_tx_df, hue='biotype')\n",
    "ax.legend(bbox_to_anchor=(1,1))\n",
    "plt.show()"
   ]
  },
  {
   "cell_type": "markdown",
   "id": "5a91a78a-f905-412d-b1c9-242981dd288a",
   "metadata": {},
   "source": [
    "### `sns.pairplot`\n",
    "- quickly inspect data distributions by facets"
   ]
  },
  {
   "cell_type": "code",
   "execution_count": null,
   "id": "9246fd2f-8004-4c6d-a6ff-f5dba0dc6e3c",
   "metadata": {},
   "outputs": [],
   "source": [
    "sns.pairplot(gene_tx_df, hue='gene_name')"
   ]
  },
  {
   "cell_type": "markdown",
   "id": "fb8ee6dd-f619-441a-af36-6e1836368270",
   "metadata": {},
   "source": [
    "### Facet grid\n",
    "faceting histograms by subsets of data using displot\n",
    "- visualize univariate or bivariate dist of data\n",
    "- hist\n",
    "- kde\n",
    "- ecdf"
   ]
  },
  {
   "cell_type": "code",
   "execution_count": null,
   "id": "ee46b32b-db59-4fc4-a1e5-f5592c31e59a",
   "metadata": {},
   "outputs": [],
   "source": [
    "sns.displot(data=gene_tx_df, x='tx_length', \n",
    "            col='gene_name', height=4)"
   ]
  },
  {
   "cell_type": "markdown",
   "id": "d828a243-cf95-4b52-a2c0-fd941354eea3",
   "metadata": {},
   "source": [
    "#### add a KDE curve\n",
    "- kernel density estimate/PDF"
   ]
  },
  {
   "cell_type": "code",
   "execution_count": null,
   "id": "a6f761a0-6362-4b34-ab56-ecb0fab73a63",
   "metadata": {},
   "outputs": [],
   "source": [
    "sns.displot(data=gene_tx_df, x='tx_length', \n",
    "            col='gene_name', height=4, kde=True)"
   ]
  },
  {
   "cell_type": "markdown",
   "id": "1a7746f0-3927-429d-a04a-e4b9861eb085",
   "metadata": {},
   "source": [
    "### boxplots"
   ]
  },
  {
   "cell_type": "code",
   "execution_count": null,
   "id": "34edc769-7671-4874-9ed3-68b52840161d",
   "metadata": {},
   "outputs": [],
   "source": [
    "fig, ax = plt.subplots()\n",
    "ax = sns.boxplot(x='gene_name', y='tx_length', hue='biotype', data=gene_tx_df)\n",
    "ax.legend(bbox_to_anchor=(1,1))\n",
    "plt.show()\n"
   ]
  },
  {
   "cell_type": "markdown",
   "id": "2129a355-f963-4a6c-8b14-7134355fb1c6",
   "metadata": {},
   "source": [
    "### histplot"
   ]
  },
  {
   "cell_type": "code",
   "execution_count": null,
   "id": "b89e086a-4c4d-431b-baf9-ba0509cd074a",
   "metadata": {},
   "outputs": [],
   "source": [
    "fig, ax = plt.subplots()\n",
    "ax = sns.histplot(data=gene_tx_df, x='tx_length', hue='gene_name')\n",
    "plt.show()"
   ]
  },
  {
   "cell_type": "markdown",
   "id": "62809e96-79d3-489a-b012-73e56565fba7",
   "metadata": {},
   "source": [
    "### stripplots"
   ]
  },
  {
   "cell_type": "code",
   "execution_count": null,
   "id": "a833b619-623d-4de8-b7d4-f4f3cde4606b",
   "metadata": {},
   "outputs": [],
   "source": [
    "fig, ax = plt.subplots()\n",
    "ax = sns.stripplot(x='gene_name', y='tx_length', hue='biotype', data=gene_tx_df)\n",
    "ax.legend(bbox_to_anchor=(1, 1))\n",
    "plt.show()"
   ]
  },
  {
   "cell_type": "markdown",
   "id": "859296ab-12ba-4b16-aff9-8d4a2916322a",
   "metadata": {},
   "source": [
    "### variety of public datasets available in seaborn for exploration"
   ]
  },
  {
   "cell_type": "code",
   "execution_count": null,
   "id": "3defa2a1-b125-4e75-915b-9b84c9fa1626",
   "metadata": {},
   "outputs": [],
   "source": [
    "sns.get_dataset_names()"
   ]
  },
  {
   "cell_type": "code",
   "execution_count": null,
   "id": "94183c0f-f35d-4ea5-b318-b504f67b2e80",
   "metadata": {},
   "outputs": [],
   "source": []
  },
  {
   "cell_type": "markdown",
   "id": "6c534c56-d5fb-4e2f-9609-01bbe4637c36",
   "metadata": {},
   "source": [
    "# Collaborative Exercise\n",
    "\n",
    "## Exercise 1\n",
    "fastMRI exploration\n",
    "\n",
    "- Seaborn has provided a sample dataset of fMRI data (functional magnetic resource imaging data)\n",
    "- Good exercise for exploring different types of plots and functionality in seaborn\n",
    "- You will explore this dataset and try to plot the different features\n",
    "- Load the data using `sns.load_dataset('fmri')`\n",
    "- Can you describe this data?\n",
    "- Can you figure out different ways to plot the features of this dataset using seaborn? For e.g. lineplots/relplots for timepoints versus signal that are colored by region and styled by event, boxplots and swarmplots of the same data\n",
    "- Is there a linear or non-linear relationship between timepoint and signals for the different regions? What functionality can you use from seaborn to explore this?\n"
   ]
  },
  {
   "cell_type": "code",
   "execution_count": null,
   "id": "70d5b768-ed8b-4054-a1ab-f7f4f9610dcd",
   "metadata": {},
   "outputs": [],
   "source": []
  }
 ],
 "metadata": {
  "kernelspec": {
   "display_name": "Python 3.12.7",
   "language": "python",
   "name": "venv_3.12.7"
  },
  "language_info": {
   "codemirror_mode": {
    "name": "ipython",
    "version": 3
   },
   "file_extension": ".py",
   "mimetype": "text/x-python",
   "name": "python",
   "nbconvert_exporter": "python",
   "pygments_lexer": "ipython3",
   "version": "3.12.7"
  }
 },
 "nbformat": 4,
 "nbformat_minor": 5
}
