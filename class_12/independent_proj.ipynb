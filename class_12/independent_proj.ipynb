{
 "cells": [
  {
   "cell_type": "markdown",
   "id": "e154b76b-26eb-4e11-a676-dfe09e5e6350",
   "metadata": {},
   "source": [
    "# Independent project guidelines and snippets\n",
    "- identify 3-4 goals for your project\n",
    "- you will be asked to explain logic of your code\n",
    "- you may be asked to modify, or walk through logic to modify"
   ]
  },
  {
   "cell_type": "code",
   "execution_count": null,
   "id": "7d4e7537-b268-40a3-8432-a3da4901b7ec",
   "metadata": {},
   "outputs": [],
   "source": [
    "import numpy as np"
   ]
  },
  {
   "cell_type": "markdown",
   "id": "4bd92efb-16db-47db-986a-d6ceded1858c",
   "metadata": {},
   "source": [
    "### Try to incorporate:\n",
    "- incorporate a variety of data structures from python (list, dict, set, tuples)\n",
    "- use list/dict comprehensions\n",
    "- write functions with error/exception handling\n",
    "- use control flow: if/elsif/else, break, continue, while\n",
    "- use docstrings and inline comments\n",
    "- loading data into pandas dataframe and inspecting/changing dtypes when required\n",
    "- accessing/plotting key features using integer/boolean masking\n",
    "- numpy array access/slicing and plotting for pixel type data\n",
    "- summarize pixel data in different axes\n",
    "- stacking arrays and plotting\n",
    "- masking arrays and plotting\n",
    "- normalization: view scales of the data and decide if they need to be normalized or not\n",
    "- pandas dataframe: assigning meaningful index and columns\n",
    "- df.loc, df.iloc, groupby, apply custom functions, aggregation and plotting methods\n",
    "- boolean and integer masking on dataframes\n",
    "- melting, plotting, stacking \n",
    "- normalization: summing by required axes\n",
    "- Plotting: pandas plot, matplotlib, seaborn: figure out plot most appropriate for the task, join frames where needed\n"
   ]
  },
  {
   "cell_type": "code",
   "execution_count": null,
   "id": "f0598200-57f2-4ce0-a422-577e42961dc3",
   "metadata": {},
   "outputs": [],
   "source": []
  },
  {
   "cell_type": "markdown",
   "id": "f90bfa0f-5ce0-4e43-9e6f-0c260d60dea0",
   "metadata": {},
   "source": [
    "### error/exception handling"
   ]
  },
  {
   "cell_type": "code",
   "execution_count": null,
   "id": "0525286b-aabc-4e34-89e1-7004b137c416",
   "metadata": {},
   "outputs": [],
   "source": [
    "import os\n",
    "def check_file_is_valid(file_name):\n",
    "    try:\n",
    "        f = open(file_name, 'r')\n",
    "    except FileNotFoundError as e:\n",
    "        print('{} not found at {}, {}'.format(\n",
    "            file_name, os.getcwd(), e\n",
    "        ))"
   ]
  },
  {
   "cell_type": "code",
   "execution_count": null,
   "id": "499f2817-b6d4-4477-b310-1172146be7c0",
   "metadata": {},
   "outputs": [],
   "source": [
    "check_file_is_valid('baa')"
   ]
  },
  {
   "cell_type": "code",
   "execution_count": null,
   "id": "09b35761-65c1-4022-bd35-278afe6d8d92",
   "metadata": {},
   "outputs": [],
   "source": [
    "import sys\n",
    "def different_exceptions(test_file):\n",
    "    try:\n",
    "        f = open(test_file)\n",
    "        s = f.readline()\n",
    "        i = int(s.strip())\n",
    "    except OSError as err:\n",
    "        print(\"OS error:\", err)\n",
    "        i = np.nan\n",
    "    except ValueError as err:\n",
    "        print(\"ValueError: Could not convert data to an integer.\", err)\n",
    "        i = np.nan\n",
    "    except Exception as err:\n",
    "        print(f\"Unexpected {err=}, {type(err)=}\")\n",
    "        raise\n",
    "    print(f\"{i}\")"
   ]
  },
  {
   "cell_type": "code",
   "execution_count": null,
   "id": "7e9cd833-c901-486d-8860-9427df9889c7",
   "metadata": {},
   "outputs": [],
   "source": [
    "different_exceptions('test_file.txt')"
   ]
  },
  {
   "cell_type": "code",
   "execution_count": null,
   "id": "e334eb30-e328-4f9e-8e47-9c2e69e7ec7f",
   "metadata": {},
   "outputs": [],
   "source": [
    "different_exceptions('test_fil.txt')"
   ]
  },
  {
   "cell_type": "code",
   "execution_count": null,
   "id": "dd609c4d-980f-44f3-b2b0-4ed1142aeab5",
   "metadata": {},
   "outputs": [],
   "source": [
    "different_exceptions('test_file2.txt')"
   ]
  },
  {
   "cell_type": "code",
   "execution_count": null,
   "id": "fcfd3423-d056-47de-832c-728dd34ab331",
   "metadata": {},
   "outputs": [],
   "source": [
    "def this_fails():\n",
    "    x = 1/0"
   ]
  },
  {
   "cell_type": "code",
   "execution_count": null,
   "id": "8138d1a4-031d-4fbd-bdbc-2e89388c780b",
   "metadata": {},
   "outputs": [],
   "source": [
    "try:\n",
    "    this_fails()\n",
    "except ZeroDivisionError as err:\n",
    "    print('Handling run-time error:', err)\n"
   ]
  },
  {
   "cell_type": "code",
   "execution_count": null,
   "id": "a9f4c041-f66a-49ce-84ae-db733f24b0e1",
   "metadata": {},
   "outputs": [],
   "source": [
    "try:\n",
    "    this_fails()\n",
    "except Exception as e:\n",
    "    print('unable to exec function:', e)"
   ]
  },
  {
   "cell_type": "markdown",
   "id": "f38615d6-be7d-4309-aaf8-0d13920e2b66",
   "metadata": {},
   "source": [
    "### docstrings + inline comments"
   ]
  },
  {
   "cell_type": "code",
   "execution_count": null,
   "id": "5bb0c3a9-7c8e-4bc5-89b8-b552450ffc4b",
   "metadata": {},
   "outputs": [],
   "source": [
    "def read_gene_desc_file(file_name):\n",
    "    \"\"\"\n",
    "    This function reads a comma separated file,\n",
    "    loads the contents into a dictionary and \n",
    "    returns the dictionary\n",
    "\n",
    "    Args:\n",
    "        file_name: The full path to the file\n",
    "    Returns:\n",
    "        gene_desc: a dictionary containing a gene name\n",
    "        and a description\n",
    "    \"\"\"\n",
    "    # init dict\n",
    "    gene_desc = {}\n",
    "    with open(file_name, 'r') as gene_desc_file:\n",
    "        for line in gene_desc_file:\n",
    "            stripped_line = line.strip()\n",
    "            # skip header line\n",
    "            if '#' in stripped_line:\n",
    "                continue\n",
    "            # split by comma and populate dict\n",
    "            gene_name, desc = stripped_line.split(',')\n",
    "            gene_desc[gene_name] = desc\n",
    "    return gene_desc"
   ]
  },
  {
   "cell_type": "markdown",
   "id": "a5110173-b0bb-4a66-954e-d748d232e26d",
   "metadata": {},
   "source": [
    "### summarize numpy array"
   ]
  },
  {
   "cell_type": "code",
   "execution_count": null,
   "id": "35d98ce0-e9fa-4583-bdcd-3c1e3254caec",
   "metadata": {},
   "outputs": [],
   "source": [
    "z = np.array([\n",
    "    [4, 0],\n",
    "    [5, 2],\n",
    "    [2, 1],\n",
    "    [0, 1]\n",
    "])"
   ]
  },
  {
   "cell_type": "code",
   "execution_count": null,
   "id": "88d3aa88-a24d-46e4-82f3-0f7077de3a5d",
   "metadata": {},
   "outputs": [],
   "source": [
    "z.sum()"
   ]
  },
  {
   "cell_type": "code",
   "execution_count": null,
   "id": "6beae47f-83e9-4e07-9b8f-128db20bcd64",
   "metadata": {},
   "outputs": [],
   "source": [
    "z.sum(axis=0)"
   ]
  },
  {
   "cell_type": "code",
   "execution_count": null,
   "id": "0d550d69-5d48-403d-b96f-313b4b03dd1c",
   "metadata": {},
   "outputs": [],
   "source": [
    "z.sum(axis=1)"
   ]
  },
  {
   "cell_type": "code",
   "execution_count": null,
   "id": "9c038718-f586-4ce4-94b9-650e0b1012d8",
   "metadata": {},
   "outputs": [],
   "source": [
    "z.sum(axis=(0,1))"
   ]
  },
  {
   "cell_type": "markdown",
   "id": "8b62d214-7e92-4684-bedd-1b02aa562eff",
   "metadata": {},
   "source": [
    "### stacking"
   ]
  },
  {
   "cell_type": "code",
   "execution_count": null,
   "id": "5bebab33-542f-4a93-8902-5b48be7badc1",
   "metadata": {},
   "outputs": [],
   "source": [
    "a = np.array([\n",
    "    [2,4],\n",
    "    [6,8]\n",
    "])\n",
    "b = np.array([\n",
    "    [10,12],\n",
    "    [14,16]\n",
    "])\n",
    "np.vstack((a,b))"
   ]
  },
  {
   "cell_type": "markdown",
   "id": "f906b713-0ded-4b83-8c33-24571a36ebfe",
   "metadata": {},
   "source": [
    "### masking"
   ]
  },
  {
   "cell_type": "code",
   "execution_count": null,
   "id": "a1f827f4-5666-4104-9d35-268f1b75a4a2",
   "metadata": {},
   "outputs": [],
   "source": [
    "z[z.sum(axis=1) < 2]"
   ]
  },
  {
   "cell_type": "code",
   "execution_count": null,
   "id": "23716bb0-7df7-41be-88ea-0ac3b87db7d3",
   "metadata": {},
   "outputs": [],
   "source": []
  }
 ],
 "metadata": {
  "kernelspec": {
   "display_name": "Python 3.12.7",
   "language": "python",
   "name": "venv_3.12.7"
  },
  "language_info": {
   "codemirror_mode": {
    "name": "ipython",
    "version": 3
   },
   "file_extension": ".py",
   "mimetype": "text/x-python",
   "name": "python",
   "nbconvert_exporter": "python",
   "pygments_lexer": "ipython3",
   "version": "3.12.7"
  }
 },
 "nbformat": 4,
 "nbformat_minor": 5
}
