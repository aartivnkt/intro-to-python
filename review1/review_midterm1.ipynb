{
 "cells": [
  {
   "cell_type": "markdown",
   "id": "96c2cba7-a1a0-4ee7-b3d4-a6f278e8609d",
   "metadata": {},
   "source": [
    "# Review class, midterm 1"
   ]
  },
  {
   "cell_type": "code",
   "execution_count": null,
   "id": "e98e8f5c-8d60-4601-a628-10b379c43d08",
   "metadata": {},
   "outputs": [],
   "source": [
    "import numpy as np\n",
    "import math"
   ]
  },
  {
   "cell_type": "code",
   "execution_count": null,
   "id": "c484b261-3f9f-4671-90bc-d8989eab1755",
   "metadata": {},
   "outputs": [],
   "source": [
    "x = [i for i in range(5)]"
   ]
  },
  {
   "cell_type": "code",
   "execution_count": null,
   "id": "c09b65d2-fc6c-4a21-840a-56824ee4d627",
   "metadata": {},
   "outputs": [],
   "source": [
    "x"
   ]
  },
  {
   "cell_type": "code",
   "execution_count": null,
   "id": "f986ba6c-64a6-44da-be03-ee33cd697200",
   "metadata": {},
   "outputs": [],
   "source": [
    "y = np.arange(5)"
   ]
  },
  {
   "cell_type": "code",
   "execution_count": null,
   "id": "2118b0c2-3c75-4be2-b02b-2c9bcf686971",
   "metadata": {},
   "outputs": [],
   "source": [
    "y"
   ]
  },
  {
   "cell_type": "code",
   "execution_count": null,
   "id": "70ba83ed-86d2-47bb-8212-17f6763c71fd",
   "metadata": {},
   "outputs": [],
   "source": [
    "x[:3] = 1"
   ]
  },
  {
   "cell_type": "code",
   "execution_count": null,
   "id": "bffa923b-21ea-439b-9e8c-81fc1104006f",
   "metadata": {},
   "outputs": [],
   "source": [
    "y[:3] = 1"
   ]
  },
  {
   "cell_type": "code",
   "execution_count": null,
   "id": "29fde4ec-5575-4428-9c37-b6eaf9f66d99",
   "metadata": {},
   "outputs": [],
   "source": [
    "y"
   ]
  },
  {
   "cell_type": "code",
   "execution_count": null,
   "id": "723c334d-f591-4099-9feb-c368d1e5785a",
   "metadata": {},
   "outputs": [],
   "source": [
    "y[:3] = [1, 1]"
   ]
  },
  {
   "cell_type": "code",
   "execution_count": null,
   "id": "620be814-87aa-4f55-b2b0-65a403d830f5",
   "metadata": {},
   "outputs": [],
   "source": [
    "x"
   ]
  },
  {
   "cell_type": "code",
   "execution_count": null,
   "id": "2b2af6af-9207-41d4-8ec8-9b58b9f66d7d",
   "metadata": {},
   "outputs": [],
   "source": [
    "y"
   ]
  },
  {
   "cell_type": "code",
   "execution_count": null,
   "id": "8347014a-c83a-4fc7-9c61-08a159631870",
   "metadata": {},
   "outputs": [],
   "source": [
    "x*2"
   ]
  },
  {
   "cell_type": "code",
   "execution_count": null,
   "id": "3576c248-b19a-48f9-9dc3-9d29818c42c2",
   "metadata": {},
   "outputs": [],
   "source": [
    "y*2"
   ]
  },
  {
   "cell_type": "code",
   "execution_count": null,
   "id": "95da902b-a7c5-4efa-9c44-afb4e3d223ec",
   "metadata": {},
   "outputs": [],
   "source": [
    "y*[2,2]"
   ]
  },
  {
   "cell_type": "markdown",
   "id": "ab0335ce-8088-4d2a-895e-83bdf06dda22",
   "metadata": {},
   "source": [
    "## sigmoid function \n",
    "- `f(z) = 1/(1+e^(-z))`"
   ]
  },
  {
   "cell_type": "code",
   "execution_count": null,
   "id": "db718e21-532a-48a6-8d9f-9a693705ac58",
   "metadata": {},
   "outputs": [],
   "source": [
    "1/(1+np.exp(-y))"
   ]
  },
  {
   "cell_type": "code",
   "execution_count": null,
   "id": "97a407c7-a8a7-4305-93ed-99e265254e09",
   "metadata": {},
   "outputs": [],
   "source": [
    "1/(1+math.exp(-x))"
   ]
  },
  {
   "cell_type": "code",
   "execution_count": null,
   "id": "8dc14832-f6fe-4f5e-a1c0-3b4e4486dade",
   "metadata": {},
   "outputs": [],
   "source": [
    "y"
   ]
  },
  {
   "cell_type": "code",
   "execution_count": null,
   "id": "979ffa78-e035-4996-9b17-dff8ac256b20",
   "metadata": {},
   "outputs": [],
   "source": [
    "z = y + 1"
   ]
  },
  {
   "cell_type": "code",
   "execution_count": null,
   "id": "8044fc4c-c1e5-4a47-800b-13cccdd041da",
   "metadata": {},
   "outputs": [],
   "source": [
    "z"
   ]
  },
  {
   "cell_type": "code",
   "execution_count": null,
   "id": "9abff9e9-0753-4d61-bda7-ea0448978f13",
   "metadata": {},
   "outputs": [],
   "source": [
    "np.sum(np.square(z - y))"
   ]
  },
  {
   "cell_type": "code",
   "execution_count": null,
   "id": "c64a1f75-7df4-44ad-8cae-464f976ccda8",
   "metadata": {},
   "outputs": [],
   "source": [
    "np.sum(np.square(1 - y))"
   ]
  },
  {
   "cell_type": "code",
   "execution_count": null,
   "id": "729f3590-b362-4baf-97d2-fc440adeb98f",
   "metadata": {},
   "outputs": [],
   "source": [
    "a = np.array([1, 1])"
   ]
  },
  {
   "cell_type": "code",
   "execution_count": null,
   "id": "055ee24c-abd8-4496-8239-edf4ad84b05d",
   "metadata": {},
   "outputs": [],
   "source": [
    "np.sum(np.square(a - y))"
   ]
  },
  {
   "cell_type": "markdown",
   "id": "3775b494-2bac-4c7a-ac72-d236460aab65",
   "metadata": {},
   "source": [
    "## Indexing 2D/3D array\n",
    "- review worksheet 6"
   ]
  },
  {
   "cell_type": "markdown",
   "id": "25eaf4cd-a829-4b49-be8f-6bb1a5b589fe",
   "metadata": {},
   "source": [
    "## 3D arrays"
   ]
  },
  {
   "cell_type": "code",
   "execution_count": null,
   "id": "f7c53864-fa6d-48c6-9051-a5bb3488c80c",
   "metadata": {},
   "outputs": [],
   "source": [
    "z = np.array([[[1, 2], [2, 1], [3, 3]],\n",
    "              [[4, 0], [5, 1], [6, 2]]])"
   ]
  },
  {
   "cell_type": "code",
   "execution_count": null,
   "id": "256f9556-6ce9-402b-ac94-526e0b118667",
   "metadata": {},
   "outputs": [],
   "source": [
    "# by blocks (axis=0)\n",
    "# sum across blocks\n",
    "z = np.array(\n",
    "    [\n",
    "        [[1, 2], [2, 1], [3, 3]],\n",
    "        [[4, 0], [5, 1], [6, 2]]\n",
    "    ])"
   ]
  },
  {
   "cell_type": "code",
   "execution_count": null,
   "id": "54a55052-5ee5-4053-9250-b26321355de9",
   "metadata": {},
   "outputs": [],
   "source": [
    "z.sum(axis=0)"
   ]
  },
  {
   "cell_type": "code",
   "execution_count": null,
   "id": "82bb8a92-35cd-44ce-b253-2e4ac108e168",
   "metadata": {},
   "outputs": [],
   "source": [
    "# by rows (axis=1)\n",
    "# across rows within each block\n",
    "z = np.array(\n",
    "    [\n",
    "        [\n",
    "            [1, 2], \n",
    "            [2, 1], \n",
    "            [3, 3]\n",
    "        ],\n",
    "        [\n",
    "            [4, 0], \n",
    "            [5, 1], \n",
    "            [6, 2]\n",
    "        ]\n",
    "    ])"
   ]
  },
  {
   "cell_type": "code",
   "execution_count": null,
   "id": "37488195-aa3c-4662-b4ac-4d0cda690ea7",
   "metadata": {},
   "outputs": [],
   "source": [
    "z.sum(axis=1)"
   ]
  },
  {
   "cell_type": "code",
   "execution_count": null,
   "id": "09f1ee0b-6010-4286-9acd-a711f88d99ce",
   "metadata": {},
   "outputs": [],
   "source": [
    "# axis=2\n",
    "# across columns within each row\n",
    "z = np.array(\n",
    "    [\n",
    "        [[1, 2], [2, 1], [3, 3]],\n",
    "        [[4, 0], [5, 1], [6, 2]]\n",
    "    ])"
   ]
  },
  {
   "cell_type": "code",
   "execution_count": null,
   "id": "8a987a36-6332-4617-b871-be474a28ae34",
   "metadata": {},
   "outputs": [],
   "source": [
    "z.sum(axis=2)"
   ]
  },
  {
   "cell_type": "code",
   "execution_count": null,
   "id": "3850a672-9cde-45cf-8c22-b4c7c281f881",
   "metadata": {},
   "outputs": [],
   "source": [
    "z.sum(axis=3)"
   ]
  },
  {
   "cell_type": "markdown",
   "id": "af7c5ee1-679e-4a40-b4f5-d4195b1d9dbc",
   "metadata": {},
   "source": [
    "## Matrix broadcasting\n",
    "- review worksheet 6"
   ]
  },
  {
   "cell_type": "code",
   "execution_count": null,
   "id": "c9dd1b0f-3600-4527-88ad-e3f9e9b8cdbe",
   "metadata": {},
   "outputs": [],
   "source": []
  }
 ],
 "metadata": {
  "kernelspec": {
   "display_name": "Python 3.12.7",
   "language": "python",
   "name": "venv_3.12.7"
  },
  "language_info": {
   "codemirror_mode": {
    "name": "ipython",
    "version": 3
   },
   "file_extension": ".py",
   "mimetype": "text/x-python",
   "name": "python",
   "nbconvert_exporter": "python",
   "pygments_lexer": "ipython3",
   "version": "3.12.7"
  }
 },
 "nbformat": 4,
 "nbformat_minor": 5
}
