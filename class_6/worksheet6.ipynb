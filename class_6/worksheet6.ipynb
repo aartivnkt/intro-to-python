{
 "cells": [
  {
   "cell_type": "markdown",
   "id": "ae3d0075-6e34-487c-a148-8ec44d8de039",
   "metadata": {},
   "source": [
    "# worksheet6: Numpy Part 2"
   ]
  },
  {
   "cell_type": "markdown",
   "id": "7183940d-44a5-401a-bb80-e7a4e19b7039",
   "metadata": {},
   "source": [
    "## numpy broadcasting basics\n",
    "- https://numpy.org/doc/stable/user/basics.broadcasting.html"
   ]
  },
  {
   "cell_type": "markdown",
   "id": "26237957-3e4c-4868-b8b1-b2c79cb4ba5d",
   "metadata": {},
   "source": [
    "## 2-D and 3-D arrays\n",
    "- multidimension arrays also called as tensors\n",
    "- array programming with numpy\n",
    "  https://www.nature.com/articles/s41586-020-2649-2"
   ]
  },
  {
   "cell_type": "code",
   "execution_count": null,
   "id": "e09ea236-060c-4794-ab21-2b11d68ad3cd",
   "metadata": {},
   "outputs": [],
   "source": [
    "import numpy as np"
   ]
  },
  {
   "cell_type": "markdown",
   "id": "633ce6a2-37dd-446f-bd5c-34c94c1d3d98",
   "metadata": {},
   "source": [
    "### Transform a simple 1D array into a 2D array"
   ]
  },
  {
   "cell_type": "code",
   "execution_count": null,
   "id": "a4e069cb-cc3e-4a1e-96a6-778c4f057ea6",
   "metadata": {},
   "outputs": [],
   "source": [
    "array_1D = np.arange(6)"
   ]
  },
  {
   "cell_type": "code",
   "execution_count": null,
   "id": "34e93d6e-2a82-4421-96d1-042bc28facbf",
   "metadata": {},
   "outputs": [],
   "source": [
    "array_1D"
   ]
  },
  {
   "cell_type": "code",
   "execution_count": null,
   "id": "77e14f8e-d857-415e-bb42-4ecf5f0d5271",
   "metadata": {},
   "outputs": [],
   "source": [
    "array_2D = array_1D.reshape(3,2)"
   ]
  },
  {
   "cell_type": "code",
   "execution_count": null,
   "id": "3fef4030-b2d2-409f-84d3-a608a440b7a7",
   "metadata": {},
   "outputs": [],
   "source": [
    "array_2D"
   ]
  },
  {
   "cell_type": "markdown",
   "id": "71c642b6-0071-4116-b383-d08ad5184624",
   "metadata": {},
   "source": [
    "#### Q: how can you check shape and dimensions of `array_2D`?"
   ]
  },
  {
   "cell_type": "code",
   "execution_count": null,
   "id": "3b554728-c78e-4a88-8486-c563d268114f",
   "metadata": {},
   "outputs": [],
   "source": []
  },
  {
   "cell_type": "markdown",
   "id": "804d5a3d-15eb-43cf-a0a5-c73dc52f854d",
   "metadata": {},
   "source": [
    "### simple assignment"
   ]
  },
  {
   "cell_type": "code",
   "execution_count": null,
   "id": "8a6dc32b-701f-4dd4-a59a-69d539e49e86",
   "metadata": {},
   "outputs": [],
   "source": [
    "array_2D = np.array([[0,1],[2,3], [4,5]])"
   ]
  },
  {
   "cell_type": "code",
   "execution_count": null,
   "id": "229085ce-dcbd-42d6-89af-9b897ca6ebb3",
   "metadata": {},
   "outputs": [],
   "source": [
    "array_2D"
   ]
  },
  {
   "cell_type": "markdown",
   "id": "79f82561-a0c6-4379-8ae4-93a334f21207",
   "metadata": {},
   "source": [
    "### other example n-D functions\n",
    "- np.ones\n",
    "- np.zeros\n",
    "- np.random.rand\n",
    "- https://numpy.org/doc/stable/user/basics.creation.html"
   ]
  },
  {
   "cell_type": "code",
   "execution_count": null,
   "id": "048c206b-2ce2-4705-8ae9-38c780c7b347",
   "metadata": {},
   "outputs": [],
   "source": [
    "np.ones((2,3))"
   ]
  },
  {
   "cell_type": "code",
   "execution_count": null,
   "id": "950593dc-0c8b-4901-b850-67445e523955",
   "metadata": {},
   "outputs": [],
   "source": [
    "np.ones((2,3)).shape"
   ]
  },
  {
   "cell_type": "code",
   "execution_count": null,
   "id": "681748d8-38f7-412c-8023-e6e40bf6b328",
   "metadata": {},
   "outputs": [],
   "source": [
    "np.zeros((4, 5))"
   ]
  },
  {
   "cell_type": "code",
   "execution_count": null,
   "id": "aae22583-79b0-4e84-9712-5a765bf85047",
   "metadata": {},
   "outputs": [],
   "source": [
    "np.random.rand(10)"
   ]
  },
  {
   "cell_type": "code",
   "execution_count": null,
   "id": "92e1584f-cfd7-4bfb-9012-351f506b1fd9",
   "metadata": {},
   "outputs": [],
   "source": [
    "# expects separate args for each dim\n",
    "np.random.rand(3,3)"
   ]
  },
  {
   "cell_type": "markdown",
   "id": "e031f57f-1719-4bc7-a264-13b46d211eda",
   "metadata": {},
   "source": [
    "### Transform 2D array back to 1D array"
   ]
  },
  {
   "cell_type": "code",
   "execution_count": null,
   "id": "3f54510f-c027-4358-b064-a5d8a61fce31",
   "metadata": {},
   "outputs": [],
   "source": [
    "array_2D.flatten()"
   ]
  },
  {
   "cell_type": "markdown",
   "id": "e2ec77b3-034c-4a04-99b1-cfa2d149070c",
   "metadata": {},
   "source": [
    "### Indexing\n",
    "- Access elements of 2D array"
   ]
  },
  {
   "cell_type": "code",
   "execution_count": null,
   "id": "699b8633-b921-44fd-9e63-f0092699ba3e",
   "metadata": {},
   "outputs": [],
   "source": [
    "array_2D"
   ]
  },
  {
   "cell_type": "code",
   "execution_count": null,
   "id": "121c86ee-35b4-4d1f-8cae-43fdc824fd03",
   "metadata": {},
   "outputs": [],
   "source": [
    "# can also do array_2D[0][0], but this isn't necessary\n",
    "array_2D[0, 0]"
   ]
  },
  {
   "cell_type": "code",
   "execution_count": null,
   "id": "6466b1b3-2847-44ae-954f-b7e12c5f2d78",
   "metadata": {},
   "outputs": [],
   "source": [
    "array_2D[0, 1]"
   ]
  },
  {
   "cell_type": "code",
   "execution_count": null,
   "id": "e1c919da-9f77-400f-9dad-6b5a35734554",
   "metadata": {},
   "outputs": [],
   "source": [
    "array_2D[2, 0]"
   ]
  },
  {
   "cell_type": "markdown",
   "id": "647c22ca-cb50-46c2-9744-827b6a0471e1",
   "metadata": {},
   "source": [
    "### Q: what should the following print?\n",
    "- `array_2D[1]`"
   ]
  },
  {
   "cell_type": "code",
   "execution_count": null,
   "id": "0dcac361-8c26-4fc6-8487-88375cef404e",
   "metadata": {},
   "outputs": [],
   "source": []
  },
  {
   "cell_type": "markdown",
   "id": "5c09d09b-6322-4c00-93e2-ce4a5ce185b4",
   "metadata": {},
   "source": [
    "### Slicing\n",
    "- Indexing (view)\n",
    "- basic syntax is `i:j:k`, i=starting index, j=stopping index, k=step size"
   ]
  },
  {
   "cell_type": "markdown",
   "id": "7195bf27-4f0b-4aac-8248-e89a66c43934",
   "metadata": {},
   "source": [
    "#### refresh 1D slicing"
   ]
  },
  {
   "cell_type": "code",
   "execution_count": null,
   "id": "c2491c38-f5a5-4670-803c-0cd826113c68",
   "metadata": {},
   "outputs": [],
   "source": [
    "array_1D"
   ]
  },
  {
   "cell_type": "markdown",
   "id": "60dbe448-2959-4fc2-bd01-cb688c59eaa5",
   "metadata": {},
   "source": [
    "### Q: what should the following print?\n",
    "- array_1D[0]\n",
    "- array_1D[4]\n",
    "- array_1D[0:4]\n",
    "- array_1D[0:4:2]\n",
    "- array_1D[-2:5]\n",
    "- array_1D[-2:6]\n",
    "- array_1D[2:]"
   ]
  },
  {
   "cell_type": "code",
   "execution_count": null,
   "id": "af014dd4-6093-4f81-879c-26e13035c0f0",
   "metadata": {},
   "outputs": [],
   "source": []
  },
  {
   "cell_type": "markdown",
   "id": "f2ce459e-6b81-4177-8b5e-f96210b34cc1",
   "metadata": {},
   "source": [
    "#### 2D slicing"
   ]
  },
  {
   "cell_type": "code",
   "execution_count": null,
   "id": "61c2394d-5b82-4330-bec9-d2128ba1e481",
   "metadata": {},
   "outputs": [],
   "source": [
    "array_2D"
   ]
  },
  {
   "cell_type": "code",
   "execution_count": null,
   "id": "ecc2b154-faae-4621-bf11-2f41a6c298ca",
   "metadata": {},
   "outputs": [],
   "source": [
    "array_2D.shape"
   ]
  },
  {
   "cell_type": "code",
   "execution_count": null,
   "id": "1541b288-9af9-4714-8a12-09968bc97eb8",
   "metadata": {},
   "outputs": [],
   "source": [
    "array_2D[0]"
   ]
  },
  {
   "cell_type": "code",
   "execution_count": null,
   "id": "46d5f4f0-e964-4f80-8eca-d2cf0ee13d78",
   "metadata": {},
   "outputs": [],
   "source": [
    "array_2D[1]"
   ]
  },
  {
   "cell_type": "code",
   "execution_count": null,
   "id": "989d10cb-45e4-4989-95ef-09aed22be665",
   "metadata": {},
   "outputs": [],
   "source": [
    "array_2D[2]"
   ]
  },
  {
   "cell_type": "code",
   "execution_count": null,
   "id": "c41b1ba8-d3bf-4602-a375-69a90e0b1b90",
   "metadata": {},
   "outputs": [],
   "source": [
    "array_2D[3]"
   ]
  },
  {
   "cell_type": "code",
   "execution_count": null,
   "id": "a5b565e4-93e4-4a11-952f-2e19b7168fa4",
   "metadata": {},
   "outputs": [],
   "source": [
    "# slice along the rows\n",
    "array_2D[0:3]"
   ]
  },
  {
   "cell_type": "code",
   "execution_count": null,
   "id": "baa52714-8aa9-4b16-b7bd-1bea3f7451d5",
   "metadata": {},
   "outputs": [],
   "source": [
    "array_2D[0:3, 0]"
   ]
  },
  {
   "cell_type": "code",
   "execution_count": null,
   "id": "cb1e20ab-ffef-4b34-920e-ffd684bf803b",
   "metadata": {},
   "outputs": [],
   "source": [
    "array_2D[:]"
   ]
  },
  {
   "cell_type": "code",
   "execution_count": null,
   "id": "5ab1c0ed-2a12-435d-8b5d-2a7fadfee61c",
   "metadata": {},
   "outputs": [],
   "source": [
    "array_2D[0:3:2]"
   ]
  },
  {
   "cell_type": "code",
   "execution_count": null,
   "id": "498be473-d99c-4a81-ad84-f5f21090224f",
   "metadata": {},
   "outputs": [],
   "source": [
    "array_2D[2:]"
   ]
  },
  {
   "cell_type": "code",
   "execution_count": null,
   "id": "2eab1517-c07e-43df-8036-829c69439902",
   "metadata": {},
   "outputs": [],
   "source": [
    "array_2D[-3:]"
   ]
  },
  {
   "cell_type": "code",
   "execution_count": null,
   "id": "9efe71ca-1db6-45e5-a75b-a387454169a0",
   "metadata": {},
   "outputs": [],
   "source": [
    "array_2D[-3:1]"
   ]
  },
  {
   "cell_type": "code",
   "execution_count": null,
   "id": "90d9c082-a60d-4bed-8e1f-0e6d670da55f",
   "metadata": {},
   "outputs": [],
   "source": [
    "array_2D[-2:]"
   ]
  },
  {
   "cell_type": "code",
   "execution_count": null,
   "id": "8e4e3d50-77f8-40f7-84a1-eab13f48c58f",
   "metadata": {},
   "outputs": [],
   "source": [
    "# below is as good as [-2:]\n",
    "# it will give you all the rows after -2\n",
    "array_2D[-2:10]"
   ]
  },
  {
   "cell_type": "markdown",
   "id": "40655406-1212-4ce1-b901-1880707179bb",
   "metadata": {},
   "source": [
    "### A few ways to convert 1D to 2D array\n",
    "- reshape\n",
    "- np.newaxis (adds a dim)"
   ]
  },
  {
   "cell_type": "code",
   "execution_count": null,
   "id": "167d00ec-cfd9-4170-881b-91bb5b69d057",
   "metadata": {},
   "outputs": [],
   "source": [
    "array_1D"
   ]
  },
  {
   "cell_type": "code",
   "execution_count": null,
   "id": "9f482f66-7327-4573-bc53-c0b35488b44b",
   "metadata": {},
   "outputs": [],
   "source": [
    "z = array_1D.reshape(6,1)"
   ]
  },
  {
   "cell_type": "code",
   "execution_count": null,
   "id": "97147150-b05c-43fa-b842-9680933ac154",
   "metadata": {},
   "outputs": [],
   "source": [
    "z"
   ]
  },
  {
   "cell_type": "markdown",
   "id": "67e27f92-4413-482a-aa1d-12944d78897c",
   "metadata": {},
   "source": [
    "#### np.newaxis adds a new dimension\n",
    "- 1D to 2D"
   ]
  },
  {
   "cell_type": "code",
   "execution_count": null,
   "id": "6ea18f3a-26c0-497a-839f-3ad12668c2fd",
   "metadata": {},
   "outputs": [],
   "source": [
    "array_1D[:, np.newaxis]"
   ]
  },
  {
   "cell_type": "code",
   "execution_count": null,
   "id": "e9732369-ae79-476a-b2d8-d0c0062ec1d1",
   "metadata": {},
   "outputs": [],
   "source": [
    "array_1D[:, np.newaxis].shape"
   ]
  },
  {
   "cell_type": "markdown",
   "id": "579d6937-847c-490d-90fb-0291276ce493",
   "metadata": {},
   "source": [
    "### 3D array\n",
    "- x, y, z dimensions\n",
    "- block, row, column"
   ]
  },
  {
   "cell_type": "code",
   "execution_count": null,
   "id": "9f15dc8f-e4c1-4703-aa94-ff7873736782",
   "metadata": {},
   "outputs": [],
   "source": [
    "x = np.array([\n",
    "    [\n",
    "        [1],\n",
    "        [2],\n",
    "        [3]\n",
    "    ], \n",
    "    [\n",
    "        [4],\n",
    "        [5],\n",
    "        [6]\n",
    "    ]\n",
    "])"
   ]
  },
  {
   "cell_type": "code",
   "execution_count": null,
   "id": "08ed695c-5e38-4b89-863a-a71520cf0d62",
   "metadata": {},
   "outputs": [],
   "source": [
    "x.shape"
   ]
  },
  {
   "cell_type": "code",
   "execution_count": null,
   "id": "93b1b8f0-bc32-462b-8f3c-f58a95ee0158",
   "metadata": {},
   "outputs": [],
   "source": [
    "x = np.array([\n",
    "    [[1],\n",
    "     [2],\n",
    "     [3]], \n",
    "    [[4],\n",
    "     [5],\n",
    "     [6]]\n",
    "])"
   ]
  },
  {
   "cell_type": "code",
   "execution_count": null,
   "id": "10161831-2d00-490f-ade9-84e1edffc3a2",
   "metadata": {},
   "outputs": [],
   "source": [
    "x[1]"
   ]
  },
  {
   "cell_type": "markdown",
   "id": "c589ae87-e3a7-4245-b42f-bc17dd28b4fd",
   "metadata": {},
   "source": [
    "#### how to access value 6?\n"
   ]
  },
  {
   "cell_type": "code",
   "execution_count": null,
   "id": "06fc9a8b-1fc7-48d1-a778-f2347cc11a0f",
   "metadata": {},
   "outputs": [],
   "source": [
    "x[1,2,0]"
   ]
  },
  {
   "cell_type": "markdown",
   "id": "f644a1b1-920a-476b-ae27-1cd7b3661883",
   "metadata": {},
   "source": [
    "#### Q: access value 3"
   ]
  },
  {
   "cell_type": "code",
   "execution_count": null,
   "id": "924af28c-c41e-40ee-a6fa-6b3099b5f1c3",
   "metadata": {},
   "outputs": [],
   "source": [
    "x[0,2,0]"
   ]
  },
  {
   "cell_type": "markdown",
   "id": "e101410c-4fb5-4b47-8f35-e9205b6baf86",
   "metadata": {},
   "source": [
    "#### all blocks, all rows, first column"
   ]
  },
  {
   "cell_type": "code",
   "execution_count": null,
   "id": "817ce626-9884-4098-896b-566156295c30",
   "metadata": {},
   "outputs": [],
   "source": [
    "x[:, :, 0]"
   ]
  },
  {
   "cell_type": "markdown",
   "id": "a7d07347-39d2-47e2-84ac-87dde1dc6ac9",
   "metadata": {},
   "source": [
    "#### equivalent to above\n",
    "- ellipsis"
   ]
  },
  {
   "cell_type": "code",
   "execution_count": null,
   "id": "fb730208-9033-48a1-afdb-ea329fa8322d",
   "metadata": {},
   "outputs": [],
   "source": [
    "x[...,0]"
   ]
  },
  {
   "cell_type": "code",
   "execution_count": null,
   "id": "bd1b6af3-0fda-4c44-b17c-39e56864d7f7",
   "metadata": {},
   "outputs": [],
   "source": [
    "x"
   ]
  },
  {
   "cell_type": "code",
   "execution_count": null,
   "id": "46cbd858-ad0c-49e0-b5c9-7b9c8ccd8a62",
   "metadata": {},
   "outputs": [],
   "source": [
    "x[:, 1: ]"
   ]
  },
  {
   "cell_type": "markdown",
   "id": "60c34b4a-eba1-4a9d-841f-4d5b52c84a7b",
   "metadata": {},
   "source": [
    "### np.newaxis add two dimensions"
   ]
  },
  {
   "cell_type": "code",
   "execution_count": null,
   "id": "e720af28-e973-4d4b-8bec-c8106f1a5e6d",
   "metadata": {},
   "outputs": [],
   "source": [
    "array_1D[:, np.newaxis, np.newaxis]"
   ]
  },
  {
   "cell_type": "code",
   "execution_count": null,
   "id": "e1909b59-1d4b-4960-9e88-78b0171c2ba5",
   "metadata": {},
   "outputs": [],
   "source": [
    "array_1D[:, np.newaxis, np.newaxis].shape"
   ]
  },
  {
   "cell_type": "markdown",
   "id": "b7847033-d77e-4e3c-bad3-9f2b844b7c47",
   "metadata": {},
   "source": [
    "### Integer indexing"
   ]
  },
  {
   "cell_type": "code",
   "execution_count": null,
   "id": "c478de3f-a57a-4083-a63e-052ae5464fc8",
   "metadata": {},
   "outputs": [],
   "source": [
    "array_2D"
   ]
  },
  {
   "cell_type": "markdown",
   "id": "8d7caae8-5f19-4c5d-aa51-98b05dcc1de7",
   "metadata": {},
   "source": [
    "### Q: what should the following print?\n",
    " - array_2D[np.arange(3)]\n",
    " - array_2D[np.arange(2)]"
   ]
  },
  {
   "cell_type": "code",
   "execution_count": null,
   "id": "e520eae7-fc52-4583-821b-5de59dac1fc2",
   "metadata": {},
   "outputs": [],
   "source": []
  },
  {
   "cell_type": "markdown",
   "id": "790ab602-26ad-4abf-80c5-8ea9f04626f5",
   "metadata": {},
   "source": [
    "### Boolean array indexing"
   ]
  },
  {
   "cell_type": "code",
   "execution_count": null,
   "id": "20df0f2a-8b1c-4d3c-9897-ab3df67d30d8",
   "metadata": {},
   "outputs": [],
   "source": [
    "x = np.array([[1., 2.], [np.nan, 3.], [np.nan, np.nan]])"
   ]
  },
  {
   "cell_type": "code",
   "execution_count": null,
   "id": "ef8e9107-b9e2-421b-b6cc-ab301645a695",
   "metadata": {},
   "outputs": [],
   "source": [
    "x"
   ]
  },
  {
   "cell_type": "code",
   "execution_count": null,
   "id": "f151db42-f7fe-45d8-9232-f08127828782",
   "metadata": {},
   "outputs": [],
   "source": [
    "~np.isnan(x)"
   ]
  },
  {
   "cell_type": "code",
   "execution_count": null,
   "id": "ccc398b5-63c5-41df-9c6e-0e4f2c0278bb",
   "metadata": {},
   "outputs": [],
   "source": [
    "x[~np.isnan(x)]"
   ]
  },
  {
   "cell_type": "markdown",
   "id": "8fa6df99-aef9-46f1-b456-0d1c79b5d365",
   "metadata": {},
   "source": [
    "### Q: what should the following print?\n",
    "- array_2D[np.arange(2), np.arange(2)]\n",
    "- example of fancy indexing in 2D space"
   ]
  },
  {
   "cell_type": "code",
   "execution_count": null,
   "id": "0821ef3f-525c-4af3-a0c5-e3b9b41e2592",
   "metadata": {},
   "outputs": [],
   "source": []
  },
  {
   "cell_type": "markdown",
   "id": "cbd5a549-4125-47ab-876f-5405ab18df9a",
   "metadata": {},
   "source": [
    "### Reductions\n",
    "\n",
    "Numpy aggregations\n",
    "- np.sum\n",
    "- np.mean"
   ]
  },
  {
   "cell_type": "code",
   "execution_count": null,
   "id": "38c0a484-2a4d-4bc1-ab4e-3ff486cda547",
   "metadata": {},
   "outputs": [],
   "source": [
    "z = np.array([\n",
    "    [4, 0],\n",
    "    [5, 2],\n",
    "    [2, 1]\n",
    "])"
   ]
  },
  {
   "cell_type": "code",
   "execution_count": null,
   "id": "8c217aa1-ab58-4e95-a2dd-f047bf28c20c",
   "metadata": {},
   "outputs": [],
   "source": [
    "z.sum()"
   ]
  },
  {
   "cell_type": "code",
   "execution_count": null,
   "id": "ca9a7f35-4e49-499a-9afa-110a021e3b56",
   "metadata": {},
   "outputs": [],
   "source": [
    "z.sum(axis=0) # sum by columns"
   ]
  },
  {
   "cell_type": "code",
   "execution_count": null,
   "id": "c06ae1dd-2a8e-42f1-9d51-87ce63f7dd2d",
   "metadata": {},
   "outputs": [],
   "source": [
    "z.sum(axis=1) # sum by rows"
   ]
  },
  {
   "cell_type": "code",
   "execution_count": null,
   "id": "6ba33af2-6f4f-4df8-b47c-121d500b8057",
   "metadata": {},
   "outputs": [],
   "source": [
    "z.sum(axis=(0,1)) # sum all the axes"
   ]
  },
  {
   "cell_type": "code",
   "execution_count": null,
   "id": "59ef2bd4-bc97-43e1-8a79-4622ad2e7d16",
   "metadata": {},
   "outputs": [],
   "source": [
    "z.mean()"
   ]
  },
  {
   "cell_type": "code",
   "execution_count": null,
   "id": "6bd14ae0-437a-4e8a-912f-cffba6b22e2e",
   "metadata": {},
   "outputs": [],
   "source": [
    "z.mean(axis=0)"
   ]
  },
  {
   "cell_type": "code",
   "execution_count": null,
   "id": "24f943f0-4a16-4cb8-baf2-94cb0317b40f",
   "metadata": {},
   "outputs": [],
   "source": [
    "z.mean(axis=1)"
   ]
  },
  {
   "cell_type": "markdown",
   "id": "f579acf8-97c7-4d65-b794-b0c4d8f7d439",
   "metadata": {},
   "source": [
    "### Q: Experiment with the following"
   ]
  },
  {
   "cell_type": "code",
   "execution_count": null,
   "id": "46d2c583-dbb6-473c-bd18-8acbe9c64522",
   "metadata": {},
   "outputs": [],
   "source": [
    "z = np.array([[[1, 2], [2, 1], [3, 3]],\n",
    "              [[4, 0], [5, 1], [6, 2]]])"
   ]
  },
  {
   "cell_type": "markdown",
   "id": "40037902-97ba-4991-b273-2fd815615b54",
   "metadata": {},
   "source": [
    "- z.sum(axis=0)\n",
    "- z.sum(axis=1)\n",
    "- z.sum(axis=2)\n",
    "- z.sum(axis=3)"
   ]
  },
  {
   "cell_type": "code",
   "execution_count": null,
   "id": "65e2691c-135f-421a-b216-d24393d952e8",
   "metadata": {},
   "outputs": [],
   "source": []
  },
  {
   "cell_type": "markdown",
   "id": "07baaabd-ac99-42bf-9f27-21e2dcf26b26",
   "metadata": {},
   "source": [
    "### stacking\n",
    "- np.hstack\n",
    "- np.vstack"
   ]
  },
  {
   "cell_type": "code",
   "execution_count": null,
   "id": "744161a9-ee43-4c8c-ac29-96aabe50c54b",
   "metadata": {},
   "outputs": [],
   "source": [
    "a = np.array([\n",
    "    [2,4],\n",
    "    [6,8]\n",
    "])"
   ]
  },
  {
   "cell_type": "code",
   "execution_count": null,
   "id": "9c347dea-bbd8-46e2-b79f-f64809114fb3",
   "metadata": {},
   "outputs": [],
   "source": [
    "b = np.array([\n",
    "    [10,12],\n",
    "    [14,16]\n",
    "])"
   ]
  },
  {
   "cell_type": "code",
   "execution_count": null,
   "id": "2b1f90aa-2f05-4199-9a2b-6ce12186b0d1",
   "metadata": {},
   "outputs": [],
   "source": [
    "np.hstack((a,b))"
   ]
  },
  {
   "cell_type": "code",
   "execution_count": null,
   "id": "0aebc72c-f1cd-4e49-ac61-29d845fd2ae9",
   "metadata": {},
   "outputs": [],
   "source": [
    "np.vstack((a,b))"
   ]
  },
  {
   "cell_type": "markdown",
   "id": "e0ef55be-cffd-493e-9682-421c1fb5bd3f",
   "metadata": {},
   "source": [
    "#### Q: for hstack to work, should arrays a,b have the same number of  rows or columns? and for vstack?"
   ]
  },
  {
   "cell_type": "code",
   "execution_count": null,
   "id": "3b507677-6448-45e3-8e53-97c6324de17b",
   "metadata": {},
   "outputs": [],
   "source": []
  },
  {
   "cell_type": "markdown",
   "id": "dd491585-e013-4e9c-bee2-109fb565df36",
   "metadata": {},
   "source": [
    "#### Q: Experiment with the following:\n",
    "- np.dot(a,b) where a and b are arrays of shape (2,2) and (2,), resp.\n",
    "- np.matmul(a,b)\n",
    "- a.T (transpose of a)\n",
    "- np.linalg.inv(a) # inverse of a"
   ]
  },
  {
   "cell_type": "code",
   "execution_count": null,
   "id": "3bac4e90-3770-4869-8a7b-b03afc0821c1",
   "metadata": {},
   "outputs": [],
   "source": []
  },
  {
   "cell_type": "markdown",
   "id": "c766e511-e309-474d-8b53-49227a315152",
   "metadata": {},
   "source": [
    "### Matrix broadcasting\n",
    "- Input arrays do not need to have the same number of dimensions. The resulting array will have the same number of dimensions as the input array with the greatest number of dimensions, where the size of each dimension is the largest size of the corresponding dimension among the input arrays.\n",
    "- https://numpy.org/doc/stable/user/basics.broadcasting.html"
   ]
  },
  {
   "cell_type": "code",
   "execution_count": null,
   "id": "b04111f4-ba5b-45b6-adcb-d2e35c51bd17",
   "metadata": {},
   "outputs": [],
   "source": [
    "a = np.random.randint(1,10,[4,3])"
   ]
  },
  {
   "cell_type": "code",
   "execution_count": null,
   "id": "255588bc-ff69-4ec8-8344-a328c26ee5c9",
   "metadata": {},
   "outputs": [],
   "source": [
    "a"
   ]
  },
  {
   "cell_type": "code",
   "execution_count": null,
   "id": "346143a5-b33c-498e-9d41-ec6f0da90703",
   "metadata": {},
   "outputs": [],
   "source": [
    "b = np.random.randint(1,10,[4,1])"
   ]
  },
  {
   "cell_type": "code",
   "execution_count": null,
   "id": "86fe6f5c-282d-4f94-9d13-6faaa2af4402",
   "metadata": {},
   "outputs": [],
   "source": [
    "b"
   ]
  },
  {
   "cell_type": "code",
   "execution_count": null,
   "id": "b8710686-5fca-40fb-8791-da51c33bea30",
   "metadata": {},
   "outputs": [],
   "source": [
    "a.shape"
   ]
  },
  {
   "cell_type": "code",
   "execution_count": null,
   "id": "7a1de86e-98d8-40bc-82e1-7037940e56d5",
   "metadata": {},
   "outputs": [],
   "source": [
    "b.shape"
   ]
  },
  {
   "cell_type": "code",
   "execution_count": null,
   "id": "2953cdc6-495e-4d0f-8891-ce9eb78465ce",
   "metadata": {},
   "outputs": [],
   "source": [
    "a + b"
   ]
  },
  {
   "cell_type": "code",
   "execution_count": null,
   "id": "d4ab21f5-0fb5-4cff-b91c-21c16a331197",
   "metadata": {},
   "outputs": [],
   "source": [
    "(a + b).shape"
   ]
  },
  {
   "cell_type": "code",
   "execution_count": null,
   "id": "7aecef23-0167-4897-a2bf-63acf14142b2",
   "metadata": {},
   "outputs": [],
   "source": [
    "b = np.random.randint(1,10,[4,2])"
   ]
  },
  {
   "cell_type": "code",
   "execution_count": null,
   "id": "02336bb9-c080-41cd-8b7b-f807d73dfeee",
   "metadata": {},
   "outputs": [],
   "source": [
    "b"
   ]
  },
  {
   "cell_type": "markdown",
   "id": "2427424e-0e27-4ac5-9380-df5a21fe5892",
   "metadata": {},
   "source": [
    "#### Q: will a + b work? why or why not?"
   ]
  },
  {
   "cell_type": "code",
   "execution_count": null,
   "id": "7ca54139-f3ba-4a55-b7d7-0230a71af71f",
   "metadata": {},
   "outputs": [],
   "source": []
  },
  {
   "cell_type": "code",
   "execution_count": null,
   "id": "c1d5778f-c2b3-414c-ada6-5279f1d704af",
   "metadata": {},
   "outputs": [],
   "source": [
    "a = np.array([\n",
    "    [0], \n",
    "    [3], \n",
    "    [6], \n",
    "    [9]\n",
    "])\n",
    "b = np.array([1, 2])"
   ]
  },
  {
   "cell_type": "code",
   "execution_count": null,
   "id": "9c9be935-4f5d-4d3b-845c-f5db0152bf28",
   "metadata": {},
   "outputs": [],
   "source": [
    "a.shape"
   ]
  },
  {
   "cell_type": "code",
   "execution_count": null,
   "id": "85543a2a-6f33-4c87-9534-a06d7a58ac66",
   "metadata": {},
   "outputs": [],
   "source": [
    "b.shape"
   ]
  },
  {
   "cell_type": "markdown",
   "id": "ec2ddbfe-4c1b-4916-bd79-0ae6310f26ed",
   "metadata": {},
   "source": [
    "#### Q: what will be the shape of a*b?"
   ]
  },
  {
   "cell_type": "code",
   "execution_count": null,
   "id": "960c49f6-bef8-46a1-9a76-e8c68df55401",
   "metadata": {},
   "outputs": [],
   "source": []
  },
  {
   "cell_type": "code",
   "execution_count": null,
   "id": "81b9ef4a-c136-49fa-b73c-bf22ec4190bb",
   "metadata": {},
   "outputs": [],
   "source": [
    "a*b"
   ]
  },
  {
   "cell_type": "markdown",
   "id": "4d96d7cd-1ecf-4994-810d-f7c62d8ce1b6",
   "metadata": {},
   "source": [
    "### Vectorization (add element by element)"
   ]
  },
  {
   "cell_type": "code",
   "execution_count": null,
   "id": "1d35cb56-5653-4f2c-b76b-91cb9ef6f089",
   "metadata": {},
   "outputs": [],
   "source": [
    "a = np.arange(10).reshape(5,2)"
   ]
  },
  {
   "cell_type": "code",
   "execution_count": null,
   "id": "2aa8a946-1389-4db3-86c2-54cc9bdf5e82",
   "metadata": {},
   "outputs": [],
   "source": [
    "a"
   ]
  },
  {
   "cell_type": "code",
   "execution_count": null,
   "id": "31ccc3dd-c9a6-433a-a2ab-b08e93195945",
   "metadata": {},
   "outputs": [],
   "source": [
    "b = np.ones((5,2))"
   ]
  },
  {
   "cell_type": "code",
   "execution_count": null,
   "id": "204f4a8a-1cac-48c5-a17f-cb44985db0c3",
   "metadata": {},
   "outputs": [],
   "source": [
    "b"
   ]
  },
  {
   "cell_type": "code",
   "execution_count": null,
   "id": "8ca772ec-db12-4d3d-9e9f-544f9f1f59d2",
   "metadata": {},
   "outputs": [],
   "source": [
    "a + b"
   ]
  },
  {
   "cell_type": "markdown",
   "id": "3cbdaed9-3a5e-4fbe-aa0a-d274bad98523",
   "metadata": {},
   "source": [
    "### Q: Experiment with the following:\n",
    "Construct a 2D array `a`\n",
    "- find the min using np.min(a), experiment with axis pased singly and as a tuple\n",
    "- find the max using np.max(a), experiment with axis pased singly and as a tuple\n",
    "- find the mean, median and qth percentile using np.mean, np.median and np.percentile"
   ]
  },
  {
   "cell_type": "code",
   "execution_count": null,
   "id": "dee1b131-e46d-495d-95a4-fbbc12e8e65b",
   "metadata": {},
   "outputs": [],
   "source": []
  },
  {
   "cell_type": "markdown",
   "id": "4e2aff56-287b-4e30-98de-dcf9fd3f5465",
   "metadata": {},
   "source": [
    "# Collaborative exercises"
   ]
  },
  {
   "cell_type": "markdown",
   "id": "a4edab3d-656a-4f06-a29b-885cbe3b1772",
   "metadata": {},
   "source": [
    "## Exercise 1\n",
    "Construct a 4x3 array and select only the corner elements of the array using basic indexing techniques. Thus all elements for which the column is one of [0, 2] and the row is one of [0, 3] need to be selected\n"
   ]
  },
  {
   "cell_type": "markdown",
   "id": "fb27fe9e-ec64-4833-9461-5801c7b4a8a8",
   "metadata": {},
   "source": [
    "## Exercise 2\n",
    "Construct a 2D array with shape (5,7) with values ranging from 0 to 35. Filter this\n",
    "array to only consist of values > 20 using boolean indexing"
   ]
  },
  {
   "cell_type": "markdown",
   "id": "28894391-ce2c-4fd3-825d-95d3a208393d",
   "metadata": {},
   "source": [
    "## Exercise 3\n",
    "Construct a 2D array of with shape (3,2),where rows can take the values [0,1,2].\n",
    "From this array, select all rows which sum up to less than or equal to two"
   ]
  },
  {
   "cell_type": "markdown",
   "id": "d375dfd2-a63d-4bf1-b552-9b9552dce2e5",
   "metadata": {},
   "source": [
    "### Exercise 4\n",
    "Construct a 2-D boolean array of shape (2, 3) with four True elements to \n",
    "select rows from a 3-D array of shape (2, 3, 5).\n",
    "What is the shape of the resultant array?"
   ]
  },
  {
   "cell_type": "markdown",
   "id": "57d88522-45d2-48ec-8465-9d16815eeabf",
   "metadata": {},
   "source": [
    "### Exercise 5\n",
    "Construct a 2D array `array_2D` of shape (3,2) from a 1D array (`array_1D`) of shape (6,).\n",
    "Assign a different value to `array_2D[0, 1]`.\n",
    "Compare values in `array_1D` and `array_2D`, are they the same or different?\n",
    "If they are the same, how can you ensure you only change the value in `array_2D` and not `array_1D`?"
   ]
  },
  {
   "cell_type": "markdown",
   "id": "6cab7f00-3b90-4757-a3f5-7ea5f891938a",
   "metadata": {},
   "source": [
    "### Exercise 6\n",
    "Construct a 3D array `x` with shape 2,2,2. Assume each block is an MRI image, with values representing pixel intensities\n",
    "- Can you perform min-max normalization across this whole 3D array? \n",
    "\n",
    "normalized = (x - x_min) / (x_max - x_min)\n",
    "\n",
    "- Can you now normalize each image separately?\n"
   ]
  },
  {
   "cell_type": "markdown",
   "id": "9543c5ec-ce65-4e83-b0e9-bf536933b4c5",
   "metadata": {},
   "source": [
    "### Exercise 7\n",
    "\n",
    "The following clinical observation is height and weight of an individual:\n",
    "\n",
    "observation = np.array([111.0, 188.0])\n",
    "\n",
    "The following 2D array called `measurements` records heights and weights of several individuals at different time points, including the individual above. Can you figure out `observation` above is closer to which individual from `measurements`?\n",
    "\n",
    "```\n",
    "measurements = np.array([[102.0, 203.0],\n",
    "               [132.0, 193.0],\n",
    "               [45.0, 155.0],\n",
    "               [57.0, 173.0]])\n",
    "```\n",
    "Hint: you can use your own metric, e.g. sqrt(sum of squared differences)"
   ]
  },
  {
   "cell_type": "code",
   "execution_count": null,
   "id": "01f58a9b-269e-4391-a762-573891996d13",
   "metadata": {},
   "outputs": [],
   "source": []
  }
 ],
 "metadata": {
  "kernelspec": {
   "display_name": "Python 3.12.7",
   "language": "python",
   "name": "venv_3.12.7"
  },
  "language_info": {
   "codemirror_mode": {
    "name": "ipython",
    "version": 3
   },
   "file_extension": ".py",
   "mimetype": "text/x-python",
   "name": "python",
   "nbconvert_exporter": "python",
   "pygments_lexer": "ipython3",
   "version": "3.12.7"
  }
 },
 "nbformat": 4,
 "nbformat_minor": 5
}
