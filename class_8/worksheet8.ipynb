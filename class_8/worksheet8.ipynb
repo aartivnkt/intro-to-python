{
 "cells": [
  {
   "cell_type": "markdown",
   "id": "0f911021-0803-44e4-b074-8589781739e0",
   "metadata": {},
   "source": [
    "# worksheet8: Pandas dataframes"
   ]
  },
  {
   "cell_type": "code",
   "execution_count": null,
   "id": "981bca12-c7f3-4a21-880a-12acd0cd45e6",
   "metadata": {},
   "outputs": [],
   "source": [
    "import pandas as pd\n",
    "import numpy as np"
   ]
  },
  {
   "cell_type": "markdown",
   "id": "d8a3fb57-aebc-4fd0-a6f2-1019c036feb8",
   "metadata": {},
   "source": [
    "## DataFrame\n",
    "- represents a rectangular table of data and contains an ordered collection of columns, each of which can be a different value type (numeric, string, boolean, etc.)\n",
    "- can be thought of as a collection of Series (columns)\n",
    "- has both rows and columns, each with their own index\n",
    "- different ways to create a DataFrame: from series, from dict, from a file "
   ]
  },
  {
   "cell_type": "markdown",
   "id": "03c7fb6e-d9d6-4762-b369-89dc98a4f563",
   "metadata": {},
   "source": [
    "### df from a series\n",
    "- ser.to_frame()\n",
    "- pd.DataFrame"
   ]
  },
  {
   "cell_type": "code",
   "execution_count": null,
   "id": "ae7809c9-e1b5-46ae-91b7-a53e32353654",
   "metadata": {},
   "outputs": [],
   "source": [
    "gene_lengths_kb = [2, 4, 4, 5 ]"
   ]
  },
  {
   "cell_type": "code",
   "execution_count": null,
   "id": "13ad907b-a4ea-434e-9b3e-d3ecba82598e",
   "metadata": {},
   "outputs": [],
   "source": [
    "gene_names = ['BRCA1','BRCA2', 'SMAD2', 'TTN']"
   ]
  },
  {
   "cell_type": "code",
   "execution_count": null,
   "id": "ae049d04-0a55-47fc-b993-1d4e16aa3fb9",
   "metadata": {},
   "outputs": [],
   "source": [
    "gene_lengths_kb_ser = pd.Series(\n",
    "   \n",
    ")"
   ]
  },
  {
   "cell_type": "code",
   "execution_count": null,
   "id": "56917887-bf5c-46e7-862e-cd17f8fd0790",
   "metadata": {},
   "outputs": [],
   "source": [
    "gene_lengths_kb_df = gene_lengths_kb_ser.to_frame()\n"
   ]
  },
  {
   "cell_type": "code",
   "execution_count": null,
   "id": "e1c6f074-be50-429d-8886-1d5b7052bff1",
   "metadata": {},
   "outputs": [],
   "source": [
    "gene_lengths_kb_df"
   ]
  },
  {
   "cell_type": "code",
   "execution_count": null,
   "id": "388edca7-6553-4972-bf0e-1f69586afb04",
   "metadata": {},
   "outputs": [],
   "source": [
    "pd.DataFrame(gene_lengths_kb_ser)"
   ]
  },
  {
   "cell_type": "code",
   "execution_count": null,
   "id": "ef46dae1-9f86-4866-9097-3ed9fe893a53",
   "metadata": {},
   "outputs": [],
   "source": [
    "pd.DataFrame(gene_lengths_kb_ser, index=['BRCA1', 'TTN'])"
   ]
  },
  {
   "cell_type": "markdown",
   "id": "64732037-9797-46f9-8253-49a3290ecbbd",
   "metadata": {},
   "source": [
    "### row labels (index) of DataFrame"
   ]
  },
  {
   "cell_type": "code",
   "execution_count": null,
   "id": "b8a6589e-6ab0-434a-8707-19bb99cdf351",
   "metadata": {},
   "outputs": [],
   "source": [
    "gene_lengths_kb_df.index"
   ]
  },
  {
   "cell_type": "markdown",
   "id": "92b17039-7a52-460f-a54f-e0add99c7a8f",
   "metadata": {},
   "source": [
    "### column labels (index) of DataFrame\n",
    "- default is a range index if no index specified"
   ]
  },
  {
   "cell_type": "code",
   "execution_count": null,
   "id": "be70355c-41d9-43b0-bc5c-c2d57eccc710",
   "metadata": {},
   "outputs": [],
   "source": [
    "gene_lengths_kb_df.columns"
   ]
  },
  {
   "cell_type": "markdown",
   "id": "4b8fb2d1-f634-4953-9ecb-5b81e1b8c6f1",
   "metadata": {},
   "source": [
    "### df.values"
   ]
  },
  {
   "cell_type": "code",
   "execution_count": null,
   "id": "2f2f10c5-6e4c-4f1e-8166-e3f75d82cd1e",
   "metadata": {},
   "outputs": [],
   "source": [
    "gene_lengths_kb_df.values"
   ]
  },
  {
   "cell_type": "code",
   "execution_count": null,
   "id": "eb84aa8c-5094-431b-9505-0f08108076b0",
   "metadata": {},
   "outputs": [],
   "source": [
    "gene_lengths_kb_df.values.ndim"
   ]
  },
  {
   "cell_type": "markdown",
   "id": "77309b43-2b99-4019-b89b-3d7fb6b16cba",
   "metadata": {},
   "source": [
    "### df from a dict\n",
    "- pd.DataFrame.from_dict()\n",
    "- pd.DataFrame"
   ]
  },
  {
   "cell_type": "markdown",
   "id": "6b9adf26-05bf-4912-a433-a595a8d8333e",
   "metadata": {},
   "source": [
    "#### pd.DataFrame.from_dict()"
   ]
  },
  {
   "cell_type": "code",
   "execution_count": null,
   "id": "59b9311e-e3c2-4313-a694-ec298cbd8715",
   "metadata": {},
   "outputs": [],
   "source": [
    "gene_expression = [2, 4, 4, 5]"
   ]
  },
  {
   "cell_type": "code",
   "execution_count": null,
   "id": "b9f0fa9a-6bd8-46b7-879a-29bf7e4b6606",
   "metadata": {},
   "outputs": [],
   "source": [
    "d = {\n",
    "    k : [v, v+1]\n",
    "    for k, v in zip(gene_names, gene_expression)\n",
    "}"
   ]
  },
  {
   "cell_type": "code",
   "execution_count": null,
   "id": "0b98e64e-1243-453d-b953-4d21e263e134",
   "metadata": {},
   "outputs": [],
   "source": [
    "d"
   ]
  },
  {
   "cell_type": "code",
   "execution_count": null,
   "id": "cdf1f116-1bc3-483f-9c2e-228ba6b66903",
   "metadata": {},
   "outputs": [],
   "source": [
    "d.keys()"
   ]
  },
  {
   "cell_type": "markdown",
   "id": "6342e0ef-6706-4692-804d-a9f0dcc2b716",
   "metadata": {},
   "source": [
    "#### pd.DataFrame.from_dict()\n",
    "- keys of the dict = col labels (default behaviour)\n",
    "- if keys of the dict = row labels, set `orient` to index\n"
   ]
  },
  {
   "cell_type": "markdown",
   "id": "5f466b8c-d9a2-4789-8f95-d030a79c87cf",
   "metadata": {},
   "source": [
    "#### default behaviour (keys = columns)"
   ]
  },
  {
   "cell_type": "code",
   "execution_count": null,
   "id": "29e9707f-3700-4c54-afb4-2c663f4a5c1e",
   "metadata": {},
   "outputs": [],
   "source": [
    "gene_expression_df = pd.DataFrame.from_dict(d)"
   ]
  },
  {
   "cell_type": "code",
   "execution_count": null,
   "id": "b185edbf-505e-476c-9e04-17b0fb1d47ab",
   "metadata": {},
   "outputs": [],
   "source": [
    "gene_expression_df"
   ]
  },
  {
   "cell_type": "markdown",
   "id": "fc1eed5c-ae2b-4185-b77a-b3d3aef9d05e",
   "metadata": {},
   "source": [
    "#### redefine the index if you need\n",
    "- using .index\n",
    "- using rename"
   ]
  },
  {
   "cell_type": "code",
   "execution_count": null,
   "id": "f0c70836-dbcd-4ebf-8356-636cb26b3e52",
   "metadata": {},
   "outputs": [],
   "source": [
    "gene_expression_df.index=['time.0', 'time.1']"
   ]
  },
  {
   "cell_type": "code",
   "execution_count": null,
   "id": "4d507b25-dd25-4264-b832-550d193af74d",
   "metadata": {},
   "outputs": [],
   "source": [
    "gene_expression_df"
   ]
  },
  {
   "cell_type": "code",
   "execution_count": null,
   "id": "196bc685-67c3-41ed-9018-c3ea43ac9250",
   "metadata": {},
   "outputs": [],
   "source": [
    "pd.DataFrame.from_dict(d).rename(index={0:'time.0', 1:'time.1'})"
   ]
  },
  {
   "cell_type": "markdown",
   "id": "68652535-e60b-494e-a8a3-5f179807ee13",
   "metadata": {},
   "source": [
    "#### assign keys = row labels"
   ]
  },
  {
   "cell_type": "code",
   "execution_count": null,
   "id": "4dfaf5fe-ab08-4284-8112-ed6c8d6feea1",
   "metadata": {},
   "outputs": [],
   "source": [
    "d"
   ]
  },
  {
   "cell_type": "code",
   "execution_count": null,
   "id": "daa5aa07-faf4-4d34-8f38-478d6bd71d58",
   "metadata": {},
   "outputs": [],
   "source": [
    "gene_expression_df = pd.DataFrame.from_dict(d, orient='index')"
   ]
  },
  {
   "cell_type": "code",
   "execution_count": null,
   "id": "8b345765-c998-49fe-8528-0926df1d0da6",
   "metadata": {},
   "outputs": [],
   "source": [
    "gene_expression_df"
   ]
  },
  {
   "cell_type": "markdown",
   "id": "d3e617c2-de99-425c-a2d1-5e7b8b93919e",
   "metadata": {},
   "source": [
    "### Q: can you change the colnames?"
   ]
  },
  {
   "cell_type": "code",
   "execution_count": null,
   "id": "25f00647-2d2d-4c62-9703-55f9d7a0390b",
   "metadata": {},
   "outputs": [],
   "source": []
  },
  {
   "cell_type": "markdown",
   "id": "832ef113-3a7b-4559-a368-4c9e09bf6c93",
   "metadata": {},
   "source": [
    "#### pd.DataFrame \n",
    "- takes `index` argument\n",
    "- constructs default index if none specified\n",
    "- can transpose this dataframe to make rows the columns, and columns the rows"
   ]
  },
  {
   "cell_type": "code",
   "execution_count": null,
   "id": "17709fe7-1189-4c61-9ada-b4df1cf9bbd8",
   "metadata": {},
   "outputs": [],
   "source": [
    "d"
   ]
  },
  {
   "cell_type": "code",
   "execution_count": null,
   "id": "1e855144-5f18-4734-a5d7-45b5ee608fcb",
   "metadata": {},
   "outputs": [],
   "source": [
    "pd.DataFrame(d, index=['time.0', 'time.'])"
   ]
  },
  {
   "cell_type": "code",
   "execution_count": null,
   "id": "ba7b86a7-a067-4246-938b-bad59a172594",
   "metadata": {},
   "outputs": [],
   "source": [
    "pd.DataFrame(d)"
   ]
  },
  {
   "cell_type": "code",
   "execution_count": null,
   "id": "e7e6e09f-6a7d-482b-85c8-d7c23d648d96",
   "metadata": {},
   "outputs": [],
   "source": [
    "pd.DataFrame(d).T"
   ]
  },
  {
   "cell_type": "markdown",
   "id": "f26f850f-41f0-4cea-bf0e-a48022d0ad9c",
   "metadata": {},
   "source": [
    "### df.dtypes"
   ]
  },
  {
   "cell_type": "code",
   "execution_count": null,
   "id": "1825934f-59d6-4fc9-9a43-92d2b76279d9",
   "metadata": {},
   "outputs": [],
   "source": [
    "gene_expression_df"
   ]
  },
  {
   "cell_type": "code",
   "execution_count": null,
   "id": "3243e4fa-229b-4ed2-85dd-ff8ba9962cfb",
   "metadata": {},
   "outputs": [],
   "source": [
    "gene_expression_df.dtypes"
   ]
  },
  {
   "cell_type": "markdown",
   "id": "33574757-ff6d-4718-86d1-4d16ce3a5c99",
   "metadata": {},
   "source": [
    "### add a new column to the df"
   ]
  },
  {
   "cell_type": "code",
   "execution_count": null,
   "id": "a921cd17-2994-49c4-a67b-98415ab5d449",
   "metadata": {},
   "outputs": [],
   "source": [
    "gene_expression_df['gene_desc'] = [\n",
    "    'breast cancer gene 1',\n",
    "    'breast cancer gene 2',\n",
    "    'SMAD family member 2',\n",
    "    'Transient Tachypnea of the Newborn'\n",
    "]"
   ]
  },
  {
   "cell_type": "code",
   "execution_count": null,
   "id": "0ce8da04-964e-4058-8885-f0de42afc507",
   "metadata": {},
   "outputs": [],
   "source": [
    "gene_expression_df"
   ]
  },
  {
   "cell_type": "code",
   "execution_count": null,
   "id": "be45ffd1-cc48-4775-bbc9-670bc6e8f1a9",
   "metadata": {},
   "outputs": [],
   "source": [
    "gene_expression_df.dtypes"
   ]
  },
  {
   "cell_type": "markdown",
   "id": "f1c8a998-3767-4cc3-a0d3-058764a2e92f",
   "metadata": {},
   "source": [
    "### change dtype of a specific column"
   ]
  },
  {
   "cell_type": "code",
   "execution_count": null,
   "id": "018c7be9-3951-460c-9e55-affcafe01899",
   "metadata": {},
   "outputs": [],
   "source": [
    "gene_expression_df = gene_expression_df.astype({'gene_desc': 'string'})"
   ]
  },
  {
   "cell_type": "code",
   "execution_count": null,
   "id": "33c5fffa-618c-4c84-866d-9239455d9592",
   "metadata": {},
   "outputs": [],
   "source": [
    "gene_expression_df"
   ]
  },
  {
   "cell_type": "code",
   "execution_count": null,
   "id": "09b9c8d3-3dc4-4118-9604-14919f5ba9b5",
   "metadata": {},
   "outputs": [],
   "source": [
    "gene_expression_df.dtypes"
   ]
  },
  {
   "cell_type": "markdown",
   "id": "1f94a986-22b1-4e31-a66a-01886ff0c773",
   "metadata": {},
   "source": [
    "### df.axes\n",
    "-  DataFrame has two axes: one for the rows, one for the columns\n",
    "- axis=0\n",
    "- axis=1"
   ]
  },
  {
   "cell_type": "code",
   "execution_count": null,
   "id": "3cb080ea-e026-4ac8-8169-3961beff40c8",
   "metadata": {},
   "outputs": [],
   "source": [
    "gene_expression_df"
   ]
  },
  {
   "cell_type": "code",
   "execution_count": null,
   "id": "8cc40f86-880d-4045-a2c7-b567a5e3f045",
   "metadata": {},
   "outputs": [],
   "source": [
    "gene_expression_df.columns = ['time.0', 'time.1', 'gene_desc']"
   ]
  },
  {
   "cell_type": "code",
   "execution_count": null,
   "id": "9d41b232-dbd3-4552-a3e1-2cf9a334ff54",
   "metadata": {},
   "outputs": [],
   "source": [
    "gene_expression_df.axes"
   ]
  },
  {
   "cell_type": "code",
   "execution_count": null,
   "id": "e9533430-2e0b-49d2-b6df-0713fb7a8699",
   "metadata": {},
   "outputs": [],
   "source": [
    "len(gene_expression_df.axes)"
   ]
  },
  {
   "cell_type": "code",
   "execution_count": null,
   "id": "34e11890-7a51-44bd-9f8a-087ad86208cd",
   "metadata": {},
   "outputs": [],
   "source": [
    "gene_expression_df.axes[0]"
   ]
  },
  {
   "cell_type": "code",
   "execution_count": null,
   "id": "2fc5b5a1-2f9e-4d05-bcff-54aecce80ada",
   "metadata": {},
   "outputs": [],
   "source": [
    "gene_expression_df.axes[1]"
   ]
  },
  {
   "cell_type": "code",
   "execution_count": null,
   "id": "79be900b-bfb2-408d-afdd-7e57576d41b9",
   "metadata": {},
   "outputs": [],
   "source": [
    "gene_expression_df['time.0'].sum(axis=0)"
   ]
  },
  {
   "cell_type": "code",
   "execution_count": null,
   "id": "2fc67bc4-c283-44ce-879a-72eda5fc5bab",
   "metadata": {},
   "outputs": [],
   "source": [
    "gene_expression_df['time.0'].sum(axis='index')"
   ]
  },
  {
   "cell_type": "markdown",
   "id": "81dc512e-2b92-4191-ade3-7afa10c40d23",
   "metadata": {},
   "source": [
    "### Q: calculate total gene expression\n",
    "- sum time.0 and time.1 along axis=1\n"
   ]
  },
  {
   "cell_type": "code",
   "execution_count": null,
   "id": "027192e2-f506-4ee0-a266-4baf10fe95ea",
   "metadata": {},
   "outputs": [],
   "source": []
  },
  {
   "cell_type": "markdown",
   "id": "2f76a1e4-25ab-4c53-af03-1876505336f9",
   "metadata": {},
   "source": [
    "### Q: how many axes does a series have?\n",
    "- can you confirm your answer?\n"
   ]
  },
  {
   "cell_type": "code",
   "execution_count": null,
   "id": "9dd385b6-7bd5-4af7-b7ac-50fa196dbaef",
   "metadata": {},
   "outputs": [],
   "source": []
  },
  {
   "cell_type": "markdown",
   "id": "32802fda-8e03-4685-8bbd-179eb18d0407",
   "metadata": {},
   "source": [
    "### df.shape"
   ]
  },
  {
   "cell_type": "code",
   "execution_count": null,
   "id": "ebb46234-71f5-4f6c-b939-d4d746731c32",
   "metadata": {},
   "outputs": [],
   "source": [
    "gene_expression_df.shape"
   ]
  },
  {
   "cell_type": "markdown",
   "id": "d01ed390-a73c-42b0-ab27-754ede4dcf50",
   "metadata": {},
   "source": [
    "### df.size\n",
    "- num_rows * num_cols"
   ]
  },
  {
   "cell_type": "code",
   "execution_count": null,
   "id": "9820720e-3c1f-4f94-aed0-a75c84653993",
   "metadata": {},
   "outputs": [],
   "source": [
    "gene_expression_df.size"
   ]
  },
  {
   "cell_type": "markdown",
   "id": "af109d25-0389-4594-97cd-3937b2d81f66",
   "metadata": {},
   "source": [
    "### df.head"
   ]
  },
  {
   "cell_type": "code",
   "execution_count": null,
   "id": "7eca6b56-4754-40e8-a52a-c1f9c683719a",
   "metadata": {},
   "outputs": [],
   "source": [
    "gene_expression_df.head(n=3)"
   ]
  },
  {
   "cell_type": "markdown",
   "id": "86560efb-f4e5-4c16-a7e0-12bfe1448895",
   "metadata": {},
   "source": [
    "### df.empty"
   ]
  },
  {
   "cell_type": "code",
   "execution_count": null,
   "id": "7f894bb0-fa7d-4e29-940d-46c6591b4c91",
   "metadata": {},
   "outputs": [],
   "source": [
    "gene_expression_df.empty"
   ]
  },
  {
   "cell_type": "markdown",
   "id": "52c93736-809b-4dd6-9c31-c1a9458ea7ae",
   "metadata": {},
   "source": [
    "### df.describe"
   ]
  },
  {
   "cell_type": "code",
   "execution_count": null,
   "id": "c7a80561-a14b-467d-969b-90c45176435d",
   "metadata": {},
   "outputs": [],
   "source": [
    "gene_expression_df.describe()"
   ]
  },
  {
   "cell_type": "markdown",
   "id": "52342f2a-45ee-4fac-96e7-97ec8e5d19cb",
   "metadata": {},
   "source": [
    "### DataFrame from a CSV\n",
    "- Read in a very simple genomics CSV file\n",
    "- https://pandas.pydata.org/docs/reference/api/pandas.read_csv.html"
   ]
  },
  {
   "cell_type": "code",
   "execution_count": null,
   "id": "d28d2b24-d166-48ae-a6ba-5d8be5ae8f95",
   "metadata": {},
   "outputs": [],
   "source": [
    "gene_lengths_data = pd.read_csv('simple_geno.txt')"
   ]
  },
  {
   "cell_type": "code",
   "execution_count": null,
   "id": "84bd75ae-417c-42e3-890d-dfe19f395809",
   "metadata": {},
   "outputs": [],
   "source": [
    "gene_lengths_data"
   ]
  },
  {
   "cell_type": "code",
   "execution_count": null,
   "id": "b33c51ab-96f1-42dd-b7b2-b43b44b6ebe7",
   "metadata": {},
   "outputs": [],
   "source": [
    "gene_lengths_data.index = ['gene1', 'gene2', 'gene3', 'gene4']"
   ]
  },
  {
   "cell_type": "code",
   "execution_count": null,
   "id": "23a89f29-ace4-48be-829e-e36b7854f9f9",
   "metadata": {},
   "outputs": [],
   "source": [
    "gene_lengths_data"
   ]
  },
  {
   "cell_type": "markdown",
   "id": "10d832ea-087d-49de-934d-57c163aa3259",
   "metadata": {},
   "source": [
    "### Accessing elements of a dataframe\n",
    "- df.loc\n",
    "- df.iloc"
   ]
  },
  {
   "cell_type": "markdown",
   "id": "258af970-0aec-4071-8348-0384b70c432f",
   "metadata": {},
   "source": [
    "### df.loc"
   ]
  },
  {
   "cell_type": "markdown",
   "id": "0b3ed245-4b6c-490d-bd95-2d6b578a2d15",
   "metadata": {},
   "source": [
    "#### access `gene1` row by label"
   ]
  },
  {
   "cell_type": "code",
   "execution_count": null,
   "id": "6e81e420-4a1a-4f42-8f30-30467de604da",
   "metadata": {},
   "outputs": [],
   "source": [
    "gene_lengths_data.loc['gene1']"
   ]
  },
  {
   "cell_type": "markdown",
   "id": "4b5ca969-07c5-4475-a5b5-204c43b4efd3",
   "metadata": {},
   "source": [
    "#### Q: Will this work: gene_lengths_data.loc[0]?"
   ]
  },
  {
   "cell_type": "code",
   "execution_count": null,
   "id": "45cb975c-db8c-44a8-8273-2275a380d5d7",
   "metadata": {},
   "outputs": [],
   "source": []
  },
  {
   "cell_type": "markdown",
   "id": "ee01d3e3-e289-4a69-abd7-5e8f0765edc2",
   "metadata": {},
   "source": [
    "#### Q: access `gene1` and `gene2` rows by label"
   ]
  },
  {
   "cell_type": "code",
   "execution_count": null,
   "id": "4d605a22-a707-482c-aa69-b0e24a703004",
   "metadata": {},
   "outputs": [],
   "source": [
    "gene_lengths_data.loc[['gene1', 'gene2']]"
   ]
  },
  {
   "cell_type": "markdown",
   "id": "53a49f87-508e-4d51-8154-aeed8a131a36",
   "metadata": {},
   "source": [
    "### get `gene_lengths_kb` output  for `gene1`"
   ]
  },
  {
   "cell_type": "code",
   "execution_count": null,
   "id": "f5265cbf-1bcb-4292-8a59-ce9832b2fa89",
   "metadata": {},
   "outputs": [],
   "source": [
    "gene_lengths_data"
   ]
  },
  {
   "cell_type": "code",
   "execution_count": null,
   "id": "ab13531a-486e-4e85-a4d3-fb85a849db9f",
   "metadata": {},
   "outputs": [],
   "source": [
    "gene_lengths_data.loc['gene1']['gene_lengths_kb']"
   ]
  },
  {
   "cell_type": "markdown",
   "id": "1d8cdb84-1a74-4ad0-84e1-cc0769a62d01",
   "metadata": {},
   "source": [
    "#### Q: get `gene_lengths_kb` output  for `BRCA1`"
   ]
  },
  {
   "cell_type": "code",
   "execution_count": null,
   "id": "ce9fc635-f933-4528-9bca-aad9d907225f",
   "metadata": {},
   "outputs": [],
   "source": [
    "gene_lengths_data[gene_lengths_data['gene_name'] == 'BRCA1']['gene_lengths_kb']"
   ]
  },
  {
   "cell_type": "code",
   "execution_count": null,
   "id": "05c537a6-5bf1-4a5b-ac12-6da36f046e17",
   "metadata": {},
   "outputs": [],
   "source": [
    "gene_lengths_data[gene_lengths_data['gene_name'] == 'BRCA1'].loc['gene1']['gene_lengths_kb']"
   ]
  },
  {
   "cell_type": "markdown",
   "id": "2b56fcc0-e818-49ba-a47d-ebb5e6850e68",
   "metadata": {},
   "source": [
    "#### access gene_lengths_kb column "
   ]
  },
  {
   "cell_type": "code",
   "execution_count": null,
   "id": "18d64bc6-4d78-4b57-8c1b-333a0f688317",
   "metadata": {},
   "outputs": [],
   "source": [
    "gene_lengths_data['gene_lengths_kb']"
   ]
  },
  {
   "cell_type": "code",
   "execution_count": null,
   "id": "41cc5027-aa75-47b9-9d5a-9872b86e404e",
   "metadata": {},
   "outputs": [],
   "source": [
    "gene_lengths_data['gene_lengths_kb'][2:]"
   ]
  },
  {
   "cell_type": "code",
   "execution_count": null,
   "id": "206c8e3a-ef44-43d4-984e-cc94acc66ec3",
   "metadata": {},
   "outputs": [],
   "source": [
    "gene_lengths_data['gene_lengths_kb'][-2:]"
   ]
  },
  {
   "cell_type": "markdown",
   "id": "b1dc3efb-3d9f-41fe-9f58-a4433048888a",
   "metadata": {},
   "source": [
    "### access df column as an attribute"
   ]
  },
  {
   "cell_type": "code",
   "execution_count": null,
   "id": "1d32e119-1362-4551-987d-b263bae6290e",
   "metadata": {},
   "outputs": [],
   "source": [
    "gene_lengths_data.columns"
   ]
  },
  {
   "cell_type": "code",
   "execution_count": null,
   "id": "7269f636-db35-471b-9967-dbd11cf82dad",
   "metadata": {},
   "outputs": [],
   "source": [
    "# access column as an attribute\n",
    "gene_lengths_data.gene_lengths_kb"
   ]
  },
  {
   "cell_type": "markdown",
   "id": "779bf2cf-4bf3-4cac-a5c6-0437cdb0618f",
   "metadata": {},
   "source": [
    "### df.iloc"
   ]
  },
  {
   "cell_type": "code",
   "execution_count": null,
   "id": "09babc72-54a5-4e5e-b6f5-baa31b266572",
   "metadata": {},
   "outputs": [],
   "source": [
    "gene_lengths_data"
   ]
  },
  {
   "cell_type": "code",
   "execution_count": null,
   "id": "b88d7091-7648-4dec-b5ec-e74021dd55f8",
   "metadata": {},
   "outputs": [],
   "source": [
    "gene_lengths_data.iloc[0]"
   ]
  },
  {
   "cell_type": "code",
   "execution_count": null,
   "id": "e94ea8db-e793-45cf-b88f-fa436cd8bc34",
   "metadata": {},
   "outputs": [],
   "source": [
    "gene_lengths_data.iloc[0]['gene_lengths_kb']"
   ]
  },
  {
   "cell_type": "code",
   "execution_count": null,
   "id": "ce74210e-1690-4065-8f35-a4e7aeb4a566",
   "metadata": {},
   "outputs": [],
   "source": [
    "gene_lengths_data.iloc[3]['gene_lengths_kb']"
   ]
  },
  {
   "cell_type": "code",
   "execution_count": null,
   "id": "33ee92dc-da2d-40ed-a651-49d17a258da7",
   "metadata": {},
   "outputs": [],
   "source": [
    "gene_lengths_data.iloc[0]['gene_name']"
   ]
  },
  {
   "cell_type": "markdown",
   "id": "35cd15c7-62bb-4082-965d-4977523f2e9b",
   "metadata": {},
   "source": [
    "## other operators\n",
    "- df.at[row, col] (label based)\n",
    "- df.iat[row, col] (integer based)"
   ]
  },
  {
   "cell_type": "markdown",
   "id": "73a83c2f-719d-484c-af7d-22380ec807d4",
   "metadata": {},
   "source": [
    "#### df.at "
   ]
  },
  {
   "cell_type": "code",
   "execution_count": null,
   "id": "6c826a98-9631-4fc3-9db7-59ffc12ccb68",
   "metadata": {},
   "outputs": [],
   "source": [
    "gene_lengths_data.at['gene1', 'gene_name']"
   ]
  },
  {
   "cell_type": "code",
   "execution_count": null,
   "id": "6ae62b9f-bde6-440c-b837-e24a93383ec4",
   "metadata": {},
   "outputs": [],
   "source": [
    "gene_lengths_data.at['gene4', 'gene_name']"
   ]
  },
  {
   "cell_type": "code",
   "execution_count": null,
   "id": "b7790c0e-f9e7-4a31-a787-8bd213a98eb0",
   "metadata": {},
   "outputs": [],
   "source": [
    "gene_lengths_data.at['gene2', 'gene_lengths_kb']"
   ]
  },
  {
   "cell_type": "markdown",
   "id": "ea8c9790-e07a-425d-9c28-2b0bcb63e245",
   "metadata": {},
   "source": [
    "#### get gene length of `BRCA1`"
   ]
  },
  {
   "cell_type": "code",
   "execution_count": null,
   "id": "7da6e895-b143-46d9-a118-07e1892229db",
   "metadata": {},
   "outputs": [],
   "source": [
    "gene_lengths_data"
   ]
  },
  {
   "cell_type": "code",
   "execution_count": null,
   "id": "a53d325c-488e-483c-af25-1ea9aefe4831",
   "metadata": {},
   "outputs": [],
   "source": [
    "indexname = gene_lengths_data[gene_lengths_data['gene_name'] == 'BRCA1'].index[0]\n",
    "colname = 'gene_lengths_kb'\n",
    "gene_lengths_data.at[indexname, colname]"
   ]
  },
  {
   "cell_type": "markdown",
   "id": "7468f205-e7b3-46df-a398-3d7f977c98f8",
   "metadata": {},
   "source": [
    "### Q: will the following work?"
   ]
  },
  {
   "cell_type": "code",
   "execution_count": null,
   "id": "34ddd674-b7ac-43b7-a7e2-85b476838454",
   "metadata": {},
   "outputs": [],
   "source": [
    "# gene_lengths_data.at['gene2', : ]"
   ]
  },
  {
   "cell_type": "code",
   "execution_count": null,
   "id": "19d7203a-0657-450d-b85c-7e6ab441a0ea",
   "metadata": {},
   "outputs": [],
   "source": []
  },
  {
   "cell_type": "markdown",
   "id": "dcfd5ab6-6d73-4416-b497-2f7ed6fc15f0",
   "metadata": {},
   "source": [
    "### df.iat[integer, integer]\n",
    "- this is analogous to .iloc"
   ]
  },
  {
   "cell_type": "code",
   "execution_count": null,
   "id": "b18ac6e1-8e98-47b8-b9f3-885cebfa1ad0",
   "metadata": {},
   "outputs": [],
   "source": [
    "gene_lengths_data.iat[0, 1]"
   ]
  },
  {
   "cell_type": "code",
   "execution_count": null,
   "id": "843b04bd-750f-4e8f-9866-e40c862cb164",
   "metadata": {},
   "outputs": [],
   "source": [
    "gene_lengths_data.iat[0, 0]"
   ]
  },
  {
   "cell_type": "markdown",
   "id": "05b83780-6317-4bc7-b609-0a8b3f651577",
   "metadata": {},
   "source": [
    "### Q: will this work?"
   ]
  },
  {
   "cell_type": "code",
   "execution_count": null,
   "id": "04dda9f2-fc9c-4447-97f1-b73bc429d761",
   "metadata": {},
   "outputs": [],
   "source": [
    "# gene_lengths_data.iat[:3, 0]"
   ]
  },
  {
   "cell_type": "code",
   "execution_count": null,
   "id": "a62895e0-b4b9-456f-b122-283ff5550841",
   "metadata": {},
   "outputs": [],
   "source": []
  },
  {
   "cell_type": "markdown",
   "id": "bdeff3a7-dc7e-4f5f-a6ab-cb9348492b9e",
   "metadata": {},
   "source": [
    "### Looping and aggregation"
   ]
  },
  {
   "cell_type": "markdown",
   "id": "8806643a-e1ed-40b2-a70f-2d85391a14c2",
   "metadata": {},
   "source": [
    "#### apply and other methods: \n",
    "- Data standardization:\n",
    "- Scale the data in each numeric column to have a mean of 0 and stddev of 1\n",
    "- calculate the mean and stddev for each column\n",
    "- subtract the mean and divide the result by the stddev"
   ]
  },
  {
   "cell_type": "code",
   "execution_count": null,
   "id": "2d945822-6d8e-42e9-9466-ace2f7f9aaaf",
   "metadata": {},
   "outputs": [],
   "source": [
    "gene_expression_df"
   ]
  },
  {
   "cell_type": "code",
   "execution_count": null,
   "id": "e70768c2-54dc-45a1-b05b-df591df46979",
   "metadata": {},
   "outputs": [],
   "source": [
    "gene_expression_df_numeric = gene_expression_df.select_dtypes(include=['int64'])"
   ]
  },
  {
   "cell_type": "code",
   "execution_count": null,
   "id": "cc23dc36-563e-4911-ab23-49ac66a74098",
   "metadata": {},
   "outputs": [],
   "source": [
    "gene_expression_df_numeric"
   ]
  },
  {
   "cell_type": "code",
   "execution_count": null,
   "id": "088071c2-a5c3-4e6f-bd7b-74fd538aa0ed",
   "metadata": {},
   "outputs": [],
   "source": [
    "# boolean indexing using .loc\n",
    "gene_expression_df_numeric.loc['BRCA2'] > 4"
   ]
  },
  {
   "cell_type": "code",
   "execution_count": null,
   "id": "5f4a3ec5-20c6-44de-93de-5fb0e9019e68",
   "metadata": {},
   "outputs": [],
   "source": [
    "gene_expression_df_numeric.mean()"
   ]
  },
  {
   "cell_type": "code",
   "execution_count": null,
   "id": "52bb52c3-0450-4bd3-8495-06e3f2bde270",
   "metadata": {},
   "outputs": [],
   "source": [
    "gene_expression_df_numeric.std()"
   ]
  },
  {
   "cell_type": "code",
   "execution_count": null,
   "id": "e5d1e4d3-e986-4431-b302-3a610b840fa1",
   "metadata": {},
   "outputs": [],
   "source": [
    "(gene_expression_df_numeric - gene_expression_df_numeric.mean())/gene_expression_df_numeric.std()"
   ]
  },
  {
   "cell_type": "code",
   "execution_count": null,
   "id": "6bb07bc8-ab0a-452a-a4b2-ffe3285a1131",
   "metadata": {},
   "outputs": [],
   "source": [
    "gene_expression_df_numeric.apply(\n",
    "    lambda row: (row - gene_expression_df_numeric.mean())/gene_expression_df_numeric.std(), axis=1\n",
    ")"
   ]
  },
  {
   "cell_type": "markdown",
   "id": "d6c22c60-e0b3-41f9-a296-44579230fd2c",
   "metadata": {},
   "source": [
    "### Other useful functions"
   ]
  },
  {
   "cell_type": "markdown",
   "id": "4eba12d8-6db6-4de6-b95c-08f6a1089b32",
   "metadata": {},
   "source": [
    "#### filter operations\n",
    "- dropna\n",
    "- fillna"
   ]
  },
  {
   "cell_type": "code",
   "execution_count": null,
   "id": "780143d2-92c7-4876-83d4-7193cd661d69",
   "metadata": {},
   "outputs": [],
   "source": [
    "filter_result_df = gene_expression_df_numeric[\n",
    "(gene_expression_df_numeric > 3) & (gene_expression_df_numeric < 6)\n",
    "]"
   ]
  },
  {
   "cell_type": "code",
   "execution_count": null,
   "id": "e6f25aa0-8a21-49c6-951a-1ee2eb8940fb",
   "metadata": {},
   "outputs": [],
   "source": [
    "filter_result_df"
   ]
  },
  {
   "cell_type": "code",
   "execution_count": null,
   "id": "f8b96116-51f8-4610-9c6f-52be8bfe0ed4",
   "metadata": {},
   "outputs": [],
   "source": [
    "# drop rows with missing values\n",
    "filter_result_df.dropna(axis=0)"
   ]
  },
  {
   "cell_type": "code",
   "execution_count": null,
   "id": "1c39514b-f641-419a-9176-e104b74945ba",
   "metadata": {},
   "outputs": [],
   "source": [
    "# drop columns with missing values\n",
    "filter_result_df.dropna(axis=1)"
   ]
  },
  {
   "cell_type": "code",
   "execution_count": null,
   "id": "c6362767-3092-45f4-a3f9-0be2390281cd",
   "metadata": {},
   "outputs": [],
   "source": [
    "filter_result_df.fillna(value=0,axis=0)"
   ]
  },
  {
   "cell_type": "code",
   "execution_count": null,
   "id": "ac3a767c-c559-4b5b-ac0c-5df98cb2025c",
   "metadata": {},
   "outputs": [],
   "source": [
    "filter_result_df.fillna(value=0,axis=1)"
   ]
  },
  {
   "cell_type": "markdown",
   "id": "9a5c9459-f3de-4c32-b924-df2edb402345",
   "metadata": {},
   "source": [
    "## Groupby, melting, stacking"
   ]
  },
  {
   "cell_type": "markdown",
   "id": "17c8c63d-f916-4d1f-8c79-e8684cf51730",
   "metadata": {},
   "source": [
    "### groupby"
   ]
  },
  {
   "cell_type": "code",
   "execution_count": null,
   "id": "cf86bb3a-bf55-4200-83eb-437d935b902f",
   "metadata": {},
   "outputs": [],
   "source": [
    "gene_expression_df"
   ]
  },
  {
   "cell_type": "code",
   "execution_count": null,
   "id": "28d2a921-c26d-4071-9f38-1f187b8f0b6e",
   "metadata": {},
   "outputs": [],
   "source": [
    "gene_expression_df['gene_type'] = ['coding'] * 4"
   ]
  },
  {
   "cell_type": "code",
   "execution_count": null,
   "id": "cb39e55a-1f35-4b6f-8afc-e4d9f095634d",
   "metadata": {},
   "outputs": [],
   "source": [
    "gene_expression_df"
   ]
  },
  {
   "cell_type": "code",
   "execution_count": null,
   "id": "673b8aaf-0f70-4560-9cf9-b96117310abf",
   "metadata": {},
   "outputs": [],
   "source": [
    "non_coding_df = pd.DataFrame({\n",
    "    'mirna123': [np.nan, np.nan, 'micro rna 123', 'non-coding'],\n",
    "    'mirna456': [np.nan, np.nan, 'micro rna 456', 'non-coding'],\n",
    "    'lncRNA1': [np.nan, np.nan, 'long non-coding rna 1', 'non-coding'],\n",
    "}).T"
   ]
  },
  {
   "cell_type": "code",
   "execution_count": null,
   "id": "804b7419-5b56-47f0-8698-111688e8c9d3",
   "metadata": {},
   "outputs": [],
   "source": [
    "non_coding_df"
   ]
  },
  {
   "cell_type": "code",
   "execution_count": null,
   "id": "8b9a3bf9-0ad7-4714-8f5c-fe8d22266f5d",
   "metadata": {},
   "outputs": [],
   "source": [
    "non_coding_df.columns=['time.0', 'time.1', 'gene_desc', 'gene_type']"
   ]
  },
  {
   "cell_type": "code",
   "execution_count": null,
   "id": "207b4da7-0c88-48e0-864a-0ab5664a7390",
   "metadata": {},
   "outputs": [],
   "source": [
    "non_coding_df"
   ]
  },
  {
   "cell_type": "markdown",
   "id": "73d78e50-ea25-4493-acaf-58a7e78e7a65",
   "metadata": {},
   "source": [
    "#### pd.concat \n",
    "- stack dataframes on top of one another (or next to each other)\n",
    "- default is axis=0 (stack on top of one another)\n",
    "- axis=1 (stack next to each other)"
   ]
  },
  {
   "cell_type": "code",
   "execution_count": null,
   "id": "1b923e65-cba1-4cfb-a305-f662701da868",
   "metadata": {},
   "outputs": [],
   "source": [
    "pd.concat([gene_expression_df, non_coding_df])"
   ]
  },
  {
   "cell_type": "code",
   "execution_count": null,
   "id": "240973a2-1b5c-4bd7-b23c-e3182235811e",
   "metadata": {},
   "outputs": [],
   "source": [
    "pd.concat([gene_expression_df, non_coding_df], axis=1)"
   ]
  },
  {
   "cell_type": "code",
   "execution_count": null,
   "id": "001a1241-6232-453a-8f79-27316b1d770f",
   "metadata": {},
   "outputs": [],
   "source": [
    "groupby_df = pd.concat([gene_expression_df, non_coding_df])"
   ]
  },
  {
   "cell_type": "code",
   "execution_count": null,
   "id": "65f0a90e-9dc4-459f-aaff-c1919a2aa41d",
   "metadata": {},
   "outputs": [],
   "source": [
    "groupby_df"
   ]
  },
  {
   "cell_type": "code",
   "execution_count": null,
   "id": "20d751ca-5076-4d90-be04-0ef289fef2da",
   "metadata": {},
   "outputs": [],
   "source": [
    "groupby_df.groupby('gene_type')"
   ]
  },
  {
   "cell_type": "code",
   "execution_count": null,
   "id": "e90a9214-84a0-4ebb-a7c9-47e4f99c8cec",
   "metadata": {},
   "outputs": [],
   "source": [
    "groupby_df.groupby('gene_type')['time.0'].mean()"
   ]
  },
  {
   "cell_type": "code",
   "execution_count": null,
   "id": "96602df4-9e14-41d1-ac7e-32f49c803645",
   "metadata": {},
   "outputs": [],
   "source": [
    "groupby_df.groupby('gene_type')['time.1'].mean()"
   ]
  },
  {
   "cell_type": "code",
   "execution_count": null,
   "id": "ec8b5d60-dc33-4df0-af54-d7f4248d8b30",
   "metadata": {},
   "outputs": [],
   "source": [
    "groupby_df.groupby('gene_type').count()"
   ]
  },
  {
   "cell_type": "code",
   "execution_count": null,
   "id": "1c41f23e-410d-42fb-be19-f6014a0b5358",
   "metadata": {},
   "outputs": [],
   "source": [
    "groupby_df.groupby('gene_type').gene_desc.count()"
   ]
  },
  {
   "cell_type": "code",
   "execution_count": null,
   "id": "6370a67e-ff3b-4a3a-9841-e88b2ef21696",
   "metadata": {},
   "outputs": [],
   "source": [
    "groupby_df.groupby('gene_type')['time.0'].agg(['mean', 'min', 'max'])"
   ]
  },
  {
   "cell_type": "code",
   "execution_count": null,
   "id": "dff329da-481d-4284-a432-b3a97071ac6a",
   "metadata": {},
   "outputs": [],
   "source": [
    "groupby_df.groupby('gene_type')['time.0'].count()"
   ]
  },
  {
   "cell_type": "markdown",
   "id": "f85f8b95-72bc-4b3a-86bd-5fd549a2ad07",
   "metadata": {},
   "source": [
    "### named aggregations in groupby"
   ]
  },
  {
   "cell_type": "code",
   "execution_count": null,
   "id": "3c526467-14bb-4386-9dca-6f2713159647",
   "metadata": {},
   "outputs": [],
   "source": [
    "groupby_df.groupby('gene_type').agg(\n",
    "    mean_time_0=('time.0','mean'),\n",
    "    min_time_0=('time.0', 'min'),\n",
    "    max_time_0=('time.0', 'max')\n",
    ")"
   ]
  },
  {
   "cell_type": "markdown",
   "id": "fc5ee737-0361-4432-b5e2-f59027d216a9",
   "metadata": {},
   "source": [
    "### df.melt\n",
    "- reshape a dataframe for analysis or plotting purposes\n",
    "- transform a df from a wide format to a long format\n",
    "- fixed columns specified by `id_vars`\n",
    "- columns to melt specified by `value_vars`"
   ]
  },
  {
   "cell_type": "code",
   "execution_count": null,
   "id": "5859fb06-0c34-408a-a1a5-9ae7753b7d67",
   "metadata": {},
   "outputs": [],
   "source": [
    "groupby_df"
   ]
  },
  {
   "cell_type": "markdown",
   "id": "c3aacd93-0eb7-4426-b1cd-bb69b591a8e6",
   "metadata": {},
   "source": [
    "### melt dataframe by \n",
    "- gene expression at time points 0 and 1\n",
    "- retain index (gene_name), gene_desc and gene_type as fixed"
   ]
  },
  {
   "cell_type": "code",
   "execution_count": null,
   "id": "b25b94b6-2be1-4892-98b1-63092bcfbd52",
   "metadata": {},
   "outputs": [],
   "source": [
    "df_to_melt = groupby_df.reset_index().rename(columns={'index':'gene_name'})"
   ]
  },
  {
   "cell_type": "code",
   "execution_count": null,
   "id": "618a8cdc-40e8-4248-a4e3-fbfd2a413cd7",
   "metadata": {},
   "outputs": [],
   "source": [
    "df_to_melt"
   ]
  },
  {
   "cell_type": "code",
   "execution_count": null,
   "id": "edd00a18-2b06-401a-9bb9-d1f0adeb1179",
   "metadata": {},
   "outputs": [],
   "source": [
    "df_to_melt.melt(id_vars=['gene_name','gene_type', 'gene_desc'],\n",
    "                value_vars=['time.0', 'time.1']\n",
    "               )"
   ]
  },
  {
   "cell_type": "code",
   "execution_count": null,
   "id": "0670aa1a-b3db-44f3-9320-5724b5dd43aa",
   "metadata": {},
   "outputs": [],
   "source": [
    "df_to_melt.melt(id_vars=['gene_name','gene_type', 'gene_desc'],\n",
    "                value_vars=['time.0', 'time.1']\n",
    "               ).rename(columns={'variable': 'time_points',\n",
    "                                'value': 'expression_value'\n",
    "                                })"
   ]
  },
  {
   "cell_type": "markdown",
   "id": "252b88ba-2b47-48cb-9eca-ecc878a2b3df",
   "metadata": {},
   "source": [
    "### stacking\n",
    "- pd.concat"
   ]
  },
  {
   "cell_type": "code",
   "execution_count": null,
   "id": "8f7a6b14-7c74-4869-b855-6b468abc199b",
   "metadata": {},
   "outputs": [],
   "source": []
  },
  {
   "cell_type": "markdown",
   "id": "da028dd9-b422-43bd-a40c-9fe3532d6f66",
   "metadata": {},
   "source": [
    "### other pandas functions to review\n",
    "- df.iterrows\n",
    "- df.itertuples\n",
    "- df.duplicated\n",
    "- df.mask\n",
    "- df.dropduplicates\n",
    "- df.nunique\n",
    "- df.sort_values\n",
    "- https://pandas.pydata.org/docs/reference/frame.html on the left"
   ]
  },
  {
   "cell_type": "markdown",
   "id": "aa9b635e-fc56-4852-9e1b-31a04bf33d4a",
   "metadata": {},
   "source": [
    "# Collaborative Exercises"
   ]
  },
  {
   "cell_type": "markdown",
   "id": "2060aae3-01b9-47cb-9de4-5ac2ffe9e7b3",
   "metadata": {},
   "source": [
    "### Exercise 1\n",
    "- Construct a toy EEG signal dataset and normalize it to scale the data between 0 and 1\n",
    "- Your dataset should have 5 simulated signals recorded in microvolts for 5 different electrodes\n",
    "```\n",
    "electrode1: [100, 90, 75, 10, 20]\n",
    "electrode2: [150, 85, 75, 45, 60]\n",
    "....\n",
    "```\n",
    "- You can choose to implement Min-max normalization using\n",
    "  `Xnorm = (X - Xmin)/(Xmax - Xmin)`,  where X = df\n",
    "- Explain results, and why you would want to normalize the data"
   ]
  },
  {
   "cell_type": "code",
   "execution_count": null,
   "id": "22e9ec6e-1e22-4702-b809-cff9df1609de",
   "metadata": {},
   "outputs": [],
   "source": []
  },
  {
   "cell_type": "markdown",
   "id": "950dab09-e379-4d89-82a6-0a96fffff205",
   "metadata": {},
   "source": [
    "### Exercise 2\n",
    "- Build a toy brain MRI metadata dataset from 20 patients\n",
    "- 10 patients are control, 10 have alzheimers diagnosis (n=20 rows)\n",
    "- You will write this data to a file in CSV format \n",
    "- Introduce duplicate rows and nan values\n",
    "- See example structure below:\n",
    "\n",
    "```\n",
    "subject_id,subject_age,brain_volume_mm3,hippocampus_volume_mm3,diagnosis\n",
    "1,55,2200000,3500,Control\n",
    "2,75,1100000,np.nan,alzheimers\n",
    "3,65,100000,1800,alzheimers\n",
    "4,45,np.nan,3280,Control\n",
    "....\n",
    "```\n",
    "- Load this data in a pandas dataframe\n",
    "- drop duplicates (test by row and column), and explain which method you prefer\n",
    "- find the nan values and fill them with the mean of the corresponding column\n",
    "- add an additional column for APOE4 status which predicts the risk for alzheimers disease (two values: [positive, negative])\n",
    "- what is the mean age by diagnosis type? \n",
    "- how many distinct values are there for a combination of APOE4 status and diagnosis?\n"
   ]
  },
  {
   "cell_type": "code",
   "execution_count": null,
   "id": "678f6261-872a-4a36-b0ec-0abdf40d5fbc",
   "metadata": {},
   "outputs": [],
   "source": []
  }
 ],
 "metadata": {
  "kernelspec": {
   "display_name": "Python 3.12.7",
   "language": "python",
   "name": "venv_3.12.7"
  },
  "language_info": {
   "codemirror_mode": {
    "name": "ipython",
    "version": 3
   },
   "file_extension": ".py",
   "mimetype": "text/x-python",
   "name": "python",
   "nbconvert_exporter": "python",
   "pygments_lexer": "ipython3",
   "version": "3.12.7"
  }
 },
 "nbformat": 4,
 "nbformat_minor": 5
}
