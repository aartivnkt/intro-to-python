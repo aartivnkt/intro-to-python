{
 "cells": [
  {
   "cell_type": "markdown",
   "id": "7d3008e0-e79d-43d3-8814-1bab0c5afbc5",
   "metadata": {},
   "source": [
    "# worksheet 9: Pandas DataFrames (contd)\n"
   ]
  },
  {
   "cell_type": "code",
   "execution_count": null,
   "id": "65ad1354-465a-47bc-8459-448759da173a",
   "metadata": {},
   "outputs": [],
   "source": [
    "import pandas as pd\n",
    "import numpy as np"
   ]
  },
  {
   "cell_type": "markdown",
   "id": "3c5c7bc6-6d80-4ba1-9cbd-fed0b8b51891",
   "metadata": {},
   "source": [
    "### Create `gene_expression_df`"
   ]
  },
  {
   "cell_type": "code",
   "execution_count": null,
   "id": "e574e3c5-9fde-4236-bd98-53a19043cfc4",
   "metadata": {},
   "outputs": [],
   "source": [
    "expression_dict = {\n",
    "    'BRCA1': [2, 3],\n",
    "    'BRCA2': [4, 5],\n",
    "    'SMAD2': [4, 5],\n",
    "    'TTN': [5, 6]\n",
    "}"
   ]
  },
  {
   "cell_type": "code",
   "execution_count": null,
   "id": "28795524-0297-499a-85e5-8f1f03d5362f",
   "metadata": {},
   "outputs": [],
   "source": [
    "gene_expression_df = pd.DataFrame(\n",
    "    expression_dict,\n",
    "    index=['time.0', 'time.1']\n",
    ")"
   ]
  },
  {
   "cell_type": "code",
   "execution_count": null,
   "id": "52d23408-23d1-43c9-bb10-313635aae17c",
   "metadata": {},
   "outputs": [],
   "source": [
    "gene_expression_df"
   ]
  },
  {
   "cell_type": "code",
   "execution_count": null,
   "id": "1141cac9-5d39-419a-8d07-2ad9875f32a0",
   "metadata": {},
   "outputs": [],
   "source": [
    "gene_expression_df = gene_expression_df.T"
   ]
  },
  {
   "cell_type": "code",
   "execution_count": null,
   "id": "db90c946-e2c2-48fd-96cb-f1b31f40f720",
   "metadata": {},
   "outputs": [],
   "source": [
    "gene_expression_df"
   ]
  },
  {
   "cell_type": "markdown",
   "id": "e3b0803b-c1f5-4321-9c31-713856c8d175",
   "metadata": {},
   "source": [
    "### Looping and aggregation\n",
    "- apply functions on different axes\n",
    "- std functions (log, exp)\n",
    "- custom functions"
   ]
  },
  {
   "cell_type": "code",
   "execution_count": null,
   "id": "ac24a574-8545-4b6c-9130-7cfceb9be620",
   "metadata": {},
   "outputs": [],
   "source": [
    "gene_expression_df.apply(np.log)"
   ]
  },
  {
   "cell_type": "code",
   "execution_count": null,
   "id": "6062f191-00a1-4e18-bd05-c6e97053df5c",
   "metadata": {},
   "outputs": [],
   "source": [
    "gene_expression_df.apply(np.exp)"
   ]
  },
  {
   "cell_type": "markdown",
   "id": "15088bf1-f7a1-4a12-9c06-92046407054a",
   "metadata": {},
   "source": [
    "### custom functions with apply"
   ]
  },
  {
   "cell_type": "code",
   "execution_count": null,
   "id": "13451f9b-28e1-4dbd-893a-56c58bea17bd",
   "metadata": {},
   "outputs": [],
   "source": [
    "gene_expression_df.apply(\n",
    "    lambda x: x + 2, axis=1\n",
    ")"
   ]
  },
  {
   "cell_type": "code",
   "execution_count": null,
   "id": "ff40404a-ecbb-4908-b9e8-fae95deca2c2",
   "metadata": {},
   "outputs": [],
   "source": [
    "gene_expression_df.apply(\n",
    "    lambda x: x + 2, axis=0\n",
    ")"
   ]
  },
  {
   "cell_type": "code",
   "execution_count": null,
   "id": "f83d48f0-e087-4a44-b9bb-f57a275c0dfe",
   "metadata": {},
   "outputs": [],
   "source": [
    "gene_expression_df.apply(\n",
    "    lambda x: print(x), axis=0\n",
    ")"
   ]
  },
  {
   "cell_type": "code",
   "execution_count": null,
   "id": "2a5fb357-7b18-44ba-bd42-33bfd5073d5e",
   "metadata": {},
   "outputs": [],
   "source": [
    "gene_expression_df.apply(\n",
    "    lambda x: print(x), axis=1\n",
    ")"
   ]
  },
  {
   "cell_type": "markdown",
   "id": "88645076-0898-4ee1-a94f-faceb1bf205b",
   "metadata": {},
   "source": [
    "### sum across the columns"
   ]
  },
  {
   "cell_type": "code",
   "execution_count": null,
   "id": "2d6b64bf-2a7e-4a5a-accf-8e6a66450554",
   "metadata": {},
   "outputs": [],
   "source": [
    "gene_expression_df.apply(\n",
    "    lambda x: x['time.0'] + x['time.1'], axis=1\n",
    ")"
   ]
  },
  {
   "cell_type": "code",
   "execution_count": null,
   "id": "838e2fdd-ad46-45dd-abaa-4c092442151d",
   "metadata": {},
   "outputs": [],
   "source": [
    "gene_expression_df.apply(sum, axis=1)"
   ]
  },
  {
   "cell_type": "code",
   "execution_count": null,
   "id": "e59824fc-dda8-4d54-af19-881ba8406af8",
   "metadata": {},
   "outputs": [],
   "source": [
    "gene_expression_df.sum(axis=1)"
   ]
  },
  {
   "cell_type": "markdown",
   "id": "ff41a339-8a21-4a0b-939f-e4fe2f4b4799",
   "metadata": {},
   "source": [
    "### sum down the rows"
   ]
  },
  {
   "cell_type": "code",
   "execution_count": null,
   "id": "ef0bad8e-97a2-448c-9605-fe715f5a2e5b",
   "metadata": {},
   "outputs": [],
   "source": [
    "gene_expression_df.sum(axis=0)"
   ]
  },
  {
   "cell_type": "markdown",
   "id": "0485a249-675d-4a0a-afde-db474e614959",
   "metadata": {},
   "source": [
    "### Q: How is this different from running apply on a series?"
   ]
  },
  {
   "cell_type": "code",
   "execution_count": null,
   "id": "b6a56c52-4c6d-4479-993e-e72ce5010687",
   "metadata": {},
   "outputs": [],
   "source": [
    "gene_expression_df['time.0']"
   ]
  },
  {
   "cell_type": "code",
   "execution_count": null,
   "id": "55cf07b6-e1af-4b2c-a53f-2478e9352c87",
   "metadata": {},
   "outputs": [],
   "source": [
    "gene_expression_df['time.0'].apply(np.log)"
   ]
  },
  {
   "cell_type": "code",
   "execution_count": null,
   "id": "a0c4e0bd-ab45-4c40-b541-5d0a694ff4aa",
   "metadata": {},
   "outputs": [],
   "source": [
    "gene_expression_df['time.0'].apply(lambda x: print(x))"
   ]
  },
  {
   "cell_type": "code",
   "execution_count": null,
   "id": "f7599d0b-926b-4f2c-b452-0c7022306092",
   "metadata": {},
   "outputs": [],
   "source": [
    "gene_expression_df['time.0'].sum()"
   ]
  },
  {
   "cell_type": "code",
   "execution_count": null,
   "id": "783213b8-084a-45b8-b2c1-8e8a69602f70",
   "metadata": {},
   "outputs": [],
   "source": [
    "gene_expression_df['time.0'].sum(axis=0)"
   ]
  },
  {
   "cell_type": "markdown",
   "id": "1c250109-cd68-4b40-8f88-5832ff1e179a",
   "metadata": {},
   "source": [
    "### Q: Will the following work?\n"
   ]
  },
  {
   "cell_type": "code",
   "execution_count": null,
   "id": "723ff676-07b6-47ca-a996-bdd85cd98d22",
   "metadata": {},
   "outputs": [],
   "source": [
    "# gene_expression_df['time.0'].apply(lambda x: print(x), axis=1)"
   ]
  },
  {
   "cell_type": "markdown",
   "id": "cf913eac-00f4-4241-8d2a-13ce3e93ac79",
   "metadata": {},
   "source": [
    "### Q: How about the following?"
   ]
  },
  {
   "cell_type": "code",
   "execution_count": null,
   "id": "5f181f47-9a5d-4ebe-a604-750ef3c6f47b",
   "metadata": {},
   "outputs": [],
   "source": [
    "# gene_expression_df['time.0'].sum(axis=1)"
   ]
  },
  {
   "cell_type": "code",
   "execution_count": null,
   "id": "c09d51a5-3f4f-4e3d-b060-632dd1fb5c1c",
   "metadata": {},
   "outputs": [],
   "source": []
  },
  {
   "cell_type": "markdown",
   "id": "c8dd4d43-dd4c-4edf-a13a-6365eff8d508",
   "metadata": {},
   "source": [
    "## Groupby, melting, stacking\n",
    "- pd.concat (stacking)"
   ]
  },
  {
   "cell_type": "code",
   "execution_count": null,
   "id": "887926b8-7b51-4225-a37c-327a99ec098c",
   "metadata": {},
   "outputs": [],
   "source": [
    "gene_expression_df"
   ]
  },
  {
   "cell_type": "code",
   "execution_count": null,
   "id": "a0185bfd-2ce5-47c3-8ec9-25d0b7484436",
   "metadata": {},
   "outputs": [],
   "source": [
    "gene_expression_df['gene_type'] = ['coding'] * 4"
   ]
  },
  {
   "cell_type": "code",
   "execution_count": null,
   "id": "bfa13a65-24c6-404e-bbe8-f34eea64997f",
   "metadata": {},
   "outputs": [],
   "source": [
    "gene_expression_df['gene_len_bp'] = [2000, 4000, 4000, 5000]"
   ]
  },
  {
   "cell_type": "code",
   "execution_count": null,
   "id": "a86c3a0c-7690-4d82-b163-455cc1df216b",
   "metadata": {},
   "outputs": [],
   "source": [
    "gene_expression_df"
   ]
  },
  {
   "cell_type": "code",
   "execution_count": null,
   "id": "91a8a81f-2c9e-4edc-86d8-6d62aff24b56",
   "metadata": {},
   "outputs": [],
   "source": [
    "non_coding_df = pd.DataFrame({\n",
    "    'mirna123': [np.nan, np.nan, 'non-coding', 22],\n",
    "    'mirna456': [np.nan, np.nan, 'non-coding', 25],\n",
    "    'lncRNA1': [np.nan, np.nan, 'non-coding', 500],\n",
    "}).T"
   ]
  },
  {
   "cell_type": "code",
   "execution_count": null,
   "id": "c9a185b7-cd92-4805-a822-ebea456e8598",
   "metadata": {},
   "outputs": [],
   "source": [
    "non_coding_df.columns=['time.0', 'time.1','gene_type', 'gene_len_bp']"
   ]
  },
  {
   "cell_type": "code",
   "execution_count": null,
   "id": "edadd4fb-bf6e-421d-b2e4-77f3c5b34df8",
   "metadata": {},
   "outputs": [],
   "source": [
    "non_coding_df"
   ]
  },
  {
   "cell_type": "code",
   "execution_count": null,
   "id": "5d795fe2-114b-4e99-aff8-7d412996d9c5",
   "metadata": {},
   "outputs": [],
   "source": [
    "groupby_df = pd.concat([gene_expression_df, non_coding_df])"
   ]
  },
  {
   "cell_type": "code",
   "execution_count": null,
   "id": "b71ce338-058f-4bfe-bfdf-9d22ee18ccb3",
   "metadata": {},
   "outputs": [],
   "source": [
    "groupby_df"
   ]
  },
  {
   "cell_type": "markdown",
   "id": "f7a30223-d102-4e81-9400-fd25c5815ef9",
   "metadata": {},
   "source": [
    "### Q: what is the average gene length in bp by the type of gene (coding, or non-coding)?"
   ]
  },
  {
   "cell_type": "code",
   "execution_count": null,
   "id": "46a70104-6cf5-4acf-9f1f-fe7831e17023",
   "metadata": {},
   "outputs": [],
   "source": [
    "g = groupby_df.groupby('gene_type')"
   ]
  },
  {
   "cell_type": "code",
   "execution_count": null,
   "id": "50fd9737-fc45-4da6-88dc-e3627c1ebfdc",
   "metadata": {},
   "outputs": [],
   "source": [
    "g.groups"
   ]
  },
  {
   "cell_type": "code",
   "execution_count": null,
   "id": "6abe582b-4407-48b9-a731-fdf45229956e",
   "metadata": {},
   "outputs": [],
   "source": [
    "groupby_df.groupby('gene_type')['gene_len_bp'].mean()"
   ]
  },
  {
   "cell_type": "code",
   "execution_count": null,
   "id": "ba894c2a-b79f-4eb3-b0d7-cb26aaa40d7b",
   "metadata": {},
   "outputs": [],
   "source": [
    "groupby_df.groupby('gene_type').agg({'gene_len_bp': 'mean'})"
   ]
  },
  {
   "cell_type": "code",
   "execution_count": null,
   "id": "89177a6b-cae4-4d13-837d-05ff856a1958",
   "metadata": {},
   "outputs": [],
   "source": [
    "groupby_df.groupby('gene_type').agg(\n",
    "    {'gene_len_bp': 'mean',\n",
    "    'time.0': 'mean'\n",
    "    }\n",
    ")"
   ]
  },
  {
   "cell_type": "code",
   "execution_count": null,
   "id": "eb0d31fe-369f-4f07-8510-ecce5ef9df3d",
   "metadata": {},
   "outputs": [],
   "source": [
    "groupby_df.groupby('gene_type').agg(\n",
    "    {'gene_len_bp': ['mean', 'min', 'max'],\n",
    "    'time.0': ['mean', 'min', 'max'],\n",
    "    }\n",
    ")"
   ]
  },
  {
   "cell_type": "code",
   "execution_count": null,
   "id": "7e6797eb-35a8-495a-8016-fedb28ac7306",
   "metadata": {},
   "outputs": [],
   "source": [
    "groupby_df.groupby('gene_type').agg(\n",
    "    mean_gene_len_bp=('gene_len_bp','mean'),\n",
    "    min_gene_len_bp=('gene_len_bp', 'min'),\n",
    "    max_gene_len_bp=('gene_len_bp', 'max'),\n",
    "    mean_time_0=('time.0','mean'),\n",
    "    min_time_0=('time.0', 'min'),\n",
    "    max_time_0=('time.0', 'max')\n",
    ")"
   ]
  },
  {
   "cell_type": "code",
   "execution_count": null,
   "id": "e7e28bbc-0acf-477a-8d91-12548cbb391a",
   "metadata": {},
   "outputs": [],
   "source": [
    "res = groupby_df.groupby('gene_type').agg(\n",
    "    mean_gene_len_bp=('gene_len_bp','mean'),\n",
    "    min_gene_len_bp=('gene_len_bp', 'min'),\n",
    "    max_gene_len_bp=('gene_len_bp', 'max'),\n",
    "    mean_time_0=('time.0','mean'),\n",
    "    min_time_0=('time.0', 'min'),\n",
    "    max_time_0=('time.0', 'max')\n",
    ")"
   ]
  },
  {
   "cell_type": "code",
   "execution_count": null,
   "id": "931571af-95da-46ed-8d39-1777969ccf8e",
   "metadata": {},
   "outputs": [],
   "source": [
    "type(res)"
   ]
  },
  {
   "cell_type": "code",
   "execution_count": null,
   "id": "86e21939-cf65-4299-8b78-41f152b5bc49",
   "metadata": {},
   "outputs": [],
   "source": [
    "res.at['coding', 'mean_gene_len_bp']"
   ]
  },
  {
   "cell_type": "code",
   "execution_count": null,
   "id": "a6197bd3-7fa0-46a9-9191-b91e1f78d2be",
   "metadata": {},
   "outputs": [],
   "source": [
    "res.at['non-coding', 'mean_gene_len_bp']"
   ]
  },
  {
   "cell_type": "markdown",
   "id": "efbdec7f-4ae8-46fc-8bef-f36b5ca1d73e",
   "metadata": {},
   "source": [
    "### Q: what is the average gene expression at time point 0 by the type of gene (coding, or non-coding)?"
   ]
  },
  {
   "cell_type": "code",
   "execution_count": null,
   "id": "754e4bab-2b91-4be4-9a3c-747f525417df",
   "metadata": {},
   "outputs": [],
   "source": [
    "groupby_df"
   ]
  },
  {
   "cell_type": "code",
   "execution_count": null,
   "id": "8858295d-7ff3-4e98-b8d1-a0227729b109",
   "metadata": {},
   "outputs": [],
   "source": [
    "groupby_df.groupby('gene_type')['time.0'].mean()"
   ]
  },
  {
   "cell_type": "markdown",
   "id": "697a5fe1-8663-43dc-b7fa-a578d7de3581",
   "metadata": {},
   "source": [
    "### pivot table\n",
    "- alternative to groupby\n",
    "- index = keys to group by on the index\n",
    "- values = columns to aggregate"
   ]
  },
  {
   "cell_type": "code",
   "execution_count": null,
   "id": "169410f2-6677-40f1-b74e-3ec47c41a82f",
   "metadata": {},
   "outputs": [],
   "source": [
    "groupby_df.groupby('gene_type')['gene_len_bp'].mean()"
   ]
  },
  {
   "cell_type": "code",
   "execution_count": null,
   "id": "2a0d06be-c310-49e4-9559-a4ce1eeb3462",
   "metadata": {},
   "outputs": [],
   "source": [
    "groupby_df.pivot_table(\n",
    "    values='gene_len_bp', \n",
    "    index='gene_type',\n",
    "    aggfunc='mean'\n",
    ")"
   ]
  },
  {
   "cell_type": "code",
   "execution_count": null,
   "id": "19b60ff6-2066-463c-89a6-7d2522690821",
   "metadata": {},
   "outputs": [],
   "source": [
    "groupby_df.groupby('gene_type')['time.0'].mean()"
   ]
  },
  {
   "cell_type": "code",
   "execution_count": null,
   "id": "86b9fd05-a11c-4779-bdcf-a9b5652bc33e",
   "metadata": {},
   "outputs": [],
   "source": [
    "groupby_df.pivot_table(\n",
    "    values='time.0',\n",
    "    index='gene_type',\n",
    "    aggfunc='mean'\n",
    ")"
   ]
  },
  {
   "cell_type": "markdown",
   "id": "bfecc746-9840-4fa7-a342-b14bc135319a",
   "metadata": {},
   "source": [
    "### Groupby multiple columns\n",
    "- can you add a new column to groupby_df called 'gt_1000' that outputs 'yes' if gene length > 1000bp, and 'no' if not?"
   ]
  },
  {
   "cell_type": "code",
   "execution_count": null,
   "id": "36c20d5b-17eb-4b59-bac7-d24ea9cf74c6",
   "metadata": {},
   "outputs": [],
   "source": [
    "x = groupby_df['gene_len_bp'] > 1000"
   ]
  },
  {
   "cell_type": "code",
   "execution_count": null,
   "id": "84456d2e-aa78-4c18-84c8-fe82d9c17454",
   "metadata": {},
   "outputs": [],
   "source": [
    "groupby_df['gt_1000'] = ['yes' if i else 'no' for i in x]"
   ]
  },
  {
   "cell_type": "code",
   "execution_count": null,
   "id": "465952be-84db-4a9b-9b2c-df570ad635d8",
   "metadata": {},
   "outputs": [],
   "source": [
    "groupby_df"
   ]
  },
  {
   "cell_type": "markdown",
   "id": "bae8713e-2f5c-462f-8ab5-0be99381cbde",
   "metadata": {},
   "source": [
    "### Q: can you do the above with a lambda function?\n",
    "- add a new column called `gt_1000_v2` to the df, with the values computed using a lambda function"
   ]
  },
  {
   "cell_type": "code",
   "execution_count": null,
   "id": "8501ebf1-21e1-49c2-a1d1-c58ecbb5edf4",
   "metadata": {},
   "outputs": [],
   "source": [
    "groupby_df['gt_1000_v2'] = groupby_df['gene_len_bp'].apply(\n",
    "    lambda x: 'yes' if x > 1000 else 'no'\n",
    ")"
   ]
  },
  {
   "cell_type": "code",
   "execution_count": null,
   "id": "24e41a3e-a56b-4d82-856b-576c6f2e87e8",
   "metadata": {},
   "outputs": [],
   "source": [
    "groupby_df['gt_1000_v2']"
   ]
  },
  {
   "cell_type": "code",
   "execution_count": null,
   "id": "309835aa-5881-49e7-b3f2-f2f191414eed",
   "metadata": {},
   "outputs": [],
   "source": [
    "groupby_df.groupby(['gene_type', 'gt_1000'])['gene_len_bp'].mean()"
   ]
  },
  {
   "cell_type": "code",
   "execution_count": null,
   "id": "cebbf703-8cc5-4250-ab06-dd4ac03c0b93",
   "metadata": {},
   "outputs": [],
   "source": [
    "# same as above, with pivot_table\n",
    "groupby_df.pivot_table(\n",
    "    index=['gene_type', 'gt_1000'],\n",
    "    values='gene_len_bp',\n",
    "    aggfunc='mean'\n",
    ")"
   ]
  },
  {
   "cell_type": "markdown",
   "id": "5a74d4a7-1a6d-4352-bc73-f7dccc17ef6d",
   "metadata": {},
   "source": [
    "### Melting"
   ]
  },
  {
   "cell_type": "code",
   "execution_count": null,
   "id": "06343135-2e93-4d60-b200-fe18f79a5f8a",
   "metadata": {},
   "outputs": [],
   "source": [
    "groupby_df"
   ]
  },
  {
   "cell_type": "markdown",
   "id": "9d8eb108-aad4-457d-8f4b-71bbd0050e58",
   "metadata": {},
   "source": [
    "### Q: can you reshape the above to:\n",
    "- have only one time column\n",
    "- still represent time.0 and time.1 as a variable\n",
    "- retain gene name, gene type and gene_len_bp cols"
   ]
  },
  {
   "cell_type": "code",
   "execution_count": null,
   "id": "2ed82e64-10b0-4449-b127-0bd7c769644c",
   "metadata": {},
   "outputs": [],
   "source": [
    "groupby_df.reset_index()"
   ]
  },
  {
   "cell_type": "code",
   "execution_count": null,
   "id": "487b164b-4557-4ef1-b84f-a020326c33e5",
   "metadata": {},
   "outputs": [],
   "source": [
    "df_to_melt = groupby_df.reset_index().rename(columns={'index':'gene_name'})"
   ]
  },
  {
   "cell_type": "code",
   "execution_count": null,
   "id": "930c6bdf-a688-4330-a903-c5ad516384b1",
   "metadata": {},
   "outputs": [],
   "source": [
    "df_to_melt"
   ]
  },
  {
   "cell_type": "code",
   "execution_count": null,
   "id": "a122c8d2-10b1-4295-b7d2-b6f874efeb0f",
   "metadata": {},
   "outputs": [],
   "source": [
    "df_to_melt.melt(\n",
    "    id_vars=['gene_name','gene_type', 'gene_len_bp'],\n",
    "    value_vars=['time.0', 'time.1']\n",
    ")"
   ]
  },
  {
   "cell_type": "markdown",
   "id": "bb57c3a3-1c4e-4b73-a447-dc5bc4a3c497",
   "metadata": {},
   "source": [
    "## Joins\n",
    "- pandas merge function, SQL style joining operations\n",
    "- https://pandas.pydata.org/docs/user_guide/merging.html"
   ]
  },
  {
   "cell_type": "code",
   "execution_count": null,
   "id": "ac230bde-3c05-4975-a0d2-6ab58de5b161",
   "metadata": {},
   "outputs": [],
   "source": [
    "d1 = {\n",
    "    'gene_name': ['BRCA1', 'KRAS', 'HRAS', 'TP53'],\n",
    "    'gene_length': [2, 4, 4, 6]\n",
    "}\n",
    "left_df = pd.DataFrame(d1)"
   ]
  },
  {
   "cell_type": "code",
   "execution_count": null,
   "id": "6b90e067-32d7-40b1-a4e1-ae92af56d3fb",
   "metadata": {},
   "outputs": [],
   "source": [
    "left_df"
   ]
  },
  {
   "cell_type": "code",
   "execution_count": null,
   "id": "cfbf1cf2-ac0d-44b5-aff6-7457979df141",
   "metadata": {},
   "outputs": [],
   "source": [
    "d2 = {\n",
    "    'gene_name': ['BRCA1', 'KRAS', 'HRAS', 'TP53'],\n",
    "    'num_transcripts': [4, 6, 3, 7]\n",
    "}\n",
    "right_df = pd.DataFrame(d2)"
   ]
  },
  {
   "cell_type": "code",
   "execution_count": null,
   "id": "4c92ade5-b232-48b5-98ed-34f9ad58e055",
   "metadata": {},
   "outputs": [],
   "source": [
    "right_df"
   ]
  },
  {
   "cell_type": "markdown",
   "id": "4f03dc74-6b92-4dc3-b5d4-e3c8c2259c7a",
   "metadata": {},
   "source": [
    "#### simple join on 'gene_name'"
   ]
  },
  {
   "cell_type": "code",
   "execution_count": null,
   "id": "bd96c6af-439b-48ed-af33-dcfbff59a759",
   "metadata": {},
   "outputs": [],
   "source": [
    "pd.merge(left=left_df, right=right_df, on='gene_name')"
   ]
  },
  {
   "cell_type": "code",
   "execution_count": null,
   "id": "2dea9730-490b-4f9b-9539-753128d32a80",
   "metadata": {},
   "outputs": [],
   "source": [
    "pd.merge(\n",
    "    left=left_df, \n",
    "    right=right_df, \n",
    "    on='gene_name', \n",
    "    indicator=True\n",
    ")"
   ]
  },
  {
   "cell_type": "markdown",
   "id": "b29cb8a0-3185-416c-887e-80bf6ef99168",
   "metadata": {},
   "source": [
    "### left join\n",
    "- use keys from left frame only"
   ]
  },
  {
   "cell_type": "code",
   "execution_count": null,
   "id": "84661c75-c43a-4da9-8f76-008c2a8c6646",
   "metadata": {},
   "outputs": [],
   "source": [
    "d1 = {\n",
    "    'gene_name': ['BRCA1', 'HRAS', 'TP53', 'NRAS'],\n",
    "    'gene_length': [2, 4, 6, 8]\n",
    "}\n",
    "left_df = pd.DataFrame(d1)"
   ]
  },
  {
   "cell_type": "code",
   "execution_count": null,
   "id": "5093fda5-57fd-4817-b8ee-3db94bab08bf",
   "metadata": {},
   "outputs": [],
   "source": [
    "d2 = {\n",
    "    'gene_name': ['BRCA1', 'KRAS', 'HRAS', 'TP53'],\n",
    "    'num_transcripts': [4, 6, 3, 7]\n",
    "}\n",
    "right_df = pd.DataFrame(d2)"
   ]
  },
  {
   "cell_type": "code",
   "execution_count": null,
   "id": "01a977d5-96fd-40cf-9125-9ffc444cd462",
   "metadata": {},
   "outputs": [],
   "source": [
    "pd.merge(\n",
    "    left=left_df, \n",
    "    right=right_df, \n",
    "    on='gene_name', \n",
    "    how='left',\n",
    "    indicator=True\n",
    ")"
   ]
  },
  {
   "cell_type": "markdown",
   "id": "e5819337-d31e-40af-a83f-1f9dad0b5db7",
   "metadata": {},
   "source": [
    "### right join\n",
    "- use keys from right frame only"
   ]
  },
  {
   "cell_type": "code",
   "execution_count": null,
   "id": "06ff0f8f-0ddc-4cb8-adf5-1e1d3faf994e",
   "metadata": {},
   "outputs": [],
   "source": [
    "left_df"
   ]
  },
  {
   "cell_type": "code",
   "execution_count": null,
   "id": "566778fa-ed3c-48a3-a3fd-1ca69cc36d3d",
   "metadata": {},
   "outputs": [],
   "source": [
    "right_df"
   ]
  },
  {
   "cell_type": "code",
   "execution_count": null,
   "id": "8fc1645e-93d1-42e1-97c8-2e745ae39309",
   "metadata": {},
   "outputs": [],
   "source": [
    "pd.merge(\n",
    "    left=left_df, \n",
    "    right=right_df, \n",
    "    on='gene_name', \n",
    "    how='right',\n",
    "    indicator=True\n",
    ")"
   ]
  },
  {
   "cell_type": "markdown",
   "id": "600970d1-326c-4d28-b85a-91a01aef1526",
   "metadata": {},
   "source": [
    "### inner join\n",
    "- intersection of keys from both frames"
   ]
  },
  {
   "cell_type": "code",
   "execution_count": null,
   "id": "7a01f7f4-22ee-4a75-b050-f0ea175aae17",
   "metadata": {},
   "outputs": [],
   "source": [
    "pd.merge(\n",
    "    left=left_df, \n",
    "    right=right_df, \n",
    "    on='gene_name', \n",
    "    how='inner',\n",
    "    indicator=True\n",
    ")"
   ]
  },
  {
   "cell_type": "markdown",
   "id": "99401e1c-659c-4247-b390-0a40c0a54888",
   "metadata": {},
   "source": [
    "### outer join\n",
    "- union of keys from both frames"
   ]
  },
  {
   "cell_type": "code",
   "execution_count": null,
   "id": "521a0901-8fc3-416f-947f-fca88442301c",
   "metadata": {},
   "outputs": [],
   "source": [
    "pd.merge(\n",
    "    left=left_df, \n",
    "    right=right_df, \n",
    "    on='gene_name', \n",
    "    how='outer',\n",
    "    indicator=True\n",
    ")"
   ]
  },
  {
   "cell_type": "markdown",
   "id": "19e23928-7ae9-4000-a2e4-6c25b21354d9",
   "metadata": {},
   "source": [
    "# Collaborative Exercises"
   ]
  },
  {
   "cell_type": "markdown",
   "id": "65df9418-74c1-4c5f-9967-501390dbd9f7",
   "metadata": {},
   "source": [
    "## Exercise 1\n",
    "- Check out the uploaded CSV file on github: `genes_transcripts.csv` and read it into a pandas dataframe\n",
    "-  What is the shape of the dataframe?\n",
    "- How many unique genes are there in the `gene_name` column? Can you list them? How about the same for the `biotype` column? Hint: see if you can use https://pandas.pydata.org/docs/reference/api/pandas.Series.nunique.html and https://pandas.pydata.org/docs/reference/api/pandas.Series.unique.html\n",
    "- What is the average transcript length by gene for each biotype?\n",
    "- What are the min and max transcript lengths by gene for each biotype?\n",
    "- Can you also do the above two exercises using pivot_table?\n",
    "- What percentage of transcripts are protein_coding for each gene?\n"
   ]
  },
  {
   "cell_type": "markdown",
   "id": "96af6292-f879-46d5-b208-433995f933bb",
   "metadata": {},
   "source": [
    "## Exercise 2\n",
    "- You will create two pandas dataframes of your own, from your specific field, to demonstrate how joins work in pandas\n",
    "- Create two dataframes from two dictionaries, each with shape atleast (4, 3)\n",
    "- Demonstrate inner join, left join, right join and outer join\n",
    "- Make sure to include the appropriate data to demo all types of joins"
   ]
  }
 ],
 "metadata": {
  "kernelspec": {
   "display_name": "Python 3.12.7",
   "language": "python",
   "name": "venv_3.12.7"
  },
  "language_info": {
   "codemirror_mode": {
    "name": "ipython",
    "version": 3
   },
   "file_extension": ".py",
   "mimetype": "text/x-python",
   "name": "python",
   "nbconvert_exporter": "python",
   "pygments_lexer": "ipython3",
   "version": "3.12.7"
  }
 },
 "nbformat": 4,
 "nbformat_minor": 5
}
