{
 "cells": [
  {
   "cell_type": "markdown",
   "id": "19e4ae9a-d3d9-43a8-adcf-613a0ca64e18",
   "metadata": {},
   "source": [
    "# worksheet7: Pandas Series\n",
    "\n",
    "- pandas contains data structures and data manipulation tools designed to make data cleaning and analysis fast and easy in Python\n",
    "- pandas is often used in tandem with numerical computing tools \n",
    "like NumPy and SciPy, analytical libraries like statsmodels and \n",
    "scikit-learn, and data visualization libraries like matplotlib\n",
    "- pandas adopts significant parts of NumPy’s idiomatic style of \n",
    "array-based computing, especially array-based functions and \n",
    "a preference for data processing without for loops."
   ]
  },
  {
   "cell_type": "code",
   "execution_count": null,
   "id": "422ea03e-f425-4da1-84ec-a087dcc6f5a3",
   "metadata": {},
   "outputs": [],
   "source": [
    "import numpy as np\n",
    "import pandas as pd"
   ]
  },
  {
   "cell_type": "code",
   "execution_count": null,
   "id": "42302f64-3961-4824-a1ee-9bfbbd9e1572",
   "metadata": {},
   "outputs": [],
   "source": [
    "%%html\n",
    "<h1>Series and DataFrame</h1>"
   ]
  },
  {
   "cell_type": "markdown",
   "id": "31458cca-1915-4ce0-bf2c-f7b6729de392",
   "metadata": {},
   "source": [
    "- Series is a 1D array representing a single data column (i.e single column of an excel spreadsheet)\n",
    "- A DataFrame is a 2D array used to represent tabular or spreadsheet-like data (i.e rows and columns)\n",
    "- DataFrame can be thought of as a collection of Series (columns)\n",
    "- Both Series and DataFrame have an index (an associate array of data labels)"
   ]
  },
  {
   "cell_type": "markdown",
   "id": "dc6d9584-ddbb-4849-b197-6d06d94e6c43",
   "metadata": {},
   "source": [
    "### Create a simple pandas series with 1D data\n",
    "- using `pd.Series` on a list or np.array"
   ]
  },
  {
   "cell_type": "code",
   "execution_count": null,
   "id": "d71c4648-8128-42f4-8ae2-b8e2a4054f5a",
   "metadata": {},
   "outputs": [],
   "source": [
    "gene_lengths_kb = [2, 4, 4, 5 ]"
   ]
  },
  {
   "cell_type": "code",
   "execution_count": null,
   "id": "77973e02-a149-4c24-b9de-6fcc4438085b",
   "metadata": {},
   "outputs": [],
   "source": [
    "gene_lengths_kb_ser = pd.Series(gene_lengths_kb)"
   ]
  },
  {
   "cell_type": "code",
   "execution_count": null,
   "id": "cec9eaf2-a6af-42d4-841f-585f8113a6d6",
   "metadata": {},
   "outputs": [],
   "source": [
    "gene_lengths_kb_ser"
   ]
  },
  {
   "cell_type": "code",
   "execution_count": null,
   "id": "4eeaa9b7-bdc4-4128-afcd-0d872ab261b6",
   "metadata": {},
   "outputs": [],
   "source": [
    "gene_lengths_kb_arr = np.array(gene_lengths_kb)"
   ]
  },
  {
   "cell_type": "code",
   "execution_count": null,
   "id": "5799d41f-c7ec-4f56-8966-cb4d63e1d395",
   "metadata": {},
   "outputs": [],
   "source": [
    "gene_lengths_kb_ser_arr = pd.Series(gene_lengths_kb_arr)"
   ]
  },
  {
   "cell_type": "code",
   "execution_count": null,
   "id": "9dc15f74-0d02-41f9-88fd-5eb58e283316",
   "metadata": {},
   "outputs": [],
   "source": [
    "gene_lengths_kb_ser_arr"
   ]
  },
  {
   "cell_type": "markdown",
   "id": "fe462c1c-4feb-464b-ae42-11697e7bfb7b",
   "metadata": {},
   "source": [
    "### Components of a series \n",
    "- index is the leftmost column of a series, this is the data label\n",
    "- the actual data is called values of the series (the right column)\n",
    "- a default index with `range(N)` is created when you do not specify an index, where `N` is the length of the data"
   ]
  },
  {
   "cell_type": "code",
   "execution_count": null,
   "id": "fd91042b-5846-44cf-87c8-89d4eb0d9436",
   "metadata": {},
   "outputs": [],
   "source": [
    "gene_lengths_kb_ser"
   ]
  },
  {
   "cell_type": "markdown",
   "id": "4938760a-8197-4ef9-a44f-87883d828564",
   "metadata": {},
   "source": [
    "### series.index"
   ]
  },
  {
   "cell_type": "code",
   "execution_count": null,
   "id": "ef002658-b30b-4de3-b1d9-ac17eb18ca3f",
   "metadata": {},
   "outputs": [],
   "source": [
    "gene_lengths_kb_ser.index"
   ]
  },
  {
   "cell_type": "markdown",
   "id": "b97d7391-8ad8-4c49-bbee-498c29fb9511",
   "metadata": {},
   "source": [
    "### series.values"
   ]
  },
  {
   "cell_type": "code",
   "execution_count": null,
   "id": "e40d4fcf-c31f-4ef1-aa72-b1d6b9210e60",
   "metadata": {},
   "outputs": [],
   "source": [
    "gene_lengths_kb_ser.values"
   ]
  },
  {
   "cell_type": "code",
   "execution_count": null,
   "id": "7ae883cb-a0ae-4960-a4ba-fe3d4ad04321",
   "metadata": {},
   "outputs": [],
   "source": [
    "type(gene_lengths_kb_ser.values)"
   ]
  },
  {
   "cell_type": "markdown",
   "id": "4684790e-0eaf-43fb-8768-fa15030ddcff",
   "metadata": {},
   "source": [
    "### Often desirable to specify your own index data labels\n",
    "- called a `named series`, with prespecified index labels\n",
    "- allows you to index series by label"
   ]
  },
  {
   "cell_type": "code",
   "execution_count": null,
   "id": "258a93dd-ac28-400e-b502-984f6aa6acdb",
   "metadata": {},
   "outputs": [],
   "source": [
    "gene_lengths_kb = [2, 4, 4, 5 ]"
   ]
  },
  {
   "cell_type": "code",
   "execution_count": null,
   "id": "0e920f6a-77c9-4bc0-991b-7f0b5f0273f9",
   "metadata": {},
   "outputs": [],
   "source": [
    "gene_names = ['BRCA1','BRCA2', 'SMAD2', 'TTN']"
   ]
  },
  {
   "cell_type": "code",
   "execution_count": null,
   "id": "4be6c358-8840-4884-ad71-b7ce5478769b",
   "metadata": {},
   "outputs": [],
   "source": [
    "gene_lengths_kb_ser = pd.Series(\n",
    "    gene_lengths_kb, \n",
    "    index=gene_names\n",
    ")"
   ]
  },
  {
   "cell_type": "code",
   "execution_count": null,
   "id": "9a4c3857-9404-493c-bd1b-f0252dc5a00d",
   "metadata": {},
   "outputs": [],
   "source": [
    "gene_lengths_kb_ser"
   ]
  },
  {
   "cell_type": "markdown",
   "id": "6f530aba-9867-4f2f-866b-26950b6197ff",
   "metadata": {},
   "source": [
    "### index elements of a series by data labels"
   ]
  },
  {
   "cell_type": "code",
   "execution_count": null,
   "id": "0bb64c19-5134-4d7e-8557-fb9bbe2025cd",
   "metadata": {},
   "outputs": [],
   "source": [
    "gene_lengths_kb_ser['BRCA1']"
   ]
  },
  {
   "cell_type": "code",
   "execution_count": null,
   "id": "2af2f20e-1970-4523-b178-1e61f453d85e",
   "metadata": {},
   "outputs": [],
   "source": [
    "gene_lengths_kb_ser['SMAD2']"
   ]
  },
  {
   "cell_type": "markdown",
   "id": "29ef6834-9eb2-4301-814a-70cbada3c23a",
   "metadata": {},
   "source": [
    "### index elements of a series by position"
   ]
  },
  {
   "cell_type": "code",
   "execution_count": null,
   "id": "421614f6-9c30-4682-8e7b-c39dda976ace",
   "metadata": {},
   "outputs": [],
   "source": [
    "# BRCA1 gene length\n",
    "gene_lengths_kb_ser[0]"
   ]
  },
  {
   "cell_type": "code",
   "execution_count": null,
   "id": "a8055d3d-96e7-4a4d-8288-480d37736e77",
   "metadata": {},
   "outputs": [],
   "source": [
    "# SMAD2 gene length\n",
    "gene_lengths_kb_ser[2]"
   ]
  },
  {
   "cell_type": "markdown",
   "id": "4af6564b-86af-4b88-a577-fd818d94c475",
   "metadata": {},
   "source": [
    "### index elements of a series by a list of data labels"
   ]
  },
  {
   "cell_type": "code",
   "execution_count": null,
   "id": "5ad4eb0f-dcf8-4a0d-b043-14e0fad25b52",
   "metadata": {},
   "outputs": [],
   "source": [
    "gene_names[:2]"
   ]
  },
  {
   "cell_type": "code",
   "execution_count": null,
   "id": "2eec4f7f-d67c-4a49-825f-3d756242d25c",
   "metadata": {},
   "outputs": [],
   "source": [
    "gene_lengths_kb_ser[gene_names[:2]]"
   ]
  },
  {
   "cell_type": "markdown",
   "id": "1290082e-cac5-44e2-931f-37d04577a04b",
   "metadata": {},
   "source": [
    "## numpy functions applied to a series"
   ]
  },
  {
   "cell_type": "markdown",
   "id": "b34d2c90-b803-4a38-9c56-1c11c92c1bf3",
   "metadata": {},
   "source": [
    "### Q: apply a numpy boolean mask to a series\n",
    "- can you filter `gene_lengths_kb_ser` to only include genes with lengths >2kb?\n"
   ]
  },
  {
   "cell_type": "code",
   "execution_count": null,
   "id": "690781e1-0b18-4ebe-8d5e-7ec8d49e979c",
   "metadata": {},
   "outputs": [],
   "source": []
  },
  {
   "cell_type": "markdown",
   "id": "45a63178-2f92-4cc8-8db2-235e3f06c8d3",
   "metadata": {},
   "source": [
    "### Q: apply numpy broadcasting\n",
    "- add 1 kb to all gene lengths in the series\n",
    "- multiply all gene lengths by 2kb\n",
    "- exponentiate gene lengths"
   ]
  },
  {
   "cell_type": "code",
   "execution_count": null,
   "id": "234ec766-fbbb-4e82-b829-6a86f9ffdf0d",
   "metadata": {},
   "outputs": [],
   "source": []
  },
  {
   "cell_type": "markdown",
   "id": "e93cd8a9-eec8-4c3a-983a-6d96eea97563",
   "metadata": {},
   "source": [
    "### Series can also be thought of as \n",
    "- a mapping of index labels to data values\n",
    "- similar to an ordered dictionary"
   ]
  },
  {
   "cell_type": "code",
   "execution_count": null,
   "id": "8603d5b9-8267-4f84-b5e2-7e0dea0d93d8",
   "metadata": {},
   "outputs": [],
   "source": [
    "'BRCA1' in gene_lengths_kb_ser"
   ]
  },
  {
   "cell_type": "code",
   "execution_count": null,
   "id": "39b4a8c6-9b26-4e27-b631-b51a06da0e26",
   "metadata": {},
   "outputs": [],
   "source": [
    "'KRAS' in gene_lengths_kb_ser"
   ]
  },
  {
   "cell_type": "code",
   "execution_count": null,
   "id": "544afa5f-45fb-4694-ae9a-7dfd72130ed8",
   "metadata": {},
   "outputs": [],
   "source": [
    "'KRAS' not in gene_lengths_kb_ser"
   ]
  },
  {
   "cell_type": "markdown",
   "id": "fc364aca-defd-49f3-bc22-2b3c6d7afa12",
   "metadata": {},
   "source": [
    "### Ways to create a series\n",
    "- using `pd.Series` on a list or np.array\n",
    "- using `pd.Series` on a dict\n",
    "\n",
    "Let us create a dict with `gene_names` and `gene_lengths_kb` data in a cool new way and create a series with this dict"
   ]
  },
  {
   "cell_type": "code",
   "execution_count": null,
   "id": "a28d9544-0244-4de2-84b0-2e65de94b39b",
   "metadata": {},
   "outputs": [],
   "source": [
    "gene_names"
   ]
  },
  {
   "cell_type": "code",
   "execution_count": null,
   "id": "635ef6eb-64a4-4c6a-a091-a4f50b04fd3d",
   "metadata": {},
   "outputs": [],
   "source": [
    "gene_lengths_kb"
   ]
  },
  {
   "cell_type": "code",
   "execution_count": null,
   "id": "df1d0950-375e-4a7a-b8ff-8778d0073255",
   "metadata": {},
   "outputs": [],
   "source": [
    "gene_lengths_kb_dict = {\n",
    "    k : v\n",
    "    for k,v in zip(gene_names, gene_lengths_kb)\n",
    "}"
   ]
  },
  {
   "cell_type": "code",
   "execution_count": null,
   "id": "a62ad4f6-401c-48dc-a4ae-82f21c0d8f05",
   "metadata": {},
   "outputs": [],
   "source": [
    "gene_lengths_kb_dict"
   ]
  },
  {
   "cell_type": "code",
   "execution_count": null,
   "id": "f8af35d3-5770-4f48-ae5f-74bd1511da9c",
   "metadata": {},
   "outputs": [],
   "source": [
    "gene_lengths_kb_ser_from_dict = pd.Series(gene_lengths_kb_dict)"
   ]
  },
  {
   "cell_type": "code",
   "execution_count": null,
   "id": "976dae06-df99-41f3-8ed0-f22138b8f256",
   "metadata": {},
   "outputs": [],
   "source": [
    "# default order of index labels is sorted\n",
    "gene_lengths_kb_ser_from_dict"
   ]
  },
  {
   "cell_type": "markdown",
   "id": "44475529-df90-4daf-85f9-ea5d9abaaed6",
   "metadata": {},
   "source": [
    "### Q: can you change the order in which these index labels appear in the series?\n",
    "- I'd like in this order: 'TTN', 'BRCA2', 'SMAD2', 'BRCA1'"
   ]
  },
  {
   "cell_type": "code",
   "execution_count": null,
   "id": "dc0ed561-ac4a-4df0-a027-39e615c902a4",
   "metadata": {},
   "outputs": [],
   "source": [
    "new_order = ['TTN', 'BRCA2', 'SMAD2', 'BRCA1']\n"
   ]
  },
  {
   "cell_type": "code",
   "execution_count": null,
   "id": "b1628c1b-feee-43a3-a376-246756b061cc",
   "metadata": {},
   "outputs": [],
   "source": []
  },
  {
   "cell_type": "markdown",
   "id": "bf9ec746-ef78-438f-a321-2e600b7192c7",
   "metadata": {},
   "source": [
    "### Q: can you exclude `SMAD2` from the series?"
   ]
  },
  {
   "cell_type": "code",
   "execution_count": null,
   "id": "39d288a6-7fa3-4531-9636-df78f29da6b8",
   "metadata": {},
   "outputs": [],
   "source": [
    "new_order = ['TTN', 'BRCA2', 'BRCA1']\n",
    "pd.Series(gene_lengths_kb_dict, index=new_order)"
   ]
  },
  {
   "cell_type": "markdown",
   "id": "2221ef65-25e0-4f68-8aae-4185d5912f2c",
   "metadata": {},
   "source": [
    "### add a new gene label `HRAS` to the above series\n",
    "- just the label, no data"
   ]
  },
  {
   "cell_type": "code",
   "execution_count": null,
   "id": "c6e257b0-e9b2-4932-9e41-542efd9de596",
   "metadata": {},
   "outputs": [],
   "source": [
    "new_order = ['TTN', 'BRCA2', 'BRCA1', 'HRAS']\n",
    "hras_ser = pd.Series(gene_lengths_kb_dict, index=new_order)"
   ]
  },
  {
   "cell_type": "code",
   "execution_count": null,
   "id": "7b16165f-8c60-408d-a6ad-ea99ae87a884",
   "metadata": {},
   "outputs": [],
   "source": [
    "hras_ser"
   ]
  },
  {
   "cell_type": "markdown",
   "id": "42ae8b9b-cc50-401f-9cd8-80c600eb6326",
   "metadata": {},
   "source": [
    "### Missing values check\n",
    "- pd.isnull()\n",
    "- pd.notnull()\n",
    "- ser.isnull()\n",
    "- ser.notnull()\n",
    "- ser.isna()\n",
    "- ser.notna()\n",
    "- pd.isna()\n",
    "- pd.notna()"
   ]
  },
  {
   "cell_type": "markdown",
   "id": "94a00d49-f4f9-4cdc-aaed-0437582927df",
   "metadata": {},
   "source": [
    "### Q: what should `pd.isnull(hras_ser)` output?"
   ]
  },
  {
   "cell_type": "code",
   "execution_count": null,
   "id": "046de8d8-e93a-4042-89ce-f1171fe4cc0d",
   "metadata": {},
   "outputs": [],
   "source": [
    "pd.isnull(hras_ser)"
   ]
  },
  {
   "cell_type": "markdown",
   "id": "aa98db13-d4ae-4964-8b45-1688e70299dd",
   "metadata": {},
   "source": [
    "### Q: what should `pd.notnull(hras_ser)` output?"
   ]
  },
  {
   "cell_type": "code",
   "execution_count": null,
   "id": "b43f0d3e-b565-41d9-addd-5c8e84538ab1",
   "metadata": {},
   "outputs": [],
   "source": [
    "pd.notnull(hras_ser)"
   ]
  },
  {
   "cell_type": "markdown",
   "id": "24212712-9556-4c53-b2f9-6a1d5246d493",
   "metadata": {},
   "source": [
    "### series has the same methods as pd "
   ]
  },
  {
   "cell_type": "code",
   "execution_count": null,
   "id": "a3d6339f-1e90-4416-8b80-34cfa319a693",
   "metadata": {},
   "outputs": [],
   "source": [
    "hras_ser.isnull()"
   ]
  },
  {
   "cell_type": "code",
   "execution_count": null,
   "id": "4acb0636-7d35-4829-8b76-0947c928555c",
   "metadata": {},
   "outputs": [],
   "source": [
    "hras_ser.notnull()"
   ]
  },
  {
   "cell_type": "code",
   "execution_count": null,
   "id": "9dce2ba9-9c8a-42ae-baca-c380c0c259c4",
   "metadata": {},
   "outputs": [],
   "source": [
    "hras_ser.isna()"
   ]
  },
  {
   "cell_type": "code",
   "execution_count": null,
   "id": "ccb9d877-ab1e-4d33-8556-f21db11ae593",
   "metadata": {},
   "outputs": [],
   "source": [
    "hras_ser.notna()"
   ]
  },
  {
   "cell_type": "markdown",
   "id": "b06f21e1-d625-4fc3-ad04-07154a51bb62",
   "metadata": {},
   "source": [
    "### arithmetic operations\n",
    "- series addition\n",
    "- automatically align index labels"
   ]
  },
  {
   "cell_type": "code",
   "execution_count": null,
   "id": "e3ac32ab-004a-474f-92eb-0599e1c995b0",
   "metadata": {},
   "outputs": [],
   "source": [
    "gene_lengths_one_kb = [1] * 4"
   ]
  },
  {
   "cell_type": "code",
   "execution_count": null,
   "id": "574b2331-51d2-44eb-a8ad-3fa13b117574",
   "metadata": {},
   "outputs": [],
   "source": [
    "gene_lengths_one_kb"
   ]
  },
  {
   "cell_type": "code",
   "execution_count": null,
   "id": "e72afc57-096d-4878-978d-3474be3c435e",
   "metadata": {},
   "outputs": [],
   "source": [
    "gene_names"
   ]
  },
  {
   "cell_type": "code",
   "execution_count": null,
   "id": "3205e0b8-797f-4d31-af94-94a68ff8dc08",
   "metadata": {},
   "outputs": [],
   "source": [
    "gene_lengths_one_ser = pd.Series(\n",
    "    gene_lengths_one_kb,\n",
    "    index=gene_names\n",
    ")"
   ]
  },
  {
   "cell_type": "code",
   "execution_count": null,
   "id": "d93c8bdf-02c5-4f97-923e-8baf15beaa51",
   "metadata": {},
   "outputs": [],
   "source": [
    "gene_lengths_one_ser"
   ]
  },
  {
   "cell_type": "code",
   "execution_count": null,
   "id": "228fd8e4-c4fe-470c-bd8b-e29fc430ef75",
   "metadata": {},
   "outputs": [],
   "source": [
    "gene_lengths_kb_ser"
   ]
  },
  {
   "cell_type": "code",
   "execution_count": null,
   "id": "1721a805-ee51-486c-a3a7-e4656f42819d",
   "metadata": {},
   "outputs": [],
   "source": [
    "gene_lengths_kb_ser + gene_lengths_one_ser"
   ]
  },
  {
   "cell_type": "markdown",
   "id": "2af3e177-86a4-4a58-8a55-fb4cd2e5c2e5",
   "metadata": {},
   "source": [
    "### Q: guess the output of \n",
    "- gene_lengths_kb_ser + hras_ser"
   ]
  },
  {
   "cell_type": "code",
   "execution_count": null,
   "id": "a385741e-a18a-4b67-9d48-88af94c160c8",
   "metadata": {},
   "outputs": [],
   "source": []
  },
  {
   "cell_type": "markdown",
   "id": "b9e5d9ff-3367-4564-8e81-ca83cfc855a9",
   "metadata": {},
   "source": [
    "### Other series manipulations\n",
    "- change series index\n",
    "- specify a `dtype`\n",
    "- name a series\n",
    "- get the `size` of a series"
   ]
  },
  {
   "cell_type": "markdown",
   "id": "8d566125-1677-4969-bba2-c15e9776e335",
   "metadata": {},
   "source": [
    "#### change series index"
   ]
  },
  {
   "cell_type": "code",
   "execution_count": null,
   "id": "fe397401-bf36-4e93-b824-a741e6c2563b",
   "metadata": {},
   "outputs": [],
   "source": [
    "hras_ser"
   ]
  },
  {
   "cell_type": "code",
   "execution_count": null,
   "id": "b995fbe9-2c60-4694-bc34-d6c9a299335f",
   "metadata": {},
   "outputs": [],
   "source": [
    "new_hras_ser_index = [idx + '_gene' for idx in hras_ser.index]"
   ]
  },
  {
   "cell_type": "code",
   "execution_count": null,
   "id": "1effc7b1-36c7-4c65-ad23-1323e8724b2e",
   "metadata": {},
   "outputs": [],
   "source": [
    "hras_ser.index = new_hras_ser_index"
   ]
  },
  {
   "cell_type": "code",
   "execution_count": null,
   "id": "4123b2e9-1a8a-4dfd-8c93-6c18f9a8e5f8",
   "metadata": {},
   "outputs": [],
   "source": [
    "hras_ser"
   ]
  },
  {
   "cell_type": "markdown",
   "id": "6cbcde84-b4d3-4d2e-99eb-1a975def94ba",
   "metadata": {},
   "source": [
    "#### specify a dtype"
   ]
  },
  {
   "cell_type": "code",
   "execution_count": null,
   "id": "914c6805-7b31-49fc-8f53-f13fc6dedf97",
   "metadata": {},
   "outputs": [],
   "source": [
    "gene_lengths_kb_ser"
   ]
  },
  {
   "cell_type": "code",
   "execution_count": null,
   "id": "58203ea4-c603-41a5-a533-7850079d8c68",
   "metadata": {},
   "outputs": [],
   "source": [
    "gene_lengths_kb_ser_different_dtype = pd.Series(\n",
    "    gene_lengths_kb,\n",
    "    index=gene_names,\n",
    "    dtype='float'\n",
    ")"
   ]
  },
  {
   "cell_type": "code",
   "execution_count": null,
   "id": "f52e2eaf-d713-4a06-be1f-33ba1d84c855",
   "metadata": {},
   "outputs": [],
   "source": [
    "gene_lengths_kb_ser_different_dtype"
   ]
  },
  {
   "cell_type": "markdown",
   "id": "0bed3490-4886-4a6a-a40e-b6af5430335c",
   "metadata": {},
   "source": [
    "#### name a series"
   ]
  },
  {
   "cell_type": "code",
   "execution_count": null,
   "id": "2918a373-80b7-447c-a1c8-ef40d5cf142a",
   "metadata": {},
   "outputs": [],
   "source": [
    "gene_lengths_kb_ser_different_dtype = pd.Series(\n",
    "    gene_lengths_kb,\n",
    "    index=gene_names,\n",
    "    dtype='float',\n",
    "    name='gene_lengths_kb_ser_different_dtype'\n",
    ")"
   ]
  },
  {
   "cell_type": "code",
   "execution_count": null,
   "id": "4b4e1561-2ab9-4299-8698-cc45da218a67",
   "metadata": {},
   "outputs": [],
   "source": [
    "gene_lengths_kb_ser_different_dtype"
   ]
  },
  {
   "cell_type": "code",
   "execution_count": null,
   "id": "011939ba-c82d-41d2-9a02-50f7ec95c821",
   "metadata": {},
   "outputs": [],
   "source": [
    "gene_lengths_kb_ser_different_dtype.name"
   ]
  },
  {
   "cell_type": "markdown",
   "id": "1db4f4d3-4439-4336-8b1b-db96b1af2910",
   "metadata": {},
   "source": [
    "#### size of a series"
   ]
  },
  {
   "cell_type": "code",
   "execution_count": null,
   "id": "9c1fba35-b215-4bf3-9605-b01aa368facb",
   "metadata": {},
   "outputs": [],
   "source": [
    "gene_lengths_kb_ser_different_dtype.size"
   ]
  },
  {
   "cell_type": "markdown",
   "id": "3990162b-16b6-4780-ab4a-5adb6c963ae8",
   "metadata": {},
   "source": [
    "#### Q: can you reshape a series into higher D?"
   ]
  },
  {
   "cell_type": "code",
   "execution_count": null,
   "id": "9d400f87-e7cb-4d0b-9576-718caf936171",
   "metadata": {},
   "outputs": [],
   "source": []
  },
  {
   "cell_type": "markdown",
   "id": "da328852-7f0d-4edd-8cf1-559d45a009e3",
   "metadata": {},
   "source": [
    "### Slicing a series\n",
    "- very similar to slicing a numpy 1D array\n",
    "- allows you to slice by label or integer positions"
   ]
  },
  {
   "cell_type": "code",
   "execution_count": null,
   "id": "d2e424c3-f652-4abd-9f20-863e7da97644",
   "metadata": {},
   "outputs": [],
   "source": [
    "gene_lengths_kb_ser"
   ]
  },
  {
   "cell_type": "code",
   "execution_count": null,
   "id": "92e14c5d-50b6-491f-800c-d1a759572b2e",
   "metadata": {},
   "outputs": [],
   "source": [
    "gene_lengths_kb_ser[-2:]"
   ]
  },
  {
   "cell_type": "code",
   "execution_count": null,
   "id": "e70da6e1-4ac9-46a1-8ff9-ce3fa071b462",
   "metadata": {},
   "outputs": [],
   "source": [
    "gene_lengths_kb_ser[2:5:1]"
   ]
  },
  {
   "cell_type": "code",
   "execution_count": null,
   "id": "a4e20f91-76de-4878-89c0-48759508b8e5",
   "metadata": {},
   "outputs": [],
   "source": [
    "gene_lengths_kb_ser['BRCA1':'TTN']"
   ]
  },
  {
   "cell_type": "code",
   "execution_count": null,
   "id": "03421f33-a4d2-40f6-b837-b5242e5c15d4",
   "metadata": {},
   "outputs": [],
   "source": [
    "gene_lengths_kb_ser[:4]"
   ]
  },
  {
   "cell_type": "code",
   "execution_count": null,
   "id": "512f010c-4d98-4103-9c82-06a226330f85",
   "metadata": {},
   "outputs": [],
   "source": [
    "gene_lengths_kb_ser['BRCA1']"
   ]
  },
  {
   "cell_type": "code",
   "execution_count": null,
   "id": "160afa24-0adc-4173-ba5c-5498d9a8a7d4",
   "metadata": {},
   "outputs": [],
   "source": [
    "gene_lengths_kb_ser[0]"
   ]
  },
  {
   "cell_type": "code",
   "execution_count": null,
   "id": "1899d5ed-3a44-4f0e-bcd9-4e6c3f4670d7",
   "metadata": {},
   "outputs": [],
   "source": []
  },
  {
   "cell_type": "markdown",
   "id": "427fec26-13dd-4439-8a1a-8b52be67a4c1",
   "metadata": {},
   "source": [
    "### Selection with `loc` and `iloc`\n",
    "- enable you to select a subset of rows and columns\n",
    "- label based(`.loc`)\n",
    "- integer labels (`.iloc`)\n",
    "- more when we discuss DataFrames"
   ]
  },
  {
   "cell_type": "markdown",
   "id": "7312ddaf-8f19-4b2a-af42-c2932a307fd3",
   "metadata": {},
   "source": [
    "### Need for `.loc` and `.iloc`\n",
    "- confusing to index a series based on both integers and index labels\n",
    "- if index labels are integers, data selection will always be by labels\n",
    "- this makes selection by integers unreliable"
   ]
  },
  {
   "cell_type": "code",
   "execution_count": null,
   "id": "b9653e41-7db4-4315-bc61-88704f5425da",
   "metadata": {},
   "outputs": [],
   "source": [
    "integer_series = pd.Series(\n",
    "    np.arange(5)\n",
    ")"
   ]
  },
  {
   "cell_type": "code",
   "execution_count": null,
   "id": "8095b693-8464-4a42-8578-5bfdc0f08e64",
   "metadata": {},
   "outputs": [],
   "source": [
    "integer_series"
   ]
  },
  {
   "cell_type": "code",
   "execution_count": null,
   "id": "79f7822f-278f-43f9-9622-5eaa278db7c4",
   "metadata": {},
   "outputs": [],
   "source": [
    "integer_series[1]"
   ]
  },
  {
   "cell_type": "markdown",
   "id": "9bf781d7-41ca-4bd7-a2ea-073e734d443e",
   "metadata": {},
   "source": [
    "### Q: will this work?\n",
    "integer_series[-1]"
   ]
  },
  {
   "cell_type": "code",
   "execution_count": null,
   "id": "bc0a849f-262d-4c1d-b017-12a5558ed449",
   "metadata": {},
   "outputs": [],
   "source": []
  },
  {
   "cell_type": "markdown",
   "id": "14884655-132c-4a23-ba83-78d5366b4790",
   "metadata": {},
   "source": [
    "### what about now?"
   ]
  },
  {
   "cell_type": "code",
   "execution_count": null,
   "id": "05739386-bbf7-4cca-aa2d-4b2f5a8273ef",
   "metadata": {},
   "outputs": [],
   "source": [
    "integer_series = pd.Series(\n",
    "    np.arange(5),\n",
    "    index = ['a', 'b', 'c', 'd', 'e']\n",
    ")"
   ]
  },
  {
   "cell_type": "code",
   "execution_count": null,
   "id": "cb27a00a-307a-460b-94fc-441d4542c391",
   "metadata": {},
   "outputs": [],
   "source": [
    "integer_series[-1]"
   ]
  },
  {
   "cell_type": "markdown",
   "id": "70405b32-5ef4-4a0b-847a-5ba1f16b8e13",
   "metadata": {},
   "source": [
    "#### `series.loc`\n",
    "- indexing series explictly using only the index label\n",
    "- indexing by position wont work\n",
    "- can work with individual index labels or slices of labels"
   ]
  },
  {
   "cell_type": "code",
   "execution_count": null,
   "id": "4ca5d6f3-d963-4f18-870a-69a72fcb24f2",
   "metadata": {},
   "outputs": [],
   "source": [
    "# can specifically only use label with `.loc`\n",
    "gene_lengths_kb_ser.loc['BRCA2']"
   ]
  },
  {
   "cell_type": "markdown",
   "id": "1b04f0f2-b17f-4e63-bdf2-ff496277eb31",
   "metadata": {},
   "source": [
    "### will this work?\n",
    "- gene_lengths_kb_ser.loc[1]"
   ]
  },
  {
   "cell_type": "code",
   "execution_count": null,
   "id": "c5e099b5-c022-41cc-8f97-e227a4e4819e",
   "metadata": {},
   "outputs": [],
   "source": []
  },
  {
   "cell_type": "code",
   "execution_count": null,
   "id": "c8ee34fb-9dd6-45a9-b977-2b74428aa29d",
   "metadata": {},
   "outputs": [],
   "source": [
    "gene_lengths_kb_ser.loc['BRCA2':'KRAS']"
   ]
  },
  {
   "cell_type": "code",
   "execution_count": null,
   "id": "b284a64c-aa48-4508-b694-9215de388623",
   "metadata": {},
   "outputs": [],
   "source": [
    "gene_lengths_kb_ser.loc[['BRCA2', 'BRCA1']]"
   ]
  },
  {
   "cell_type": "markdown",
   "id": "12be7d48-a82b-4bda-aaf6-e5323a8b44eb",
   "metadata": {},
   "source": [
    "#### add a new gene to the series using `.loc`"
   ]
  },
  {
   "cell_type": "code",
   "execution_count": null,
   "id": "17a4c44e-50df-4f69-91be-19a8955924f9",
   "metadata": {},
   "outputs": [],
   "source": [
    "gene_lengths_kb_ser.loc['TMPRSS2'] = 10"
   ]
  },
  {
   "cell_type": "code",
   "execution_count": null,
   "id": "04ede696-7c75-4c89-9d44-561decceba54",
   "metadata": {},
   "outputs": [],
   "source": [
    "gene_lengths_kb_ser"
   ]
  },
  {
   "cell_type": "markdown",
   "id": "6a5049a7-c1e6-436b-afd8-7acc97885e25",
   "metadata": {},
   "source": [
    "#### `series.iloc` \n",
    "- indexing series explicitly by integer location\n",
    "- indexing by label wont work\n",
    "- can work with individual integer locations or slices of integer locations"
   ]
  },
  {
   "cell_type": "code",
   "execution_count": null,
   "id": "54c6135c-7311-4222-8289-a3ae46ca2d2d",
   "metadata": {},
   "outputs": [],
   "source": [
    "gene_lengths_kb_ser.iloc[1]"
   ]
  },
  {
   "cell_type": "markdown",
   "id": "7f93e516-db4d-47b3-b01b-bf25a6960731",
   "metadata": {},
   "source": [
    "### will this work?\n",
    "- gene_lengths_kb_ser.iloc['BRCA2']"
   ]
  },
  {
   "cell_type": "code",
   "execution_count": null,
   "id": "c6fde480-4927-4142-95fa-cdf4a8fcbee9",
   "metadata": {},
   "outputs": [],
   "source": []
  },
  {
   "cell_type": "code",
   "execution_count": null,
   "id": "95dee3ca-172a-4287-b0cc-8c4431c2dbce",
   "metadata": {},
   "outputs": [],
   "source": [
    "gene_lengths_kb_ser.iloc[:4]"
   ]
  },
  {
   "cell_type": "code",
   "execution_count": null,
   "id": "d35bf6b0-dc95-4e56-8cef-687be8840428",
   "metadata": {},
   "outputs": [],
   "source": [
    "integer_series.iloc[-1]"
   ]
  },
  {
   "cell_type": "markdown",
   "id": "7737a2f7-cf14-49e7-9c45-f7669257f91e",
   "metadata": {},
   "source": [
    "## Methods on series"
   ]
  },
  {
   "cell_type": "markdown",
   "id": "6a516777-2f0a-4f22-bb7c-2e7d1e731377",
   "metadata": {},
   "source": [
    "#### simple aggregation"
   ]
  },
  {
   "cell_type": "code",
   "execution_count": null,
   "id": "f06b6cb4-4169-4cdf-8106-22c73db9121d",
   "metadata": {},
   "outputs": [],
   "source": [
    "gene_lengths_kb_ser.mean()"
   ]
  },
  {
   "cell_type": "markdown",
   "id": "07916beb-0f06-402b-a02e-dc9fdea6c796",
   "metadata": {},
   "source": [
    "#### .agg method:  powerhouse"
   ]
  },
  {
   "cell_type": "code",
   "execution_count": null,
   "id": "5d221085-58d7-4fe1-ae37-7fa51d5a531f",
   "metadata": {},
   "outputs": [],
   "source": [
    "result = gene_lengths_kb_ser.agg(['mean', 'max', 'var', \n",
    "                         'prod', 'min', 'median',\n",
    "                         'all', 'any',\n",
    "                         'std', 'sum', 'nunique',\n",
    "                         'sem', 'size'                        \n",
    "                        ])"
   ]
  },
  {
   "cell_type": "code",
   "execution_count": null,
   "id": "a7857b84-8a12-410c-94f2-851a9758a7ff",
   "metadata": {},
   "outputs": [],
   "source": [
    "result"
   ]
  },
  {
   "cell_type": "code",
   "execution_count": null,
   "id": "99c5d938-af72-4ad1-af9d-582bc5f38225",
   "metadata": {},
   "outputs": [],
   "source": [
    "type(result)"
   ]
  },
  {
   "cell_type": "markdown",
   "id": "5ed4119d-2d18-41e6-a941-c7d8e321c150",
   "metadata": {},
   "source": [
    "### .value_counts()"
   ]
  },
  {
   "cell_type": "code",
   "execution_count": null,
   "id": "f7016ee0-64ae-4468-8064-5f42ae2ff02a",
   "metadata": {},
   "outputs": [],
   "source": [
    "gene_lengths_kb_ser.value_counts()"
   ]
  },
  {
   "cell_type": "markdown",
   "id": "dce0b701-09ad-4859-a188-b15a36b230fd",
   "metadata": {},
   "source": [
    "### apply function"
   ]
  },
  {
   "cell_type": "code",
   "execution_count": null,
   "id": "4053bd02-f648-4b58-9174-2bd8a3087f5a",
   "metadata": {},
   "outputs": [],
   "source": [
    "# with a numpy function\n",
    "gene_lengths_kb_ser.apply(np.log)"
   ]
  },
  {
   "cell_type": "markdown",
   "id": "75b07509-5d8b-4177-8bba-372cf1644210",
   "metadata": {},
   "source": [
    "# Collaborative exercises"
   ]
  },
  {
   "cell_type": "markdown",
   "id": "585c9684-189d-43dd-992d-ff9acd49ead5",
   "metadata": {},
   "source": [
    "## Exercise 1\n",
    "\n",
    "- Decide on a threshold voltage for hyperpolarization (or depolarization) with your team\n",
    "- Write a custom function that accepts a voltage and returns a `hyperpolarizing`  or `depolarizing` label as output for valid voltages. Raise appropriate exceptions for invalid voltages, including a `missing input` or `invalid input` label\n",
    " - Create a randomly simulated numpy array of voltages (n=10). Select two random positions in this array without replacement using `np.random.choice` and set the values to `np.nan` using numpy integer masks\n",
    "- Convert numpy array to series\n",
    "- Apply your custom function to the series and show the output\n",
    "- Can you also check for missing values and print which rows of the series have those missing values?\n",
    "- Can you create a new series where you drop the rows with missing values using `series.dropna()`?\n",
    "- Can you create a new series where you fill the missing values with `0` using `series.fillna(0)`?\n",
    "- https://numpy.org/doc/2.1/reference/random/generated/numpy.random.choice.html"
   ]
  },
  {
   "cell_type": "markdown",
   "id": "f64f44b4-04d2-455f-ac5f-24120ba77566",
   "metadata": {},
   "source": [
    "## Exercise 2\n",
    "\n",
    "- Create two toy datasets of EEG potentials recorded in micro-volts for four different electrodes, with one potential per electrode. Introduce atleast one missing value in each dataset. \n",
    "\n",
    "- An example dataset could look like the following. Note that you will create two such datasets, with the same `electrode_name` in each, but different voltages\n",
    "\n",
    "```\n",
    "electrode_name, micro_volts\n",
    "electrode1, 5\n",
    "electrode2, 2\n",
    "electrode3,  np.nan\n",
    "electrode4, 10\n",
    "```\n",
    "- Load each dataset into a pandas series\n",
    "- First, calculate the total voltage for each electrode using series addition. Explain output\n",
    "- Second, add data for an extra electrode in the second dataset, but not the first. Redo the total voltage calculation. What do you observe?\n",
    "- Third, create a new pandas series for the second dataset, this time with no index labels. Perform series addition again. Explain your observations"
   ]
  },
  {
   "cell_type": "markdown",
   "id": "1914c7c6-746c-411c-8382-f647df4013f5",
   "metadata": {},
   "source": [
    "## Exercise 3\n",
    "\n",
    "- Randomly simulate 100 different EEG potentials with data labels and load into a pandas `series_A`\n",
    "- Randomly select 50 rows of `series_A` using numpy and save in a new series called `ser_A_dup_data`. Modify the index labels of `ser_A_dup_data`\n",
    "- Create a new `series_B` combining `series_A` with `ser_A_dup_data` (you just created a new series with duplicates). Use `pd.concat()` for this\n",
    "- Calculate the 10%, 50% and 90% quantile on `series_B` using `series.quantile(q)` where q = [0.1, 0.5 or 0.9]\n",
    "- Experiment with sort_index(), sort_values() and drop_duplicates() function on `series_B`. Run drop_duplicates() with no arguments, keep='first', keep='last' and keep=False. What do you observe?\n",
    "- Experiment with `series_B.reset_index()` and `series_B.reset_index(drop=True)`. What do you observe? Explain your findings"
   ]
  },
  {
   "cell_type": "code",
   "execution_count": null,
   "id": "22425205-f7a4-4ad0-9dea-9a3219a2597b",
   "metadata": {},
   "outputs": [],
   "source": []
  }
 ],
 "metadata": {
  "kernelspec": {
   "display_name": "Python 3.12.7",
   "language": "python",
   "name": "venv_3.12.7"
  },
  "language_info": {
   "codemirror_mode": {
    "name": "ipython",
    "version": 3
   },
   "file_extension": ".py",
   "mimetype": "text/x-python",
   "name": "python",
   "nbconvert_exporter": "python",
   "pygments_lexer": "ipython3",
   "version": "3.12.7"
  }
 },
 "nbformat": 4,
 "nbformat_minor": 5
}
