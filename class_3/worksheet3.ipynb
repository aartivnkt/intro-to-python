{
 "cells": [
  {
   "cell_type": "markdown",
   "id": "961b0516-c0fb-4838-8c79-80e74e86a6f2",
   "metadata": {},
   "source": [
    "# worksheet3\n",
    "# Sets and dictionaries"
   ]
  },
  {
   "cell_type": "markdown",
   "id": "b6c498d5-3bdb-4991-beb2-3846ecdc2a7e",
   "metadata": {},
   "source": [
    "## Set\n",
    "- an unordered collection with no duplicate elements\n",
    "- initialize with either `set()`, or `{}`"
   ]
  },
  {
   "cell_type": "markdown",
   "id": "4701e2d8-ca74-454c-bf7e-5f38013deedb",
   "metadata": {},
   "source": [
    "### Set assignment"
   ]
  },
  {
   "cell_type": "code",
   "execution_count": null,
   "id": "5dcb8e7e-997c-4072-a780-ceea61669fa8",
   "metadata": {},
   "outputs": [],
   "source": [
    "genes_set = {'BRCA1', 'PTEN', 'PTEN', 'TMPRSS2', 'ERG'}"
   ]
  },
  {
   "cell_type": "code",
   "execution_count": null,
   "id": "24b38d33-6c1f-42dd-a3ed-c5a56342fa69",
   "metadata": {},
   "outputs": [],
   "source": [
    "genes_set"
   ]
  },
  {
   "cell_type": "markdown",
   "id": "0b944a98-15be-4f8f-b9bd-325115797443",
   "metadata": {},
   "source": [
    "### Get unique elements from a list\n",
    "- by making a list and using `np.unique()`\n",
    "- by creating a set, and passing that to a list"
   ]
  },
  {
   "cell_type": "markdown",
   "id": "18cce34b-47a5-4141-b22c-1ee16e396be3",
   "metadata": {},
   "source": [
    "### `np.unique()`"
   ]
  },
  {
   "cell_type": "code",
   "execution_count": null,
   "id": "92695a86-59cc-4210-93d7-5c99c71e113b",
   "metadata": {},
   "outputs": [],
   "source": [
    "!pip install numpy"
   ]
  },
  {
   "cell_type": "code",
   "execution_count": null,
   "id": "9a6b2057-e191-4fa8-ad59-810f0d61bd01",
   "metadata": {},
   "outputs": [],
   "source": [
    "import numpy as np"
   ]
  },
  {
   "cell_type": "code",
   "execution_count": null,
   "id": "f2ce9a22-ae69-40fc-853f-2e8fe7098716",
   "metadata": {},
   "outputs": [],
   "source": [
    "genes_list = ['BRCA1', 'PTEN', 'PTEN', 'TMPRSS2', 'ERG']"
   ]
  },
  {
   "cell_type": "code",
   "execution_count": null,
   "id": "f25fed70-e257-4af9-9fa1-2fe2b49666e6",
   "metadata": {},
   "outputs": [],
   "source": [
    "np.unique(genes_list)"
   ]
  },
  {
   "cell_type": "markdown",
   "id": "e9c0e8c8-8fca-4e39-8ab0-ddcbe76c0311",
   "metadata": {},
   "source": [
    "### make a set: convert list to set"
   ]
  },
  {
   "cell_type": "code",
   "execution_count": null,
   "id": "c2474c49-d293-4a4d-822b-1677c97d7aeb",
   "metadata": {},
   "outputs": [],
   "source": [
    "genes_list = ['BRCA1', 'PTEN', 'PTEN', 'TMPRSS2', 'ERG']"
   ]
  },
  {
   "cell_type": "code",
   "execution_count": null,
   "id": "8407ab00-43fc-4160-88b9-89e338311c15",
   "metadata": {},
   "outputs": [],
   "source": [
    "set(genes_list)"
   ]
  },
  {
   "cell_type": "markdown",
   "id": "5280c345-f0e2-4615-86bf-0350062a02f1",
   "metadata": {},
   "source": [
    "### convert `set(genes_list)` back to a list"
   ]
  },
  {
   "cell_type": "code",
   "execution_count": null,
   "id": "ddf6f414-e99e-4726-a31e-de2995297608",
   "metadata": {},
   "outputs": [],
   "source": [
    "list_from_set = list(set(genes_list))"
   ]
  },
  {
   "cell_type": "code",
   "execution_count": null,
   "id": "89bfb5e3-7ac7-47f2-99cf-8ca6e3e32e0f",
   "metadata": {},
   "outputs": [],
   "source": [
    "list_from_set"
   ]
  },
  {
   "cell_type": "markdown",
   "id": "ec2c3d66-f896-4833-882c-f5141da48cc7",
   "metadata": {},
   "source": [
    "### Q: can you sort `list_from_set` in ascending order?\n",
    "- 1-2 mins"
   ]
  },
  {
   "cell_type": "code",
   "execution_count": null,
   "id": "d2daa2a8-0856-485e-b526-9161b0fd5ba5",
   "metadata": {},
   "outputs": [],
   "source": []
  },
  {
   "cell_type": "markdown",
   "id": "b617985f-b60b-400c-a6cd-20946378dbf0",
   "metadata": {},
   "source": [
    "### Set operations"
   ]
  },
  {
   "cell_type": "code",
   "execution_count": null,
   "id": "414b3ec1-b2e5-454a-bc55-ab75e36c188b",
   "metadata": {},
   "outputs": [],
   "source": [
    "genes_list"
   ]
  },
  {
   "cell_type": "code",
   "execution_count": null,
   "id": "794298a8-15fd-4d4e-a5c8-45cae964efe9",
   "metadata": {},
   "outputs": [],
   "source": [
    "second_genes_list = ['BRCA2', 'PTEN', 'ERG', 'ERBB2']"
   ]
  },
  {
   "cell_type": "markdown",
   "id": "facc3c8b-6ada-4372-ba1a-9ec50a2b4dd5",
   "metadata": {},
   "source": [
    "### get intersect of genes in `genes_list` and `second_genes_list`"
   ]
  },
  {
   "cell_type": "code",
   "execution_count": null,
   "id": "4e279cf5-fea6-4f24-a786-f5f91f7e4bbe",
   "metadata": {},
   "outputs": [],
   "source": [
    "set(genes_list) & set(second_genes_list)"
   ]
  },
  {
   "cell_type": "markdown",
   "id": "a3762f39-51e3-4ae7-a151-aae934d2bc58",
   "metadata": {},
   "source": [
    "### get list of genes only in `genes_list` and not in `second_genes_list`"
   ]
  },
  {
   "cell_type": "code",
   "execution_count": null,
   "id": "a02101a8-7a16-46c6-8b97-e8c83cb3f862",
   "metadata": {},
   "outputs": [],
   "source": [
    "set(genes_list) - set(second_genes_list)"
   ]
  },
  {
   "cell_type": "markdown",
   "id": "1cb16b0b-8710-4a36-8c54-28837b1a570d",
   "metadata": {},
   "source": [
    "### Q: get list of genes only in `second_genes_list` and not in `genes_list`\n",
    "- see example above and modify\n",
    "- 1-2 mins"
   ]
  },
  {
   "cell_type": "code",
   "execution_count": null,
   "id": "d54b9dfc-aa19-4cd7-a92e-f8ae378603bc",
   "metadata": {},
   "outputs": [],
   "source": []
  },
  {
   "cell_type": "markdown",
   "id": "c1a8566e-d9b4-4747-81cc-1154f34d068b",
   "metadata": {},
   "source": [
    "### get list of genes in `genes_list` or `second_genes_list` or both"
   ]
  },
  {
   "cell_type": "code",
   "execution_count": null,
   "id": "09f2572c-e208-49a2-bfed-2f1c208781c3",
   "metadata": {},
   "outputs": [],
   "source": [
    "set(genes_list) | set(second_genes_list)"
   ]
  },
  {
   "cell_type": "markdown",
   "id": "5b2ea0d5-2574-4658-b4cd-03256474a5f7",
   "metadata": {},
   "source": [
    "### get list of genes in `genes_list` or `second_genes_list`, but not both\n",
    "- exclude intersect"
   ]
  },
  {
   "cell_type": "code",
   "execution_count": null,
   "id": "8b058282-9121-4443-9729-9ae52242863b",
   "metadata": {},
   "outputs": [],
   "source": [
    "set(genes_list) ^ set(second_genes_list)"
   ]
  },
  {
   "cell_type": "markdown",
   "id": "a703671d-6454-4969-a342-385070f13915",
   "metadata": {},
   "source": [
    "### set equality"
   ]
  },
  {
   "cell_type": "code",
   "execution_count": null,
   "id": "7d43746f-8534-40de-9195-f8a348d31e94",
   "metadata": {},
   "outputs": [],
   "source": [
    "genes_list == second_genes_list"
   ]
  },
  {
   "cell_type": "markdown",
   "id": "13c0012d-e73e-4d7d-b7ee-b96d00356efb",
   "metadata": {},
   "source": [
    "### Set functions"
   ]
  },
  {
   "cell_type": "code",
   "execution_count": null,
   "id": "86b8e018-11c7-45af-8054-8db70dd5c1e5",
   "metadata": {},
   "outputs": [],
   "source": [
    "# len of unique elements only\n",
    "len(genes_set)"
   ]
  },
  {
   "cell_type": "code",
   "execution_count": null,
   "id": "959bcc30-bccc-42f2-931f-86a599b88a54",
   "metadata": {},
   "outputs": [],
   "source": [
    "all(genes_set), any(genes_set)"
   ]
  },
  {
   "cell_type": "code",
   "execution_count": null,
   "id": "a574cbf5-fe43-49bc-8224-e4f1cd152795",
   "metadata": {},
   "outputs": [],
   "source": [
    "genes_null_set = set([False])"
   ]
  },
  {
   "cell_type": "code",
   "execution_count": null,
   "id": "2149ea10-2e45-46d3-9bfc-4c54e4728817",
   "metadata": {},
   "outputs": [],
   "source": [
    "all(genes_null_set), all(genes_null_set)"
   ]
  },
  {
   "cell_type": "code",
   "execution_count": null,
   "id": "982411ad-c921-425c-9568-c320483091a3",
   "metadata": {},
   "outputs": [],
   "source": [
    "sorted(genes_set)"
   ]
  },
  {
   "cell_type": "markdown",
   "id": "2a58d4ac-4be6-4f9a-b437-b9eccce06acb",
   "metadata": {},
   "source": [
    "### Set methods\n",
    "- add, update"
   ]
  },
  {
   "cell_type": "code",
   "execution_count": null,
   "id": "fd507e7c-2fd7-4beb-bfe3-dedc1371192f",
   "metadata": {},
   "outputs": [],
   "source": [
    "genes_set"
   ]
  },
  {
   "cell_type": "code",
   "execution_count": null,
   "id": "ac52ccbb-e932-4374-9009-d2818f9dc4f0",
   "metadata": {},
   "outputs": [],
   "source": [
    "genes_set.add('BRCA2')"
   ]
  },
  {
   "cell_type": "code",
   "execution_count": null,
   "id": "90996120-1c8d-4af6-b72c-e149a3507347",
   "metadata": {},
   "outputs": [],
   "source": [
    "genes_set"
   ]
  },
  {
   "cell_type": "markdown",
   "id": "b206b77c-a9b8-4e84-97d6-7850937d0488",
   "metadata": {},
   "source": [
    "### Q: what would the following line of code do? \n",
    "- `genes_set.add('BRCA1')`"
   ]
  },
  {
   "cell_type": "code",
   "execution_count": null,
   "id": "6b66b572-257c-4288-9511-3dbf43be1065",
   "metadata": {},
   "outputs": [],
   "source": []
  },
  {
   "cell_type": "markdown",
   "id": "3f2497c0-c39e-4dda-bd5b-c8777fd66263",
   "metadata": {},
   "source": [
    "### printing a set\n",
    "- print in any order"
   ]
  },
  {
   "cell_type": "code",
   "execution_count": null,
   "id": "aec584ec-b945-45c0-ae4a-3b11ed216848",
   "metadata": {},
   "outputs": [],
   "source": [
    "genes_set"
   ]
  },
  {
   "cell_type": "code",
   "execution_count": null,
   "id": "5f13c5ec-f691-4309-843c-5a35217e72af",
   "metadata": {},
   "outputs": [],
   "source": [
    "print(genes_set)"
   ]
  },
  {
   "cell_type": "code",
   "execution_count": null,
   "id": "45406d37-287b-4bcb-8ba6-fe30fdd704b4",
   "metadata": {},
   "outputs": [],
   "source": [
    "genes_set.update(['RB1', 'ESR1'])"
   ]
  },
  {
   "cell_type": "code",
   "execution_count": null,
   "id": "dd30bce8-4159-4583-addb-adf1879499cc",
   "metadata": {},
   "outputs": [],
   "source": [
    "genes_set"
   ]
  },
  {
   "cell_type": "markdown",
   "id": "3c537947-a650-4f62-8494-ad4118b1773a",
   "metadata": {},
   "source": [
    "## Dictionaries\n",
    "- set of key:value pairs\n",
    "- keys have to be unique and immutable\n",
    "- indexed by keys, unlike sequences\n",
    "- very powerful in python and commonly used data structure\n",
    "- main operation is to store a key:value pair and look up the key"
   ]
  },
  {
   "cell_type": "markdown",
   "id": "2973dbaa-61c1-4fd5-a372-2cb000ec0ee6",
   "metadata": {},
   "source": [
    "### Dictionary assignment and access\n",
    "- `{}` assignment\n",
    "- `dict()` constructor\n",
    "- `dict` comprehension (next class)"
   ]
  },
  {
   "cell_type": "code",
   "execution_count": null,
   "id": "7f203f13-f574-4d5f-b157-3cd0eeffc67b",
   "metadata": {},
   "outputs": [],
   "source": [
    "gene_location = {\n",
    "    'TP53': 'chr17:7661779-7687538',\n",
    "    'BRCA1' : 'chr17:43044295-43170245',\n",
    "    'BRCA2': 'chr13:32315086-32400268',\n",
    "}"
   ]
  },
  {
   "cell_type": "code",
   "execution_count": null,
   "id": "525c08a3-955e-4817-998c-6d2a29881e0b",
   "metadata": {},
   "outputs": [],
   "source": [
    "gene_location"
   ]
  },
  {
   "cell_type": "code",
   "execution_count": null,
   "id": "9e2ef42f-c0e1-4e2a-95d2-f6e7cdb5b423",
   "metadata": {},
   "outputs": [],
   "source": [
    "gene_location['TP53']"
   ]
  },
  {
   "cell_type": "markdown",
   "id": "0a5cfc1a-a19f-4505-a9b2-b8c3805970d9",
   "metadata": {},
   "source": [
    "### Q: access `BRCA1` chromosomal location"
   ]
  },
  {
   "cell_type": "code",
   "execution_count": null,
   "id": "b9dde21f-8668-43a6-8d8d-1ac2fd4e62a2",
   "metadata": {},
   "outputs": [],
   "source": []
  },
  {
   "cell_type": "markdown",
   "id": "67aa6d14-e11d-41ac-8851-4e681d3ed7fc",
   "metadata": {},
   "source": [
    "### can only access dictionary keys by name"
   ]
  },
  {
   "cell_type": "code",
   "execution_count": null,
   "id": "4f02657e-e594-4f79-a960-d60a8871fc5e",
   "metadata": {},
   "outputs": [],
   "source": [
    "gene_location[0]"
   ]
  },
  {
   "cell_type": "markdown",
   "id": "5aca632c-5ac7-4ae1-89ca-ddd12860ee95",
   "metadata": {},
   "source": [
    "### check if elements are present in the dictionary"
   ]
  },
  {
   "cell_type": "code",
   "execution_count": null,
   "id": "1d030da3-7ccc-4d77-9a54-fc275a481558",
   "metadata": {},
   "outputs": [],
   "source": [
    "'BRCA1' in gene_location"
   ]
  },
  {
   "cell_type": "code",
   "execution_count": null,
   "id": "71a04437-1641-4bb5-9016-395a1a055e7d",
   "metadata": {},
   "outputs": [],
   "source": [
    "'RB1' not in gene_location"
   ]
  },
  {
   "cell_type": "markdown",
   "id": "dda5d5ef-329a-4a7b-8bd7-74fd62dfbc8c",
   "metadata": {},
   "source": [
    "### update or modify a dictionary value\n",
    "- replace `chr` with `chromosome`"
   ]
  },
  {
   "cell_type": "code",
   "execution_count": null,
   "id": "28a66507-7452-45b4-aa51-2e9f212da9d8",
   "metadata": {},
   "outputs": [],
   "source": [
    "gene_location['BRCA1'] = gene_location['BRCA1'].replace('chr', 'chromosome')"
   ]
  },
  {
   "cell_type": "code",
   "execution_count": null,
   "id": "fba2a81e-573c-4c28-bb94-e28030e93f5d",
   "metadata": {},
   "outputs": [],
   "source": [
    "gene_location['BRCA1']"
   ]
  },
  {
   "cell_type": "code",
   "execution_count": null,
   "id": "0c6733e4-e2ab-4186-a1df-310d5887db7b",
   "metadata": {},
   "outputs": [],
   "source": [
    "gene_location"
   ]
  },
  {
   "cell_type": "markdown",
   "id": "89ad0a09-1ca9-4cac-95fb-e48e00868879",
   "metadata": {},
   "source": [
    "### dictionary values can be anything, including\n",
    "- a list\n",
    "- another dict!"
   ]
  },
  {
   "cell_type": "code",
   "execution_count": null,
   "id": "dc690e96-3eea-43e3-b594-49caaa52e308",
   "metadata": {},
   "outputs": [],
   "source": [
    "gene_location['BRCA1'] = {'chr': 17}"
   ]
  },
  {
   "cell_type": "code",
   "execution_count": null,
   "id": "39334032-92d6-4941-9144-9a9f1d8b7b6e",
   "metadata": {},
   "outputs": [],
   "source": [
    "gene_location"
   ]
  },
  {
   "cell_type": "markdown",
   "id": "595555e0-d73b-4f32-961f-a295b5cb3af4",
   "metadata": {},
   "source": [
    "### Dictionary assignment from:\n",
    "`dict()` constructor: takes a sequence of key:value pairs\n",
    "- simple keyword assignment\n",
    "- list of lists\n",
    "- list of tuples"
   ]
  },
  {
   "cell_type": "markdown",
   "id": "bfb9227b-7c0e-456d-9c9c-01fe48928bd9",
   "metadata": {},
   "source": [
    "### simple keyword assignment"
   ]
  },
  {
   "cell_type": "code",
   "execution_count": null,
   "id": "38c29011-935c-4266-adae-3ab0001c864d",
   "metadata": {},
   "outputs": [],
   "source": [
    "dict(TP53='chr17:7661779-7687538', \n",
    "     BRCA1='chr17:43044295-43170245',\n",
    "     BRCA2='chr13:32315086-32400268'\n",
    "    )"
   ]
  },
  {
   "cell_type": "markdown",
   "id": "c53f8d76-c91e-4f3a-99b6-384e1c3f47e8",
   "metadata": {},
   "source": [
    "### dict from list of lists"
   ]
  },
  {
   "cell_type": "code",
   "execution_count": null,
   "id": "d6cb278e-d991-4f65-b925-31577b0e0360",
   "metadata": {},
   "outputs": [],
   "source": [
    "gene_loc_list = [\n",
    "    ['TP53', 'chr17:7661779-7687538'],\n",
    "    ['BRCA1', 'chr17:43044295-43170245'],\n",
    "    ['BRCA2', 'chr13:32315086-32400268']\n",
    "]"
   ]
  },
  {
   "cell_type": "code",
   "execution_count": null,
   "id": "0befb699-738d-4d30-bab0-fac0a7e40c87",
   "metadata": {},
   "outputs": [],
   "source": [
    "dict(gene_loc_list)"
   ]
  },
  {
   "cell_type": "markdown",
   "id": "2d107ef0-008e-48a7-b7b2-627d6ac2d12e",
   "metadata": {},
   "source": [
    "### Q: create the dict from list of tuples\n",
    "- 1-2 mins"
   ]
  },
  {
   "cell_type": "code",
   "execution_count": null,
   "id": "14f63e83-ff6b-4126-ace1-7971077be3fd",
   "metadata": {},
   "outputs": [],
   "source": []
  },
  {
   "cell_type": "markdown",
   "id": "a514ed48-b5b8-4ac4-b1c4-4e9f96264137",
   "metadata": {},
   "source": [
    "### `dictionary.items()`"
   ]
  },
  {
   "cell_type": "code",
   "execution_count": null,
   "id": "e53b002c-8e50-4c76-9ced-7fa32a8fea16",
   "metadata": {},
   "outputs": [],
   "source": [
    "gene_location"
   ]
  },
  {
   "cell_type": "code",
   "execution_count": null,
   "id": "aa068281-2796-46e6-928c-d5f54f8d18ba",
   "metadata": {
    "tags": []
   },
   "outputs": [],
   "source": [
    "gene_location.items()"
   ]
  },
  {
   "cell_type": "code",
   "execution_count": null,
   "id": "f479a52f-8d5b-4a5b-a859-c50c18424566",
   "metadata": {},
   "outputs": [],
   "source": [
    "type(gene_location.items())"
   ]
  },
  {
   "cell_type": "code",
   "execution_count": null,
   "id": "8f9946a1-c172-4b23-accd-9ae454a53645",
   "metadata": {},
   "outputs": [],
   "source": [
    "list(gene_location.items())"
   ]
  },
  {
   "cell_type": "markdown",
   "id": "f387844f-da17-4189-bad7-e3d5face2efe",
   "metadata": {},
   "source": [
    "### Multiple ways to get keys in the dictionary\n",
    "- list(dict)\n",
    "- dict.keys()"
   ]
  },
  {
   "cell_type": "code",
   "execution_count": null,
   "id": "e0b344ad-9194-4dea-9e65-6fb0414f73d5",
   "metadata": {},
   "outputs": [],
   "source": [
    "list(gene_location)"
   ]
  },
  {
   "cell_type": "code",
   "execution_count": null,
   "id": "a618ddbe-4d61-49f5-b807-fd40f908e839",
   "metadata": {},
   "outputs": [],
   "source": [
    "gene_location.keys()"
   ]
  },
  {
   "cell_type": "code",
   "execution_count": null,
   "id": "64177f36-16aa-465b-8355-bdbb6b929c72",
   "metadata": {},
   "outputs": [],
   "source": [
    "list(gene_location.keys())"
   ]
  },
  {
   "cell_type": "markdown",
   "id": "061e6a73-56fe-458f-9ffc-f8c08471c5b6",
   "metadata": {},
   "source": [
    "### `values` of a dict"
   ]
  },
  {
   "cell_type": "code",
   "execution_count": null,
   "id": "c6aa6118-26b7-42a8-8061-7a588129e651",
   "metadata": {},
   "outputs": [],
   "source": [
    "gene_location.values()"
   ]
  },
  {
   "cell_type": "markdown",
   "id": "980cf583-c507-40e7-aa11-3daa92cdf843",
   "metadata": {},
   "source": [
    "### `len` of dict\n",
    "- what is this printing?"
   ]
  },
  {
   "cell_type": "code",
   "execution_count": null,
   "id": "b3a6e195-0898-4a87-a974-9b55296b28cf",
   "metadata": {},
   "outputs": [],
   "source": [
    "len(gene_location)"
   ]
  },
  {
   "cell_type": "code",
   "execution_count": null,
   "id": "b0b9916d-fa2c-413d-b3a7-fa7ee0eed980",
   "metadata": {},
   "outputs": [],
   "source": [
    "sorted(gene_location)"
   ]
  },
  {
   "cell_type": "markdown",
   "id": "2c535c3d-ad77-4cf4-9737-d993cd63fa4b",
   "metadata": {},
   "source": [
    "### Looping over dictionary key,value pairs\n",
    "- covered in next class"
   ]
  },
  {
   "cell_type": "code",
   "execution_count": null,
   "id": "1972fde6-6d14-4bfc-8e6a-078e86a558d8",
   "metadata": {},
   "outputs": [],
   "source": [
    "for k,v in gene_location.items():\n",
    "    print('{} {}'.format(k,v))"
   ]
  },
  {
   "cell_type": "markdown",
   "id": "648f4fc5-46c3-4113-9804-3ccc594f71c6",
   "metadata": {},
   "source": [
    "### Q: what would the following line of code print?\n",
    "`gene_location['BRAF']`\n",
    "- 1-2mins"
   ]
  },
  {
   "cell_type": "code",
   "execution_count": null,
   "id": "e291252b-6918-41b6-b1f6-dd5c5a0e99e8",
   "metadata": {},
   "outputs": [],
   "source": []
  },
  {
   "cell_type": "markdown",
   "id": "4e733b9a-5d0a-4897-8458-eda734cc8786",
   "metadata": {},
   "source": [
    "### adding and deleting key:value pairs\n",
    "- del "
   ]
  },
  {
   "cell_type": "markdown",
   "id": "1cdcca77-cd4f-4cb6-a2a8-492ffb9363c6",
   "metadata": {},
   "source": [
    "### Add a new key"
   ]
  },
  {
   "cell_type": "code",
   "execution_count": null,
   "id": "edcbf484-1f05-4730-9fd2-6b806dad5c5d",
   "metadata": {},
   "outputs": [],
   "source": [
    "gene_location['EGFR'] = 'chr7:55019017-55211628'"
   ]
  },
  {
   "cell_type": "code",
   "execution_count": null,
   "id": "d6dbb379-4820-490c-ac4e-15380cf476b1",
   "metadata": {},
   "outputs": [],
   "source": [
    "gene_location"
   ]
  },
  {
   "cell_type": "markdown",
   "id": "ac5e8f26-701c-477e-a2e4-640f7d1ebb37",
   "metadata": {},
   "source": [
    "### Delete a key"
   ]
  },
  {
   "cell_type": "code",
   "execution_count": null,
   "id": "1b9eb140-a810-4dbd-a455-782804272a39",
   "metadata": {},
   "outputs": [],
   "source": [
    "del gene_location['EGFR']"
   ]
  },
  {
   "cell_type": "code",
   "execution_count": null,
   "id": "38239f3f-6a4d-4800-a0e0-f27857c84f6f",
   "metadata": {},
   "outputs": [],
   "source": [
    "gene_location"
   ]
  },
  {
   "cell_type": "markdown",
   "id": "ec0aa6fb-9c0e-4447-8816-8ad48870270b",
   "metadata": {},
   "source": [
    "### Q: Can you use a list as a dictionary key\n",
    "- Why, or Why not?\n",
    "- 2 mins"
   ]
  },
  {
   "cell_type": "code",
   "execution_count": null,
   "id": "778bbd6c-fe92-4b32-b316-0e024464c151",
   "metadata": {},
   "outputs": [],
   "source": []
  },
  {
   "cell_type": "markdown",
   "id": "8dbf899d-9859-4dc4-8be9-05aa716e02ab",
   "metadata": {},
   "source": [
    "# Collaborative exercises"
   ]
  },
  {
   "cell_type": "markdown",
   "id": "0f885198-bd14-4d04-9e24-676d331eed64",
   "metadata": {},
   "source": [
    "## Exercise 1\n",
    "\n",
    "Nested dictionaries\n",
    "\n",
    "- Ask your friends for 3 of their favorite brain genes\n",
    "- Can you gather the gene names, chromosome number, start and stop for the 3 genes? You can get location information on the `ensembl` genome browser. See https://useast.ensembl.org/Homo_sapiens/Info/Index. Type in a gene name, you will get the `Location`\n",
    "- Your dictionary should have structure like this when printed:\n",
    "    ```\n",
    "    {'BRCA1': {'chr': 17, 'start': 43044295, 'stop': 43170245},\n",
    "    'BRCA2': {'chr': 13, 'start': 32315086, 'stop': 32400268},\n",
    "    'TP53': {'chr': 17, 'start': 7661779, 'stop': 7687538}}\n",
    "    ```\n",
    "- Can you create this dictionary?\n",
    "- Can you access the values by gene name, for an example gene decided by your team?\n",
    "- Can you access chr, start and stop for two select genes you decide with your team?\n"
   ]
  },
  {
   "cell_type": "markdown",
   "id": "e63b33b2-5375-4f2a-ba7d-0d651afe0800",
   "metadata": {},
   "source": [
    "## Exercise 2\n",
    "- Create a `set` with your 10 favorite genes (use gene names in the set). If you are running out of gene names, you may refer to https://www.genenames.org/tools/search/#!/?query=&rows=20&start=0&filter=document_type:gene. You can filter by type of gene in the left\n",
    "- Ask your teammate to create another set of their 10 favorite gene names\n",
    "- Determine if any genes are shared between your set and your teammates set\n",
    "- How many genes are shared?\n",
    "- If there are no shared genes, create another representative gene set, randomly choosing a few genes from your set\n",
    "- Can you create a dictionary with the shared genes? Use chromosome number as the value, and gene name as the key\n",
    "- What is the size of your dictionary? How many keys are there?\n",
    "- How many unique chromosome numbers are in your dictionary?\n",
    "- Add an additional key:value pair to this dictionary\n"
   ]
  },
  {
   "cell_type": "code",
   "execution_count": null,
   "id": "daab48bb-63cb-4df9-9277-43a973fa1548",
   "metadata": {},
   "outputs": [],
   "source": []
  }
 ],
 "metadata": {
  "kernelspec": {
   "display_name": "Python 3.12.7",
   "language": "python",
   "name": "venv_3.12.7"
  },
  "language_info": {
   "codemirror_mode": {
    "name": "ipython",
    "version": 3
   },
   "file_extension": ".py",
   "mimetype": "text/x-python",
   "name": "python",
   "nbconvert_exporter": "python",
   "pygments_lexer": "ipython3",
   "version": "3.12.7"
  }
 },
 "nbformat": 4,
 "nbformat_minor": 5
}
