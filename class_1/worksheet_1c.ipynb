{
 "cells": [
  {
   "cell_type": "markdown",
   "id": "1a8ea8b6-eae6-4463-8be5-db0e617e9f37",
   "metadata": {},
   "source": [
    "# worksheet_1c.ipynb"
   ]
  },
  {
   "cell_type": "markdown",
   "id": "51440dce-5695-4eb2-b8fd-2c86f110530e",
   "metadata": {},
   "source": [
    "## Simple calculations in JupyterLab\n",
    "- https://docs.jupyter.org/en/latest/"
   ]
  },
  {
   "cell_type": "code",
   "execution_count": null,
   "id": "023f3859-cc20-4cee-bf40-8cb3d216590e",
   "metadata": {},
   "outputs": [],
   "source": [
    "2 + 2"
   ]
  },
  {
   "cell_type": "code",
   "execution_count": null,
   "id": "6848bab0-080e-49db-871f-a385ea5225a3",
   "metadata": {},
   "outputs": [],
   "source": [
    "50 - 5*6"
   ]
  },
  {
   "cell_type": "code",
   "execution_count": null,
   "id": "e2213904-86d8-478c-bf32-3fee22b5db45",
   "metadata": {},
   "outputs": [],
   "source": [
    "(50 - 5*6) / 4"
   ]
  },
  {
   "cell_type": "code",
   "execution_count": null,
   "id": "feb86497-9937-48e1-b4f6-858ff47c851f",
   "metadata": {},
   "outputs": [],
   "source": [
    "5**2"
   ]
  },
  {
   "cell_type": "code",
   "execution_count": null,
   "id": "d490cf55-5937-41b3-8d31-a512c2b92113",
   "metadata": {},
   "outputs": [],
   "source": [
    "gene_length = 420"
   ]
  },
  {
   "cell_type": "code",
   "execution_count": null,
   "id": "c774e022-4425-459f-9c08-b191c456fc2d",
   "metadata": {},
   "outputs": [],
   "source": [
    "# undefined variables\n",
    "gene"
   ]
  },
  {
   "cell_type": "markdown",
   "id": "601caf7e-e295-4898-a477-83f334e39e4e",
   "metadata": {},
   "source": [
    "## Jupyterlab line and cell magics"
   ]
  },
  {
   "cell_type": "markdown",
   "id": "5044b444-2098-48ca-a0a0-0df18c354ecb",
   "metadata": {},
   "source": [
    "### time how long it takes to run a single line of code"
   ]
  },
  {
   "cell_type": "code",
   "execution_count": null,
   "id": "62ed7f8f-d133-471a-a890-01bd34662dfe",
   "metadata": {},
   "outputs": [],
   "source": [
    "%timeit x = range(100)"
   ]
  },
  {
   "cell_type": "code",
   "execution_count": null,
   "id": "ec6ef63a-4609-442f-a181-1955816a24cb",
   "metadata": {},
   "outputs": [],
   "source": [
    "%timeit new_list = [i+1 for i in range(10)]"
   ]
  },
  {
   "cell_type": "markdown",
   "id": "908859d5-4fdd-4659-94a6-23f066c1b22f",
   "metadata": {},
   "source": [
    "### write contents of cell to a file"
   ]
  },
  {
   "cell_type": "code",
   "execution_count": null,
   "id": "c9197331-e639-41e5-bb57-0e52074a257a",
   "metadata": {},
   "outputs": [],
   "source": [
    "%%writefile 'test.out'\n",
    "for i in range(10):\n",
    "    i = i+1\n",
    "    print(i)"
   ]
  },
  {
   "cell_type": "markdown",
   "id": "05314d52-58a3-40f1-88d8-fdc89bcc3a10",
   "metadata": {},
   "source": [
    "### render as html"
   ]
  },
  {
   "cell_type": "code",
   "execution_count": null,
   "id": "97351f64-6cbf-429e-9093-5cdfc1385ffd",
   "metadata": {},
   "outputs": [],
   "source": [
    "%%html\n",
    "<h2>Jupyterlab is so much fun</h2>"
   ]
  },
  {
   "cell_type": "markdown",
   "id": "b61f02c0-8ee6-4f16-9fa5-7675b35675c7",
   "metadata": {},
   "source": [
    "## see list of all magics"
   ]
  },
  {
   "cell_type": "code",
   "execution_count": null,
   "id": "8279d2fc-d5c7-4eb1-9a27-928d869a31fe",
   "metadata": {},
   "outputs": [],
   "source": [
    "%lsmagic"
   ]
  },
  {
   "cell_type": "markdown",
   "id": "e53e3605-3a82-47a2-bc23-a66cc36221d8",
   "metadata": {},
   "source": [
    "# Collaborative Exercises\n",
    "\n",
    "## Exercise 1\n",
    "\n",
    "- Introduction to strings\n",
    "```\n",
    "s = 'hello world'\n",
    "print(s)\n",
    "```\n",
    "Take the following sentence, store in a string and print it out (Hint you may need to escape special characters or quote differently)\n",
    "\n",
    "`s = You love neuroscience, don't you?`\n",
    "\n",
    "## Exercise 2\n",
    "\n",
    "Test using built-in Python modules from the standard library, see https://docs.python.org/3/tutorial/stdlib.html\n",
    "\n",
    "- Calculate the log2 of a number (e.g. use the math module)\n",
    "- What is the directory you are working in? (e.g. use the os module)\n"
   ]
  },
  {
   "cell_type": "code",
   "execution_count": null,
   "id": "83d95cb1-bdea-456e-8cf7-788d51711cac",
   "metadata": {},
   "outputs": [],
   "source": []
  }
 ],
 "metadata": {
  "kernelspec": {
   "display_name": "Python 3.12.7",
   "language": "python",
   "name": "venv_3.12.7"
  },
  "language_info": {
   "codemirror_mode": {
    "name": "ipython",
    "version": 3
   },
   "file_extension": ".py",
   "mimetype": "text/x-python",
   "name": "python",
   "nbconvert_exporter": "python",
   "pygments_lexer": "ipython3",
   "version": "3.12.7"
  }
 },
 "nbformat": 4,
 "nbformat_minor": 5
}
