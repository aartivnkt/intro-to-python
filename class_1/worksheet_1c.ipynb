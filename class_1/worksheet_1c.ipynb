{
 "cells": [
  {
   "cell_type": "markdown",
   "id": "1a8ea8b6-eae6-4463-8be5-db0e617e9f37",
   "metadata": {},
   "source": [
    "# worksheet_1c.ipynb"
   ]
  },
  {
   "cell_type": "markdown",
   "id": "51440dce-5695-4eb2-b8fd-2c86f110530e",
   "metadata": {},
   "source": [
    "## Simple calculations in JupyterLab"
   ]
  },
  {
   "cell_type": "code",
   "execution_count": 34,
   "id": "023f3859-cc20-4cee-bf40-8cb3d216590e",
   "metadata": {},
   "outputs": [
    {
     "data": {
      "text/plain": [
       "4"
      ]
     },
     "execution_count": 34,
     "metadata": {},
     "output_type": "execute_result"
    }
   ],
   "source": [
    "2 + 2"
   ]
  },
  {
   "cell_type": "code",
   "execution_count": 35,
   "id": "6848bab0-080e-49db-871f-a385ea5225a3",
   "metadata": {},
   "outputs": [
    {
     "data": {
      "text/plain": [
       "20"
      ]
     },
     "execution_count": 35,
     "metadata": {},
     "output_type": "execute_result"
    }
   ],
   "source": [
    "50 - 5*6"
   ]
  },
  {
   "cell_type": "code",
   "execution_count": 36,
   "id": "e2213904-86d8-478c-bf32-3fee22b5db45",
   "metadata": {},
   "outputs": [
    {
     "data": {
      "text/plain": [
       "5.0"
      ]
     },
     "execution_count": 36,
     "metadata": {},
     "output_type": "execute_result"
    }
   ],
   "source": [
    "(50 - 5*6) / 4"
   ]
  },
  {
   "cell_type": "code",
   "execution_count": 37,
   "id": "feb86497-9937-48e1-b4f6-858ff47c851f",
   "metadata": {},
   "outputs": [
    {
     "data": {
      "text/plain": [
       "25"
      ]
     },
     "execution_count": 37,
     "metadata": {},
     "output_type": "execute_result"
    }
   ],
   "source": [
    "5**2"
   ]
  },
  {
   "cell_type": "code",
   "execution_count": 38,
   "id": "d490cf55-5937-41b3-8d31-a512c2b92113",
   "metadata": {},
   "outputs": [],
   "source": [
    "gene_length = 420"
   ]
  },
  {
   "cell_type": "code",
   "execution_count": 40,
   "id": "c774e022-4425-459f-9c08-b191c456fc2d",
   "metadata": {},
   "outputs": [
    {
     "ename": "NameError",
     "evalue": "name 'gene' is not defined",
     "output_type": "error",
     "traceback": [
      "\u001b[0;31m---------------------------------------------------------------------------\u001b[0m",
      "\u001b[0;31mNameError\u001b[0m                                 Traceback (most recent call last)",
      "Cell \u001b[0;32mIn[40], line 2\u001b[0m\n\u001b[1;32m      1\u001b[0m \u001b[38;5;66;03m# undefined variables\u001b[39;00m\n\u001b[0;32m----> 2\u001b[0m \u001b[43mgene\u001b[49m\n",
      "\u001b[0;31mNameError\u001b[0m: name 'gene' is not defined"
     ]
    }
   ],
   "source": [
    "# undefined variables\n",
    "gene"
   ]
  },
  {
   "cell_type": "markdown",
   "id": "601caf7e-e295-4898-a477-83f334e39e4e",
   "metadata": {},
   "source": [
    "## Jupyterlab line and cell magics"
   ]
  },
  {
   "cell_type": "markdown",
   "id": "5044b444-2098-48ca-a0a0-0df18c354ecb",
   "metadata": {},
   "source": [
    "### time how long it takes to run a single line of code"
   ]
  },
  {
   "cell_type": "code",
   "execution_count": 1,
   "id": "62ed7f8f-d133-471a-a890-01bd34662dfe",
   "metadata": {},
   "outputs": [
    {
     "name": "stdout",
     "output_type": "stream",
     "text": [
      "61.2 ns ± 0.214 ns per loop (mean ± std. dev. of 7 runs, 10,000,000 loops each)\n"
     ]
    }
   ],
   "source": [
    "%timeit x = range(100)"
   ]
  },
  {
   "cell_type": "code",
   "execution_count": 2,
   "id": "ec6ef63a-4609-442f-a181-1955816a24cb",
   "metadata": {},
   "outputs": [
    {
     "name": "stdout",
     "output_type": "stream",
     "text": [
      "385 ns ± 1.97 ns per loop (mean ± std. dev. of 7 runs, 1,000,000 loops each)\n"
     ]
    }
   ],
   "source": [
    "%timeit new_list = [i+1 for i in range(10)]"
   ]
  },
  {
   "cell_type": "markdown",
   "id": "908859d5-4fdd-4659-94a6-23f066c1b22f",
   "metadata": {},
   "source": [
    "### write contents of cell to a file"
   ]
  },
  {
   "cell_type": "code",
   "execution_count": 13,
   "id": "c9197331-e639-41e5-bb57-0e52074a257a",
   "metadata": {},
   "outputs": [
    {
     "name": "stdout",
     "output_type": "stream",
     "text": [
      "Overwriting test.out\n"
     ]
    }
   ],
   "source": [
    "%%writefile 'test.out'\n",
    "for i in range(10):\n",
    "    i = i+1\n",
    "    print(i)"
   ]
  },
  {
   "cell_type": "markdown",
   "id": "05314d52-58a3-40f1-88d8-fdc89bcc3a10",
   "metadata": {},
   "source": [
    "### render as html"
   ]
  },
  {
   "cell_type": "code",
   "execution_count": 11,
   "id": "97351f64-6cbf-429e-9093-5cdfc1385ffd",
   "metadata": {},
   "outputs": [
    {
     "data": {
      "text/html": [
       "<h2>Jupyterlab is so much fun</h2>\n"
      ],
      "text/plain": [
       "<IPython.core.display.HTML object>"
      ]
     },
     "metadata": {},
     "output_type": "display_data"
    }
   ],
   "source": [
    "%%html\n",
    "<h2>Jupyterlab is so much fun</h2>"
   ]
  },
  {
   "cell_type": "markdown",
   "id": "b61f02c0-8ee6-4f16-9fa5-7675b35675c7",
   "metadata": {},
   "source": [
    "## see list of all magics"
   ]
  },
  {
   "cell_type": "code",
   "execution_count": 14,
   "id": "8279d2fc-d5c7-4eb1-9a27-928d869a31fe",
   "metadata": {},
   "outputs": [
    {
     "data": {
      "application/json": {
       "cell": {
        "!": "OSMagics",
        "HTML": "Other",
        "SVG": "Other",
        "bash": "Other",
        "capture": "ExecutionMagics",
        "debug": "ExecutionMagics",
        "file": "Other",
        "html": "DisplayMagics",
        "javascript": "DisplayMagics",
        "js": "DisplayMagics",
        "latex": "DisplayMagics",
        "markdown": "DisplayMagics",
        "perl": "Other",
        "prun": "ExecutionMagics",
        "pypy": "Other",
        "python": "Other",
        "python2": "Other",
        "python3": "Other",
        "ruby": "Other",
        "script": "ScriptMagics",
        "sh": "Other",
        "svg": "DisplayMagics",
        "sx": "OSMagics",
        "system": "OSMagics",
        "time": "ExecutionMagics",
        "timeit": "ExecutionMagics",
        "writefile": "OSMagics"
       },
       "line": {
        "alias": "OSMagics",
        "alias_magic": "BasicMagics",
        "autoawait": "AsyncMagics",
        "autocall": "AutoMagics",
        "automagic": "AutoMagics",
        "autosave": "KernelMagics",
        "bookmark": "OSMagics",
        "cat": "Other",
        "cd": "OSMagics",
        "clear": "KernelMagics",
        "colors": "BasicMagics",
        "conda": "PackagingMagics",
        "config": "ConfigMagics",
        "connect_info": "KernelMagics",
        "cp": "Other",
        "debug": "ExecutionMagics",
        "dhist": "OSMagics",
        "dirs": "OSMagics",
        "doctest_mode": "BasicMagics",
        "ed": "Other",
        "edit": "KernelMagics",
        "env": "OSMagics",
        "gui": "BasicMagics",
        "hist": "Other",
        "history": "HistoryMagics",
        "killbgscripts": "ScriptMagics",
        "ldir": "Other",
        "less": "KernelMagics",
        "lf": "Other",
        "lk": "Other",
        "ll": "Other",
        "load": "CodeMagics",
        "load_ext": "ExtensionMagics",
        "loadpy": "CodeMagics",
        "logoff": "LoggingMagics",
        "logon": "LoggingMagics",
        "logstart": "LoggingMagics",
        "logstate": "LoggingMagics",
        "logstop": "LoggingMagics",
        "ls": "Other",
        "lsmagic": "BasicMagics",
        "lx": "Other",
        "macro": "ExecutionMagics",
        "magic": "BasicMagics",
        "man": "KernelMagics",
        "matplotlib": "PylabMagics",
        "mkdir": "Other",
        "more": "KernelMagics",
        "mv": "Other",
        "notebook": "BasicMagics",
        "page": "BasicMagics",
        "pastebin": "CodeMagics",
        "pdb": "ExecutionMagics",
        "pdef": "NamespaceMagics",
        "pdoc": "NamespaceMagics",
        "pfile": "NamespaceMagics",
        "pinfo": "NamespaceMagics",
        "pinfo2": "NamespaceMagics",
        "pip": "PackagingMagics",
        "popd": "OSMagics",
        "pprint": "BasicMagics",
        "precision": "BasicMagics",
        "prun": "ExecutionMagics",
        "psearch": "NamespaceMagics",
        "psource": "NamespaceMagics",
        "pushd": "OSMagics",
        "pwd": "OSMagics",
        "pycat": "OSMagics",
        "pylab": "PylabMagics",
        "qtconsole": "KernelMagics",
        "quickref": "BasicMagics",
        "recall": "HistoryMagics",
        "rehashx": "OSMagics",
        "reload_ext": "ExtensionMagics",
        "rep": "Other",
        "rerun": "HistoryMagics",
        "reset": "NamespaceMagics",
        "reset_selective": "NamespaceMagics",
        "rm": "Other",
        "rmdir": "Other",
        "run": "ExecutionMagics",
        "save": "CodeMagics",
        "sc": "OSMagics",
        "set_env": "OSMagics",
        "store": "StoreMagics",
        "sx": "OSMagics",
        "system": "OSMagics",
        "tb": "ExecutionMagics",
        "time": "ExecutionMagics",
        "timeit": "ExecutionMagics",
        "unalias": "OSMagics",
        "unload_ext": "ExtensionMagics",
        "who": "NamespaceMagics",
        "who_ls": "NamespaceMagics",
        "whos": "NamespaceMagics",
        "xdel": "NamespaceMagics",
        "xmode": "BasicMagics"
       }
      },
      "text/plain": [
       "Available line magics:\n",
       "%alias  %alias_magic  %autoawait  %autocall  %automagic  %autosave  %bookmark  %cat  %cd  %clear  %colors  %conda  %config  %connect_info  %cp  %debug  %dhist  %dirs  %doctest_mode  %ed  %edit  %env  %gui  %hist  %history  %killbgscripts  %ldir  %less  %lf  %lk  %ll  %load  %load_ext  %loadpy  %logoff  %logon  %logstart  %logstate  %logstop  %ls  %lsmagic  %lx  %macro  %magic  %man  %matplotlib  %mkdir  %more  %mv  %notebook  %page  %pastebin  %pdb  %pdef  %pdoc  %pfile  %pinfo  %pinfo2  %pip  %popd  %pprint  %precision  %prun  %psearch  %psource  %pushd  %pwd  %pycat  %pylab  %qtconsole  %quickref  %recall  %rehashx  %reload_ext  %rep  %rerun  %reset  %reset_selective  %rm  %rmdir  %run  %save  %sc  %set_env  %store  %sx  %system  %tb  %time  %timeit  %unalias  %unload_ext  %who  %who_ls  %whos  %xdel  %xmode\n",
       "\n",
       "Available cell magics:\n",
       "%%!  %%HTML  %%SVG  %%bash  %%capture  %%debug  %%file  %%html  %%javascript  %%js  %%latex  %%markdown  %%perl  %%prun  %%pypy  %%python  %%python2  %%python3  %%ruby  %%script  %%sh  %%svg  %%sx  %%system  %%time  %%timeit  %%writefile\n",
       "\n",
       "Automagic is ON, % prefix IS NOT needed for line magics."
      ]
     },
     "execution_count": 14,
     "metadata": {},
     "output_type": "execute_result"
    }
   ],
   "source": [
    "%lsmagic"
   ]
  },
  {
   "cell_type": "markdown",
   "id": "e53e3605-3a82-47a2-bc23-a66cc36221d8",
   "metadata": {},
   "source": [
    "# Collaborative Exercise 1"
   ]
  },
  {
   "cell_type": "markdown",
   "id": "844c80f5-4ab6-40be-ae1e-b5e391814e79",
   "metadata": {},
   "source": [
    "#### Introduction to strings"
   ]
  },
  {
   "cell_type": "code",
   "execution_count": 31,
   "id": "ae48ca44-ef89-46ad-8cd1-a8298de01484",
   "metadata": {},
   "outputs": [
    {
     "name": "stdout",
     "output_type": "stream",
     "text": [
      "hello world\n"
     ]
    }
   ],
   "source": [
    "# s can be a string, int, float, dict. Doesn't have to be predeclared\n",
    "s = 'hello world'\n",
    "print(s)"
   ]
  },
  {
   "cell_type": "markdown",
   "id": "eb32b00a-e6ba-4932-b225-0c22dc7fa4f9",
   "metadata": {},
   "source": [
    "#### Take the following sentence, store in a string and print it out. Hint you may need to escape special characters or quote differently\n",
    "- You love neuroscience, don't you?"
   ]
  },
  {
   "cell_type": "markdown",
   "id": "5a7cc7ce-392f-4d72-9c54-6ea1f2d2f858",
   "metadata": {},
   "source": [
    "# Collaborative Exercise 2"
   ]
  },
  {
   "cell_type": "markdown",
   "id": "3cd89286-c620-40e5-9bd8-011f336f8a1d",
   "metadata": {},
   "source": [
    "#### Introduction to built-in python modules (std library) https://docs.python.org/3/tutorial/stdlib.html\n",
    "- Calculate the log2 of a number (use the math module)\n",
    "- What is the directory you are working in? (use the os module)"
   ]
  },
  {
   "cell_type": "code",
   "execution_count": null,
   "id": "498662e0-e80e-4798-a5c2-7b7462129b3a",
   "metadata": {},
   "outputs": [],
   "source": []
  }
 ],
 "metadata": {
  "kernelspec": {
   "display_name": "Python 3 (ipykernel)",
   "language": "python",
   "name": "python3"
  },
  "language_info": {
   "codemirror_mode": {
    "name": "ipython",
    "version": 3
   },
   "file_extension": ".py",
   "mimetype": "text/x-python",
   "name": "python",
   "nbconvert_exporter": "python",
   "pygments_lexer": "ipython3",
   "version": "3.12.7"
  }
 },
 "nbformat": 4,
 "nbformat_minor": 5
}
