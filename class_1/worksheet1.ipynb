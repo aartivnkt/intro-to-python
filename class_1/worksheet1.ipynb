{
 "cells": [
  {
   "cell_type": "markdown",
   "id": "1a8ea8b6-eae6-4463-8be5-db0e617e9f37",
   "metadata": {},
   "source": [
    "# Worksheet1.ipynb"
   ]
  },
  {
   "cell_type": "markdown",
   "id": "6c89861e-87b8-49f4-b812-97d1bcb8815d",
   "metadata": {},
   "source": [
    "## Run this cell after installing system python 3.12.7"
   ]
  },
  {
   "cell_type": "code",
   "execution_count": 2,
   "id": "f7c7f12e-e4cb-44d7-851c-8cb89d391975",
   "metadata": {},
   "outputs": [
    {
     "name": "stdout",
     "output_type": "stream",
     "text": [
      "/Library/Frameworks/Python.framework/Versions/3.12/bin/python3\n"
     ]
    }
   ],
   "source": [
    "!which python3"
   ]
  },
  {
   "cell_type": "markdown",
   "id": "1646b0dd-f328-4f32-afcd-399c43d46dad",
   "metadata": {},
   "source": [
    "## Different ways to check python versions"
   ]
  },
  {
   "cell_type": "code",
   "execution_count": 3,
   "id": "ffdd5e1e-f544-4ac5-b33d-4038b66635f1",
   "metadata": {},
   "outputs": [
    {
     "name": "stdout",
     "output_type": "stream",
     "text": [
      "Python 3.12.7 (v3.12.7:0b05ead877f, Sep 30 2024, 23:18:00) [Clang 13.0.0 (clang-1300.0.29.30)] on darwin\n",
      "Type \"help\", \"copyright\", \"credits\" or \"license\" for more information.\n",
      ">>> \n",
      "Traceback (most recent call last):\n",
      "  File \"<stdin>\", line 0, in <module>\n",
      "KeyboardInterrupt\n",
      ">>> "
     ]
    }
   ],
   "source": [
    "!python3"
   ]
  },
  {
   "cell_type": "code",
   "execution_count": 6,
   "id": "d5024921-2b6a-4bbd-b8e1-a8be96ab4880",
   "metadata": {},
   "outputs": [
    {
     "name": "stdout",
     "output_type": "stream",
     "text": [
      "Python 3.12.7\n"
     ]
    }
   ],
   "source": [
    "!python3 -V"
   ]
  },
  {
   "cell_type": "markdown",
   "id": "1074b43c-a3ef-4a6a-9846-701fa6fb155d",
   "metadata": {},
   "source": [
    "##  Now run this after installing virtualenv"
   ]
  },
  {
   "cell_type": "code",
   "execution_count": 1,
   "id": "8227a017-f3db-4486-99ad-104047ef564e",
   "metadata": {},
   "outputs": [
    {
     "name": "stdout",
     "output_type": "stream",
     "text": [
      "/Users/aartivenkat/Projects/teaching/aarti_notebooks/venv_3.12.7/bin/python3\n"
     ]
    }
   ],
   "source": [
    "!which python3"
   ]
  },
  {
   "cell_type": "markdown",
   "id": "cbb4675f-f64c-4099-864d-f452a27e1fa2",
   "metadata": {},
   "source": [
    "## Installing and uninstalling packages in virtualenv"
   ]
  },
  {
   "cell_type": "code",
   "execution_count": 3,
   "id": "cd16749c-8d79-4c93-9503-54c8f36a1a46",
   "metadata": {},
   "outputs": [
    {
     "ename": "ModuleNotFoundError",
     "evalue": "No module named 'numpy'",
     "output_type": "error",
     "traceback": [
      "\u001b[0;31m---------------------------------------------------------------------------\u001b[0m",
      "\u001b[0;31mModuleNotFoundError\u001b[0m                       Traceback (most recent call last)",
      "Cell \u001b[0;32mIn[3], line 1\u001b[0m\n\u001b[0;32m----> 1\u001b[0m \u001b[38;5;28;01mimport\u001b[39;00m \u001b[38;5;21;01mnumpy\u001b[39;00m \u001b[38;5;28;01mas\u001b[39;00m \u001b[38;5;21;01mnp\u001b[39;00m\n",
      "\u001b[0;31mModuleNotFoundError\u001b[0m: No module named 'numpy'"
     ]
    }
   ],
   "source": [
    "import numpy as np"
   ]
  },
  {
   "cell_type": "markdown",
   "id": "a58a093f-de52-47f6-b8a1-7fba97d58677",
   "metadata": {},
   "source": [
    "## Check for list of packages in virtualenv"
   ]
  },
  {
   "cell_type": "code",
   "execution_count": 1,
   "id": "63e39604-3458-4b14-a7dd-0cccc3fa31ab",
   "metadata": {},
   "outputs": [
    {
     "name": "stdout",
     "output_type": "stream",
     "text": [
      "Package Version\n",
      "------- -------\n",
      "pip     24.3.1\n"
     ]
    }
   ],
   "source": [
    "!pip list"
   ]
  },
  {
   "cell_type": "markdown",
   "id": "465597fe-08dc-427d-89d9-293442723be1",
   "metadata": {},
   "source": [
    "## Install numpy in virtualenv"
   ]
  },
  {
   "cell_type": "code",
   "execution_count": 26,
   "id": "52f5a5c1-86c8-41ae-906a-3b8ba8ed922d",
   "metadata": {},
   "outputs": [
    {
     "name": "stdout",
     "output_type": "stream",
     "text": [
      "Collecting numpy\n",
      "  Using cached numpy-2.1.3-cp312-cp312-macosx_11_0_arm64.whl.metadata (62 kB)\n",
      "Using cached numpy-2.1.3-cp312-cp312-macosx_11_0_arm64.whl (13.5 MB)\n",
      "Installing collected packages: numpy\n",
      "Successfully installed numpy-2.1.3\n"
     ]
    }
   ],
   "source": [
    "!pip install numpy"
   ]
  },
  {
   "cell_type": "code",
   "execution_count": 27,
   "id": "d86a7b24-0cad-432b-9f8e-988bcc11b4fd",
   "metadata": {},
   "outputs": [
    {
     "name": "stdout",
     "output_type": "stream",
     "text": [
      "Package Version\n",
      "------- -------\n",
      "numpy   2.1.3\n",
      "pip     24.3.1\n"
     ]
    }
   ],
   "source": [
    "!pip list"
   ]
  },
  {
   "cell_type": "code",
   "execution_count": 28,
   "id": "da17bcaf-9981-4f42-90a3-3860ed421edc",
   "metadata": {},
   "outputs": [
    {
     "name": "stdout",
     "output_type": "stream",
     "text": [
      "numpy==2.1.3\n"
     ]
    }
   ],
   "source": [
    "!pip freeze"
   ]
  },
  {
   "cell_type": "code",
   "execution_count": 30,
   "id": "c90b254e-92a9-47ca-b79c-aac8882ef263",
   "metadata": {},
   "outputs": [],
   "source": [
    "#!pip show numpy"
   ]
  },
  {
   "cell_type": "markdown",
   "id": "2c4d5d81-ca6c-4ee7-bea7-c6b091d9e702",
   "metadata": {},
   "source": [
    "# install a specific version of numpy"
   ]
  },
  {
   "cell_type": "code",
   "execution_count": 15,
   "id": "f10b687a-ea28-4145-9eb0-d84913580877",
   "metadata": {},
   "outputs": [
    {
     "name": "stdout",
     "output_type": "stream",
     "text": [
      "Collecting numpy==2.1.2\n",
      "  Using cached numpy-2.1.2-cp312-cp312-macosx_11_0_arm64.whl.metadata (60 kB)\n",
      "Using cached numpy-2.1.2-cp312-cp312-macosx_11_0_arm64.whl (13.5 MB)\n",
      "Installing collected packages: numpy\n",
      "Successfully installed numpy-2.1.2\n"
     ]
    }
   ],
   "source": [
    "# see https://pypi.org/project/numpy/#history\n",
    "!pip install numpy==2.1.2"
   ]
  },
  {
   "cell_type": "code",
   "execution_count": 16,
   "id": "48968b0f-8b96-441b-9ff9-1207180d91ac",
   "metadata": {},
   "outputs": [
    {
     "name": "stdout",
     "output_type": "stream",
     "text": [
      "Package Version\n",
      "------- -------\n",
      "numpy   2.1.2\n",
      "pip     24.3.1\n"
     ]
    }
   ],
   "source": [
    "!pip list"
   ]
  },
  {
   "cell_type": "code",
   "execution_count": 17,
   "id": "370f5027-94e1-46cc-b902-6516d6a93017",
   "metadata": {},
   "outputs": [
    {
     "name": "stdout",
     "output_type": "stream",
     "text": [
      "numpy==2.1.2\n"
     ]
    }
   ],
   "source": [
    "!pip freeze"
   ]
  },
  {
   "cell_type": "code",
   "execution_count": 19,
   "id": "8a0ad1cc-f33a-42f7-84eb-6d2e8424b18d",
   "metadata": {},
   "outputs": [],
   "source": [
    "# send version controlled requirements as part of applications\n",
    "!pip freeze > requirements.txt"
   ]
  },
  {
   "cell_type": "markdown",
   "id": "2b9603b0-c2bb-4df3-ab6d-2744f72f6f8a",
   "metadata": {},
   "source": [
    "# uninstall numpy"
   ]
  },
  {
   "cell_type": "code",
   "execution_count": 20,
   "id": "1cc99a01-dcbe-4305-95fb-9e2a5ae4ea33",
   "metadata": {},
   "outputs": [
    {
     "name": "stdout",
     "output_type": "stream",
     "text": [
      "Found existing installation: numpy 2.1.2\n",
      "Uninstalling numpy-2.1.2:\n",
      "  Successfully uninstalled numpy-2.1.2\n"
     ]
    }
   ],
   "source": [
    "!pip uninstall -y numpy"
   ]
  },
  {
   "cell_type": "code",
   "execution_count": 21,
   "id": "f4099a7f-a781-4ef1-b934-8de2901d6a36",
   "metadata": {},
   "outputs": [
    {
     "name": "stdout",
     "output_type": "stream",
     "text": [
      "Package Version\n",
      "------- -------\n",
      "pip     24.3.1\n"
     ]
    }
   ],
   "source": [
    "!pip list"
   ]
  },
  {
   "cell_type": "markdown",
   "id": "51440dce-5695-4eb2-b8fd-2c86f110530e",
   "metadata": {},
   "source": [
    "## Simple calculations in JupyterLab"
   ]
  },
  {
   "cell_type": "code",
   "execution_count": 34,
   "id": "023f3859-cc20-4cee-bf40-8cb3d216590e",
   "metadata": {},
   "outputs": [
    {
     "data": {
      "text/plain": [
       "4"
      ]
     },
     "execution_count": 34,
     "metadata": {},
     "output_type": "execute_result"
    }
   ],
   "source": [
    "2 + 2"
   ]
  },
  {
   "cell_type": "code",
   "execution_count": 35,
   "id": "6848bab0-080e-49db-871f-a385ea5225a3",
   "metadata": {},
   "outputs": [
    {
     "data": {
      "text/plain": [
       "20"
      ]
     },
     "execution_count": 35,
     "metadata": {},
     "output_type": "execute_result"
    }
   ],
   "source": [
    "50 - 5*6"
   ]
  },
  {
   "cell_type": "code",
   "execution_count": 36,
   "id": "e2213904-86d8-478c-bf32-3fee22b5db45",
   "metadata": {},
   "outputs": [
    {
     "data": {
      "text/plain": [
       "5.0"
      ]
     },
     "execution_count": 36,
     "metadata": {},
     "output_type": "execute_result"
    }
   ],
   "source": [
    "(50 - 5*6) / 4"
   ]
  },
  {
   "cell_type": "code",
   "execution_count": 37,
   "id": "feb86497-9937-48e1-b4f6-858ff47c851f",
   "metadata": {},
   "outputs": [
    {
     "data": {
      "text/plain": [
       "25"
      ]
     },
     "execution_count": 37,
     "metadata": {},
     "output_type": "execute_result"
    }
   ],
   "source": [
    "5**2"
   ]
  },
  {
   "cell_type": "code",
   "execution_count": 38,
   "id": "d490cf55-5937-41b3-8d31-a512c2b92113",
   "metadata": {},
   "outputs": [],
   "source": [
    "gene_length = 420"
   ]
  },
  {
   "cell_type": "code",
   "execution_count": 40,
   "id": "c774e022-4425-459f-9c08-b191c456fc2d",
   "metadata": {},
   "outputs": [
    {
     "ename": "NameError",
     "evalue": "name 'gene' is not defined",
     "output_type": "error",
     "traceback": [
      "\u001b[0;31m---------------------------------------------------------------------------\u001b[0m",
      "\u001b[0;31mNameError\u001b[0m                                 Traceback (most recent call last)",
      "Cell \u001b[0;32mIn[40], line 2\u001b[0m\n\u001b[1;32m      1\u001b[0m \u001b[38;5;66;03m# undefined variables\u001b[39;00m\n\u001b[0;32m----> 2\u001b[0m \u001b[43mgene\u001b[49m\n",
      "\u001b[0;31mNameError\u001b[0m: name 'gene' is not defined"
     ]
    }
   ],
   "source": [
    "# undefined variables\n",
    "gene"
   ]
  },
  {
   "cell_type": "markdown",
   "id": "e53e3605-3a82-47a2-bc23-a66cc36221d8",
   "metadata": {},
   "source": [
    "# Collaborative Exercise 1"
   ]
  },
  {
   "cell_type": "markdown",
   "id": "844c80f5-4ab6-40be-ae1e-b5e391814e79",
   "metadata": {},
   "source": [
    "#### Introduction to strings"
   ]
  },
  {
   "cell_type": "code",
   "execution_count": 31,
   "id": "ae48ca44-ef89-46ad-8cd1-a8298de01484",
   "metadata": {},
   "outputs": [
    {
     "name": "stdout",
     "output_type": "stream",
     "text": [
      "hello world\n"
     ]
    }
   ],
   "source": [
    "# s can be a string, int, float, dict. Doesn't have to be predeclared\n",
    "s = 'hello world'\n",
    "print(s)"
   ]
  },
  {
   "cell_type": "markdown",
   "id": "eb32b00a-e6ba-4932-b225-0c22dc7fa4f9",
   "metadata": {},
   "source": [
    "#### Take the following sentence, store in a string and print it out. Hint you may need to escape special characters or quote differently\n",
    "#### You love neuroscience, don't you?"
   ]
  },
  {
   "cell_type": "markdown",
   "id": "5a7cc7ce-392f-4d72-9c54-6ea1f2d2f858",
   "metadata": {},
   "source": [
    "# Collaborative Exercise 2"
   ]
  },
  {
   "cell_type": "markdown",
   "id": "3cd89286-c620-40e5-9bd8-011f336f8a1d",
   "metadata": {},
   "source": [
    "#### Introduction to built-in python modules (std library) https://docs.python.org/3/tutorial/stdlib.html"
   ]
  },
  {
   "cell_type": "markdown",
   "id": "344bd466-875f-49ab-be38-2c8f512263cd",
   "metadata": {},
   "source": [
    "#### Calculate the log2 of a number (use the math module)"
   ]
  },
  {
   "cell_type": "markdown",
   "id": "bc1f9d20-e3b9-4a56-9a6a-cd128da5d120",
   "metadata": {},
   "source": [
    "#### What is the directory you are working in? (use the os module)"
   ]
  },
  {
   "cell_type": "code",
   "execution_count": null,
   "id": "498662e0-e80e-4798-a5c2-7b7462129b3a",
   "metadata": {},
   "outputs": [],
   "source": []
  }
 ],
 "metadata": {
  "kernelspec": {
   "display_name": "Python 3 (ipykernel)",
   "language": "python",
   "name": "python3"
  },
  "language_info": {
   "codemirror_mode": {
    "name": "ipython",
    "version": 3
   },
   "file_extension": ".py",
   "mimetype": "text/x-python",
   "name": "python",
   "nbconvert_exporter": "python",
   "pygments_lexer": "ipython3",
   "version": "3.9.18"
  }
 },
 "nbformat": 4,
 "nbformat_minor": 5
}
