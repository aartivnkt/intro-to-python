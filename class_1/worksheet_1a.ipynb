{
 "cells": [
  {
   "cell_type": "markdown",
   "id": "1a8ea8b6-eae6-4463-8be5-db0e617e9f37",
   "metadata": {},
   "source": [
    "# worksheet_1a.ipynb"
   ]
  },
  {
   "cell_type": "markdown",
   "id": "6c89861e-87b8-49f4-b812-97d1bcb8815d",
   "metadata": {},
   "source": [
    "## Run this cell after installing system python 3.12.7"
   ]
  },
  {
   "cell_type": "code",
   "execution_count": null,
   "id": "f7c7f12e-e4cb-44d7-851c-8cb89d391975",
   "metadata": {},
   "outputs": [],
   "source": [
    "!which python3"
   ]
  },
  {
   "cell_type": "markdown",
   "id": "1646b0dd-f328-4f32-afcd-399c43d46dad",
   "metadata": {},
   "source": [
    "## Different ways to check python versions"
   ]
  },
  {
   "cell_type": "code",
   "execution_count": null,
   "id": "ffdd5e1e-f544-4ac5-b33d-4038b66635f1",
   "metadata": {},
   "outputs": [],
   "source": [
    "!python3 -V"
   ]
  },
  {
   "cell_type": "code",
   "execution_count": null,
   "id": "7edb5c50-affb-464f-bae5-4cd02b7bdd9f",
   "metadata": {},
   "outputs": [],
   "source": []
  }
 ],
 "metadata": {
  "kernelspec": {
   "display_name": "Python 3 (ipykernel)",
   "language": "python",
   "name": "python3"
  },
  "language_info": {
   "codemirror_mode": {
    "name": "ipython",
    "version": 3
   },
   "file_extension": ".py",
   "mimetype": "text/x-python",
   "name": "python",
   "nbconvert_exporter": "python",
   "pygments_lexer": "ipython3",
   "version": "3.12.7"
  }
 },
 "nbformat": 4,
 "nbformat_minor": 5
}
