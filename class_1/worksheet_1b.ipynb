{
 "cells": [
  {
   "cell_type": "markdown",
   "id": "1a8ea8b6-eae6-4463-8be5-db0e617e9f37",
   "metadata": {},
   "source": [
    "# worksheet_1b.ipynb"
   ]
  },
  {
   "cell_type": "markdown",
   "id": "1074b43c-a3ef-4a6a-9846-701fa6fb155d",
   "metadata": {},
   "source": [
    "##  Run this after installing virtualenv"
   ]
  },
  {
   "cell_type": "code",
   "execution_count": 1,
   "id": "8227a017-f3db-4486-99ad-104047ef564e",
   "metadata": {},
   "outputs": [
    {
     "name": "stdout",
     "output_type": "stream",
     "text": [
      "/Users/aartivenkat/Projects/teaching/aarti_notebooks/venv_3.12.7/bin/python3\n"
     ]
    }
   ],
   "source": [
    "!which python3"
   ]
  },
  {
   "cell_type": "markdown",
   "id": "cbb4675f-f64c-4099-864d-f452a27e1fa2",
   "metadata": {},
   "source": [
    "## Installing and uninstalling packages in virtualenv"
   ]
  },
  {
   "cell_type": "code",
   "execution_count": 2,
   "id": "cd16749c-8d79-4c93-9503-54c8f36a1a46",
   "metadata": {},
   "outputs": [],
   "source": [
    "import numpy as np"
   ]
  },
  {
   "cell_type": "markdown",
   "id": "a58a093f-de52-47f6-b8a1-7fba97d58677",
   "metadata": {},
   "source": [
    "## Check for list of packages in virtualenv"
   ]
  },
  {
   "cell_type": "code",
   "execution_count": 3,
   "id": "63e39604-3458-4b14-a7dd-0cccc3fa31ab",
   "metadata": {},
   "outputs": [
    {
     "name": "stdout",
     "output_type": "stream",
     "text": [
      "Package                   Version\n",
      "------------------------- --------------\n",
      "aiofiles                  0.8.0\n",
      "aiohappyeyeballs          2.4.4\n",
      "aiohttp                   3.11.11\n",
      "aiosignal                 1.3.2\n",
      "anyio                     4.8.0\n",
      "appnope                   0.1.4\n",
      "argon2-cffi               23.1.0\n",
      "argon2-cffi-bindings      21.2.0\n",
      "arrow                     1.3.0\n",
      "asttokens                 3.0.0\n",
      "async-lru                 2.0.4\n",
      "asyncio                   3.4.3\n",
      "attrs                     24.3.0\n",
      "babel                     2.17.0\n",
      "backoff                   1.11.1\n",
      "beautifulsoup4            4.13.3\n",
      "bleach                    6.2.0\n",
      "cdislogging               1.1.1\n",
      "certifi                   2024.12.14\n",
      "cffi                      1.17.1\n",
      "charset-normalizer        3.4.1\n",
      "click                     8.1.8\n",
      "comm                      0.2.2\n",
      "dataclasses-json          0.5.9\n",
      "debugpy                   1.8.12\n",
      "decorator                 5.2.1\n",
      "defusedxml                0.7.1\n",
      "dictionaryutils           3.4.11\n",
      "drsclient                 0.3.0\n",
      "executing                 2.2.0\n",
      "fastavro                  1.8.4\n",
      "fastjsonschema            2.21.1\n",
      "fqdn                      1.5.1\n",
      "frozenlist                1.5.0\n",
      "gen3Dictionary            2.0.4\n",
      "gen3users                 1.1.1\n",
      "h11                       0.14.0\n",
      "httpcore                  1.0.7\n",
      "httpx                     0.27.2\n",
      "humanfriendly             10.0\n",
      "idna                      3.10\n",
      "indexclient               2.3.1\n",
      "ipykernel                 6.29.5\n",
      "ipython                   9.0.1\n",
      "ipython_pygments_lexers   1.1.1\n",
      "isoduration               20.11.0\n",
      "jedi                      0.19.2\n",
      "Jinja2                    3.1.5\n",
      "json5                     0.10.0\n",
      "jsonpointer               3.0.0\n",
      "jsonschema                4.23.0\n",
      "jsonschema-specifications 2024.10.1\n",
      "jupyter_client            8.6.3\n",
      "jupyter_core              5.7.2\n",
      "jupyter-events            0.12.0\n",
      "jupyter-lsp               2.2.5\n",
      "jupyter_server            2.15.0\n",
      "jupyter_server_terminals  0.5.3\n",
      "jupyterlab                4.3.5\n",
      "jupyterlab_pygments       0.3.0\n",
      "jupyterlab_server         2.27.3\n",
      "MarkupSafe                3.0.2\n",
      "marshmallow               3.25.1\n",
      "marshmallow-enum          1.5.1\n",
      "matplotlib-inline         0.1.7\n",
      "mistune                   3.1.2\n",
      "multidict                 6.1.0\n",
      "mypy-extensions           1.0.0\n",
      "nbclient                  0.10.2\n",
      "nbconvert                 7.16.6\n",
      "nbformat                  5.10.4\n",
      "nest-asyncio              1.6.0\n",
      "notebook_shim             0.2.4\n",
      "numpy                     2.2.1\n",
      "overrides                 7.7.0\n",
      "packaging                 24.2\n",
      "pandas                    2.2.3\n",
      "pandocfilters             1.5.1\n",
      "parso                     0.8.4\n",
      "pexpect                   4.9.0\n",
      "pip                       24.3.1\n",
      "platformdirs              4.3.6\n",
      "prometheus_client         0.21.1\n",
      "prompt_toolkit            3.0.50\n",
      "propcache                 0.2.1\n",
      "psutil                    7.0.0\n",
      "ptyprocess                0.7.0\n",
      "pure_eval                 0.2.3\n",
      "pyarrow                   19.0.0\n",
      "pycparser                 2.22\n",
      "Pygments                  2.19.1\n",
      "pypfb                     0.5.30\n",
      "python-dateutil           2.9.0.post0\n",
      "python-json-logger        3.2.1\n",
      "pytz                      2024.2\n",
      "PyYAML                    6.0.2\n",
      "pyzmq                     26.2.1\n",
      "referencing               0.36.0\n",
      "requests                  2.32.3\n",
      "rfc3339-validator         0.1.4\n",
      "rfc3986-validator         0.1.1\n",
      "rpds-py                   0.22.3\n",
      "Send2Trash                1.8.3\n",
      "setuptools                75.8.2\n",
      "six                       1.17.0\n",
      "sniffio                   1.3.1\n",
      "soupsieve                 2.6\n",
      "stack-data                0.6.3\n",
      "terminado                 0.18.1\n",
      "tinycss2                  1.4.0\n",
      "tornado                   6.4.2\n",
      "tqdm                      4.67.1\n",
      "traitlets                 5.14.3\n",
      "types-python-dateutil     2.9.0.20241206\n",
      "typing_extensions         4.12.2\n",
      "typing-inspect            0.9.0\n",
      "tzdata                    2024.2\n",
      "uri-template              1.3.0\n",
      "urllib3                   2.3.0\n",
      "wcwidth                   0.2.13\n",
      "webcolors                 24.11.1\n",
      "webencodings              0.5.1\n",
      "websocket-client          1.8.0\n",
      "xmltodict                 0.13.0\n",
      "yarl                      1.18.3\n"
     ]
    }
   ],
   "source": [
    "!pip list"
   ]
  },
  {
   "cell_type": "markdown",
   "id": "465597fe-08dc-427d-89d9-293442723be1",
   "metadata": {},
   "source": [
    "## Install numpy in virtualenv"
   ]
  },
  {
   "cell_type": "code",
   "execution_count": 26,
   "id": "52f5a5c1-86c8-41ae-906a-3b8ba8ed922d",
   "metadata": {},
   "outputs": [
    {
     "name": "stdout",
     "output_type": "stream",
     "text": [
      "Collecting numpy\n",
      "  Using cached numpy-2.1.3-cp312-cp312-macosx_11_0_arm64.whl.metadata (62 kB)\n",
      "Using cached numpy-2.1.3-cp312-cp312-macosx_11_0_arm64.whl (13.5 MB)\n",
      "Installing collected packages: numpy\n",
      "Successfully installed numpy-2.1.3\n"
     ]
    }
   ],
   "source": [
    "!pip install numpy"
   ]
  },
  {
   "cell_type": "code",
   "execution_count": 27,
   "id": "d86a7b24-0cad-432b-9f8e-988bcc11b4fd",
   "metadata": {},
   "outputs": [
    {
     "name": "stdout",
     "output_type": "stream",
     "text": [
      "Package Version\n",
      "------- -------\n",
      "numpy   2.1.3\n",
      "pip     24.3.1\n"
     ]
    }
   ],
   "source": [
    "!pip list"
   ]
  },
  {
   "cell_type": "code",
   "execution_count": 28,
   "id": "da17bcaf-9981-4f42-90a3-3860ed421edc",
   "metadata": {},
   "outputs": [
    {
     "name": "stdout",
     "output_type": "stream",
     "text": [
      "numpy==2.1.3\n"
     ]
    }
   ],
   "source": [
    "!pip freeze"
   ]
  },
  {
   "cell_type": "code",
   "execution_count": 30,
   "id": "c90b254e-92a9-47ca-b79c-aac8882ef263",
   "metadata": {},
   "outputs": [],
   "source": [
    "#!pip show numpy"
   ]
  },
  {
   "cell_type": "markdown",
   "id": "4a03e104-e53c-4488-8bd3-6dab64e8e2c7",
   "metadata": {},
   "source": [
    "## Import and use numpy"
   ]
  },
  {
   "cell_type": "code",
   "execution_count": 42,
   "id": "95f6fc76-5655-4853-b4f7-806a3fb3697e",
   "metadata": {},
   "outputs": [],
   "source": [
    "import numpy as np"
   ]
  },
  {
   "cell_type": "code",
   "execution_count": 43,
   "id": "0eb4da0d-6dfb-45cc-9dad-1cb3550e0419",
   "metadata": {},
   "outputs": [],
   "source": [
    "a = np.array([1,2,3])"
   ]
  },
  {
   "cell_type": "code",
   "execution_count": 44,
   "id": "c90ff767-2065-41ee-b302-12409c00d147",
   "metadata": {},
   "outputs": [
    {
     "data": {
      "text/plain": [
       "array([1, 2, 3])"
      ]
     },
     "execution_count": 44,
     "metadata": {},
     "output_type": "execute_result"
    }
   ],
   "source": [
    "a"
   ]
  },
  {
   "cell_type": "markdown",
   "id": "2c4d5d81-ca6c-4ee7-bea7-c6b091d9e702",
   "metadata": {},
   "source": [
    "# install a specific version of numpy"
   ]
  },
  {
   "cell_type": "code",
   "execution_count": 15,
   "id": "f10b687a-ea28-4145-9eb0-d84913580877",
   "metadata": {},
   "outputs": [
    {
     "name": "stdout",
     "output_type": "stream",
     "text": [
      "Collecting numpy==2.1.2\n",
      "  Using cached numpy-2.1.2-cp312-cp312-macosx_11_0_arm64.whl.metadata (60 kB)\n",
      "Using cached numpy-2.1.2-cp312-cp312-macosx_11_0_arm64.whl (13.5 MB)\n",
      "Installing collected packages: numpy\n",
      "Successfully installed numpy-2.1.2\n"
     ]
    }
   ],
   "source": [
    "# see https://pypi.org/project/numpy/#history\n",
    "!pip install numpy==2.1.2"
   ]
  },
  {
   "cell_type": "code",
   "execution_count": 16,
   "id": "48968b0f-8b96-441b-9ff9-1207180d91ac",
   "metadata": {},
   "outputs": [
    {
     "name": "stdout",
     "output_type": "stream",
     "text": [
      "Package Version\n",
      "------- -------\n",
      "numpy   2.1.2\n",
      "pip     24.3.1\n"
     ]
    }
   ],
   "source": [
    "!pip list"
   ]
  },
  {
   "cell_type": "code",
   "execution_count": 17,
   "id": "370f5027-94e1-46cc-b902-6516d6a93017",
   "metadata": {},
   "outputs": [
    {
     "name": "stdout",
     "output_type": "stream",
     "text": [
      "numpy==2.1.2\n"
     ]
    }
   ],
   "source": [
    "!pip freeze"
   ]
  },
  {
   "cell_type": "code",
   "execution_count": 19,
   "id": "8a0ad1cc-f33a-42f7-84eb-6d2e8424b18d",
   "metadata": {},
   "outputs": [],
   "source": [
    "# send version controlled requirements as part of applications\n",
    "!pip freeze > requirements.txt"
   ]
  },
  {
   "cell_type": "markdown",
   "id": "2b9603b0-c2bb-4df3-ab6d-2744f72f6f8a",
   "metadata": {},
   "source": [
    "# uninstall numpy"
   ]
  },
  {
   "cell_type": "code",
   "execution_count": 48,
   "id": "1cc99a01-dcbe-4305-95fb-9e2a5ae4ea33",
   "metadata": {},
   "outputs": [
    {
     "name": "stdout",
     "output_type": "stream",
     "text": [
      "\u001b[33mWARNING: Skipping numpy as it is not installed.\u001b[0m\u001b[33m\n",
      "\u001b[0m"
     ]
    }
   ],
   "source": [
    "!pip uninstall -y numpy"
   ]
  },
  {
   "cell_type": "code",
   "execution_count": 21,
   "id": "f4099a7f-a781-4ef1-b934-8de2901d6a36",
   "metadata": {},
   "outputs": [
    {
     "name": "stdout",
     "output_type": "stream",
     "text": [
      "Package Version\n",
      "------- -------\n",
      "pip     24.3.1\n"
     ]
    }
   ],
   "source": [
    "!pip list"
   ]
  }
 ],
 "metadata": {
  "kernelspec": {
   "display_name": "Python 3.12.7",
   "language": "python",
   "name": "venv_3.12.7"
  },
  "language_info": {
   "codemirror_mode": {
    "name": "ipython",
    "version": 3
   },
   "file_extension": ".py",
   "mimetype": "text/x-python",
   "name": "python",
   "nbconvert_exporter": "python",
   "pygments_lexer": "ipython3",
   "version": "3.12.7"
  }
 },
 "nbformat": 4,
 "nbformat_minor": 5
}
