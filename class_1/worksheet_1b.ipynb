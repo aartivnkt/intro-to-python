{
 "cells": [
  {
   "cell_type": "markdown",
   "id": "1a8ea8b6-eae6-4463-8be5-db0e617e9f37",
   "metadata": {},
   "source": [
    "# worksheet_1b.ipynb"
   ]
  },
  {
   "cell_type": "markdown",
   "id": "1074b43c-a3ef-4a6a-9846-701fa6fb155d",
   "metadata": {},
   "source": [
    "##  Run this after installing virtualenv"
   ]
  },
  {
   "cell_type": "code",
   "execution_count": null,
   "id": "8227a017-f3db-4486-99ad-104047ef564e",
   "metadata": {},
   "outputs": [],
   "source": [
    "!which python3"
   ]
  },
  {
   "cell_type": "markdown",
   "id": "cbb4675f-f64c-4099-864d-f452a27e1fa2",
   "metadata": {},
   "source": [
    "## Installing and uninstalling packages in virtualenv"
   ]
  },
  {
   "cell_type": "code",
   "execution_count": null,
   "id": "cd16749c-8d79-4c93-9503-54c8f36a1a46",
   "metadata": {},
   "outputs": [],
   "source": [
    "import numpy as np"
   ]
  },
  {
   "cell_type": "markdown",
   "id": "a58a093f-de52-47f6-b8a1-7fba97d58677",
   "metadata": {},
   "source": [
    "## Check for list of packages in virtualenv"
   ]
  },
  {
   "cell_type": "code",
   "execution_count": null,
   "id": "63e39604-3458-4b14-a7dd-0cccc3fa31ab",
   "metadata": {},
   "outputs": [],
   "source": [
    "!pip list"
   ]
  },
  {
   "cell_type": "markdown",
   "id": "465597fe-08dc-427d-89d9-293442723be1",
   "metadata": {},
   "source": [
    "## Install numpy in virtualenv"
   ]
  },
  {
   "cell_type": "code",
   "execution_count": null,
   "id": "52f5a5c1-86c8-41ae-906a-3b8ba8ed922d",
   "metadata": {},
   "outputs": [],
   "source": [
    "!pip install numpy"
   ]
  },
  {
   "cell_type": "code",
   "execution_count": null,
   "id": "d86a7b24-0cad-432b-9f8e-988bcc11b4fd",
   "metadata": {},
   "outputs": [],
   "source": [
    "!pip list | grep \"numpy\""
   ]
  },
  {
   "cell_type": "code",
   "execution_count": null,
   "id": "da17bcaf-9981-4f42-90a3-3860ed421edc",
   "metadata": {},
   "outputs": [],
   "source": [
    "!pip freeze | grep \"numpy\""
   ]
  },
  {
   "cell_type": "code",
   "execution_count": null,
   "id": "c90b254e-92a9-47ca-b79c-aac8882ef263",
   "metadata": {},
   "outputs": [],
   "source": [
    "#!pip show numpy"
   ]
  },
  {
   "cell_type": "markdown",
   "id": "4a03e104-e53c-4488-8bd3-6dab64e8e2c7",
   "metadata": {},
   "source": [
    "## Import and use numpy"
   ]
  },
  {
   "cell_type": "code",
   "execution_count": null,
   "id": "95f6fc76-5655-4853-b4f7-806a3fb3697e",
   "metadata": {},
   "outputs": [],
   "source": [
    "import numpy as np"
   ]
  },
  {
   "cell_type": "code",
   "execution_count": null,
   "id": "0eb4da0d-6dfb-45cc-9dad-1cb3550e0419",
   "metadata": {},
   "outputs": [],
   "source": [
    "a = np.array([1,2,3])"
   ]
  },
  {
   "cell_type": "code",
   "execution_count": null,
   "id": "c90ff767-2065-41ee-b302-12409c00d147",
   "metadata": {},
   "outputs": [],
   "source": [
    "a"
   ]
  },
  {
   "cell_type": "markdown",
   "id": "2c4d5d81-ca6c-4ee7-bea7-c6b091d9e702",
   "metadata": {},
   "source": [
    "# install a specific version of numpy"
   ]
  },
  {
   "cell_type": "code",
   "execution_count": null,
   "id": "f10b687a-ea28-4145-9eb0-d84913580877",
   "metadata": {},
   "outputs": [],
   "source": [
    "# see https://pypi.org/project/numpy/#history\n",
    "!pip install numpy==2.1.2"
   ]
  },
  {
   "cell_type": "code",
   "execution_count": null,
   "id": "48968b0f-8b96-441b-9ff9-1207180d91ac",
   "metadata": {},
   "outputs": [],
   "source": [
    "!pip list | grep \"numpy\""
   ]
  },
  {
   "cell_type": "code",
   "execution_count": null,
   "id": "370f5027-94e1-46cc-b902-6516d6a93017",
   "metadata": {},
   "outputs": [],
   "source": [
    "!pip freeze | grep \"numpy\""
   ]
  },
  {
   "cell_type": "code",
   "execution_count": null,
   "id": "8a0ad1cc-f33a-42f7-84eb-6d2e8424b18d",
   "metadata": {},
   "outputs": [],
   "source": [
    "# send version controlled requirements as part of applications\n",
    "!pip freeze > requirements.txt"
   ]
  },
  {
   "cell_type": "markdown",
   "id": "2b9603b0-c2bb-4df3-ab6d-2744f72f6f8a",
   "metadata": {},
   "source": [
    "# uninstall numpy"
   ]
  },
  {
   "cell_type": "code",
   "execution_count": null,
   "id": "1cc99a01-dcbe-4305-95fb-9e2a5ae4ea33",
   "metadata": {},
   "outputs": [],
   "source": [
    "!pip uninstall -y numpy"
   ]
  },
  {
   "cell_type": "code",
   "execution_count": null,
   "id": "f4099a7f-a781-4ef1-b934-8de2901d6a36",
   "metadata": {},
   "outputs": [],
   "source": [
    "!pip list | grep \"numpy\""
   ]
  },
  {
   "cell_type": "code",
   "execution_count": null,
   "id": "b992509f-9cec-47ae-8386-ab5aa217eff5",
   "metadata": {},
   "outputs": [],
   "source": []
  }
 ],
 "metadata": {
  "kernelspec": {
   "display_name": "Python 3.12.7",
   "language": "python",
   "name": "venv_3.12.7"
  },
  "language_info": {
   "codemirror_mode": {
    "name": "ipython",
    "version": 3
   },
   "file_extension": ".py",
   "mimetype": "text/x-python",
   "name": "python",
   "nbconvert_exporter": "python",
   "pygments_lexer": "ipython3",
   "version": "3.12.7"
  }
 },
 "nbformat": 4,
 "nbformat_minor": 5
}
