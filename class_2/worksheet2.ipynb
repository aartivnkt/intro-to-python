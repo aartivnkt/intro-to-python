{
 "cells": [
  {
   "cell_type": "markdown",
   "id": "1dfec363-3566-425b-9635-44b9800b2b46",
   "metadata": {},
   "source": [
    "# Worksheet2.ipynb\n",
    "# Data structures, Data types and manipulations\n",
    "   - Strings, lists and tuples\n",
    "   - Collaborative exercises"
   ]
  },
  {
   "cell_type": "markdown",
   "id": "53456f39-abd2-4a44-9460-1c7fcd8b9ebe",
   "metadata": {},
   "source": [
    "## Strings"
   ]
  },
  {
   "cell_type": "code",
   "execution_count": null,
   "id": "5b95e99d-3874-4ff1-b7c5-c138fa2c3e8c",
   "metadata": {},
   "outputs": [],
   "source": [
    "gene1 = 'BRCA1'"
   ]
  },
  {
   "cell_type": "code",
   "execution_count": null,
   "id": "fb1d99a9-2556-41a6-9734-ebd3d3abc434",
   "metadata": {},
   "outputs": [],
   "source": [
    "gene1"
   ]
  },
  {
   "cell_type": "markdown",
   "id": "c73aec30-5234-4ecc-83bc-04aec9216a2c",
   "metadata": {},
   "source": [
    "#### double quoted strings"
   ]
  },
  {
   "cell_type": "code",
   "execution_count": null,
   "id": "6ff60a92-4e69-4d01-b961-846989165ab8",
   "metadata": {},
   "outputs": [],
   "source": []
  },
  {
   "cell_type": "markdown",
   "id": "634f6d4a-47c3-423b-8259-83c22ab4cbb3",
   "metadata": {},
   "source": [
    "#### Multiline (para) string"
   ]
  },
  {
   "cell_type": "code",
   "execution_count": null,
   "id": "261437f0-ff84-4c22-90bd-8b57fd9c26c3",
   "metadata": {},
   "outputs": [],
   "source": [
    "para = \"BRCA1 is a very famous gene.\\nSo is TP53.\""
   ]
  },
  {
   "cell_type": "code",
   "execution_count": null,
   "id": "57341faf-8442-4983-b4ef-2721c8a272b1",
   "metadata": {},
   "outputs": [],
   "source": [
    "para"
   ]
  },
  {
   "cell_type": "markdown",
   "id": "0df8e30b-5e66-4dbd-bf9d-e0630ca9d6c5",
   "metadata": {},
   "source": [
    "#### print function produces a more readable output"
   ]
  },
  {
   "cell_type": "code",
   "execution_count": null,
   "id": "d8bfdf1a-c36e-493c-8382-d528385e6c5c",
   "metadata": {},
   "outputs": [],
   "source": [
    "print(para)"
   ]
  },
  {
   "cell_type": "markdown",
   "id": "a8cebd0e-9140-4bbf-ba34-6f8e11c0aba5",
   "metadata": {},
   "source": [
    "#### Triple quoted strings"
   ]
  },
  {
   "cell_type": "code",
   "execution_count": null,
   "id": "9d5cf592-eaf7-4e50-bab0-f2ec8b669458",
   "metadata": {},
   "outputs": [],
   "source": [
    "para = \"\"\"\n",
    "BRCA1 is a very famous gene.\n",
    "So is TP53.\n",
    "\"\"\""
   ]
  },
  {
   "cell_type": "code",
   "execution_count": null,
   "id": "82b24e4e-ea13-4ebd-ad6f-6cfb9fb62190",
   "metadata": {},
   "outputs": [],
   "source": [
    "print(para)"
   ]
  },
  {
   "cell_type": "markdown",
   "id": "7584398d-4be2-4ee4-a0b5-c12a8caa3e7e",
   "metadata": {},
   "source": [
    "#### Substring search"
   ]
  },
  {
   "cell_type": "code",
   "execution_count": null,
   "id": "a7ef8cc4-cd62-46aa-8dd9-9094e76d1278",
   "metadata": {},
   "outputs": [],
   "source": [
    "'BRCA1' in para"
   ]
  },
  {
   "cell_type": "code",
   "execution_count": null,
   "id": "959dbe45-ad4d-402d-afb8-43b8fc260879",
   "metadata": {},
   "outputs": [],
   "source": [
    "'BRCA2' in para"
   ]
  },
  {
   "cell_type": "code",
   "execution_count": null,
   "id": "87727848-c0d1-4d32-8c17-370254e6983d",
   "metadata": {},
   "outputs": [],
   "source": [
    "'BRCA2' not in para"
   ]
  },
  {
   "cell_type": "markdown",
   "id": "28a2a422-d8d2-46ee-a550-37889344f2c4",
   "metadata": {},
   "source": [
    "#### String concatenation"
   ]
  },
  {
   "cell_type": "code",
   "execution_count": null,
   "id": "dde90eb9-6193-4a66-991c-6666a5637ab6",
   "metadata": {},
   "outputs": [],
   "source": [
    "'BRCA1 is a ' + 'very famous gene'"
   ]
  },
  {
   "cell_type": "markdown",
   "id": "25cdbd0e-6638-4a27-b703-58829e05ed2a",
   "metadata": {},
   "source": [
    "#### String repetition"
   ]
  },
  {
   "cell_type": "code",
   "execution_count": null,
   "id": "a04fa45b-d51a-450e-be4f-db2f561c2729",
   "metadata": {},
   "outputs": [],
   "source": [
    "print(para * 3)"
   ]
  },
  {
   "cell_type": "markdown",
   "id": "dc1b8570-0681-4db7-aa09-7ebdb432a9f6",
   "metadata": {},
   "source": [
    "#### String indexing"
   ]
  },
  {
   "cell_type": "code",
   "execution_count": null,
   "id": "b2dd717d-579c-49c7-9db5-b72dde0eb94a",
   "metadata": {},
   "outputs": [],
   "source": [
    "gene1"
   ]
  },
  {
   "cell_type": "code",
   "execution_count": null,
   "id": "d076772a-354a-4b23-9b15-a436bf07c340",
   "metadata": {},
   "outputs": [],
   "source": [
    "gene1[0]"
   ]
  },
  {
   "cell_type": "code",
   "execution_count": null,
   "id": "753e8441-bc02-4aa0-b140-e5004914db5d",
   "metadata": {},
   "outputs": [],
   "source": [
    "gene1[1]"
   ]
  },
  {
   "cell_type": "code",
   "execution_count": null,
   "id": "cdc7cb6b-0c81-4a08-9777-7a7c6528acc5",
   "metadata": {},
   "outputs": [],
   "source": [
    "gene1[3]"
   ]
  },
  {
   "cell_type": "code",
   "execution_count": null,
   "id": "cb399714-b368-42e7-a31a-b0ca71117f2f",
   "metadata": {},
   "outputs": [],
   "source": [
    "gene1[0], gene1[1], gene1[2], gene1[3], gene1[4]"
   ]
  },
  {
   "cell_type": "markdown",
   "id": "b4922b36-2836-4ec4-9527-0edb1610997c",
   "metadata": {},
   "source": [
    "### Q: Can you guess the output of `gene1[5]`\n",
    "- 1-2 mins"
   ]
  },
  {
   "cell_type": "code",
   "execution_count": null,
   "id": "32c4335e-1dd1-49c5-8de8-5ee66a46d266",
   "metadata": {},
   "outputs": [],
   "source": []
  },
  {
   "cell_type": "markdown",
   "id": "d9b12c40-c9cb-4266-9ddb-d15250eb7716",
   "metadata": {},
   "source": [
    "#### String in reverse"
   ]
  },
  {
   "cell_type": "code",
   "execution_count": null,
   "id": "e7e2130a-68cf-45c5-814c-746905341142",
   "metadata": {},
   "outputs": [],
   "source": [
    "gene1[-1], gene1[-2], gene1[-3], gene1[-4], gene1[-5]"
   ]
  },
  {
   "cell_type": "markdown",
   "id": "ec54ceab-e5ef-4f2b-b1b6-bf01022aac24",
   "metadata": {},
   "source": [
    "### Q: What is the output of `gene1[-6]`?\n",
    "- 1-2 mins"
   ]
  },
  {
   "cell_type": "code",
   "execution_count": null,
   "id": "00d5d0b5-0333-40b4-8b29-4d232f472a5c",
   "metadata": {},
   "outputs": [],
   "source": []
  },
  {
   "cell_type": "markdown",
   "id": "cd2cb73e-b968-46be-b89a-9ddb0dccc88d",
   "metadata": {},
   "source": [
    "#### len function"
   ]
  },
  {
   "cell_type": "code",
   "execution_count": null,
   "id": "5bd75dbe-2fbb-4d76-a601-50e451e89aaf",
   "metadata": {},
   "outputs": [],
   "source": [
    "len(gene1)"
   ]
  },
  {
   "cell_type": "markdown",
   "id": "d12b19a5-f24f-4b5f-9941-240a84f1bed1",
   "metadata": {},
   "source": [
    "#### String slicing"
   ]
  },
  {
   "cell_type": "code",
   "execution_count": null,
   "id": "e2bbc326-9a8e-4947-ad56-4f6d01a73770",
   "metadata": {},
   "outputs": [],
   "source": [
    "# characters from position 0 (included) to 3 (excluded)\n",
    "gene1[0:3], gene1[:3]"
   ]
  },
  {
   "cell_type": "code",
   "execution_count": null,
   "id": "7578b345-bab9-4bbb-8b44-ba9a63965723",
   "metadata": {},
   "outputs": [],
   "source": [
    "# characters from position 2 (included) to the end\n",
    "gene1[2:]"
   ]
  },
  {
   "cell_type": "code",
   "execution_count": null,
   "id": "73595741-ad16-45ea-90e3-1f3761013bac",
   "metadata": {},
   "outputs": [],
   "source": [
    "# slice of gene1 from 0 to 3, through step 2\n",
    "gene1[0:3:2]"
   ]
  },
  {
   "cell_type": "markdown",
   "id": "8a48c02a-4d8d-44fc-a21e-1958196edaa0",
   "metadata": {},
   "source": [
    "#### Slicing creates a new list"
   ]
  },
  {
   "cell_type": "code",
   "execution_count": null,
   "id": "1643e9db-8219-431d-a20c-3953c1317a9f",
   "metadata": {},
   "outputs": [],
   "source": [
    "gene_slice = gene1[0:3]"
   ]
  },
  {
   "cell_type": "markdown",
   "id": "8afdac75-d44d-48fa-aaed-268ad2203e2c",
   "metadata": {},
   "source": [
    "### Q: Prove that strings are immutable\n",
    "- Try to set position 0 of gene1 to any different base\n",
    "- What do you notice?\n",
    "- 1-2 mins"
   ]
  },
  {
   "cell_type": "code",
   "execution_count": null,
   "id": "c12dabdb-5f01-4344-bb49-8c825fde3259",
   "metadata": {},
   "outputs": [],
   "source": []
  },
  {
   "cell_type": "markdown",
   "id": "ab2210e5-bd4b-4ddc-af53-ee5f59ac5110",
   "metadata": {},
   "source": [
    "### Some popular string methods\n",
    "- https://docs.python.org/3.12/library/stdtypes.html#string-methods"
   ]
  },
  {
   "cell_type": "markdown",
   "id": "5caab82c-5bc2-4de8-8abb-4156136c4971",
   "metadata": {},
   "source": [
    "#### str.find() "
   ]
  },
  {
   "cell_type": "code",
   "execution_count": null,
   "id": "ed07df42-898c-4131-897b-6e37e753134f",
   "metadata": {},
   "outputs": [],
   "source": [
    "para"
   ]
  },
  {
   "cell_type": "code",
   "execution_count": null,
   "id": "64633dd0-1859-477a-9a15-0b98712a717f",
   "metadata": {},
   "outputs": [],
   "source": [
    "para.find('BRCA1')"
   ]
  },
  {
   "cell_type": "code",
   "execution_count": null,
   "id": "59f7720d-c033-44e6-8f61-c9af7d784844",
   "metadata": {},
   "outputs": [],
   "source": [
    "para.find('is')"
   ]
  },
  {
   "cell_type": "code",
   "execution_count": null,
   "id": "658688fc-d002-4a27-be48-6a703463a404",
   "metadata": {},
   "outputs": [],
   "source": [
    "# not good behaviour\n",
    "para.find('BRCA2')"
   ]
  },
  {
   "cell_type": "markdown",
   "id": "f6479a60-c842-4c6a-99f8-893383e014ea",
   "metadata": {},
   "source": [
    "### Q: Experiment the same as above with `str.index()`\n",
    "- search for `BRCA2`\n",
    "- https://docs.python.org/3.12/library/stdtypes.html#string-methods\n",
    "- Compare behaviour with `str.find()` What do you see?\n",
    "- 1-2 mins"
   ]
  },
  {
   "cell_type": "code",
   "execution_count": null,
   "id": "2aa76855-d584-4dea-abba-0dd0bcb653b8",
   "metadata": {},
   "outputs": [],
   "source": []
  },
  {
   "cell_type": "markdown",
   "id": "7d183996-9b29-407c-b6c0-ba48d78b14eb",
   "metadata": {},
   "source": [
    "#### str.format()"
   ]
  },
  {
   "cell_type": "code",
   "execution_count": null,
   "id": "e07605a6-1661-44fe-ab9d-a3ba62b00ce1",
   "metadata": {},
   "outputs": [],
   "source": [
    "'{} gene length'.format(gene1)"
   ]
  },
  {
   "cell_type": "markdown",
   "id": "c405c969-096d-4f1b-af1b-0448576c0e2a",
   "metadata": {},
   "source": [
    "#### str.upper(), str.lower()"
   ]
  },
  {
   "cell_type": "code",
   "execution_count": null,
   "id": "e499ba8d-bf0b-42a1-b62a-756359181cb5",
   "metadata": {},
   "outputs": [],
   "source": [
    "gene1.upper(), gene1.lower()"
   ]
  },
  {
   "cell_type": "code",
   "execution_count": null,
   "id": "dc9e27cc-38bd-4530-a4b6-7b22a57d38cb",
   "metadata": {},
   "outputs": [],
   "source": [
    "gene1.isupper(), gene1.islower()"
   ]
  },
  {
   "cell_type": "markdown",
   "id": "c872589e-d32e-497e-8eba-33711cacb406",
   "metadata": {},
   "source": [
    "#### str.join()"
   ]
  },
  {
   "cell_type": "code",
   "execution_count": null,
   "id": "93f92631-f703-4dc7-be12-83a03f271970",
   "metadata": {},
   "outputs": [],
   "source": [
    "'_'.join(['BRCA1', 'BRCA2', 'TP53'])"
   ]
  },
  {
   "cell_type": "markdown",
   "id": "22f8488d-6184-4b5a-8fee-50f50cba9575",
   "metadata": {},
   "source": [
    "### Sequence types\n",
    "- list\n",
    "- tuple\n",
    "- range"
   ]
  },
  {
   "cell_type": "markdown",
   "id": "ea28f9a0-f46c-4038-beef-9779c77e7d24",
   "metadata": {},
   "source": [
    "## Lists: Compound data types"
   ]
  },
  {
   "cell_type": "markdown",
   "id": "0c0636ff-ac84-48bc-91d0-91bbeaaf3f11",
   "metadata": {},
   "source": [
    "#### Different ways to construct lists\n",
    "- simple assignment\n",
    "- list constructor"
   ]
  },
  {
   "cell_type": "code",
   "execution_count": null,
   "id": "8b2a4474-a9bd-4d91-a439-2578035c60eb",
   "metadata": {},
   "outputs": [],
   "source": [
    "# simple assignment\n",
    "para_list = ['BRCA1', 'is', 'a', 'very', 'famous', 'gene.', 'So', 'is', 'TP53.']"
   ]
  },
  {
   "cell_type": "code",
   "execution_count": null,
   "id": "dac4c26b-bb0e-491d-948a-88dba4d2e9b6",
   "metadata": {},
   "outputs": [],
   "source": [
    "para_list"
   ]
  },
  {
   "cell_type": "code",
   "execution_count": null,
   "id": "260aec2f-21a4-45f4-b0dc-63ba1516e8a5",
   "metadata": {},
   "outputs": [],
   "source": [
    "# its not practical to do the above\n",
    "# try `para.split` = list from a string\n",
    "para.split()"
   ]
  },
  {
   "cell_type": "markdown",
   "id": "b1ff5c15-4a3a-4eba-b3d2-91136736357e",
   "metadata": {},
   "source": [
    "### Q: What is the output of `str.splitlines()`\n",
    "- Experiment with the same `str` as above, the one used in `str.split()`\n",
    "- https://docs.python.org/3.12/library/stdtypes.html#string-methods\n",
    "- explain difference compared to `str.split()`\n",
    "- What is in position 0 of `str.splitlines()` and why?\n",
    "- 2-3 mins"
   ]
  },
  {
   "cell_type": "code",
   "execution_count": null,
   "id": "f652c76f-126d-4827-b4e9-2331c1e92a9a",
   "metadata": {},
   "outputs": [],
   "source": []
  },
  {
   "cell_type": "code",
   "execution_count": null,
   "id": "08adf604-5b60-4f8a-9710-6322578ba896",
   "metadata": {},
   "outputs": [],
   "source": [
    "# using the list constructor\n",
    "list(gene1)"
   ]
  },
  {
   "cell_type": "markdown",
   "id": "7d97b187-22df-405d-91f4-aa8d6fbd97b4",
   "metadata": {},
   "source": [
    "### Q: Can you save `my_fav_gene_string` below into a list\n",
    "- 2-3 mins"
   ]
  },
  {
   "cell_type": "code",
   "execution_count": null,
   "id": "a373b838-3fad-4871-b3fe-fc2f0007bade",
   "metadata": {},
   "outputs": [],
   "source": [
    "my_fav_gene_string = 'BRCA1,BRCA2,TP53'"
   ]
  },
  {
   "cell_type": "code",
   "execution_count": null,
   "id": "1ecb65f1-7b8e-4b54-8a3a-510b9dc09b49",
   "metadata": {},
   "outputs": [],
   "source": []
  },
  {
   "cell_type": "markdown",
   "id": "848303b3-ec8d-41bb-a1e6-8f73518dda29",
   "metadata": {},
   "source": [
    "#### List indexing"
   ]
  },
  {
   "cell_type": "code",
   "execution_count": null,
   "id": "2e90f701-5f2e-4f4e-a00a-3a912509042e",
   "metadata": {},
   "outputs": [],
   "source": [
    "para_list"
   ]
  },
  {
   "cell_type": "code",
   "execution_count": null,
   "id": "89329f12-5ebf-4bd0-95af-13c68c47e2dd",
   "metadata": {},
   "outputs": [],
   "source": [
    "para_list[0]"
   ]
  },
  {
   "cell_type": "markdown",
   "id": "42fcc087-aba2-47d6-8f26-6184e2cfa7f6",
   "metadata": {},
   "source": [
    "#### Lists are mutable, contrary to strings"
   ]
  },
  {
   "cell_type": "code",
   "execution_count": null,
   "id": "e7e3de31-8f3b-493d-9ea0-482cfebcb570",
   "metadata": {},
   "outputs": [],
   "source": [
    "para_list[0] = 'BRCA2'"
   ]
  },
  {
   "cell_type": "code",
   "execution_count": null,
   "id": "dedc36aa-f0c1-4b62-bb6f-fb5aa3ce4f1c",
   "metadata": {},
   "outputs": [],
   "source": [
    "para_list"
   ]
  },
  {
   "cell_type": "markdown",
   "id": "7fd5f98a-b258-4e1f-b374-285913bfabe4",
   "metadata": {},
   "source": [
    "#### List methods\n",
    "- https://docs.python.org/3/tutorial/datastructures.html"
   ]
  },
  {
   "cell_type": "markdown",
   "id": "77ec14a5-5132-457d-919c-91a0711f1205",
   "metadata": {},
   "source": [
    "##### append"
   ]
  },
  {
   "cell_type": "code",
   "execution_count": null,
   "id": "4548442a-3800-4b93-a653-f331a342e91d",
   "metadata": {},
   "outputs": [],
   "source": [
    "para_list.append('and')"
   ]
  },
  {
   "cell_type": "code",
   "execution_count": null,
   "id": "1fa7cc79-41c8-4822-8b22-e4996c31aad3",
   "metadata": {},
   "outputs": [],
   "source": [
    "para_list"
   ]
  },
  {
   "cell_type": "code",
   "execution_count": null,
   "id": "e5250329-c2d6-4494-839f-2f62fe99553a",
   "metadata": {},
   "outputs": [],
   "source": [
    "para_list.append('KRAS')"
   ]
  },
  {
   "cell_type": "code",
   "execution_count": null,
   "id": "9c13bba3-7cc5-479e-abef-0afffe267b8e",
   "metadata": {},
   "outputs": [],
   "source": [
    "para_list"
   ]
  },
  {
   "cell_type": "markdown",
   "id": "f0a17f1f-0e20-41dc-9d76-e2df16d303ca",
   "metadata": {},
   "source": [
    "##### sort"
   ]
  },
  {
   "cell_type": "code",
   "execution_count": null,
   "id": "24459d0d-2009-42c2-8970-2349c279ab59",
   "metadata": {},
   "outputs": [],
   "source": [
    "gene_lengths = [400, 600, 500, 300]"
   ]
  },
  {
   "cell_type": "code",
   "execution_count": null,
   "id": "3c679f8e-1661-4734-8e83-aadd2dc61495",
   "metadata": {},
   "outputs": [],
   "source": [
    "gene_lengths.sort(reverse=True)"
   ]
  },
  {
   "cell_type": "code",
   "execution_count": null,
   "id": "c89055a7-8d6e-40b8-8fe0-0c5f941440cd",
   "metadata": {},
   "outputs": [],
   "source": [
    "gene_lengths"
   ]
  },
  {
   "cell_type": "markdown",
   "id": "82694f8a-1808-4ad7-9b0a-3dabf77fd34b",
   "metadata": {},
   "source": [
    "##### sorted"
   ]
  },
  {
   "cell_type": "code",
   "execution_count": null,
   "id": "16b346fc-c5e6-4fb1-9702-251c0b8d2d64",
   "metadata": {},
   "outputs": [],
   "source": [
    "gene_lengths = [400, 600, 500, 300]\n",
    "sorted_gene_lengths = sorted(gene_lengths)"
   ]
  },
  {
   "cell_type": "code",
   "execution_count": null,
   "id": "9ab59c07-fd7f-44a8-9523-77e78933ff36",
   "metadata": {},
   "outputs": [],
   "source": [
    "sorted_gene_lengths"
   ]
  },
  {
   "cell_type": "markdown",
   "id": "1d8768d7-52b0-4f23-a635-1a20d8da5092",
   "metadata": {},
   "source": [
    "## Tuples\n",
    "- immutable sequences\n",
    "- Ideal for representing heterogenous data you don't want altered"
   ]
  },
  {
   "cell_type": "code",
   "execution_count": null,
   "id": "c2e02ba6-ab4e-49a2-ab1f-ef65fa381e98",
   "metadata": {},
   "outputs": [],
   "source": [
    "gene1 = ('BRCA1', 'Chr17', 'Coding')"
   ]
  },
  {
   "cell_type": "code",
   "execution_count": null,
   "id": "5d5805fe-f1bd-467f-b9ac-b42fd88f58f2",
   "metadata": {},
   "outputs": [],
   "source": [
    "gene2 = ('BRCA2', 'Chr13', 'Coding')"
   ]
  },
  {
   "cell_type": "code",
   "execution_count": null,
   "id": "7d868806-3da2-45ec-b2c2-c64047abab3b",
   "metadata": {},
   "outputs": [],
   "source": [
    "gene1[1]"
   ]
  },
  {
   "cell_type": "markdown",
   "id": "a149be4d-cdef-466d-a22c-54c04b167543",
   "metadata": {},
   "source": [
    "### Q: Test the immutability of tuples\n",
    "- Example: Can you change the gene name or chromosome number, or type of gene (`coding`, `non-coding`) in the tuples?\n",
    "- What error is raised?\n",
    "- 1-2 mins"
   ]
  },
  {
   "cell_type": "code",
   "execution_count": null,
   "id": "f731f5b4-5d43-4ae2-bb37-550fabbe99be",
   "metadata": {},
   "outputs": [],
   "source": []
  },
  {
   "cell_type": "markdown",
   "id": "dbef0f1b-d55c-4aed-b1c6-3f73436b9870",
   "metadata": {},
   "source": [
    "# Collaborative exercises"
   ]
  },
  {
   "cell_type": "markdown",
   "id": "176d57ec-b905-4f4b-a61d-814e6b21601e",
   "metadata": {},
   "source": [
    "## Exercise 1\n",
    "\n",
    "- Make up an amino acid sequence for your favorite gene with your team. Max 15 characters. Look at the codon table for allowed characters if unsure.\n",
    "- Store the sequence in a string variable and calculate the length\n",
    "- Store the sequence in a list and re-calculate the length\n",
    "- Ask one of your team mates to select a position in the sequence and a mutation. Introduce it into the sequence. Print the result. Can you do this in the string ? Why not? how about in the list ? \n",
    "- Now ask your friend to introduce mutations in multiple positions e.g. think of this as a strange translocation, positions 4-8 of the protein. Can you introduce this and print the result? Can you do this in the string ? Why, or why not? how about in the list ?                                 "
   ]
  },
  {
   "cell_type": "markdown",
   "id": "268906e5-568e-4dbe-aa83-d47719ed94c9",
   "metadata": {},
   "source": [
    "## Exercise 2\n",
    "\n",
    "- Store the original amino acid sequence you started with in `Exercise 1` in a list\n",
    "- Create a copy of this list to store a protein copy\n",
    "- Introduce some mutations only in the copy, not in the original protein (gene duplication and divergence model). Decide which positions you want to change in the copy with your colleague\n",
    "- Print out the original protein sequence list, and the sequence of the copy"
   ]
  },
  {
   "cell_type": "markdown",
   "id": "de57e2a5-10a6-47c0-b805-481d5e22af93",
   "metadata": {},
   "source": [
    "## Exercise 3\n",
    "- Can you take the `gene1` tuple created in the class and try to make it mutable, i.e replace `BRCA1` with a different gene on `Chr17`?\n",
    "- Hint: change the data structure from a tuple to something else"
   ]
  },
  {
   "cell_type": "markdown",
   "id": "dd6821c1-6abd-44e1-8101-367b1a7f6ef6",
   "metadata": {},
   "source": [
    "## Exercise 4\n",
    "- Create a list of lists, with one list and within in two sublists\n",
    "- each sublist should have three gene names in it\n",
    "- Decide gene names with your team\n",
    "- Can you access the first sublist and the first element of the first sublist?"
   ]
  },
  {
   "cell_type": "code",
   "execution_count": null,
   "id": "31966932-1ac6-437d-9f5d-c1df9c7a8e75",
   "metadata": {},
   "outputs": [],
   "source": []
  }
 ],
 "metadata": {
  "kernelspec": {
   "display_name": "Python 3.12.7",
   "language": "python",
   "name": "venv_3.12.7"
  },
  "language_info": {
   "codemirror_mode": {
    "name": "ipython",
    "version": 3
   },
   "file_extension": ".py",
   "mimetype": "text/x-python",
   "name": "python",
   "nbconvert_exporter": "python",
   "pygments_lexer": "ipython3",
   "version": "3.12.7"
  }
 },
 "nbformat": 4,
 "nbformat_minor": 5
}
