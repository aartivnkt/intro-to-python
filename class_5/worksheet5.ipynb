{
 "cells": [
  {
   "cell_type": "markdown",
   "id": "6defd83e-9fee-4b48-b0dd-bf76d4c3ea55",
   "metadata": {},
   "source": [
    "# worksheet5: Numpy Part 1"
   ]
  },
  {
   "cell_type": "code",
   "execution_count": null,
   "id": "595155b9-8cb4-4e44-9566-3491a33ed6b5",
   "metadata": {},
   "outputs": [],
   "source": [
    "%%html\n",
    "<h1>Numpy Basics</h1>"
   ]
  },
  {
   "cell_type": "markdown",
   "id": "3265a8ed-89af-47a1-b2ae-69d7a72086b4",
   "metadata": {},
   "source": [
    "- Python library optimized for numerical computing\n",
    "- ability to create and manipulate n-dimensional arrays, critical for ML/DL applications"
   ]
  },
  {
   "cell_type": "code",
   "execution_count": null,
   "id": "143f029a-7ae4-421a-9a9e-5b5860f1f2db",
   "metadata": {},
   "outputs": [],
   "source": [
    "import numpy as np"
   ]
  },
  {
   "cell_type": "markdown",
   "id": "55812522-0d51-445b-8f6a-0229eca55d2b",
   "metadata": {},
   "source": [
    "### Basics"
   ]
  },
  {
   "cell_type": "markdown",
   "id": "ad2a5851-33c1-48ed-9f31-cb57d39733fc",
   "metadata": {},
   "source": [
    "#### simple 1D array"
   ]
  },
  {
   "cell_type": "code",
   "execution_count": null,
   "id": "6d9ff145-f99c-40ce-9a7d-218ed8dd1e2f",
   "metadata": {},
   "outputs": [],
   "source": [
    "array_1D = np.array([2,2,4,6,8,10])"
   ]
  },
  {
   "cell_type": "code",
   "execution_count": null,
   "id": "1bb46583-3fc4-4c33-a299-ade24beb2f5f",
   "metadata": {},
   "outputs": [],
   "source": [
    "array_1D"
   ]
  },
  {
   "cell_type": "code",
   "execution_count": null,
   "id": "4ed71e43-bebf-4976-819f-0a1162c05b3b",
   "metadata": {},
   "outputs": [],
   "source": [
    "type(array_1D)"
   ]
  },
  {
   "cell_type": "markdown",
   "id": "6944e539-bc62-4aed-8c04-8c6c6c2884fb",
   "metadata": {},
   "source": [
    "#### dimensions of array (.ndim attribute)"
   ]
  },
  {
   "cell_type": "code",
   "execution_count": null,
   "id": "c764c83a-8ee4-429b-9961-29831df823dc",
   "metadata": {},
   "outputs": [],
   "source": [
    "array_1D.ndim"
   ]
  },
  {
   "cell_type": "markdown",
   "id": "a57108fe-7d23-4044-8f95-e0293f1aaf3f",
   "metadata": {},
   "source": [
    "#### shape of array (.shape attribute)"
   ]
  },
  {
   "cell_type": "code",
   "execution_count": null,
   "id": "302cc420-c339-42ff-ad65-44ce14028db8",
   "metadata": {},
   "outputs": [],
   "source": [
    "array_1D.shape"
   ]
  },
  {
   "cell_type": "markdown",
   "id": "4799919e-fdfa-4025-a626-fa791f904d79",
   "metadata": {},
   "source": [
    "#### Q: get unique elements of the array"
   ]
  },
  {
   "cell_type": "code",
   "execution_count": null,
   "id": "6d5c8f1e-6e22-473f-bdbf-885f08f426c9",
   "metadata": {},
   "outputs": [],
   "source": []
  },
  {
   "cell_type": "markdown",
   "id": "2e595a41-1a6b-4c55-ba39-f79b2f9a2fda",
   "metadata": {},
   "source": [
    "#### Python list to numpy array"
   ]
  },
  {
   "cell_type": "code",
   "execution_count": null,
   "id": "d28ea8e4-801c-42af-b5fb-f31bbb45e28e",
   "metadata": {},
   "outputs": [],
   "source": [
    "list_1D = [2,3,6,8,10]\n",
    "np.array(list_1D)"
   ]
  },
  {
   "cell_type": "markdown",
   "id": "e1069726-a914-4f68-af3e-96a522a95099",
   "metadata": {},
   "source": [
    "#### basic useful functionality\n",
    "Experiment with the following:\n",
    "- create an array from a range of numbers (np.arange(n)), where n is the data_size\n",
    "- create an array using start, stop (stop is exclusive), step (np.arange(start,stop,step))\n",
    "- create evenly spaced numbers of size n over a specified interval (np.linspace(start,stop,n))\n",
    "- create an array of ones (np.ones(n))\n",
    "- create an array of zeros (np.zeros(n))"
   ]
  },
  {
   "cell_type": "markdown",
   "id": "7c81806b-9587-4080-898b-74a40a3bf195",
   "metadata": {},
   "source": [
    "#### `np.arange`"
   ]
  },
  {
   "cell_type": "code",
   "execution_count": null,
   "id": "23a2f6fb-d862-4eef-81d8-5db695196581",
   "metadata": {},
   "outputs": [],
   "source": [
    "np.arange(10)"
   ]
  },
  {
   "cell_type": "markdown",
   "id": "2c2a2678-dac0-4ee2-885e-17670269fb5b",
   "metadata": {},
   "source": [
    "#### Q: which python function has similar functionality as `np.arange`? \n",
    "- 2 mins"
   ]
  },
  {
   "cell_type": "code",
   "execution_count": null,
   "id": "e397820c-9be5-460f-ac41-d96e00f6849b",
   "metadata": {},
   "outputs": [],
   "source": []
  },
  {
   "cell_type": "code",
   "execution_count": null,
   "id": "bd5c8af8-845c-4f1c-b2a3-e499b2b30b2f",
   "metadata": {},
   "outputs": [],
   "source": [
    "np.arange(start=10,stop=20,step=2)"
   ]
  },
  {
   "cell_type": "markdown",
   "id": "ee62e610-37f5-4b21-a84c-f4807ad9300f",
   "metadata": {},
   "source": [
    "#### Q: calculate the square of all even numbers between 0 to 10\n",
    "- 10 is included\n",
    "- store results in an numpy array"
   ]
  },
  {
   "cell_type": "code",
   "execution_count": null,
   "id": "4993b6e3-a2ab-4c46-89ff-e9c0a3a2759b",
   "metadata": {},
   "outputs": [],
   "source": [
    "np.array(\n",
    "    [num**2 for num in np.arange(start=0, stop=11, step=2)]\n",
    ")"
   ]
  },
  {
   "cell_type": "markdown",
   "id": "83db9c76-d01b-4238-84af-d773644c2a21",
   "metadata": {},
   "source": [
    "#### `np.linspace`"
   ]
  },
  {
   "cell_type": "code",
   "execution_count": null,
   "id": "47945420-edc0-476d-ba59-5e2119c73f2a",
   "metadata": {},
   "outputs": [],
   "source": [
    "np.linspace(2,3,10)"
   ]
  },
  {
   "cell_type": "markdown",
   "id": "54ab9188-8724-42d0-bbd8-741a55c875e5",
   "metadata": {},
   "source": [
    "`np.ones`, `np.zeros`"
   ]
  },
  {
   "cell_type": "code",
   "execution_count": null,
   "id": "2d3f075c-f25a-46ba-939f-2a72207dabec",
   "metadata": {},
   "outputs": [],
   "source": [
    "np.ones(5)"
   ]
  },
  {
   "cell_type": "code",
   "execution_count": null,
   "id": "e17fe655-ebc3-4c50-b8b8-073f2a4da992",
   "metadata": {},
   "outputs": [],
   "source": [
    "np.zeros(5)"
   ]
  },
  {
   "cell_type": "markdown",
   "id": "a65c771c-cb48-4239-8957-9bef2b291b7c",
   "metadata": {},
   "source": [
    "`np.random.rand`\n",
    "- default generates random normal number in the range [0, 1)"
   ]
  },
  {
   "cell_type": "code",
   "execution_count": null,
   "id": "e2f7f219-55dc-4e59-b0e3-bfacea87d920",
   "metadata": {},
   "outputs": [],
   "source": [
    "np.random.rand(10)"
   ]
  },
  {
   "cell_type": "markdown",
   "id": "4674e1d8-53a1-49b9-9456-c4ae08827aa8",
   "metadata": {},
   "source": [
    "### Numpy Datatypes\n",
    "- extended datatype support compared to vanilla python\n",
    "- e.g. boolean and complex numbers"
   ]
  },
  {
   "cell_type": "markdown",
   "id": "bffbd377-f562-464a-9dc5-93cff874a92c",
   "metadata": {},
   "source": [
    "#### explore datatype of object with .dtype attr"
   ]
  },
  {
   "cell_type": "code",
   "execution_count": null,
   "id": "756808d0-442b-4942-a3f5-fc9acdcb40f5",
   "metadata": {},
   "outputs": [],
   "source": [
    "array_1D"
   ]
  },
  {
   "cell_type": "code",
   "execution_count": null,
   "id": "68ddac95-5f09-432e-a8f6-6cbd0306e112",
   "metadata": {},
   "outputs": [],
   "source": [
    "array_1D.dtype"
   ]
  },
  {
   "cell_type": "code",
   "execution_count": null,
   "id": "ede2b73f-7cf0-429c-9d73-ce189581d71b",
   "metadata": {},
   "outputs": [],
   "source": [
    "array_float = np.linspace(2,10,6)"
   ]
  },
  {
   "cell_type": "code",
   "execution_count": null,
   "id": "cf416f2a-4733-433b-a7e5-e7e239394b0e",
   "metadata": {},
   "outputs": [],
   "source": [
    "array_float.dtype"
   ]
  },
  {
   "cell_type": "markdown",
   "id": "a9ff0791-1b64-4be2-af93-8d3adf3c096b",
   "metadata": {},
   "source": [
    "#### manually assign dtypes"
   ]
  },
  {
   "cell_type": "code",
   "execution_count": null,
   "id": "696dd619-4858-46f6-9d2b-2c44f9f5741f",
   "metadata": {},
   "outputs": [],
   "source": [
    "array_assign_dtype =  np.array([3,7,9,11])\n",
    "array_assign_dtype.dtype"
   ]
  },
  {
   "cell_type": "code",
   "execution_count": null,
   "id": "cfeec16a-3b09-4d3c-84d6-1e2bd7d5dae3",
   "metadata": {},
   "outputs": [],
   "source": [
    "array_assign_dtype =  np.array([3,7,9,11], dtype='float64')\n",
    "array_assign_dtype.dtype"
   ]
  },
  {
   "cell_type": "markdown",
   "id": "c7db747b-4e13-4b2c-b619-03a8d4ef367b",
   "metadata": {},
   "source": [
    "### Indexing and Fancy Indexing (1-D)"
   ]
  },
  {
   "cell_type": "markdown",
   "id": "16df570b-0d0e-4131-a996-1bfd95d49cc4",
   "metadata": {},
   "source": [
    "#### Indexing"
   ]
  },
  {
   "cell_type": "code",
   "execution_count": null,
   "id": "61c2a80c-e70b-4704-b74c-5c83be619348",
   "metadata": {},
   "outputs": [],
   "source": [
    "a = np.random.rand(10)"
   ]
  },
  {
   "cell_type": "code",
   "execution_count": null,
   "id": "3fef46fe-a99a-48b1-8f29-a658e86f85d0",
   "metadata": {},
   "outputs": [],
   "source": [
    "a[0]"
   ]
  },
  {
   "cell_type": "code",
   "execution_count": null,
   "id": "7fb25d9c-dc92-48a5-bdb3-a257946fd7ea",
   "metadata": {},
   "outputs": [],
   "source": [
    "print(a[0])"
   ]
  },
  {
   "cell_type": "markdown",
   "id": "fc2ab8b8-fce4-43e1-95d8-e68bba904d1e",
   "metadata": {},
   "source": [
    "#### Fancy Indexing\n",
    "- advanced mechanism for indexing array elements based on integers or boolean (also called masking)\n",
    "- Select elements with even indices in the array"
   ]
  },
  {
   "cell_type": "markdown",
   "id": "fd80b77a-97ee-445e-bf10-ba7085fb1725",
   "metadata": {},
   "source": [
    "##### Option 1: Boolean indexing \n"
   ]
  },
  {
   "cell_type": "code",
   "execution_count": null,
   "id": "5586f269-6aa4-4da8-8763-5209a149ef20",
   "metadata": {},
   "outputs": [],
   "source": [
    "random_ints = np.random.randint(1,20,10)"
   ]
  },
  {
   "cell_type": "code",
   "execution_count": null,
   "id": "5bd106c8-a48c-42bc-8893-c05218c95b42",
   "metadata": {},
   "outputs": [],
   "source": [
    "random_ints"
   ]
  },
  {
   "cell_type": "code",
   "execution_count": null,
   "id": "88454523-8a30-4f7b-8ab1-be7eddcbb57d",
   "metadata": {},
   "outputs": [],
   "source": [
    "random_ints % 2 == 0"
   ]
  },
  {
   "cell_type": "markdown",
   "id": "ede70afe-4753-45bb-8a51-271582a7b09a",
   "metadata": {},
   "source": [
    "#### access even array elements using boolean result"
   ]
  },
  {
   "cell_type": "code",
   "execution_count": null,
   "id": "6ef50b38-cbe6-4168-985d-469ffaec5485",
   "metadata": {},
   "outputs": [],
   "source": [
    "random_ints[random_ints % 2 == 0]"
   ]
  },
  {
   "cell_type": "markdown",
   "id": "beaefca8-2405-4568-8b16-eb5a8315c6a9",
   "metadata": {},
   "source": [
    "##### Option 2: Integer mask\n",
    "- This uses int arrays themselves as indexes"
   ]
  },
  {
   "cell_type": "code",
   "execution_count": null,
   "id": "5c7e87e8-89eb-4691-b4aa-66c1f326f5a9",
   "metadata": {},
   "outputs": [],
   "source": [
    "random_ints"
   ]
  },
  {
   "cell_type": "code",
   "execution_count": null,
   "id": "a9342252-d792-44e8-9e98-619caf6cfcc1",
   "metadata": {},
   "outputs": [],
   "source": [
    "even_indices = np.array([0,3,4,9])"
   ]
  },
  {
   "cell_type": "code",
   "execution_count": null,
   "id": "5834b758-6345-400e-a220-acb163a3ad4f",
   "metadata": {},
   "outputs": [],
   "source": [
    "even_indices"
   ]
  },
  {
   "cell_type": "code",
   "execution_count": null,
   "id": "6139feed-1204-4698-834b-f62bfee66905",
   "metadata": {},
   "outputs": [],
   "source": [
    "random_ints[even_indices]"
   ]
  },
  {
   "cell_type": "markdown",
   "id": "cf6fc269-7e8f-423f-b234-79f28a5238c2",
   "metadata": {},
   "source": [
    "#### Q: what would be the output of the code below:\n",
    "random_ints[np.array([1,1,2])]"
   ]
  },
  {
   "cell_type": "code",
   "execution_count": null,
   "id": "5c00cb12-0c73-41c9-a4f5-ad1c0b8ac3e4",
   "metadata": {},
   "outputs": [],
   "source": []
  },
  {
   "cell_type": "markdown",
   "id": "5530badb-4a75-4aa2-ab67-44a45a80aa1d",
   "metadata": {},
   "source": [
    "### check for nan"
   ]
  },
  {
   "cell_type": "code",
   "execution_count": null,
   "id": "6b9d0aee-5ee2-4f47-838f-44ebd88c6958",
   "metadata": {},
   "outputs": [],
   "source": [
    "np.isnan(random_ints)"
   ]
  },
  {
   "cell_type": "code",
   "execution_count": null,
   "id": "ad6a338f-3f1c-4420-addc-258a23752e8f",
   "metadata": {},
   "outputs": [],
   "source": [
    "x = np.array([1,2,3,np.nan])"
   ]
  },
  {
   "cell_type": "markdown",
   "id": "d92922a9-16fd-419c-8ca8-a26341adad7b",
   "metadata": {},
   "source": [
    "#### Q: what would be the output of:\n",
    "x[~np.isnan(x)]"
   ]
  },
  {
   "cell_type": "code",
   "execution_count": null,
   "id": "c53ad7b8-30ba-4ea9-a407-c19bc91b95b5",
   "metadata": {},
   "outputs": [],
   "source": []
  },
  {
   "cell_type": "markdown",
   "id": "a82d0543-5b6d-417f-bbfd-5ba69f8a8ede",
   "metadata": {},
   "source": [
    "#### assign constant to a slice"
   ]
  },
  {
   "cell_type": "code",
   "execution_count": null,
   "id": "cb39a969-03f1-4ce2-8a4b-11f0f42bcfac",
   "metadata": {},
   "outputs": [],
   "source": [
    "x[:3] = 1"
   ]
  },
  {
   "cell_type": "code",
   "execution_count": null,
   "id": "6f493bca-c2f6-4046-b639-ef0d33e4e320",
   "metadata": {},
   "outputs": [],
   "source": [
    "x"
   ]
  },
  {
   "cell_type": "markdown",
   "id": "237fd13c-feeb-4471-bcb3-f44bf7956717",
   "metadata": {},
   "source": [
    "#### Q: will assign constant to a slice work in python? "
   ]
  },
  {
   "cell_type": "code",
   "execution_count": null,
   "id": "dfb627bd-cb04-43be-9bb7-1dcea6213a69",
   "metadata": {},
   "outputs": [],
   "source": []
  },
  {
   "cell_type": "markdown",
   "id": "2898ced3-63e7-45c3-8119-4ab55596cc00",
   "metadata": {},
   "source": [
    "### Compare runtime behaviours\n",
    "- In the following code, we will calculate the sum of all squared numbers of 1 to 100 and see how much time the calculation will take. We do it 100 times and report the total time so that our measurement is accurate enough.\n",
    "- Knowing how to optimize numpy takes great skill and practise"
   ]
  },
  {
   "cell_type": "code",
   "execution_count": null,
   "id": "448e7da9-7cff-4998-9887-9dd94c236706",
   "metadata": {},
   "outputs": [],
   "source": [
    "a = np.array(a)"
   ]
  },
  {
   "cell_type": "code",
   "execution_count": null,
   "id": "d04ddbe8-9fae-4cdf-af42-81f513cbdedc",
   "metadata": {},
   "outputs": [],
   "source": [
    "a"
   ]
  },
  {
   "cell_type": "code",
   "execution_count": null,
   "id": "c4f6360e-1da4-4e54-ae33-292cabd5c02f",
   "metadata": {},
   "outputs": [],
   "source": [
    "a*a"
   ]
  },
  {
   "cell_type": "code",
   "execution_count": null,
   "id": "3168ac08-9ffd-4718-924d-e3bed3aa952f",
   "metadata": {},
   "outputs": [],
   "source": [
    "a*2"
   ]
  },
  {
   "cell_type": "markdown",
   "id": "0d7d638a-82fe-4a13-86ba-6dd8a3720fe5",
   "metadata": {},
   "source": [
    "#### Q: what will a regular python list operation output for above?\n"
   ]
  },
  {
   "cell_type": "code",
   "execution_count": null,
   "id": "6cdf1ddb-e2de-4333-aeb8-2aee36040662",
   "metadata": {},
   "outputs": [],
   "source": []
  },
  {
   "cell_type": "code",
   "execution_count": null,
   "id": "3dbb8a0d-cb66-4bc9-92bd-54c03556d064",
   "metadata": {},
   "outputs": [],
   "source": [
    "import timeit\n",
    "normal_py_sec = timeit.timeit('sum(x*x for x in range(100))',\n",
    "number=100)\n",
    "naive_np_sec = timeit.timeit('sum(na*na)',\n",
    "setup=\"import numpy as np; na=np.arange(100)\",\n",
    "number=100)\n",
    "good_np_sec = timeit.timeit('na.dot(na)',\n",
    "setup=\"import numpy as np; na=np.arange(100)\",\n",
    "number=100)\n",
    "print('Normal Python: {} sec'.format(normal_py_sec))\n",
    "print('Naive NumPy: {} sec'.format(naive_np_sec))\n",
    "print('Good NumPy: {} sec'.format(good_np_sec))"
   ]
  },
  {
   "cell_type": "markdown",
   "id": "bbe09fa6-e793-4b43-b283-1f2dce2ea739",
   "metadata": {},
   "source": [
    "### Slicing a 1D array"
   ]
  },
  {
   "cell_type": "code",
   "execution_count": null,
   "id": "acd8a0b9-cac2-44d3-86fb-b1210f038b0c",
   "metadata": {},
   "outputs": [],
   "source": [
    "random_ints"
   ]
  },
  {
   "cell_type": "code",
   "execution_count": null,
   "id": "dbe0d589-4c47-480f-a7c0-9b1a909543d0",
   "metadata": {},
   "outputs": [],
   "source": [
    "random_ints[:3]"
   ]
  },
  {
   "cell_type": "code",
   "execution_count": null,
   "id": "499e3e75-d774-4531-a27b-5b2b01c99f9e",
   "metadata": {},
   "outputs": [],
   "source": [
    "# b is a view\n",
    "b = random_ints[:3]"
   ]
  },
  {
   "cell_type": "code",
   "execution_count": null,
   "id": "65e8e92e-805f-4571-b6ad-4671f0ee7fee",
   "metadata": {},
   "outputs": [],
   "source": [
    "b += 1"
   ]
  },
  {
   "cell_type": "markdown",
   "id": "b449ef8c-9e63-4903-8c80-9e3f24c77e60",
   "metadata": {},
   "source": [
    "#### Q: what would be the output of:\n",
    "- b\n",
    "- random_ints\n"
   ]
  },
  {
   "cell_type": "code",
   "execution_count": null,
   "id": "a282ae9b-1563-4ab4-ae4e-14ff139bc52a",
   "metadata": {},
   "outputs": [],
   "source": []
  },
  {
   "cell_type": "code",
   "execution_count": null,
   "id": "678fb008-4eab-41cc-920d-9a40641df088",
   "metadata": {},
   "outputs": [],
   "source": [
    "b = random_ints[:3].copy()\n",
    "b += 1"
   ]
  },
  {
   "cell_type": "code",
   "execution_count": null,
   "id": "c77ef28d-ec06-488f-8066-8b27b87f5592",
   "metadata": {},
   "outputs": [],
   "source": [
    "random_ints"
   ]
  },
  {
   "cell_type": "code",
   "execution_count": null,
   "id": "f0f0c16c-47c9-419a-bdd6-c1b69d929187",
   "metadata": {},
   "outputs": [],
   "source": [
    "b"
   ]
  },
  {
   "cell_type": "code",
   "execution_count": null,
   "id": "f9acd478-401f-4bf2-a839-be2d1fd52f27",
   "metadata": {},
   "outputs": [],
   "source": [
    "random_ints[1:5]"
   ]
  },
  {
   "cell_type": "markdown",
   "id": "98e85b00-c202-4ea2-8a0b-de4a4c7619c0",
   "metadata": {},
   "source": [
    "### Q: Experiment with other useful functions\n",
    "- np.log(array)\n",
    "- np.sum(array)\n",
    "- np.exp(array)\n",
    "- np.array().max()\n",
    "- np.array().min()\n",
    "- np.flip(array)\n"
   ]
  },
  {
   "cell_type": "markdown",
   "id": "bac553c0-da7d-449a-8ccd-7f2f1a764b6c",
   "metadata": {},
   "source": [
    "## Collaborative exercises\n",
    "\n",
    "### Exercise 1\n",
    "\n",
    "Implement a sigmoid function on toy dataset you create with your team\n",
    "- The function should accept an input numpy array of length 10 and calculate the sigmoid function `f(z) = 1/(1+e^(-z))`\n",
    "- This function only returns values between 0 and 1, and is used in models that return prob\n",
    "- First, implement this function using vanilla python, using the `exp` function from the `math` module. Run the function on your input. What do you observe?\n",
    "- Second, implement this function using numpy function for exponentiation. Run the function on your input. Run the function on your input. What do you observe this time?\n",
    "- Third, implement this function using numpy functions for addition, exponentation and division. Run the function on your input. What do you observe this time?\n",
    "- Time the computations for all three cases listed above. Which one runs the fastest?\n",
    "- Now create a large input array of size 100000 random normal numbers, and pass it to the three functions. Which one runs the fastest?"
   ]
  },
  {
   "cell_type": "markdown",
   "id": "679024d6-7ee4-4f54-92fa-9320bbb0f361",
   "metadata": {},
   "source": [
    "### Exercise 2\n",
    "\n",
    "Implement a function that returns a MSE estimate, given two arrays as input\n",
    "\n",
    "- The formula is available anywhere online, for eg. `https://statisticsbyjim.com/regression/mean-squared-error-mse/`\n",
    "- Construct with your team, an input array of predictions, and an input array of observed, each with three values\n",
    "- Calculate MSE using these two arrays as input\n",
    "- How long does your code take to run?\n",
    "- What if you passed two different sized input arrays: prediction array of size 1, and observed array of size 3? Does it work? Why, or why not?\n",
    "- What if you now passed prediction array of size 2, and observed array of size 3? Does it work? Why, or why not?\n",
    "- Modify your original function to raise an appropriate error or exception to handle unequal sized inputs, and run modified function on all cases"
   ]
  }
 ],
 "metadata": {
  "kernelspec": {
   "display_name": "Python 3.12.7",
   "language": "python",
   "name": "venv_3.12.7"
  },
  "language_info": {
   "codemirror_mode": {
    "name": "ipython",
    "version": 3
   },
   "file_extension": ".py",
   "mimetype": "text/x-python",
   "name": "python",
   "nbconvert_exporter": "python",
   "pygments_lexer": "ipython3",
   "version": "3.12.7"
  }
 },
 "nbformat": 4,
 "nbformat_minor": 5
}
