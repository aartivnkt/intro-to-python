{
 "cells": [
  {
   "cell_type": "markdown",
   "id": "0704a7a4-3373-4f6b-aaa2-bab21008620e",
   "metadata": {},
   "source": [
    "# worksheet 11b: Proteomics dataset\n",
    "- Case study: https://www.nature.com/articles/srep37871\n",
    "### Malaria data\n",
    "- quantify celebral protein expression of 748 proteins in 12 mice (samples) using mass spec experiments\n",
    "- 6 mice, two parallel experimental sets (n=12)\n",
    "- In each experiment: 2 mice = non-infected controls, 2 mice = day 3 post infection, 2 mice = ECM or experimental celebral malaria (day 8 post infection)\n",
    "- protein expression in log2 base format "
   ]
  },
  {
   "cell_type": "code",
   "execution_count": null,
   "id": "6c78e759-60af-47fc-b03a-c49791bba0cc",
   "metadata": {},
   "outputs": [],
   "source": [
    "import pandas as pd\n",
    "import numpy as np\n",
    "import matplotlib.pyplot as plt"
   ]
  },
  {
   "cell_type": "code",
   "execution_count": null,
   "id": "814bcb07-5ae0-494c-86b1-1de582294389",
   "metadata": {},
   "outputs": [],
   "source": [
    "malaria_data = pd.read_csv('malaria.csv', index_col=0)"
   ]
  },
  {
   "cell_type": "code",
   "execution_count": null,
   "id": "e4d5db20-392a-4252-98b2-be47b15fccdc",
   "metadata": {},
   "outputs": [],
   "source": [
    "malaria_data.shape"
   ]
  },
  {
   "cell_type": "code",
   "execution_count": null,
   "id": "79e57d8d-a8a2-4ac6-adc7-1dfe593ff720",
   "metadata": {},
   "outputs": [],
   "source": [
    "malaria_data.head()"
   ]
  },
  {
   "cell_type": "code",
   "execution_count": null,
   "id": "25bc44ba-9f48-4daa-bb5e-bdd5fef405a4",
   "metadata": {},
   "outputs": [],
   "source": [
    "malaria_data.columns"
   ]
  },
  {
   "cell_type": "code",
   "execution_count": null,
   "id": "c5792f9c-c188-433a-b2cb-deabd882c4f1",
   "metadata": {},
   "outputs": [],
   "source": [
    "malaria_data.dtypes"
   ]
  },
  {
   "cell_type": "markdown",
   "id": "790f29c9-94e2-41e3-8e91-3e06737df0d3",
   "metadata": {},
   "source": [
    "### overall statistics"
   ]
  },
  {
   "cell_type": "code",
   "execution_count": null,
   "id": "7b9e7093-1be2-4676-ae26-b2b19c5f10ac",
   "metadata": {},
   "outputs": [],
   "source": [
    "malaria_data.describe()"
   ]
  },
  {
   "cell_type": "markdown",
   "id": "98a26d83-1bba-4d33-aca0-cebf570af83b",
   "metadata": {},
   "source": [
    "### get count of null values per sample"
   ]
  },
  {
   "cell_type": "code",
   "execution_count": null,
   "id": "292ce06f-b852-4dc3-b786-cb606ae6f21d",
   "metadata": {},
   "outputs": [],
   "source": [
    "def count_nulls(col):\n",
    "    return col.loc[col.isna()].shape"
   ]
  },
  {
   "cell_type": "code",
   "execution_count": null,
   "id": "ef3fcd69-ad9c-4150-8c59-f9f71a8703c2",
   "metadata": {},
   "outputs": [],
   "source": [
    "null_count = malaria_data.apply(\n",
    "    lambda col: count_nulls(col)\n",
    ")"
   ]
  },
  {
   "cell_type": "code",
   "execution_count": null,
   "id": "229a483b-0c26-4372-942f-ac2d95c0467c",
   "metadata": {},
   "outputs": [],
   "source": [
    "null_count.index = ['null_count']"
   ]
  },
  {
   "cell_type": "code",
   "execution_count": null,
   "id": "8066d85e-979a-414c-9420-9e9d136eedec",
   "metadata": {},
   "outputs": [],
   "source": [
    "null_count"
   ]
  },
  {
   "cell_type": "code",
   "execution_count": null,
   "id": "0c9511b1-0139-4a6d-8952-a202968b990b",
   "metadata": {},
   "outputs": [],
   "source": [
    "null_count.loc['null_count']"
   ]
  },
  {
   "cell_type": "markdown",
   "id": "a823e4e4-6a92-4df5-8bc6-6224ec30e4e2",
   "metadata": {},
   "source": [
    "### plot null values per sample\n",
    "- plot series"
   ]
  },
  {
   "cell_type": "code",
   "execution_count": null,
   "id": "50baadc6-372e-402b-bcb6-a33e0dc8a358",
   "metadata": {},
   "outputs": [],
   "source": [
    "fig, ax = plt.subplots()\n",
    "ax.plot(\n",
    "    null_count.loc['null_count'].index, \n",
    "    null_count.loc['null_count'].values, \n",
    "    'ro', \n",
    "    label='null count per sample'\n",
    ")\n",
    "ax.tick_params(axis='x', rotation=60, labelsize=5)\n"
   ]
  },
  {
   "cell_type": "markdown",
   "id": "7510d7d0-12ce-45ae-a321-580c5feb8b2a",
   "metadata": {},
   "source": [
    "### plot raw mean protein expression per sample"
   ]
  },
  {
   "cell_type": "code",
   "execution_count": null,
   "id": "230e79c5-f2cf-4932-a14c-1974c0b15c8c",
   "metadata": {},
   "outputs": [],
   "source": [
    "malaria_data.describe()"
   ]
  },
  {
   "cell_type": "code",
   "execution_count": null,
   "id": "446657ab-0798-4617-bfc2-936ee7b52431",
   "metadata": {},
   "outputs": [],
   "source": [
    "malaria_data.describe().loc['mean']"
   ]
  },
  {
   "cell_type": "code",
   "execution_count": null,
   "id": "2365d680-7f78-4993-812a-108f5230bb39",
   "metadata": {},
   "outputs": [],
   "source": [
    "fig, ax = plt.subplots()\n",
    "ax.plot(\n",
    "    malaria_data.describe().loc['mean'].index,\n",
    "    malaria_data.describe().loc['mean'].values,\n",
    "    'ro'\n",
    ")\n",
    "ax.tick_params(axis='x', rotation=60, labelsize=5)"
   ]
  },
  {
   "cell_type": "markdown",
   "id": "e4102a5e-9375-4d59-9e50-c86d15106b66",
   "metadata": {},
   "source": [
    "### boxplot of sample names and raw protein expression"
   ]
  },
  {
   "cell_type": "code",
   "execution_count": null,
   "id": "4a116ea8-1f91-4afd-a055-ff581a2fcf09",
   "metadata": {},
   "outputs": [],
   "source": [
    "malaria_data.head()"
   ]
  },
  {
   "cell_type": "code",
   "execution_count": null,
   "id": "371d797c-4d2a-4819-b9a3-e90f4f63c9db",
   "metadata": {},
   "outputs": [],
   "source": [
    "malaria_melted = malaria_data.melt(\n",
    "    value_vars=malaria_data.columns\n",
    ")\n",
    "malaria_melted.columns=['sample','log2_expr']"
   ]
  },
  {
   "cell_type": "code",
   "execution_count": null,
   "id": "261f88c5-fb9a-42c4-b49e-280d966087fe",
   "metadata": {},
   "outputs": [],
   "source": [
    "fig, ax = plt.subplots()\n",
    "malaria_melted.boxplot(\n",
    "    column='log2_expr', by='sample', ax=ax, notch=True\n",
    ")\n",
    "ax.tick_params(axis='x', rotation=60, labelsize=5)\n",
    "ax.set_title('raw protein expression by sample')\n"
   ]
  },
  {
   "cell_type": "code",
   "execution_count": null,
   "id": "a8d18f76-8afb-4d3d-8c0b-9abf7b048bdd",
   "metadata": {},
   "outputs": [],
   "source": []
  }
 ],
 "metadata": {
  "kernelspec": {
   "display_name": "Python 3.12.7",
   "language": "python",
   "name": "venv_3.12.7"
  },
  "language_info": {
   "codemirror_mode": {
    "name": "ipython",
    "version": 3
   },
   "file_extension": ".py",
   "mimetype": "text/x-python",
   "name": "python",
   "nbconvert_exporter": "python",
   "pygments_lexer": "ipython3",
   "version": "3.12.7"
  }
 },
 "nbformat": 4,
 "nbformat_minor": 5
}
