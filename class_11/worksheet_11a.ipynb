{
 "cells": [
  {
   "cell_type": "markdown",
   "id": "53c18cf5-8b65-448b-85af-796560e3f2f6",
   "metadata": {},
   "source": [
    "# worksheet 11a: Plotting with pandas and matplotlib"
   ]
  },
  {
   "cell_type": "markdown",
   "id": "7c495474-c850-40eb-a02c-8feb6d004dc5",
   "metadata": {},
   "source": [
    "### Pandas leverages matplotlib\n",
    "In this notebook you will learn the basics of matplotlib and integration\n",
    "with pandas\n",
    "- link here https://matplotlib.org/stable/tutorials/pyplot.html\n",
    "- https://matplotlib.org/stable/api/_as_gen/matplotlib.pyplot.plot.html#matplotlib.pyplot.plot"
   ]
  },
  {
   "cell_type": "code",
   "execution_count": null,
   "id": "f0a21756-ad9d-4c8b-aa62-219d4848f519",
   "metadata": {},
   "outputs": [],
   "source": [
    "import pandas as pd\n",
    "import numpy as np\n",
    "import matplotlib.pyplot as plt"
   ]
  },
  {
   "cell_type": "code",
   "execution_count": null,
   "id": "71647f0a-6b48-4393-9f1f-0e8204244d94",
   "metadata": {},
   "outputs": [],
   "source": [
    "gene_tx_df = pd.read_csv('genes_transcripts.csv')"
   ]
  },
  {
   "cell_type": "code",
   "execution_count": null,
   "id": "d93521cf-ecc6-4c8d-94b4-8eebe87303de",
   "metadata": {},
   "outputs": [],
   "source": [
    "gene_tx_df['gene_name'].unique()"
   ]
  },
  {
   "cell_type": "code",
   "execution_count": null,
   "id": "9b0c5b8b-8ec5-406f-8270-e0dd0d33a272",
   "metadata": {},
   "outputs": [],
   "source": [
    "gene_tx_df['gene_name'].nunique()"
   ]
  },
  {
   "cell_type": "markdown",
   "id": "36255ae8-f998-4975-81df-1ed7305d1326",
   "metadata": {},
   "source": [
    "## matplotlib pyplot + pandas"
   ]
  },
  {
   "cell_type": "markdown",
   "id": "205b9294-b303-4e9f-8d0f-3adc4be0d18e",
   "metadata": {},
   "source": [
    "### line plot, only `y` data\n",
    "when a single list of values passed to `plt.plot` \n",
    "- treated as y-axis values\n",
    "- matplotlib generates x-axis values to match this"
   ]
  },
  {
   "cell_type": "code",
   "execution_count": null,
   "id": "c7a0e2fb-1d48-4308-9ee0-2af79524b8e4",
   "metadata": {},
   "outputs": [],
   "source": [
    "plt.plot(gene_tx_df['gene_name'].unique())"
   ]
  },
  {
   "cell_type": "markdown",
   "id": "9a5b633f-865e-40eb-9179-66728b08ad6a",
   "metadata": {},
   "source": [
    "### lineplot, `x` and `y` data\n",
    "- plot x , y values"
   ]
  },
  {
   "cell_type": "code",
   "execution_count": null,
   "id": "e5caf2d9-66d2-4cc1-9828-fe83111c88d9",
   "metadata": {},
   "outputs": [],
   "source": [
    "plt.plot(gene_tx_df['gene_name'].unique(), \n",
    "         gene_tx_df['gene_name'].unique()\n",
    "        )"
   ]
  },
  {
   "cell_type": "markdown",
   "id": "c5567fad-4ffb-4989-bda5-fe6f14fa78ed",
   "metadata": {},
   "source": [
    "### scatterplot, `x` and `y` data\n",
    "- plot x , y values"
   ]
  },
  {
   "cell_type": "code",
   "execution_count": null,
   "id": "20bd9199-0748-49bf-a780-5b6f2b253763",
   "metadata": {},
   "outputs": [],
   "source": [
    "plt.scatter(\n",
    "    gene_tx_df['gene_name'].unique(), \n",
    "    gene_tx_df['gene_name'].unique()\n",
    ")"
   ]
  },
  {
   "cell_type": "markdown",
   "id": "6e06b5e8-10ec-462b-a5b7-c771449fc3bf",
   "metadata": {},
   "source": [
    "### Formatting the style of the plot\n",
    "- default is solid blue line\n",
    "- change above plot to red points\n",
    "- see `Example format strings` here https://matplotlib.org/stable/api/_as_gen/matplotlib.pyplot.plot.html#matplotlib.pyplot.plot"
   ]
  },
  {
   "cell_type": "code",
   "execution_count": null,
   "id": "140587c2-91d2-40eb-bcd3-497302dca09c",
   "metadata": {},
   "outputs": [],
   "source": [
    "plt.scatter(\n",
    "    gene_tx_df['gene_name'].unique(), \n",
    "    gene_tx_df['gene_name'].unique(),\n",
    "    color='red'\n",
    ")"
   ]
  },
  {
   "cell_type": "code",
   "execution_count": null,
   "id": "fe880bba-9cda-4aed-b3d9-6d973a743c95",
   "metadata": {},
   "outputs": [],
   "source": [
    "plt.plot(\n",
    "    gene_tx_df['gene_name'].unique(), \n",
    "    gene_tx_df['gene_name'].unique(),\n",
    "    'or'\n",
    ")"
   ]
  },
  {
   "cell_type": "markdown",
   "id": "b9e3ddba-d0fe-4e2b-a6d1-245705cba8b6",
   "metadata": {},
   "source": [
    "### compare scatter plot to pandas df.plot"
   ]
  },
  {
   "cell_type": "code",
   "execution_count": null,
   "id": "70a9513a-3f13-4366-ad96-ecea51928efb",
   "metadata": {},
   "outputs": [],
   "source": [
    "d = {\n",
    "    'col1': gene_tx_df['gene_name'].unique(),\n",
    "    'col2': gene_tx_df['gene_name'].unique()\n",
    "}\n",
    "df = pd.DataFrame(d)"
   ]
  },
  {
   "cell_type": "code",
   "execution_count": null,
   "id": "4f330a74-0580-429b-b90c-0310d22a0888",
   "metadata": {},
   "outputs": [],
   "source": [
    "df"
   ]
  },
  {
   "cell_type": "code",
   "execution_count": null,
   "id": "490ff042-3213-44ce-b0d0-031792306ebd",
   "metadata": {},
   "outputs": [],
   "source": [
    "df.plot.scatter(x='col1', y='col2', color='red')"
   ]
  },
  {
   "cell_type": "markdown",
   "id": "df91c3c4-4b82-418c-9151-73dbc44c30b4",
   "metadata": {},
   "source": [
    "### Plotting with keyword strings\n",
    "Revisit scatterplot of `tx_length` by `gene_name`, where the points are colored by `biotype`\n",
    "- pandas + matplotlib\n",
    "- the `plt.scatter` command is very similar to `df.plot.scatter`"
   ]
  },
  {
   "cell_type": "markdown",
   "id": "7def4603-a291-43f0-b7c0-b456e05e4310",
   "metadata": {},
   "source": [
    "#### unique biotypes"
   ]
  },
  {
   "cell_type": "code",
   "execution_count": null,
   "id": "a0cc7474-dcd4-4650-ba13-3a4535e260a8",
   "metadata": {},
   "outputs": [],
   "source": [
    "gene_tx_df['biotype'].unique()"
   ]
  },
  {
   "cell_type": "markdown",
   "id": "fb897635-9682-4c4c-a932-992b74d1ef00",
   "metadata": {},
   "source": [
    "#### assign color for each biotype"
   ]
  },
  {
   "cell_type": "code",
   "execution_count": null,
   "id": "0eac578e-9ced-4901-b8fd-0deb1cec8ea2",
   "metadata": {},
   "outputs": [],
   "source": [
    "# assign color for each biotype\n",
    "map_biotype_to_colors = {'processed_pseudogene': 'blue',\n",
    "          'transcribed_unprocessed_pseudogene': 'pink',\n",
    "          'transcribed_processed_pseudogene': 'yellow',\n",
    "          'unprocessed_pseudogene': 'brown',\n",
    "          'protein_coding': 'red',\n",
    "          'retained_intron': 'grey',\n",
    "          'nonsense_mediated_decay': 'green',\n",
    "          'protein_coding_CDS_not_defined': 'purple',\n",
    "          'lncRNA': 'black',\n",
    "          'snRNA': 'orange'\n",
    "         }\n",
    "color_list = [map_biotype_to_colors[biotype] for biotype in gene_tx_df['biotype']]"
   ]
  },
  {
   "cell_type": "markdown",
   "id": "59e9017c-7c57-4ed5-a512-0da6e3353a81",
   "metadata": {},
   "source": [
    "#### plt.scatter"
   ]
  },
  {
   "cell_type": "code",
   "execution_count": null,
   "id": "80bc74c9-34ad-47bd-b549-a42fbb5ec632",
   "metadata": {},
   "outputs": [],
   "source": [
    "plt.scatter(x='gene_name', y='tx_length', c=color_list, data=gene_tx_df)\n",
    "plt.xlabel('gene names')\n",
    "plt.ylabel('tx length in bps')\n",
    "plt.show()"
   ]
  },
  {
   "cell_type": "markdown",
   "id": "3380bb28-e897-40a9-8a31-0eb4ca3dc685",
   "metadata": {},
   "source": [
    "#### df.plot.scatter"
   ]
  },
  {
   "cell_type": "code",
   "execution_count": null,
   "id": "65f35a92-3d9a-471e-bbf0-7d19f42fb9a9",
   "metadata": {},
   "outputs": [],
   "source": [
    "gene_tx_df.plot.scatter(x='gene_name', y='tx_length', c=color_list)\n",
    "plt.xlabel('gene names')\n",
    "plt.ylabel('tx length in bps')"
   ]
  },
  {
   "cell_type": "markdown",
   "id": "7414d93c-2734-4ebd-af27-2ed2db4effd1",
   "metadata": {},
   "source": [
    "### Plotting multiple plots (subplots)\n",
    "create multiple subplots with the following:\n",
    "- plot 1: plot of `tx_length` by `gene_name` for `protein_coding` biotype\n",
    "- plot 2: plot of `tx_length` by `gene_name` for all biotypes\n",
    "- see `plt.figure` for figsize and other args https://matplotlib.org/stable/api/_as_gen/matplotlib.pyplot.figure.html#matplotlib.pyplot.figure"
   ]
  },
  {
   "cell_type": "code",
   "execution_count": null,
   "id": "55426feb-5f02-4c0e-81ec-ecd0c2244c3c",
   "metadata": {},
   "outputs": [],
   "source": [
    "protein_coding_df = gene_tx_df[gene_tx_df['biotype'] == 'protein_coding']"
   ]
  },
  {
   "cell_type": "code",
   "execution_count": null,
   "id": "53fd21ed-b555-4748-8e2d-00fd8267b0fb",
   "metadata": {},
   "outputs": [],
   "source": [
    "# plt.figure(figsize=(width_in_inches, height_in_inches))\n",
    "plt.figure(figsize=(15, 4))\n",
    "# plt.subplot(num_rows, num_cols, plot_number)\n",
    "plt.subplot(121)\n",
    "plt.scatter(x='gene_name', y='tx_length', data=protein_coding_df)\n",
    "plt.xlabel('genes')\n",
    "plt.ylabel('tx_length in bps')\n",
    "plt.title('tx_length for protein coding biotype')\n",
    "plt.subplot(122)\n",
    "plt.scatter(x='gene_name',y='tx_length', data=gene_tx_df, color='red')\n",
    "plt.xlabel('genes')\n",
    "plt.ylabel('tx_length in bps')\n",
    "plt.title('tx_length for all biotypes')\n",
    "plt.show()"
   ]
  },
  {
   "cell_type": "code",
   "execution_count": null,
   "id": "9e3c345c-35f6-47c2-8e7e-108e2dd9b6fa",
   "metadata": {},
   "outputs": [],
   "source": []
  },
  {
   "cell_type": "markdown",
   "id": "878e7058-53d8-4cc2-9556-c737a935f175",
   "metadata": {},
   "source": [
    "### Controlling line properties\n",
    "\n",
    "Plot `gene_name` versus counts of transcripts for protein_coding genes using different line styles\n",
    "- https://matplotlib.org/stable/api/_as_gen/matplotlib.lines.Line2D.html#matplotlib.lines.Line2D"
   ]
  },
  {
   "cell_type": "code",
   "execution_count": null,
   "id": "44414489-69e1-4723-85b6-9fee8381766f",
   "metadata": {},
   "outputs": [],
   "source": [
    "protein_coding_df.columns"
   ]
  },
  {
   "cell_type": "markdown",
   "id": "0ae9954f-3b25-4583-8deb-92ec0017b2f5",
   "metadata": {},
   "source": [
    "#### gene_name versus count of transcripts"
   ]
  },
  {
   "cell_type": "code",
   "execution_count": null,
   "id": "4f7f1fec-e825-4418-ac5c-bc66b3584d67",
   "metadata": {},
   "outputs": [],
   "source": [
    "tx_count = protein_coding_df.groupby('gene_name')['transcripts'].agg('count')"
   ]
  },
  {
   "cell_type": "code",
   "execution_count": null,
   "id": "b2759be0-713c-4ad9-888b-829fe0e57528",
   "metadata": {},
   "outputs": [],
   "source": [
    "tx_count.name = 'transcript_counts'"
   ]
  },
  {
   "cell_type": "code",
   "execution_count": null,
   "id": "ad6be08b-e038-40df-a676-01ebe905b60a",
   "metadata": {},
   "outputs": [],
   "source": [
    "tx_count"
   ]
  },
  {
   "cell_type": "code",
   "execution_count": null,
   "id": "464acd18-341f-4c52-93fb-ea1edec11e0e",
   "metadata": {},
   "outputs": [],
   "source": [
    "plt.figure(figsize=(13,13))\n",
    "plt.subplot(221)\n",
    "tx_count.plot(title='default')\n",
    "plt.subplot(222)\n",
    "tx_count.plot(linewidth=5.0, title='line width=5.0')\n",
    "plt.subplot(223)\n",
    "tx_count.plot(linestyle='--', title='linestyle=\"--\"')\n",
    "plt.subplot(224)\n",
    "tx_count.plot()\n",
    "plt.yscale('log')\n",
    "plt.title('log scale')\n",
    "plt.grid(True)\n",
    "plt.show()"
   ]
  },
  {
   "cell_type": "code",
   "execution_count": null,
   "id": "9e6f1fbf-ae28-4c40-92ee-08dccf61d475",
   "metadata": {},
   "outputs": [],
   "source": []
  },
  {
   "cell_type": "markdown",
   "id": "061d04c2-cafc-4291-a257-03c815056ec6",
   "metadata": {},
   "source": [
    "## matplotlib axes\n",
    "- Matplotlib graphs your data on Figures (e.g., windows, Jupyter widgets, etc.), each of which can contain one or more Axes, an area where points can be specified in terms of x-y coordinates\n",
    "- The simplest way of creating a Figure with an Axes is using pyplot.subplots. We can then use Axes.plot to draw some data on the Axes, and display the figure\n",
    "- https://matplotlib.org/stable/users/explain/quick_start.html\n",
    "- see `parts of a figure` chart here, really useful! https://matplotlib.org/stable/users/explain/quick_start.html"
   ]
  },
  {
   "cell_type": "markdown",
   "id": "2ffdeef5-d7d0-42c8-b49c-02278cb8f7f3",
   "metadata": {},
   "source": [
    "### One plot"
   ]
  },
  {
   "cell_type": "markdown",
   "id": "c81275e8-6563-417b-91f5-d1d9b9b68c0d",
   "metadata": {},
   "source": [
    "#### this is a single figure with a single axes (x, y)"
   ]
  },
  {
   "cell_type": "code",
   "execution_count": null,
   "id": "768b80b8-39c1-49ab-ac1d-15a9d7d13414",
   "metadata": {},
   "outputs": [],
   "source": [
    "plt.plot(gene_tx_df['gene_name'].unique(), gene_tx_df['gene_name'].unique())"
   ]
  },
  {
   "cell_type": "markdown",
   "id": "e3469869-7685-400d-ab48-c3e2997cc3e4",
   "metadata": {},
   "source": [
    "#### this is also a figure containing a single axes\n",
    "- call `plt.subplots()` and save `ax`\n",
    "- use `ax` to plot, set the title, labels etc"
   ]
  },
  {
   "cell_type": "code",
   "execution_count": null,
   "id": "91d48082-6f39-4183-8e92-8a2bc6aaaaf2",
   "metadata": {},
   "outputs": [],
   "source": [
    "# Create a figure containing a single Axes.\n",
    "fig, ax = plt.subplots()   \n",
    "# Plot some data on the Axes.\n",
    "ax.plot(gene_tx_df['gene_name'].unique(), gene_tx_df['gene_name'].unique())\n",
    "ax.set_xlabel('gene name')\n",
    "ax.set_ylabel('gene name')\n",
    "ax.set_title('axes experiment')\n",
    "# show the plot\n",
    "plt.show()                           "
   ]
  },
  {
   "cell_type": "markdown",
   "id": "ca49a58d-af35-457f-834f-7822257e4dc3",
   "metadata": {},
   "source": [
    "### Two plots, single axes \n",
    "- scatter plot of `tx_length` for protein_coding transcripts\n",
    "- scatter plot of `tx_length` for lncRNA transcripts\n",
    "- use figure with a single axes\n",
    "- two overlapping plots"
   ]
  },
  {
   "cell_type": "code",
   "execution_count": null,
   "id": "6ddced7c-f097-4f1d-bcfb-043769bc2802",
   "metadata": {},
   "outputs": [],
   "source": [
    "gene_tx_df.columns"
   ]
  },
  {
   "cell_type": "code",
   "execution_count": null,
   "id": "42b249a7-08bb-4283-8689-5c484cb3de21",
   "metadata": {},
   "outputs": [],
   "source": [
    "lncRNA_df = gene_tx_df[gene_tx_df['biotype'] == 'lncRNA']"
   ]
  },
  {
   "cell_type": "code",
   "execution_count": null,
   "id": "0b99c25e-b91e-447f-9990-bdb5d8a7e5fa",
   "metadata": {},
   "outputs": [],
   "source": [
    "fig, ax = plt.subplots(figsize=(5,3), layout='constrained') # a figure with single axes\n",
    "ax.scatter(x='gene_name', y='tx_length', data=protein_coding_df, label='tx_length, protein coding', color='red')\n",
    "ax.scatter(x='gene_name', y='tx_length', data=lncRNA_df, label='tx_length, lncRNA_df')\n",
    "ax.set_xlabel('gene name')\n",
    "ax.set_ylabel('tx length')\n",
    "ax.set_title('scatter plot of tx_lengths')\n",
    "ax.legend()\n",
    "plt.show()"
   ]
  },
  {
   "cell_type": "markdown",
   "id": "559c9959-81dc-4376-b0d4-fd11dc5447a3",
   "metadata": {},
   "source": [
    "### Two plots, two different axes\n",
    "- two subplots\n",
    "- tx_length protein_coding, tx_length lncRNA"
   ]
  },
  {
   "cell_type": "code",
   "execution_count": null,
   "id": "55f9f8a2-60f2-4642-874c-e57932bbf1b5",
   "metadata": {},
   "outputs": [],
   "source": [
    "fig, (ax1, ax2) = plt.subplots(nrows=1, ncols=2, figsize=(15,5))\n",
    "ax1.scatter(x='gene_name', y='tx_length', data=protein_coding_df, label='tx_length, protein coding', color='red')\n",
    "ax1.set_xlabel('gene name')\n",
    "ax1.set_ylabel('tx length, protein coding')\n",
    "ax2.set_yscale('log')\n",
    "ax2.scatter(x='gene_name', y='tx_length', data=lncRNA_df, label='tx_length, lncRNA_df')\n",
    "ax2.set_xlabel('gene name')\n",
    "ax2.set_ylabel('tx length, lncRNA')\n",
    "ax1.legend()\n",
    "ax2.legend()\n",
    "plt.show()"
   ]
  },
  {
   "cell_type": "markdown",
   "id": "51c64ebe-4a6c-4934-8e8a-2bb861740028",
   "metadata": {},
   "source": [
    "### Three plots, three different axes\n",
    "- three subplots\n",
    "- tx_count protein coding, tx_count protein coding undef CDS, tx_count lncRNA"
   ]
  },
  {
   "cell_type": "code",
   "execution_count": null,
   "id": "7cfcdef4-4a51-48b5-ad75-e19f4c35f59e",
   "metadata": {},
   "outputs": [],
   "source": [
    "gene_tx_df['biotype'].unique()"
   ]
  },
  {
   "cell_type": "code",
   "execution_count": null,
   "id": "a5a8a2b1-be89-4b39-9ac6-bac62a20feab",
   "metadata": {},
   "outputs": [],
   "source": [
    "pc_undef = gene_tx_df[gene_tx_df['biotype'] == 'protein_coding_CDS_not_defined']"
   ]
  },
  {
   "cell_type": "code",
   "execution_count": null,
   "id": "c57c0a15-848a-41b0-95d5-85e106caa392",
   "metadata": {},
   "outputs": [],
   "source": [
    "tx_count_pc = protein_coding_df.groupby('gene_name')['transcripts'].count()\n",
    "tx_count_lncRNA = lncRNA_df.groupby('gene_name')['transcripts'].count()\n",
    "tx_count_pc_undef = pc_undef.groupby('gene_name')['transcripts'].count()"
   ]
  },
  {
   "cell_type": "code",
   "execution_count": null,
   "id": "1d38906c-7122-43db-9462-d730b5345452",
   "metadata": {},
   "outputs": [],
   "source": [
    "fig, (ax, ax2, ax3) = plt.subplots(nrows=1, ncols=3, figsize=(10,3), layout='constrained')\n",
    "ax.bar(tx_count_pc.index, tx_count_pc.values, color='red', data=tx_count_pc)\n",
    "ax.set_title('tx_count_pc')\n",
    "ax2.barh(tx_count_lncRNA.index, tx_count_lncRNA.values, color='red', data=tx_count_lncRNA)\n",
    "ax2.set_title('tx_count_lncRNA')\n",
    "ax3.bar(tx_count_pc_undef.index, tx_count_pc_undef.values, color='red', data=tx_count_pc_undef)\n",
    "ax3.set_title('tx_count_pc_undef')\n",
    "plt.show()\n"
   ]
  },
  {
   "cell_type": "code",
   "execution_count": null,
   "id": "f8d47ecf-890d-4fc0-8d30-44d3c9b3c55d",
   "metadata": {},
   "outputs": [],
   "source": []
  },
  {
   "cell_type": "markdown",
   "id": "8cf5d317-7eae-41d3-b0b8-1b23abfdf1ce",
   "metadata": {},
   "source": [
    "# Collaborative Exercises"
   ]
  },
  {
   "cell_type": "markdown",
   "id": "bb02444d-8f65-4b74-8ec8-adeebde9be42",
   "metadata": {},
   "source": [
    "## Exercise 1\n",
    "Create the following plots\n",
    "- plot 1: scatter plot of `median_tx_length` by `gene_name` for `protein_coding` biotype. You will need to compute the median by gene for protein coding biotype\n",
    "- plot 2: boxplot of `tx_length` by `gene_name` for `protein_coding` biotype\n",
    "- plot 3: overlapping histograms. Plot hist of `tx_length` for BRCA1 and BRCA2 and show legend\n",
    "- see `plt.figure` for figsize and other args https://matplotlib.org/stable/api/_as_gen/matplotlib.pyplot.figure.html#matplotlib.pyplot.figure"
   ]
  },
  {
   "cell_type": "markdown",
   "id": "fec9e460-e6c2-415c-bdb7-985e7ab6c211",
   "metadata": {},
   "source": [
    "## Exercise 2\n",
    "- Plot a violin plot of `tx_length` by `gene_name` for protein_coding biotype\n",
    "- BONUS: Can you figure out how to change the color `tx_length` by `gene_name` for protein_coding biotype? \n",
    "Your code should color violin plot for each gene uniquely\n",
    "- see helpful link here https://matplotlib.org/stable/gallery/statistics/customized_violin.html#sphx-glr-gallery-statistics-customized-violin-py\n"
   ]
  },
  {
   "cell_type": "code",
   "execution_count": null,
   "id": "054037f9-c34f-4d33-97e4-7951fac6a384",
   "metadata": {},
   "outputs": [],
   "source": []
  }
 ],
 "metadata": {
  "kernelspec": {
   "display_name": "Python 3.12.7",
   "language": "python",
   "name": "venv_3.12.7"
  },
  "language_info": {
   "codemirror_mode": {
    "name": "ipython",
    "version": 3
   },
   "file_extension": ".py",
   "mimetype": "text/x-python",
   "name": "python",
   "nbconvert_exporter": "python",
   "pygments_lexer": "ipython3",
   "version": "3.12.7"
  }
 },
 "nbformat": 4,
 "nbformat_minor": 5
}
