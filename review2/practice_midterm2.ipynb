{
 "cells": [
  {
   "cell_type": "markdown",
   "id": "112db1f2-90ad-45b1-9c6b-02ea115066bd",
   "metadata": {},
   "source": [
    "# Practice questions Midterm 2"
   ]
  },
  {
   "cell_type": "code",
   "execution_count": null,
   "id": "e5bf7b29-d92d-40a0-ac9d-f20d7396a575",
   "metadata": {},
   "outputs": [],
   "source": [
    "import numpy as np\n",
    "import pandas as pd"
   ]
  },
  {
   "cell_type": "markdown",
   "id": "2ec973da-39ba-4692-b0f8-170cabf87b8e",
   "metadata": {},
   "source": [
    "### Q1 What will be the output of the following?\n",
    "\n",
    "```\n",
    "a = np.array([1,2,3])\n",
    "a_ser = pd.Series(a)\n",
    "1 in a_ser\n",
    "```\n",
    "\n",
    "Options:\n",
    "- Throw an error\n",
    "- False\n",
    "- True\n",
    "- np.array([False, True, False])"
   ]
  },
  {
   "cell_type": "code",
   "execution_count": null,
   "id": "e57beb45-515e-4868-b2e9-305949fcd0e5",
   "metadata": {},
   "outputs": [],
   "source": [
    "a = np.array([1,2,3])\n",
    "a_ser = pd.Series(a)\n",
    "1 in a_ser"
   ]
  },
  {
   "cell_type": "markdown",
   "id": "18710aee-f64b-467a-bb1e-07a4b991e426",
   "metadata": {},
   "source": [
    "### Q2\n",
    "\n",
    "What will be the output of the following?\n",
    "\n",
    "```\n",
    "a_dict = {'a': 1, 'b': 2, 'c': 3, 'd': 4}\n",
    "pd.Series(a_dict, index=['a', 'b', 'c', 'd', 'e'])\n",
    "```\n",
    "```text\n",
    "Options\n",
    "\n",
    "- Throw an error\n",
    "  \n",
    "- a    1.0\n",
    "  b    2.0\n",
    "  c    3.0\n",
    "  d    4.0\n",
    "  dtype: float64\n",
    "\n",
    "- a    1.0\n",
    "  b    2.0\n",
    "  c    3.0\n",
    "  d    4.0\n",
    "  e    NaN\n",
    "  dtype: float64\n",
    "\n",
    "- a    1\n",
    "  b    2\n",
    "  c    3\n",
    "  d    4\n",
    "  dtype: int64\n",
    "\n",
    "```"
   ]
  },
  {
   "cell_type": "code",
   "execution_count": null,
   "id": "a49a6bde-9293-46de-9c00-6a8427b0e9d2",
   "metadata": {},
   "outputs": [],
   "source": []
  },
  {
   "cell_type": "markdown",
   "id": "88545e5c-f098-491f-aba2-2d90a7fc5939",
   "metadata": {},
   "source": [
    "### Q3\n",
    "What is the output of `a % 5 == 0` in the following code block?\n",
    "\n",
    "```\n",
    "a = pd.Series([5, 10, 17, 20])\n",
    "a % 5 == 0\n",
    "```\n",
    "\n",
    "```text\n",
    "Options\n",
    "\n",
    "- True\n",
    "- False\n",
    "- 0     True\n",
    "  1     True\n",
    "  2    False\n",
    "  3     True\n",
    "  dtype: bool\n",
    "- Throw an error\n"
   ]
  },
  {
   "cell_type": "code",
   "execution_count": null,
   "id": "053d8a18-fc5d-458b-94a8-307840238268",
   "metadata": {},
   "outputs": [],
   "source": []
  },
  {
   "cell_type": "code",
   "execution_count": null,
   "id": "8f23180a-d8ea-48ce-a330-cd0aee27d889",
   "metadata": {},
   "outputs": [],
   "source": [
    "# both boolean masking and integer masking work with pandas series"
   ]
  },
  {
   "cell_type": "code",
   "execution_count": null,
   "id": "f6f5cd8b-1a63-4a27-bc81-7a34b72e20c9",
   "metadata": {},
   "outputs": [],
   "source": []
  },
  {
   "cell_type": "markdown",
   "id": "0a37ddd2-54c1-4d9d-8950-8672538111d7",
   "metadata": {},
   "source": [
    "### Q4\n",
    "\n",
    "What is the output of `np.square(a)` ?\n",
    "\n",
    "```\n",
    "a = pd.Series([5, 10, 17, 20])\n",
    "np.square(a)\n",
    "```\n",
    "```text\n",
    "Options:\n",
    "\n",
    "- Throw an error\n",
    "- 0     25\n",
    "  1    100\n",
    "  2    289\n",
    "  3    400\n",
    "  dtype: int64\n",
    "- 0     5\n",
    "  1    10\n",
    "  2    17\n",
    "  3    20\n",
    "dtype: int64\n",
    "- None\n",
    "```\n"
   ]
  },
  {
   "cell_type": "code",
   "execution_count": null,
   "id": "9a110775-b09d-429b-b2ba-62c84b2a4f9b",
   "metadata": {},
   "outputs": [],
   "source": []
  },
  {
   "cell_type": "markdown",
   "id": "7190fadc-063e-471e-996e-138764be23e9",
   "metadata": {},
   "source": [
    "### Q5\n",
    "\n",
    "What will be the output of `a.iloc[:3:2]`?\n",
    "\n",
    "```\n",
    "a = pd.Series(\n",
    "    [2, 4, 6, 8, 10], \n",
    "    index=['BRCA1', 'KRAS', 'HRAS', 'TP53', 'PTEN']\n",
    ")\n",
    "a.iloc[:3:2]\n",
    "```\n",
    "```text\n",
    "Options:\n",
    "- array(['BRCA1', 'HRAS'], dtype='<U5')\n",
    "- BRCA1    2\n",
    "  HRAS     6\n",
    "  dtype: int64\n",
    "- array(['BRCA1', 'KRAS', 'HRAS'], dtype='<U5')\n",
    "- BRCA1    2\n",
    "  KRAS     4\n",
    "  HRAS     6\n",
    "  dtype: int64\n",
    "```"
   ]
  },
  {
   "cell_type": "code",
   "execution_count": null,
   "id": "c9ec25ea-9efb-463b-b678-4b9f83988d5a",
   "metadata": {},
   "outputs": [],
   "source": []
  },
  {
   "cell_type": "markdown",
   "id": "2372df0a-e114-4c4b-9fb6-26013be81e31",
   "metadata": {},
   "source": [
    "### Q6\n",
    "\n",
    "What is `d_ser`?\n",
    "\n",
    "```\n",
    "d = {'a': 1, 'b': 2, 'c': 3}\n",
    "d_ser = pd.Series(data=d, index=['x', 'y', 'z'])\n",
    "```\n",
    "\n",
    "```text\n",
    "Options:\n",
    "- Throw an error\n",
    "- a   1.0\n",
    "  b   2.0\n",
    "  c   3.0\n",
    "dtype: float64\n",
    "- x   NaN\n",
    "  y   NaN\n",
    "  z   NaN\n",
    "  dtype: float64\n",
    "- a   1.0\n",
    "  b   2.0\n",
    "  c   3.0\n",
    "  x   NaN\n",
    "  y   NaN\n",
    "  z   NaN\n",
    "  dtype: float64\n",
    "```\n"
   ]
  },
  {
   "cell_type": "code",
   "execution_count": null,
   "id": "cf098308-5d9e-4529-8669-f8d3272c7f7a",
   "metadata": {},
   "outputs": [],
   "source": []
  },
  {
   "cell_type": "markdown",
   "id": "26168082-0318-407f-b953-5399f713bf0b",
   "metadata": {},
   "source": [
    "### Q7\n",
    "\n",
    "What is `s.loc['a']`?\n",
    "\n",
    "```\n",
    "s = pd.Series([2, 4, 5], index=['a', 'b', 'c'])\n",
    "s.loc['a'] = 10\n",
    "```\n",
    "\n",
    "```text\n",
    "Options:\n",
    "- 10\n",
    "- 2\n",
    "- Throw an error\n",
    "- None\n",
    "```\n"
   ]
  },
  {
   "cell_type": "code",
   "execution_count": null,
   "id": "713c8719-6cec-4160-a5e2-1c5fc423da41",
   "metadata": {},
   "outputs": [],
   "source": []
  },
  {
   "cell_type": "code",
   "execution_count": null,
   "id": "c6b86c16-e84d-44db-ac46-00c92777fa84",
   "metadata": {},
   "outputs": [],
   "source": [
    "s = pd.Series([2, 4, 5], index=['a', 'b', 'c'])"
   ]
  },
  {
   "cell_type": "code",
   "execution_count": null,
   "id": "a344b3ec-d757-409f-a816-50678d28be48",
   "metadata": {},
   "outputs": [],
   "source": [
    "s"
   ]
  },
  {
   "cell_type": "code",
   "execution_count": null,
   "id": "bf8caa82-4c7b-4939-9f04-c4fb7ccb8516",
   "metadata": {},
   "outputs": [],
   "source": [
    "s.loc[['a', 'b']]"
   ]
  },
  {
   "cell_type": "code",
   "execution_count": null,
   "id": "dd9e792f-b8b3-4e8d-9693-92fbcc453cf5",
   "metadata": {},
   "outputs": [],
   "source": [
    "s > 2"
   ]
  },
  {
   "cell_type": "code",
   "execution_count": null,
   "id": "703443d2-4ff4-4035-9386-85967942efe8",
   "metadata": {},
   "outputs": [],
   "source": [
    "s.loc[[False, True, True]]"
   ]
  },
  {
   "cell_type": "code",
   "execution_count": null,
   "id": "86a619fa-7a7d-4abb-9b2c-8fa60dc9dda0",
   "metadata": {},
   "outputs": [],
   "source": []
  },
  {
   "cell_type": "markdown",
   "id": "8b197e8b-fabf-4a15-a703-f71bc1ef9a5c",
   "metadata": {},
   "source": [
    "### Q8\n",
    "\n",
    "What is the shape of `df`?\n",
    "\n",
    "```\n",
    "d = {'col1': [1, 2, 3], 'col2': [4, 5, 6]}\n",
    "df = pd.DataFrame(d)\n",
    "df.shape\n",
    "```\n",
    "\n",
    "```text\n",
    "Options:\n",
    "- (2, 3)\n",
    "- (3, 2)\n",
    "- (1, 3)\n",
    "- (3, 1)\n",
    "```\n"
   ]
  },
  {
   "cell_type": "code",
   "execution_count": null,
   "id": "3f553d3f-0e42-4cbc-a3fa-88dc93324f82",
   "metadata": {},
   "outputs": [],
   "source": []
  },
  {
   "cell_type": "markdown",
   "id": "7c08582f-c45a-4150-8a02-104adda9723f",
   "metadata": {},
   "source": [
    "### Q9\n",
    "\n",
    "what is `df.columns`?\n",
    "\n",
    "```\n",
    "d = {'col1': [1, 2, 3], 'col2': [4, 5, 6]}\n",
    "df = pd.DataFrame(d, index=['a', 'b', 'c'], columns=['c1', 'c2'])\n",
    "```\n",
    "\n",
    "```text\n",
    "Options:\n",
    "- Index(['a', 'b', 'c'], dtype='object')\n",
    "- Index([0, 1, 2], dtype='object')\n",
    "- Index(['col1', 'col2'], dtype='object')\n",
    "- Index(['c1', 'c2'], dtype='object')\n",
    "```\n"
   ]
  },
  {
   "cell_type": "markdown",
   "id": "55158db3-eafc-424c-b1f6-4f1eeedcc41d",
   "metadata": {},
   "source": [
    "### Q10\n",
    "\n",
    "What is `df.iloc[0, 1]`?\n",
    "\n",
    "```\n",
    "d = {'col1': [1, 2, 3, 4], 'col2': [4, 5, 6, 7]}\n",
    "df = pd.DataFrame(d, index=['a', 'b', 'c', 'd'])\n",
    "df.iloc[0, 1]\n",
    "```\n",
    "\n",
    "```text\n",
    "Options\n",
    "- 1\n",
    "- 3\n",
    "- 4\n",
    "- 2\n",
    "```"
   ]
  },
  {
   "cell_type": "code",
   "execution_count": null,
   "id": "33234fe1-8f1a-4b09-a079-ed723b8e1875",
   "metadata": {},
   "outputs": [],
   "source": []
  },
  {
   "cell_type": "code",
   "execution_count": null,
   "id": "90db4bb1-103b-44ba-9b28-d114c561836b",
   "metadata": {},
   "outputs": [],
   "source": [
    "d = {'col1': [1, 2, 3, 4], 'col2': [4, 5, 6, 7]}\n",
    "df = pd.DataFrame(d, index=['a', 'b', 'c', 'd'])"
   ]
  },
  {
   "cell_type": "code",
   "execution_count": null,
   "id": "502aa45b-62c0-484a-873c-7eedc238b3cd",
   "metadata": {},
   "outputs": [],
   "source": [
    "df"
   ]
  },
  {
   "cell_type": "code",
   "execution_count": null,
   "id": "b85dea3d-028e-4458-9580-06a4dfe6ed9b",
   "metadata": {},
   "outputs": [],
   "source": [
    "df.loc['a']"
   ]
  },
  {
   "cell_type": "code",
   "execution_count": null,
   "id": "4d7af0b0-1456-40f4-8c12-e060a00cf785",
   "metadata": {},
   "outputs": [],
   "source": [
    "df.loc['a']['col1']"
   ]
  },
  {
   "cell_type": "code",
   "execution_count": null,
   "id": "b8563696-bd9e-470e-9f4d-07a69a44b1a0",
   "metadata": {},
   "outputs": [],
   "source": [
    "df.loc[['a', 'b']]['col1']"
   ]
  },
  {
   "cell_type": "code",
   "execution_count": null,
   "id": "246123a7-9562-4ed6-bbb3-4192190a6cc8",
   "metadata": {},
   "outputs": [],
   "source": [
    "df.loc['a': 'd']['col1']"
   ]
  },
  {
   "cell_type": "code",
   "execution_count": null,
   "id": "daa5d6af-c85d-4fb0-aa7c-fbde988ef2bd",
   "metadata": {},
   "outputs": [],
   "source": [
    "df.at['a', 'col1']"
   ]
  },
  {
   "cell_type": "code",
   "execution_count": null,
   "id": "0935cfd6-0a79-45a8-830c-380599bf2a93",
   "metadata": {},
   "outputs": [],
   "source": [
    "df.iloc[0, 1]"
   ]
  },
  {
   "cell_type": "code",
   "execution_count": null,
   "id": "e59ecd8d-a8ce-4d6c-9a8c-3330f362b235",
   "metadata": {},
   "outputs": [],
   "source": [
    "df.iloc[:2]"
   ]
  },
  {
   "cell_type": "code",
   "execution_count": null,
   "id": "b5452cee-0fd0-4d1d-929d-33d386801b0c",
   "metadata": {},
   "outputs": [],
   "source": [
    "# above is same as\n",
    "df.loc['a': 'b']"
   ]
  },
  {
   "cell_type": "code",
   "execution_count": null,
   "id": "41a3997e-9b21-4b3b-95a8-a29ac48b8d29",
   "metadata": {},
   "outputs": [],
   "source": [
    "df.iloc[:2]['col1']"
   ]
  },
  {
   "cell_type": "code",
   "execution_count": null,
   "id": "2094afa7-04ad-4c18-9428-ce7f22a37b37",
   "metadata": {},
   "outputs": [],
   "source": [
    "df.loc['a': 'b']['col1']"
   ]
  },
  {
   "cell_type": "code",
   "execution_count": null,
   "id": "e64d8698-a719-4784-bab9-03331b983d1f",
   "metadata": {},
   "outputs": [],
   "source": [
    "df.iloc[:2, 1]"
   ]
  },
  {
   "cell_type": "code",
   "execution_count": null,
   "id": "1b0642ac-79d7-459b-889b-52526e3a369c",
   "metadata": {},
   "outputs": [],
   "source": [
    "df['col1'] > 2"
   ]
  },
  {
   "cell_type": "code",
   "execution_count": null,
   "id": "0ddc6c2a-64aa-4873-890d-d6e8bbfb7dec",
   "metadata": {},
   "outputs": [],
   "source": [
    "s = df['col1']\n",
    "s.loc[s > 2]\n"
   ]
  },
  {
   "cell_type": "code",
   "execution_count": null,
   "id": "c0f95677-cd01-481e-a2cd-8e4bffc96558",
   "metadata": {},
   "outputs": [],
   "source": [
    "s.iloc[-2:]"
   ]
  },
  {
   "cell_type": "markdown",
   "id": "567064b9-ee53-424c-bd74-f99c52cfb814",
   "metadata": {},
   "source": [
    "### Q11\n",
    "\n",
    "What is the output of the following?\n",
    "\n",
    "```\n",
    "d = {'col1': [1, 2, 3, 4], 'col2': [4, 5, 6, 7]}\n",
    "df = pd.DataFrame(d, index=['a', 'b', 'c', 'd'])\n",
    "df.apply(np.sum, axis=0)\n",
    "```\n",
    "\n",
    "```text\n",
    "Options:\n",
    "- col1    10\n",
    "  col2    22\n",
    "  dtype: int64\n",
    "- a     5\n",
    "  b     7\n",
    "  c     9\n",
    "  d    11\n",
    "  dtype: int64\n",
    "- None of the above\n",
    "- Throw an error\n",
    "```"
   ]
  },
  {
   "cell_type": "code",
   "execution_count": null,
   "id": "5fce61b8-9099-49e7-9b70-0ed9b1e87c70",
   "metadata": {},
   "outputs": [],
   "source": []
  },
  {
   "cell_type": "code",
   "execution_count": null,
   "id": "db74fa2e-612d-46a6-b65c-c138b1143cf2",
   "metadata": {},
   "outputs": [],
   "source": []
  },
  {
   "cell_type": "markdown",
   "id": "ac519c53-b5d8-48c2-be90-e9d0220c0a6e",
   "metadata": {},
   "source": [
    "### Q12\n",
    "\n",
    "What is the output of `df.agg('mean', axis=1)`?\n",
    "\n",
    "```\n",
    "d = {\n",
    "    'a': [1,2],\n",
    "    'b': [4,5],\n",
    "    'c': [7,8]\n",
    "}\n",
    "df = pd.DataFrame(d)\n",
    "df.agg('mean', axis=1)\n",
    "```\n",
    "\n",
    "```text\n",
    "Options:\n",
    "- a    1.5\n",
    "  b    4.5\n",
    "  c    7.5\n",
    "dtype: float64\n",
    "- 0    4.0\n",
    "  1    5.0\n",
    "  dtype: float64\n",
    "- Throw an error\n",
    "- None of the above\n",
    "```\n"
   ]
  },
  {
   "cell_type": "markdown",
   "id": "fb348a92-3806-41f1-9e33-2e0446685e5b",
   "metadata": {},
   "source": [
    "### Q13\n",
    "\n",
    "How many groups will be there in `g`?\n",
    "\n",
    "```\n",
    "d = {\n",
    "    'I_like_python': ['very much', 'very much', 'not very much', 'hate it'],\n",
    "    'students': ['a', 'b', 'c', 'd']\n",
    "}\n",
    "df = pd.DataFrame(d)\n",
    "g = df.groupby('I_like_python').groups\n",
    "```\n",
    "\n",
    "```text\n",
    "Options:\n",
    "- 3\n",
    "- 2\n",
    "- 4\n",
    "- 0\n",
    "```"
   ]
  },
  {
   "cell_type": "markdown",
   "id": "51df5ce8-9377-4745-9782-3dedd453e19b",
   "metadata": {},
   "source": [
    "### Q14\n",
    "\n",
    "What is the output of the following?\n",
    "\n",
    "```\n",
    "d1 = pd.DataFrame({\n",
    "    'a': [1,2],\n",
    "    'b': [3,4],\n",
    "    'c': [5,6]\n",
    "})\n",
    "d2 = pd.DataFrame({\n",
    "    'a': [7,8],\n",
    "    'b': [9,10],\n",
    "    'c': [11,12]\n",
    "})\n",
    "pd.concat([d1, d2])\n",
    "```\n",
    "\n",
    "```text\n",
    "Options\n",
    "\n",
    "-       a\tb\tc\n",
    "0\t1\t3\t5\n",
    "1\t2\t4\t6\n",
    "0\t7\t9\t11\n",
    "1\t8\t10\t12\n",
    "\n",
    "\n",
    "\n",
    "-       a\tb\tc\ta\tb\tc\n",
    "0\t1\t3\t5\t7\t9\t11\n",
    "1\t2\t4\t6\t8\t10\t12\n",
    "\n",
    "\n",
    "- Throw an error\n",
    "\n",
    "\n",
    "-      a\tb\tc\n",
    "0\t1\t3\t5\n",
    "1\t2\t4\t6\n",
    "2\t7\t9\t11\n",
    "3\t8\t10\t12\n",
    "```"
   ]
  },
  {
   "cell_type": "code",
   "execution_count": null,
   "id": "141ae96f-f417-472d-b3bf-3a3a16cb4b3b",
   "metadata": {},
   "outputs": [],
   "source": []
  },
  {
   "cell_type": "markdown",
   "id": "0c825055-3491-46f4-8814-8baa7fc7270f",
   "metadata": {},
   "source": [
    "### Q15\n",
    "\n",
    "What will be the shape of the df after pd.merge command?\n",
    "\n",
    "```\n",
    "d1 = pd.DataFrame({\n",
    "    'a': [1,2],\n",
    "    'b': [3,4],\n",
    "    'e': [6, 7]\n",
    "    })\n",
    "\n",
    "d2 = pd.DataFrame({\n",
    "    'c': [1,2],\n",
    "    'd': [3,4],\n",
    "    'e': [8,9]\n",
    "    })\n",
    "\n",
    "pd.merge(d1, d2, how='outer')\n",
    "```\n",
    "\n",
    "```text\n",
    "Options:\n",
    "- (4, 5)\n",
    "- (5, 4)\n",
    "- (2, 5)\n",
    "- (5, 2)\n",
    "```\n",
    "\n",
    "\n"
   ]
  },
  {
   "cell_type": "code",
   "execution_count": null,
   "id": "2849e532-57a1-4b7a-a331-1b1e73d33bff",
   "metadata": {},
   "outputs": [],
   "source": []
  }
 ],
 "metadata": {
  "kernelspec": {
   "display_name": "Python 3.12.7",
   "language": "python",
   "name": "venv_3.12.7"
  },
  "language_info": {
   "codemirror_mode": {
    "name": "ipython",
    "version": 3
   },
   "file_extension": ".py",
   "mimetype": "text/x-python",
   "name": "python",
   "nbconvert_exporter": "python",
   "pygments_lexer": "ipython3",
   "version": "3.12.7"
  }
 },
 "nbformat": 4,
 "nbformat_minor": 5
}
