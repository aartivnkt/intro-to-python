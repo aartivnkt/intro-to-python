{
 "cells": [
  {
   "cell_type": "markdown",
   "id": "85a6eeff-50ce-4474-8c92-f8829cd4f0f9",
   "metadata": {},
   "source": [
    "# worksheet 4\n",
    "# Python control flow\n",
    "- for, if/else, if/elif/else, break, continue\n",
    "- pass, while, functions and errors and exceptions"
   ]
  },
  {
   "cell_type": "markdown",
   "id": "44f4b619-54f8-4824-aee6-9e1c5b3b2949",
   "metadata": {},
   "source": [
    "## for loop"
   ]
  },
  {
   "cell_type": "code",
   "execution_count": null,
   "id": "435b5556-44d6-4389-b099-605cdd73df8d",
   "metadata": {},
   "outputs": [],
   "source": [
    "gene_names = ['BRCA1', 'TP53', 'BRAF', 'KRAS']"
   ]
  },
  {
   "cell_type": "code",
   "execution_count": null,
   "id": "7b93af76-568c-449c-902a-c2e488e863e9",
   "metadata": {},
   "outputs": [],
   "source": [
    "for indiv_gene in gene_names:\n",
    "    print(indiv_gene)"
   ]
  },
  {
   "cell_type": "code",
   "execution_count": null,
   "id": "d33f445c-cfd8-4254-995d-d47dc61edac6",
   "metadata": {},
   "outputs": [],
   "source": [
    "for indiv_gene in gene_names:\n",
    "    print(indiv_gene, len(indiv_gene))"
   ]
  },
  {
   "cell_type": "markdown",
   "id": "bc326f7d-76e4-4ea1-ac58-b11da0a723c2",
   "metadata": {},
   "source": [
    "### format with delimiters"
   ]
  },
  {
   "cell_type": "code",
   "execution_count": null,
   "id": "c38fb971-335f-404b-849b-0320713e447a",
   "metadata": {},
   "outputs": [],
   "source": [
    "for indiv_gene in gene_names:\n",
    "    print('{},{}'.format(indiv_gene, len(indiv_gene)))"
   ]
  },
  {
   "cell_type": "markdown",
   "id": "8a0d6b73-8789-4de1-9243-fb61476bc0ff",
   "metadata": {},
   "source": [
    "### print index, gene name and len"
   ]
  },
  {
   "cell_type": "code",
   "execution_count": null,
   "id": "df6ea100-d275-4e08-8db1-9eadfd0afa6e",
   "metadata": {},
   "outputs": [],
   "source": [
    "for idx, indiv_gene in enumerate(gene_names):\n",
    "    print('{},{},{}'.format(idx, indiv_gene, len(indiv_gene)))"
   ]
  },
  {
   "cell_type": "markdown",
   "id": "74842a3d-7661-46bc-a14f-0c7c5ffe75cf",
   "metadata": {},
   "source": [
    "### f-strings"
   ]
  },
  {
   "cell_type": "code",
   "execution_count": null,
   "id": "77993def-6b28-4dca-b5e9-204af9f5ff44",
   "metadata": {},
   "outputs": [],
   "source": [
    "for idx, indiv_gene in enumerate(gene_names):\n",
    "    print(f\"{idx},{indiv_gene},{len(indiv_gene)}\")"
   ]
  },
  {
   "cell_type": "markdown",
   "id": "a2544342-d4d0-4446-8e94-f0312021093a",
   "metadata": {},
   "source": [
    "### reverse the list and print"
   ]
  },
  {
   "cell_type": "code",
   "execution_count": null,
   "id": "ae8ae70e-926a-42eb-a0f1-38d64e66ce21",
   "metadata": {},
   "outputs": [],
   "source": [
    "for i in reversed(gene_names):\n",
    "    print(i)"
   ]
  },
  {
   "cell_type": "markdown",
   "id": "9014188f-7b19-4449-a237-3441b6a205a5",
   "metadata": {},
   "source": [
    "### Q: can you iterate through `gene_names` list in reverse alphabetic order ?\n",
    "- 2-3 mins\n",
    "- at-home exercise"
   ]
  },
  {
   "cell_type": "code",
   "execution_count": null,
   "id": "f0d63eeb-bb9b-411a-a2ec-d341134a2cc8",
   "metadata": {},
   "outputs": [],
   "source": []
  },
  {
   "cell_type": "markdown",
   "id": "3126ab66-4539-49b3-ac85-b615b67543c8",
   "metadata": {},
   "source": [
    "### list comprehension"
   ]
  },
  {
   "cell_type": "markdown",
   "id": "bf9a2ec3-1f07-4fb0-842e-b8e6ebb1d800",
   "metadata": {},
   "source": [
    "#### compute the length of each gene name and store in a new list"
   ]
  },
  {
   "cell_type": "code",
   "execution_count": null,
   "id": "a671e802-3ef8-457e-9cf5-9fca6ce8d166",
   "metadata": {},
   "outputs": [],
   "source": [
    "gene_lengths = []\n",
    "for indiv_gene in gene_names:\n",
    "    gl = len(indiv_gene)\n",
    "    gene_lengths.append(gl)    "
   ]
  },
  {
   "cell_type": "code",
   "execution_count": null,
   "id": "719586fc-8409-47bc-840c-03f871bbc3ac",
   "metadata": {},
   "outputs": [],
   "source": [
    "gene_lengths"
   ]
  },
  {
   "cell_type": "code",
   "execution_count": null,
   "id": "06da812f-7b83-4be6-9f04-705735697adb",
   "metadata": {},
   "outputs": [],
   "source": [
    "gene_lengths = [len(indiv_gene) for indiv_gene in gene_names]"
   ]
  },
  {
   "cell_type": "code",
   "execution_count": null,
   "id": "fe4a56eb-c352-449c-b618-ebb1167c9fde",
   "metadata": {},
   "outputs": [],
   "source": [
    "gene_lengths"
   ]
  },
  {
   "cell_type": "markdown",
   "id": "3615598b-6b29-4608-a983-06383fd58491",
   "metadata": {},
   "source": [
    "### create a dictionary with gene name as the key, and length of gene name as the value "
   ]
  },
  {
   "cell_type": "code",
   "execution_count": null,
   "id": "6d126c5f-8b96-4693-9475-2894d2148b82",
   "metadata": {},
   "outputs": [],
   "source": [
    "gene_names"
   ]
  },
  {
   "cell_type": "code",
   "execution_count": null,
   "id": "8d18d37d-907a-4b1e-95ce-5446f4ff6c33",
   "metadata": {},
   "outputs": [],
   "source": [
    "gene_name_length = {}\n",
    "for indiv_gene in gene_names:\n",
    "    gene_name_length[indiv_gene] = len(indiv_gene)"
   ]
  },
  {
   "cell_type": "code",
   "execution_count": null,
   "id": "1e57e350-0c77-4e0e-a17a-b028e9c24ea3",
   "metadata": {},
   "outputs": [],
   "source": [
    "gene_name_length"
   ]
  },
  {
   "cell_type": "markdown",
   "id": "56b4baeb-f73f-4c29-bacd-4d51a8a296d3",
   "metadata": {},
   "source": [
    "#### dict comprehension"
   ]
  },
  {
   "cell_type": "code",
   "execution_count": null,
   "id": "48420733-d1e3-4227-adc5-9ab8656e0fb6",
   "metadata": {},
   "outputs": [],
   "source": [
    "gene_name_length = {\n",
    "    indiv_gene: len(indiv_gene)\n",
    "    for indiv_gene in gene_names\n",
    "}"
   ]
  },
  {
   "cell_type": "code",
   "execution_count": null,
   "id": "025560a7-328a-49c9-afbd-0fb36c7a3915",
   "metadata": {},
   "outputs": [],
   "source": [
    "gene_name_length"
   ]
  },
  {
   "cell_type": "markdown",
   "id": "6de13b16-6b27-49b2-961d-72f96f8f1619",
   "metadata": {},
   "source": [
    "#### Q: can you loop over the dictionary and print the keys and values?\n",
    "- 2 mins"
   ]
  },
  {
   "cell_type": "code",
   "execution_count": null,
   "id": "b1bb319c-4a2e-49fd-bea5-e4882fe57910",
   "metadata": {},
   "outputs": [],
   "source": []
  },
  {
   "cell_type": "markdown",
   "id": "6d454a73-03d7-463d-8dd7-42697412ee16",
   "metadata": {},
   "source": [
    "### if statement"
   ]
  },
  {
   "cell_type": "code",
   "execution_count": null,
   "id": "68bb58e9-616d-4625-88e9-1e2671c97509",
   "metadata": {},
   "outputs": [],
   "source": [
    "gene_locations_dict = {\n",
    "    'BRCA1': 'chr17:43044295-43170245',\n",
    "    'TP53': 'chr17:7661779-7687538',\n",
    "    'BRAF': 'chr7:140719327-140924929',\n",
    "    'KRAS': 'chr12:25205246-25250936'\n",
    "}"
   ]
  },
  {
   "cell_type": "code",
   "execution_count": null,
   "id": "b56907ea-b13f-4b76-86b1-3f6ca1d8a4e7",
   "metadata": {},
   "outputs": [],
   "source": [
    "for k,v in gene_locations_dict.items():\n",
    "    if k == 'BRCA1':\n",
    "        print(gene_locations_dict[k])"
   ]
  },
  {
   "cell_type": "markdown",
   "id": "7d0831b8-9438-4be6-8447-9e7cf09cc7d8",
   "metadata": {},
   "source": [
    "### if/else statement"
   ]
  },
  {
   "cell_type": "code",
   "execution_count": null,
   "id": "686be89b-3078-4158-b43b-02a017569432",
   "metadata": {},
   "outputs": [],
   "source": [
    "for k,v in gene_locations_dict.items():\n",
    "    if k == 'BRCA1':\n",
    "        print(gene_locations_dict[k])\n",
    "    else:\n",
    "        print('{}'.format(k))"
   ]
  },
  {
   "cell_type": "markdown",
   "id": "1357c73d-21ff-4421-8e3f-0f4e0cb870fa",
   "metadata": {},
   "source": [
    "### if/elif/else statements"
   ]
  },
  {
   "cell_type": "code",
   "execution_count": null,
   "id": "1add051c-900e-4c2d-b38e-d62ce82ea2f8",
   "metadata": {},
   "outputs": [],
   "source": [
    "for k,v in gene_locations_dict.items():\n",
    "    if k == 'BRCA1':\n",
    "        print('BRCA1: {}'.format(gene_locations_dict[k]))\n",
    "    elif k == 'TP53':\n",
    "        print('TP53: {}'.format(gene_locations_dict[k]))\n",
    "    else:\n",
    "        print('Not BRCA1 or TP53, I am: {}'.format(k))"
   ]
  },
  {
   "cell_type": "markdown",
   "id": "ec106901-c0ee-46bc-83b3-f2cb18917ed0",
   "metadata": {},
   "source": [
    "### break statement"
   ]
  },
  {
   "cell_type": "code",
   "execution_count": null,
   "id": "77b12112-be48-421f-b5d5-45a6c10e6e38",
   "metadata": {},
   "outputs": [],
   "source": [
    "for k,v in gene_locations_dict.items():\n",
    "    if k == 'BRCA1':\n",
    "        print(gene_locations_dict[k])\n",
    "        break\n",
    "    else:\n",
    "        print('{}'.format(k))"
   ]
  },
  {
   "cell_type": "markdown",
   "id": "aceb5843-ba82-42ad-95e9-7a286a65651d",
   "metadata": {},
   "source": [
    "#### continue statement"
   ]
  },
  {
   "cell_type": "code",
   "execution_count": null,
   "id": "0643d604-1b80-4560-9198-dbe557e22972",
   "metadata": {},
   "outputs": [],
   "source": [
    "for k,v in gene_locations_dict.items():\n",
    "    if k == 'BRCA1':\n",
    "        continue\n",
    "        print('{}'.format(k))\n",
    "    print('{}'.format(k))"
   ]
  },
  {
   "cell_type": "markdown",
   "id": "26ccb0ce-f50f-4f90-863f-542fa8638574",
   "metadata": {},
   "source": [
    "### Q: Guess the output of code block above, without the `continue` statement\n",
    "- 2 mins"
   ]
  },
  {
   "cell_type": "code",
   "execution_count": null,
   "id": "468c6958-83fb-4407-85bc-b3842ba95460",
   "metadata": {},
   "outputs": [],
   "source": [
    "for k,v in gene_locations_dict.items():\n",
    "    if k == 'BRCA1':\n",
    "        print('{}'.format(k))\n",
    "    print('{}'.format(k))"
   ]
  },
  {
   "cell_type": "code",
   "execution_count": null,
   "id": "2956f79e-bd24-4881-aa58-953c5c07c2fe",
   "metadata": {},
   "outputs": [],
   "source": []
  },
  {
   "cell_type": "markdown",
   "id": "6adffa2d-54c7-4aab-84c2-cc982742161b",
   "metadata": {},
   "source": [
    "### pass statement"
   ]
  },
  {
   "cell_type": "code",
   "execution_count": null,
   "id": "e3b25c9b-b98d-48e4-b8cd-4415416f6905",
   "metadata": {},
   "outputs": [],
   "source": [
    "for k,v in gene_locations_dict.items():\n",
    "    if k == 'BRCA1':\n",
    "        # TBD on logic\n",
    "        # placeholder\n",
    "        pass\n",
    "    else:\n",
    "        print('{},{}'.format(k, gene_locations_dict[k]))"
   ]
  },
  {
   "cell_type": "markdown",
   "id": "62e262c8-5056-49a2-a789-658f72b0027b",
   "metadata": {},
   "source": [
    "### while loop"
   ]
  },
  {
   "cell_type": "code",
   "execution_count": null,
   "id": "edcf787d-ee7e-4f37-a08f-0045d924be88",
   "metadata": {},
   "outputs": [],
   "source": [
    "gene_keys = list(gene_locations_dict.keys())\n",
    "idx = 0\n",
    "while idx < len(gene_keys):\n",
    "    print('{},{}'.format(gene_keys[idx], gene_locations_dict[gene_keys[idx]]))\n",
    "    idx = idx + 1"
   ]
  },
  {
   "cell_type": "markdown",
   "id": "446f5c12-d187-4fc0-876f-e087275db4a6",
   "metadata": {},
   "source": [
    "### Q: very important to increment idx in the loop above! can you guess why?\n",
    "- 2 mins"
   ]
  },
  {
   "cell_type": "code",
   "execution_count": null,
   "id": "ea79908c-6c65-4a9e-aa9a-bccf51e18894",
   "metadata": {},
   "outputs": [],
   "source": []
  },
  {
   "cell_type": "markdown",
   "id": "d629e4ad-d0d0-46eb-9740-da25a61b4545",
   "metadata": {},
   "source": [
    "### Functions"
   ]
  },
  {
   "cell_type": "markdown",
   "id": "a2b06418-a044-4dcf-9a16-0ddfcbe20913",
   "metadata": {},
   "source": [
    "#### Let's write a little function that can:\n",
    "- take a parameter for a `file_name`\n",
    "- read the file using pythons built-in functionality for files\n",
    "- load the contents of the file into a dictionary\n",
    "- return the dictionary"
   ]
  },
  {
   "cell_type": "code",
   "execution_count": null,
   "id": "b9e208e8-87db-4f00-86d0-234a8de44eb8",
   "metadata": {},
   "outputs": [],
   "source": [
    "def read_gene_desc_file(file_name):\n",
    "    gene_desc = {}\n",
    "    with open(file_name, 'r') as gene_desc_file:\n",
    "        for line in gene_desc_file:\n",
    "            stripped_line = line.strip()\n",
    "            if '#' in stripped_line:\n",
    "                continue\n",
    "            gene_name, desc = stripped_line.split(',')\n",
    "            gene_desc[gene_name] = desc\n",
    "    return gene_desc\n",
    "        "
   ]
  },
  {
   "cell_type": "code",
   "execution_count": null,
   "id": "12f261b5-8576-489a-8bc8-a80a20856e06",
   "metadata": {},
   "outputs": [],
   "source": [
    "read_gene_desc_file('gene_desc.csv')"
   ]
  },
  {
   "cell_type": "code",
   "execution_count": null,
   "id": "91196545-103d-4fa8-8c79-a0398bd33da2",
   "metadata": {},
   "outputs": [],
   "source": [
    "gene_desc = read_gene_desc_file('gene_desc.csv')"
   ]
  },
  {
   "cell_type": "code",
   "execution_count": null,
   "id": "d583710d-51ad-4bfb-9034-02d71846bb6e",
   "metadata": {},
   "outputs": [],
   "source": [
    "gene_desc['BRAF']"
   ]
  },
  {
   "cell_type": "markdown",
   "id": "0500d8ff-4268-4d39-9f53-8a16d428a635",
   "metadata": {},
   "source": [
    "### Error and Exception handling"
   ]
  },
  {
   "cell_type": "markdown",
   "id": "8ac6c33f-65e3-4501-86b4-48d0b8eaa8c1",
   "metadata": {},
   "source": [
    "#### FileNotFoundError\n",
    "- raise an error if the file is not found, with the path"
   ]
  },
  {
   "cell_type": "code",
   "execution_count": null,
   "id": "c1219988-2c44-481e-a5c8-6ea082402997",
   "metadata": {},
   "outputs": [],
   "source": [
    "import os\n",
    "def check_file_is_valid(file_name):\n",
    "    try:\n",
    "        f = open(file_name, 'r')\n",
    "    except FileNotFoundError as e:\n",
    "        print('{} not found at {}'.format(\n",
    "            file_name, os.getcwd()\n",
    "        ))"
   ]
  },
  {
   "cell_type": "code",
   "execution_count": null,
   "id": "5ea466dd-bee2-4675-b1b2-29a2a53f3332",
   "metadata": {},
   "outputs": [],
   "source": [
    "check_file_is_valid('gene_description.csv')"
   ]
  },
  {
   "cell_type": "markdown",
   "id": "275f29af-c3f1-499a-9d01-ac9cbbbd4385",
   "metadata": {},
   "source": [
    "#### ValueError"
   ]
  },
  {
   "cell_type": "code",
   "execution_count": null,
   "id": "1b07183d-2b21-4010-9be3-50646d10e257",
   "metadata": {},
   "outputs": [],
   "source": [
    "def return_gene_length_in_kb(gene_len_in_bp):\n",
    "    # we'll simply check if gene_name is all digits (invalid)\n",
    "    try:\n",
    "        kb_gene_len = int(gene_len_in_bp)/1000\n",
    "        return kb_gene_len\n",
    "    except ValueError as e:\n",
    "        print('Invalid input {}, enter numeric gene length in bp'.format(\n",
    "            gene_len_in_bp\n",
    "        ))"
   ]
  },
  {
   "cell_type": "code",
   "execution_count": null,
   "id": "db1aaf1b-d648-4cde-a68c-2573a8832bd9",
   "metadata": {},
   "outputs": [],
   "source": [
    "return_gene_length_in_kb(10000)"
   ]
  },
  {
   "cell_type": "code",
   "execution_count": null,
   "id": "f2ad9f18-e5ad-42a7-a5b8-58906e0755c0",
   "metadata": {},
   "outputs": [],
   "source": [
    "return_gene_length_in_kb('foo')"
   ]
  },
  {
   "cell_type": "markdown",
   "id": "e2435f3b-8c4e-4b4d-aec7-78b19d9a90a4",
   "metadata": {},
   "source": [
    "#### Documentation for errors and exceptions\n",
    "- https://docs.python.org/3/tutorial/errors.html#exceptions"
   ]
  },
  {
   "cell_type": "markdown",
   "id": "d10f158f-fe3e-4cd5-adac-f5d4e4b57bd4",
   "metadata": {},
   "source": [
    "## An example function with decent comments\n",
    "- Try to comment your code in this fashion for the collaborative exercise\n",
    "- For single line code, you can comment using `#` right above the line of code"
   ]
  },
  {
   "cell_type": "code",
   "execution_count": null,
   "id": "21a20948-da46-4e60-97eb-b2b0c0847ccd",
   "metadata": {},
   "outputs": [],
   "source": [
    "def read_gene_desc_file(file_name):\n",
    "    \"\"\"\n",
    "    This function reads a comma separated file,\n",
    "    loads the contents into a dictionary and \n",
    "    returns the dictionary\n",
    "\n",
    "    Args:\n",
    "        file_name: The full path to the file\n",
    "    Returns:\n",
    "        gene_desc: a dictionary containing a gene name\n",
    "        and a description\n",
    "    \"\"\"\n",
    "    # init dict\n",
    "    gene_desc = {}\n",
    "    with open(file_name, 'r') as gene_desc_file:\n",
    "        for line in gene_desc_file:\n",
    "            stripped_line = line.strip()\n",
    "            # skip header line\n",
    "            if '#' in stripped_line:\n",
    "                continue\n",
    "            # split by comma and populate dict\n",
    "            gene_name, desc = stripped_line.split(',')\n",
    "            gene_desc[gene_name] = desc\n",
    "    return gene_desc"
   ]
  },
  {
   "cell_type": "markdown",
   "id": "167134bd-ff06-42a5-bd02-eee9291e3810",
   "metadata": {},
   "source": [
    "### Collaborative Exercises\n",
    "\n",
    "`Exercise 1`\n",
    "\n",
    "- You will write a function that can take a gene name and return gene details from `ensembl`\n",
    "- Decide on which gene with your team\n",
    "- If you aren't familiar with the ensembl resource, check it out here: https://useast.ensembl.org/index.html\n",
    "- You will use the Ensembl REST API for this, together with the requests library in python\n",
    "- The API URL is shown below, for BRCA1 example: https://rest.ensembl.org/lookup/symbol/homo_sapiens/BRCA1?content-type=application/json\n",
    "- Refer to the `requests` library here for usage\n",
    "https://pypi.org/project/requests/\n",
    "- Your function should accept a gene name, query the API URL, and output a dictionary in json format\n",
    "- BONUS:\n",
    "Can you run your function on all genes in `gene_locations_dict` and return the results in a new dictionary ? Try to use dict comprehension for this\n",
    "Example output format:\n",
    "```\n",
    "{\n",
    "    'BRCA1': {gene_json_description},\n",
    "    'TP53': {gene_json_description}\n",
    "}\n",
    "```"
   ]
  },
  {
   "cell_type": "markdown",
   "id": "5776fc8f-ece0-4901-8cda-21944ef43105",
   "metadata": {},
   "source": [
    "`Exercise 2`\n",
    "- Construct a DNA sequence of length n=5 with your team\n",
    "- Write a function to compute percentage of A bases\n",
    "- Test on two other DNA sequences built with your team, including an empty string\n",
    "- Raise an appropriate exception for an empty string\n"
   ]
  },
  {
   "cell_type": "markdown",
   "id": "a4d5b22d-9185-4630-bc17-304560f4c184",
   "metadata": {},
   "source": [
    "`Exercise 3`\n",
    "- Decide on a threshold voltage for hyperpolarization (or depolarizing) with your team\n",
    "- Write a function that accepts a voltage and outputs whether hyperpolarizing, or depolarizing\n",
    "- Test function on multiple voltage inputs, including non-numeric input\n",
    "- Raise appropriate exceptions for invalid voltages  "
   ]
  },
  {
   "cell_type": "code",
   "execution_count": null,
   "id": "d5f39b8c-ccb8-49c1-bb87-8715fbf407f7",
   "metadata": {},
   "outputs": [],
   "source": []
  }
 ],
 "metadata": {
  "kernelspec": {
   "display_name": "Python 3.12.7",
   "language": "python",
   "name": "venv_3.12.7"
  },
  "language_info": {
   "codemirror_mode": {
    "name": "ipython",
    "version": 3
   },
   "file_extension": ".py",
   "mimetype": "text/x-python",
   "name": "python",
   "nbconvert_exporter": "python",
   "pygments_lexer": "ipython3",
   "version": "3.12.7"
  }
 },
 "nbformat": 4,
 "nbformat_minor": 5
}
