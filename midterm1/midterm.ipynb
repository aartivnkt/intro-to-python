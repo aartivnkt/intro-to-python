{
 "cells": [
  {
   "cell_type": "markdown",
   "id": "5e4eb20d-f66d-4f5b-a216-e62d67d1549d",
   "metadata": {},
   "source": [
    "# Midterm 1\n",
    "- Guess the output of the code blocks for each question from the listed options\n",
    "- Assume each question is giving you the complete code, no other variables exist\n",
    "- Assume numpy is imported as np\n",
    "- A `\\n` in the listed choices means there is a newline that separates the fields\n",
    "- Explain your reasoning in a sentence for each question, including expanding input dataset/showing data structure wherever appropriate. Ensure you include this explanation for every question as you will get points for this."
   ]
  },
  {
   "cell_type": "code",
   "execution_count": null,
   "id": "41504e15-d16e-4657-b71e-2bd705e012f4",
   "metadata": {},
   "outputs": [],
   "source": [
    "import numpy as np"
   ]
  },
  {
   "cell_type": "markdown",
   "id": "cabf396a-94fd-4002-8873-6f3b5afa7db7",
   "metadata": {},
   "source": [
    "### Q1\n",
    "\n",
    "```\n",
    "test_sentence = 'I like KRAS, BRCA2 and TP53'\n",
    "'BRCA1' not in test_sentence\n",
    "```\n",
    "What will the above output?\n",
    "\n",
    "Options:\n",
    "- True\n",
    "- False\n",
    "- No output\n",
    "- 'BRCA2'\n"
   ]
  },
  {
   "cell_type": "code",
   "execution_count": null,
   "id": "d5c24f7d-4d7e-4f84-80f2-6d2a891f3f51",
   "metadata": {},
   "outputs": [],
   "source": [
    "test_sentence = 'I like KRAS, BRCA2 and TP53'\n",
    "'BRCA1' not in test_sentence\n"
   ]
  },
  {
   "cell_type": "markdown",
   "id": "8cbb1760-f3f0-4ef5-a7f2-3e9cec4da9ce",
   "metadata": {},
   "source": [
    "### Q2\n",
    "\n",
    "```\n",
    "gene_list1 = ['PTEN', 'PTEN', 'BRCA1', 'TP53'] \n",
    "gene_list2 = ['PTEN', 'PTEN', 'KRAS'] \n",
    "set1 = set(gene_list1) - set(gene_list2)\n",
    "set2 = set(gene_list1) ^ set(gene_list2)\n",
    "print(set1 & set2)\n",
    "```\n",
    "\n",
    "What will the `print` statement print?\n",
    "\n",
    "Options:\n",
    "- {BRCA1, TP53, KRAS}\n",
    "- {BRCA1, PTEN, TP53, KRAS}\n",
    "- {BRCA1, TP53}\n",
    "- {}"
   ]
  },
  {
   "cell_type": "code",
   "execution_count": null,
   "id": "186316e0-2747-4629-8ac7-8dc6e0cb2c4a",
   "metadata": {},
   "outputs": [],
   "source": [
    "gene_list1 = ['PTEN', 'PTEN', 'BRCA1', 'TP53'] \n",
    "gene_list2 = ['PTEN', 'PTEN', 'KRAS'] \n",
    "set1 = set(gene_list1) - set(gene_list2)\n",
    "set2 = set(gene_list1) ^ set(gene_list2)\n",
    "print(set1 & set2)"
   ]
  },
  {
   "cell_type": "markdown",
   "id": "685fd179-7e94-4246-aef5-0be91432cf98",
   "metadata": {},
   "source": [
    "### Q3\n",
    "\n",
    "```\n",
    "gene_fusions_list = [\n",
    "    ['0', ['ERG', 'TMPRSS2']],\n",
    "    ['1', ['ABL', 'BCR']],\n",
    "]\n",
    "gene_fusion_dict = dict(gene_fusions_list)\n",
    "print(gene_fusion_dict[0])\n",
    "```\n",
    "\n",
    "What will the `print` statement print?\n",
    "\n",
    "Options:\n",
    "- ['ERG', 'TMPRSS2']\n",
    "- ['ABL', 'BCR']\n",
    "- '0'\n",
    "- KeyError\n"
   ]
  },
  {
   "cell_type": "code",
   "execution_count": null,
   "id": "c18437ee-ab2f-465f-9d55-0fcca1c534a2",
   "metadata": {},
   "outputs": [],
   "source": [
    "gene_fusions_list = [\n",
    "    ['0', ['ERG', 'TMPRSS2']],\n",
    "    ['1', ['ABL', 'BCR']],\n",
    "]\n",
    "gene_fusion_dict = dict(gene_fusions_list)\n",
    "print(gene_fusion_dict[0])"
   ]
  },
  {
   "cell_type": "markdown",
   "id": "1294f425-c56e-44a0-b329-25f812a22204",
   "metadata": {},
   "source": [
    "### Q4\n",
    "\n",
    "```\n",
    "gene_loc_test = {\n",
    "    'TP53', 'chr17:7661779-7687538',\n",
    "    'BRCA1', 'chr17:43044295-43170245',\n",
    "    'BRCA2', 'chr13:32315086-32400268'\n",
    "}\n",
    "```\n",
    "\n",
    "What is the data structure of `gene_loc_test`? \n",
    "\n",
    "Options\n",
    "- Dictionary\n",
    "- Set\n",
    "- List\n",
    "- None of the above\n"
   ]
  },
  {
   "cell_type": "code",
   "execution_count": null,
   "id": "42d6834d-d930-4516-9ce7-783d43f29d23",
   "metadata": {},
   "outputs": [],
   "source": []
  },
  {
   "cell_type": "markdown",
   "id": "6ff06e18-f272-469c-b86a-b836a7b6adcf",
   "metadata": {},
   "source": [
    "### Q5\n",
    "\n",
    "```\n",
    "x = [0, 2, 4, 6]\n",
    "squared_x = [x**2 for i in x if i < 5]\n",
    "```\n",
    "\n",
    "What is `squared_x`\n",
    "\n",
    "Options:\n",
    "- [0, 4, 16]\n",
    "- [0, 4, 16, 36]\n",
    "- Raise an error\n",
    "- No output\n",
    "\n"
   ]
  },
  {
   "cell_type": "code",
   "execution_count": null,
   "id": "e7ef634d-cf55-48ee-a369-5190a3de5fd9",
   "metadata": {},
   "outputs": [],
   "source": [
    "x = [0, 2, 4, 6]\n",
    "squared_x = [x**2 for i in x if i < 5]"
   ]
  },
  {
   "cell_type": "markdown",
   "id": "742f5c87-89a7-49d5-a7c0-8af57f2266ba",
   "metadata": {},
   "source": [
    "### Q6\n",
    "\n",
    "```\n",
    "a = np.arange(10)\n",
    "a[:4]\n",
    "```\n",
    "\n",
    "What is `a[:4]`?\n",
    "\n",
    "Options:\n",
    "- array([0, 1, 2, 3])\n",
    "- array([0, 1, 2, 3, 4])\n",
    "- array([1, 2, 3, 4])\n",
    "- array([0.11838694, 0.64196169, 0.4931984])"
   ]
  },
  {
   "cell_type": "code",
   "execution_count": null,
   "id": "7cd9e17d-98db-4d08-ad89-6f335dbd0541",
   "metadata": {},
   "outputs": [],
   "source": [
    "a = np.arange(10)\n",
    "a[:4]\n"
   ]
  },
  {
   "cell_type": "markdown",
   "id": "104b5899-fcf0-48a4-9d25-320478c4948a",
   "metadata": {},
   "source": [
    "### Q7\n",
    "\n",
    "```\n",
    "x = np.array([1,2,3,np.nan])\n",
    "y = ~np.isnan(x)\n",
    "y\n",
    "```\n",
    "\n",
    "What is `y`?\n",
    "\n",
    "Options:\n",
    "- array([ True,  True,  True, False])\n",
    "- array([1., 2., 3.])\n",
    "- array([ 1.,  2.,  3., nan])\n",
    "- array([ False,  False,  False, True])\n"
   ]
  },
  {
   "cell_type": "code",
   "execution_count": null,
   "id": "c85a287e-ed44-40c8-a43b-043eab274773",
   "metadata": {},
   "outputs": [],
   "source": [
    "x = np.array([1,2,3,np.nan])\n",
    "y = ~np.isnan(x)\n",
    "y"
   ]
  },
  {
   "cell_type": "markdown",
   "id": "115865be-f7da-460d-9e01-7ba5584536a2",
   "metadata": {},
   "source": [
    "### Q8\n",
    "\n",
    "```\n",
    "random_ints = np.array([6, 8, 8, 3, 6])\n",
    "y = random_ints[random_ints < 8]\n",
    "```\n",
    "\n",
    "What is `y`?\n",
    "\n",
    "Options:\n",
    "- array([ True, False, False,  True,  True])\n",
    "- array([6, 3, 6])\n",
    "- array([True, True, True])\n",
    "- array([6, 8, 8, 3, 6])\n"
   ]
  },
  {
   "cell_type": "code",
   "execution_count": null,
   "id": "0df8c031-c54f-411a-a114-fbcbdbb0985b",
   "metadata": {},
   "outputs": [],
   "source": [
    "random_ints = np.array([6, 8, 8, 3, 6])\n",
    "y = random_ints[random_ints < 8]"
   ]
  },
  {
   "cell_type": "markdown",
   "id": "61d80479-e789-4f81-80a5-6887c79eda61",
   "metadata": {},
   "source": [
    "### Q9\n",
    "\n",
    "```\n",
    "x = np.arange(5)\n",
    "x[:4] = 100\n",
    "```\n",
    "\n",
    "What is `x`? \n",
    "\n",
    "Options\n",
    "- TypeError, cannot assign to slice\n",
    "- [100, 100, 100, 100, 4]\n",
    "- [0, 1, 2, 3, 4]\n",
    "- [100, 100, 100, 100]\n"
   ]
  },
  {
   "cell_type": "code",
   "execution_count": null,
   "id": "4b4fc786-109b-4925-9e15-f32a7966ec39",
   "metadata": {},
   "outputs": [],
   "source": [
    "x = np.arange(5)\n",
    "x[:4] = 100"
   ]
  },
  {
   "cell_type": "markdown",
   "id": "7e3b2f8c-b971-4b47-b20f-ab7df099fa88",
   "metadata": {},
   "source": [
    "### Q10\n",
    "\n",
    "```\n",
    "y = np.array([1, 3, 5, 7, 9])\n",
    "z = y\n",
    "y += 2\n",
    "z\n",
    "```\n",
    "\n",
    "what is `z`?\n",
    "\n",
    "Options:\n",
    "- Error, cannot assign\n",
    "- array([1, 3, 5, 7, 9])\n",
    "- array([ 3,  5,  7,  9, 11])\n",
    "- array([ 2,  2,  2,  2, 2])\n"
   ]
  },
  {
   "cell_type": "code",
   "execution_count": null,
   "id": "fa0148f2-d35f-4620-9b31-d7ef930d8a4f",
   "metadata": {},
   "outputs": [],
   "source": [
    "y = np.array([1, 3, 5, 7, 9])\n",
    "z = y\n",
    "y += 2\n",
    "z"
   ]
  },
  {
   "cell_type": "markdown",
   "id": "597d66ec-c02b-43aa-ba94-5f67062e62a8",
   "metadata": {},
   "source": [
    "### Q11\n",
    "\n",
    "```\n",
    "a = np.array([10,4,3,5])\n",
    "print(a.max())\n",
    "```\n",
    "\n",
    "What will the `print` statement print?\n",
    "\n",
    "Options:\n",
    "- AttributeError: 'numpy.ndarray' object has no attribute 'max'\n",
    "- 10\n",
    "- True\n",
    "- 5\n"
   ]
  },
  {
   "cell_type": "code",
   "execution_count": null,
   "id": "3738599f-51fe-4e48-a34b-e20090540776",
   "metadata": {},
   "outputs": [],
   "source": [
    "a = np.array([10,4,3,5])\n",
    "print(a.max())"
   ]
  },
  {
   "cell_type": "markdown",
   "id": "82b69ebc-aa78-4a0f-90ec-aa387c177d9a",
   "metadata": {},
   "source": [
    "### Q12\n",
    "\n",
    "```\n",
    "def number_test(num):\n",
    "    if num == 0:\n",
    "        print('Zero')\n",
    "    elif num == 1:\n",
    "        print('One')\n",
    "    else:\n",
    "        print('Other number')\n",
    "\n",
    "for num in range(3):\n",
    "    number_test(num)\n",
    "```\n",
    "\n",
    "What will the `for` loop  print?\n",
    "\n",
    "Options:\n",
    "- Zero\\nOne\\nOther number\n",
    "- Zero\\nOne\\nOther number\\nOther number\n",
    "- Zero\\nOne\n",
    "- Zero\\nOther number\n"
   ]
  },
  {
   "cell_type": "code",
   "execution_count": null,
   "id": "4f52c863-2b35-49f2-9626-2594a97d3c4e",
   "metadata": {},
   "outputs": [],
   "source": [
    "def number_test(num):\n",
    "    if num == 0:\n",
    "        print('Zero')\n",
    "    elif num == 1:\n",
    "        print('One')\n",
    "    else:\n",
    "        print('Other number')\n",
    "\n",
    "for num in range(3):\n",
    "    number_test(num)"
   ]
  },
  {
   "cell_type": "markdown",
   "id": "b2033338-9cc6-47ce-95a2-05a67d384cb0",
   "metadata": {},
   "source": [
    "### Q13\n",
    "\n",
    "```\n",
    "for num in range(4):\n",
    "    if num < 2:\n",
    "        print(f\"Num:{num}\")\n",
    "        continue\n",
    "    else:\n",
    "        print(f\"Num:{num}\")\n",
    "```\n",
    "\n",
    "What will the `for` loop print?\n",
    "\n",
    "Options:\n",
    "- Num:0\\nNum:1\\nNum:2\\nNum:3\n",
    "- Num:0\\nNum:1\\nNum:2\n",
    "- Num:3\n",
    "- Num:0\n"
   ]
  },
  {
   "cell_type": "code",
   "execution_count": null,
   "id": "cfb526d8-9c1f-41cb-8b46-3e47d73bb072",
   "metadata": {},
   "outputs": [],
   "source": [
    "for num in range(4):\n",
    "    if num < 2:\n",
    "        print(f\"Num:{num}\")\n",
    "        continue\n",
    "    else:\n",
    "        print(f\"Num:{num}\")"
   ]
  },
  {
   "cell_type": "markdown",
   "id": "525e0ebb-0285-4706-9d3d-ec236adc83ef",
   "metadata": {},
   "source": [
    "### Q14\n",
    "\n",
    "```\n",
    "i = 0\n",
    "while i < 3:\n",
    "    print(f\"Num:{i}\")\n",
    "```\n",
    "\n",
    "What will the `while` loop print?\n",
    "\n",
    "Options:\n",
    "- Num:0\\nNum:1\\nNum:2\n",
    "- Num:0\n",
    "- Num:0\\nNum:1\n",
    "- Loop will run indefinitely\n",
    "\n",
    "If any fixes are needed to this loop, can you suggest them?\n"
   ]
  },
  {
   "cell_type": "code",
   "execution_count": null,
   "id": "1d4b165d-64c9-4ba9-9895-37de4fd5d208",
   "metadata": {},
   "outputs": [],
   "source": []
  },
  {
   "cell_type": "markdown",
   "id": "511263d7-c32b-403b-8bb4-009e42ce77b9",
   "metadata": {},
   "source": [
    "### Q15\n",
    "\n",
    "```\n",
    "b = np.array([1,2,3])\n",
    "a = np.array([1,2])\n",
    "a*b\n",
    "```\n",
    "What is `a*b`?\n",
    "\n",
    "Options:\n",
    "- np.array([1,2,3])\n",
    "- np.array([2,4,6])\n",
    "- ValueError: operands could not be broadcast together\n",
    "- No output\n"
   ]
  },
  {
   "cell_type": "code",
   "execution_count": null,
   "id": "a2647ff2-4eb0-41c6-b065-ca657a18f217",
   "metadata": {},
   "outputs": [],
   "source": [
    "b = np.array([1,2,3])\n",
    "a = np.array([1,2])\n",
    "a*b"
   ]
  },
  {
   "cell_type": "markdown",
   "id": "75eb19da-e713-4102-b4af-c467da6fea71",
   "metadata": {},
   "source": [
    "### Q16\n",
    "\n",
    "```\n",
    "x = np.array([0, 1, 2, 3, 4, 5, 6, 7, 8, 9])\n",
    "x[1:7:2]\n",
    "```\n",
    "\n",
    "What is the output of `x[1:7:2]`?\n",
    "\n",
    "Options:\n",
    "- array([1, 2, 3, 4, 5, 6, 7])\n",
    "- array([1, 3, 5, 7])\n",
    "- array([1, 3, 5])\n",
    "- array([1, 3, 5, 6])\n",
    "\n"
   ]
  },
  {
   "cell_type": "code",
   "execution_count": null,
   "id": "14f3936c-3a8c-4f0a-92c9-ec69bb9130fd",
   "metadata": {},
   "outputs": [],
   "source": [
    "x = np.array([0, 1, 2, 3, 4, 5, 6, 7, 8, 9])\n",
    "x[1:7:2]"
   ]
  },
  {
   "cell_type": "markdown",
   "id": "ea9721b6-b759-483b-bb4c-152b88908e14",
   "metadata": {},
   "source": [
    "### Q17\n",
    "\n",
    "```\n",
    "array_2D = np.array([\n",
    "    [1, 2],\n",
    "    [3, 4]\n",
    "])\n",
    "sum_result = array_2D.sum(axis=1)\n",
    "```\n",
    "\n",
    "What is `sum_result`?\n",
    "\n",
    "Options:\n",
    "- array([3, 7])\n",
    "- array([4, 6])\n",
    "- np.int64(10)\n",
    "- np.int64(1)\n"
   ]
  },
  {
   "cell_type": "code",
   "execution_count": null,
   "id": "5386dee7-66c5-4683-bf75-3a7ba2bd30fe",
   "metadata": {},
   "outputs": [],
   "source": [
    "array_2D = np.array([\n",
    "    [1, 2],\n",
    "    [3, 4]\n",
    "])\n",
    "sum_result = array_2D.sum(axis=1)"
   ]
  },
  {
   "cell_type": "code",
   "execution_count": null,
   "id": "0e5d08bf-5408-46cc-afdb-c5f5a5d9470c",
   "metadata": {},
   "outputs": [],
   "source": [
    "sum_result"
   ]
  },
  {
   "cell_type": "markdown",
   "id": "d899685b-5254-410e-9f11-7d585f0562d2",
   "metadata": {},
   "source": [
    "### Q18\n",
    "\n",
    "```\n",
    "array_2D = np.array([\n",
    "    [0, 1],\n",
    "    [2, 3],\n",
    "    [4, 5]\n",
    "])\n",
    "array_2D[1, 1]\n",
    "```\n",
    "\n",
    "What is the output of `array_2D[1, 1]`?\n",
    "\n",
    "Options:\n",
    "- np.int64(1)\n",
    "- np.int64(3)\n",
    "- np.int64(0)\n",
    "- np.int64(5)\n"
   ]
  },
  {
   "cell_type": "code",
   "execution_count": null,
   "id": "a58b029c-30ca-403c-8b16-f9816bc41381",
   "metadata": {},
   "outputs": [],
   "source": [
    "array_2D = np.array([\n",
    "    [0, 1],\n",
    "    [2, 3],\n",
    "    [4, 5]\n",
    "])\n",
    "array_2D[1, 1]"
   ]
  },
  {
   "cell_type": "markdown",
   "id": "e21e4328-b3cc-4241-b44b-3110948c1ce1",
   "metadata": {},
   "source": [
    "### Q19\n",
    "\n",
    "```\n",
    "array_2D = np.array([\n",
    "    [0, 1],\n",
    "    [2, 3],\n",
    "    [4, 5]\n",
    "])\n",
    "array_2D[:]\n",
    "```\n",
    "\n",
    "What is the output of `array_2D[:]`?\n",
    "\n",
    "Options:\n",
    "- the entire `array_2D`\n",
    "- array([0, 1])\n",
    "- array([2, 3])\n",
    "- array([4, 5])"
   ]
  },
  {
   "cell_type": "code",
   "execution_count": null,
   "id": "f335437f-3093-4232-bca2-88a11e9e5f2e",
   "metadata": {},
   "outputs": [],
   "source": [
    "array_2D = np.array([\n",
    "    [0, 1],\n",
    "    [2, 3],\n",
    "    [4, 5]\n",
    "])\n",
    "array_2D[:]"
   ]
  },
  {
   "cell_type": "markdown",
   "id": "a326f395-2e08-4c8e-8c39-3eeac5596ac2",
   "metadata": {},
   "source": [
    "### Q20\n",
    "\n",
    "```\n",
    "array_2D = np.array([\n",
    "    [0, 1],\n",
    "    [2, 3],\n",
    "    [4, 5]\n",
    "])\n",
    "array_2D[-2:2]\n",
    "```\n",
    "What is the output of `array_2D[-2:2]`?\n",
    "\n",
    "Options:\n",
    "- the entire 2D array\n",
    "- array([[2, 3]])\n",
    "- array([[2, 3],\n",
    "       [4, 5]])\n",
    "- array([[0, 1],\n",
    "       [2, 3]])\n",
    "\n"
   ]
  },
  {
   "cell_type": "code",
   "execution_count": null,
   "id": "9482cdba-327f-4ec7-ad8b-61b23266aca5",
   "metadata": {},
   "outputs": [],
   "source": [
    "array_2D = np.array([\n",
    "    [0, 1],\n",
    "    [2, 3],\n",
    "    [4, 5]\n",
    "])\n",
    "array_2D[-2:2]"
   ]
  },
  {
   "cell_type": "markdown",
   "id": "73f5ae8f-f386-4943-b2ee-5fd5865e23d5",
   "metadata": {},
   "source": [
    "### Q21\n",
    "\n",
    "```\n",
    "z = np.array([\n",
    "    [\n",
    "        [4],\n",
    "        [5],\n",
    "        [6]\n",
    "    ], \n",
    "    [\n",
    "        [7],\n",
    "        [8],\n",
    "        [9]\n",
    "    ]\n",
    "])\n",
    "z[...,1, 0]\n",
    "```\n",
    "\n",
    "What is the output of `z[...,1, 0]`?\n",
    "\n",
    "Options:\n",
    "- will throw an error\n",
    "- array([5, 8])\n",
    "- array([4, 7])\n",
    "- array([6, 9])\n",
    "\n"
   ]
  },
  {
   "cell_type": "code",
   "execution_count": null,
   "id": "15179b8d-248b-40b3-9cc2-30355dfe1ad4",
   "metadata": {},
   "outputs": [],
   "source": [
    "z = np.array([\n",
    "    [\n",
    "        [4],\n",
    "        [5],\n",
    "        [6]\n",
    "    ], \n",
    "    [\n",
    "        [7],\n",
    "        [8],\n",
    "        [9]\n",
    "    ]\n",
    "])\n",
    "z[...,1, 0]"
   ]
  },
  {
   "cell_type": "markdown",
   "id": "dc33a66d-786c-45d8-b396-f1510b0b966a",
   "metadata": {},
   "source": [
    "### Q22\n",
    "\n",
    "```\n",
    "a = np.array([\n",
    "    [1],\n",
    "    [2],\n",
    "    [3]\n",
    "])\n",
    "b = np.array([0, 1])\n",
    "```\n",
    "\n",
    "Are these two arrays a and b broadcastable?\n",
    "\n",
    "Options:\n",
    "- Yes\n",
    "- No"
   ]
  },
  {
   "cell_type": "code",
   "execution_count": null,
   "id": "bc094338-38c2-4098-87ab-286759cbcb1c",
   "metadata": {},
   "outputs": [],
   "source": [
    "a = np.array([\n",
    "    [1],\n",
    "    [2],\n",
    "    [3]\n",
    "])\n",
    "b = np.array([0, 1])\n",
    "a*b"
   ]
  },
  {
   "cell_type": "markdown",
   "id": "e166aa2a-bd27-4565-ac4c-0c13bad1fb28",
   "metadata": {},
   "source": [
    "### Q23\n",
    "\n",
    "```\n",
    "a = np.array([\n",
    "    [1],\n",
    "    [2],\n",
    "    [3]\n",
    "])\n",
    "b = np.array([0, 1])\n",
    "a*b\n",
    "```\n",
    "\n",
    "What is `a*b`?\n",
    "\n",
    "Options:\n",
    "- array([[1],\n",
    "       [2],\n",
    "       [3]])\n",
    "\n",
    "- array([0, 1])\n",
    "  \n",
    "- array([[0, 1],\n",
    "       [0, 2],\n",
    "       [0, 3]])\n",
    "- Error, cannot broadcast\n",
    "\n"
   ]
  },
  {
   "cell_type": "code",
   "execution_count": null,
   "id": "6a340382-5ac5-41d5-a16a-30f5db46dbf0",
   "metadata": {},
   "outputs": [],
   "source": []
  },
  {
   "cell_type": "markdown",
   "id": "0fcff3f7-547a-4802-a42a-2cf7248fd53a",
   "metadata": {},
   "source": [
    "### Q24\n",
    "\n",
    "```\n",
    "x = np.arange(8).reshape(2, 2, 2)\n",
    "x[0, 1, 1]\n",
    "```\n",
    "\n",
    "What is the output of `x[0, 1, 1]`?\n",
    "\n",
    "Options\n",
    "- np.int64(1)\n",
    "- np.int64(5)\n",
    "- np.int64(7)\n",
    "- np.int64(3)\n",
    "\n"
   ]
  },
  {
   "cell_type": "code",
   "execution_count": null,
   "id": "7db6b8e3-f3eb-4c9f-b100-9dde37095db4",
   "metadata": {},
   "outputs": [],
   "source": [
    "x = np.arange(8).reshape(2, 2, 2)\n",
    "x[0, 1, 1]\n"
   ]
  },
  {
   "cell_type": "markdown",
   "id": "31201acc-630e-4310-8b1e-79bd58abfe55",
   "metadata": {},
   "source": [
    "### Q25\n",
    "\n",
    "For `np.vstack(a,b)` to work, should arrays a,b have the same number of  rows or columns?\n",
    "\n",
    "Options:\n",
    "- rows\n",
    "- columns\n"
   ]
  },
  {
   "cell_type": "code",
   "execution_count": null,
   "id": "a2459a2e-eaa1-4196-af2c-7cd133d0f8f7",
   "metadata": {},
   "outputs": [],
   "source": []
  },
  {
   "cell_type": "markdown",
   "id": "1b968f8a-9d33-4dc1-97c6-fd05670d586e",
   "metadata": {},
   "source": [
    "### Q26\n",
    "\n"
   ]
  },
  {
   "cell_type": "markdown",
   "id": "78767592-32ec-4ddb-a491-c798e6c10631",
   "metadata": {},
   "source": [
    "```\n",
    "x = np.arange(8).reshape(2, 2, 2)\n",
    "x.sum(axis=0)\n",
    "```\n",
    "\n",
    "What is the output of `x.sum(axis=0)`?\n",
    "\n",
    "Options:\n",
    "- array([[ 4,  6],\n",
    "       [ 8, 10]])\n",
    "- array([[ 2,  4],\n",
    "       [10, 12]])\n",
    "- array([[ 1,  5],\n",
    "       [ 9, 13]])\n",
    "- Error, axis out of bounds"
   ]
  },
  {
   "cell_type": "code",
   "execution_count": null,
   "id": "c141f21c-5948-4b33-9cf6-2032627c3088",
   "metadata": {},
   "outputs": [],
   "source": [
    "x = np.arange(8).reshape(2, 2, 2)"
   ]
  },
  {
   "cell_type": "code",
   "execution_count": null,
   "id": "bc90a4e6-db60-4e44-b589-6870f88bfaba",
   "metadata": {},
   "outputs": [],
   "source": [
    "x.sum(axis=0)"
   ]
  },
  {
   "cell_type": "markdown",
   "id": "636702fd-c7b3-4046-ab17-1c4eb612d23b",
   "metadata": {},
   "source": [
    "### Q27\n",
    "\n",
    "```\n",
    "x = np.array([1,2,3])\n",
    "y = 1\n",
    "z = y + x\n",
    "z\n",
    "```\n",
    "What is `z`?\n",
    "\n",
    "Options:\n",
    "- array([1, 2, 3])\n",
    "- array([2, 3, 4])\n",
    "- TypeError: unsupported operand type(s) for +: 'int' and 'list'\n",
    "- None \n"
   ]
  },
  {
   "cell_type": "code",
   "execution_count": null,
   "id": "a3585d7d-ab5e-400a-8a1b-c388ffe2e2bd",
   "metadata": {},
   "outputs": [],
   "source": [
    "x = np.array([1,2,3])\n",
    "y = 1\n",
    "z = y + x\n",
    "z"
   ]
  },
  {
   "cell_type": "markdown",
   "id": "6c551257-9f31-48d4-abfd-267d920fb65b",
   "metadata": {},
   "source": [
    "### Q28\n",
    "\n",
    "```\n",
    "for i in range(3):\n",
    "    print(i)\n",
    "```\n",
    "\n",
    "How many times will this loop run?\n",
    "\n",
    "Options:\n",
    "- 3\n",
    "- 2\n",
    "- 4\n",
    "- 0\n"
   ]
  },
  {
   "cell_type": "code",
   "execution_count": null,
   "id": "c8ecd181-a940-4cfc-909e-8c7c57569d8d",
   "metadata": {},
   "outputs": [],
   "source": []
  }
 ],
 "metadata": {
  "kernelspec": {
   "display_name": "Python 3.12.7",
   "language": "python",
   "name": "venv_3.12.7"
  },
  "language_info": {
   "codemirror_mode": {
    "name": "ipython",
    "version": 3
   },
   "file_extension": ".py",
   "mimetype": "text/x-python",
   "name": "python",
   "nbconvert_exporter": "python",
   "pygments_lexer": "ipython3",
   "version": "3.12.7"
  }
 },
 "nbformat": 4,
 "nbformat_minor": 5
}
